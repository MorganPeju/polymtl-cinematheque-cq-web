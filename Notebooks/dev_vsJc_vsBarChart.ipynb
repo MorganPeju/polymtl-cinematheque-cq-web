{
 "cells": [
  {
   "cell_type": "markdown",
   "metadata": {},
   "source": [
    "# Équipe 7\n",
    "## Notebook de Gabriel\n",
    "### Processing des données"
   ]
  },
  {
   "cell_type": "code",
   "execution_count": 32,
   "metadata": {},
   "outputs": [],
   "source": [
    "import pandas as pd\n",
    "import plotly.graph_objects as go\n",
    "import numpy as np\n",
    "import datetime as dt\n"
   ]
  },
  {
   "cell_type": "code",
   "execution_count": 33,
   "metadata": {},
   "outputs": [],
   "source": [
    "def load_distinction_data():\n",
    "    '''\n",
    "    Cette fonction importe les données des distinctions\n",
    "    de divers individus au courant des années.\n",
    "    '''\n",
    "    df = pd.read_csv(\"../Src/Assets/Data/distinctions_people.csv\")\n",
    "\n",
    "    # Enlever ligne avec erreur\n",
    "    df.drop([1176], inplace = True)\n",
    "    \n",
    "    # Enlever colonnes de liens https\n",
    "    df.drop(labels = ['person', 'distinction'], axis = 1, inplace = True)\n",
    "\n",
    "    # Renommer deux colonnes\n",
    "    df.rename(columns={'personLabel': 'person', 'distinctionLabel': 'distinction'}, inplace  =True)\n",
    "\n",
    "    # Convertir Format Date en Entier\n",
    "    df[\"date\"] = df[\"date\"].str[:4].astype('int32')\n",
    "    \n",
    "    return df\n"
   ]
  },
  {
   "cell_type": "code",
   "execution_count": 55,
   "metadata": {},
   "outputs": [],
   "source": [
    "def backend_load_distinction():\n",
    "    # Set file path and name\n",
    "    relative_path = \"../Src/Assets/Data/Jc/\"\n",
    "    file_name = \"distinction.csv\"\n",
    "    full_path = relative_path + file_name\n",
    "\n",
    "    # Read .csv\n",
    "    temp_df = pd.read_csv(\n",
    "        filepath_or_buffer=full_path,\n",
    "        sep=',',\n",
    "        header=0,\n",
    "        infer_datetime_format=True,\n",
    "    )\n",
    "\n",
    "    return temp_df"
   ]
  },
  {
   "cell_type": "code",
   "execution_count": 229,
   "metadata": {},
   "outputs": [],
   "source": [
    "def clean_distinction_df(raw_distinction_df):\n",
    "    \n",
    "    def extract_date(x):\n",
    "        if x != np.nan:\n",
    "            return pd.to_datetime(x.split(\"T\")[0], format=\"%Y-%m-%d\", errors='coerce')\n",
    "        else:\n",
    "            return x\n",
    "        \n",
    "    # Drop error on line 1176\n",
    "    temp_df = raw_distinction_df.drop([1176])\n",
    "    \n",
    "    # Drop unnecessary columns\n",
    "    temp_df = temp_df.drop(columns=['person', 'distinction'])\n",
    "    \n",
    "    # Rename columns\n",
    "    temp_df = temp_df.rename(\n",
    "        columns={\n",
    "            'personLabel': 'nomComplet', \n",
    "            'distinctionLabel': 'distinction'\n",
    "        }\n",
    "    )\n",
    "    \n",
    "    # Drop nobodu\n",
    "    temp_df = temp_df.dropna(subset=['nomComplet'])\n",
    "\n",
    "    # Extract date\n",
    "    temp_df['date'] = temp_df['date'].apply(lambda x : extract_date(x))\n",
    "    temp_df['date'] = pd.to_datetime(temp_df['date'])\n",
    "    \n",
    "    # Extract year\n",
    "    temp_df['annee'] = temp_df['date'].apply(lambda x: x.year)\n",
    "    temp_df['annee'] = temp_df['annee'].astype('Int32')\n",
    "\n",
    "    return temp_df"
   ]
  },
  {
   "cell_type": "code",
   "execution_count": 230,
   "metadata": {},
   "outputs": [],
   "source": [
    "raw_distinction_df = backend_load_distinction()"
   ]
  },
  {
   "cell_type": "code",
   "execution_count": 231,
   "metadata": {},
   "outputs": [],
   "source": [
    "#raw_distinction_df.head()"
   ]
  },
  {
   "cell_type": "code",
   "execution_count": 232,
   "metadata": {},
   "outputs": [
    {
     "name": "stdout",
     "output_type": "stream",
     "text": [
      "             nomComplet                                        distinction  \\\n",
      "0  Robert Marcel Lepage                                   Prix René-Jodoin   \n",
      "1       Jean-Marie Drot                 commandeur des Arts et des Lettres   \n",
      "2       Jean-Marie Drot                                   concours général   \n",
      "3      François Damiens                  chevalier des Arts et des Lettres   \n",
      "4         Nicole Garcia  César de la meilleure actrice dans un second rôle   \n",
      "\n",
      "                   date  \n",
      "0  2018-01-01T00:00:00Z  \n",
      "1  2013-01-17T00:00:00Z  \n",
      "2  1946-01-01T00:00:00Z  \n",
      "3  2011-01-01T00:00:00Z  \n",
      "4  1980-01-01T00:00:00Z  \n"
     ]
    }
   ],
   "source": [
    "distinction_df = clean_distinction_df(raw_distinction_df)"
   ]
  },
  {
   "cell_type": "code",
   "execution_count": 233,
   "metadata": {},
   "outputs": [
    {
     "data": {
      "text/html": [
       "<div>\n",
       "<style scoped>\n",
       "    .dataframe tbody tr th:only-of-type {\n",
       "        vertical-align: middle;\n",
       "    }\n",
       "\n",
       "    .dataframe tbody tr th {\n",
       "        vertical-align: top;\n",
       "    }\n",
       "\n",
       "    .dataframe thead th {\n",
       "        text-align: right;\n",
       "    }\n",
       "</style>\n",
       "<table border=\"1\" class=\"dataframe\">\n",
       "  <thead>\n",
       "    <tr style=\"text-align: right;\">\n",
       "      <th></th>\n",
       "      <th>nomComplet</th>\n",
       "      <th>distinction</th>\n",
       "      <th>date</th>\n",
       "      <th>annee</th>\n",
       "    </tr>\n",
       "  </thead>\n",
       "  <tbody>\n",
       "    <tr>\n",
       "      <th>0</th>\n",
       "      <td>Robert Marcel Lepage</td>\n",
       "      <td>Prix René-Jodoin</td>\n",
       "      <td>2018-01-01</td>\n",
       "      <td>2018</td>\n",
       "    </tr>\n",
       "    <tr>\n",
       "      <th>1</th>\n",
       "      <td>Jean-Marie Drot</td>\n",
       "      <td>commandeur des Arts et des Lettres</td>\n",
       "      <td>2013-01-17</td>\n",
       "      <td>2013</td>\n",
       "    </tr>\n",
       "    <tr>\n",
       "      <th>2</th>\n",
       "      <td>Jean-Marie Drot</td>\n",
       "      <td>concours général</td>\n",
       "      <td>1946-01-01</td>\n",
       "      <td>1946</td>\n",
       "    </tr>\n",
       "    <tr>\n",
       "      <th>3</th>\n",
       "      <td>François Damiens</td>\n",
       "      <td>chevalier des Arts et des Lettres</td>\n",
       "      <td>2011-01-01</td>\n",
       "      <td>2011</td>\n",
       "    </tr>\n",
       "    <tr>\n",
       "      <th>4</th>\n",
       "      <td>Nicole Garcia</td>\n",
       "      <td>César de la meilleure actrice dans un second rôle</td>\n",
       "      <td>1980-01-01</td>\n",
       "      <td>1980</td>\n",
       "    </tr>\n",
       "  </tbody>\n",
       "</table>\n",
       "</div>"
      ],
      "text/plain": [
       "             nomComplet                                        distinction  \\\n",
       "0  Robert Marcel Lepage                                   Prix René-Jodoin   \n",
       "1       Jean-Marie Drot                 commandeur des Arts et des Lettres   \n",
       "2       Jean-Marie Drot                                   concours général   \n",
       "3      François Damiens                  chevalier des Arts et des Lettres   \n",
       "4         Nicole Garcia  César de la meilleure actrice dans un second rôle   \n",
       "\n",
       "        date  annee  \n",
       "0 2018-01-01   2018  \n",
       "1 2013-01-17   2013  \n",
       "2 1946-01-01   1946  \n",
       "3 2011-01-01   2011  \n",
       "4 1980-01-01   1980  "
      ]
     },
     "execution_count": 233,
     "metadata": {},
     "output_type": "execute_result"
    }
   ],
   "source": [
    "distinction_df.head()"
   ]
  },
  {
   "cell_type": "code",
   "execution_count": 111,
   "metadata": {},
   "outputs": [
    {
     "name": "stdout",
     "output_type": "stream",
     "text": [
      "<class 'pandas.core.frame.DataFrame'>\n",
      "Int64Index: 2733 entries, 0 to 2733\n",
      "Data columns (total 3 columns):\n",
      " #   Column       Non-Null Count  Dtype         \n",
      "---  ------       --------------  -----         \n",
      " 0   nomComplet   2733 non-null   object        \n",
      " 1   distinction  2733 non-null   object        \n",
      " 2   date         2731 non-null   datetime64[ns]\n",
      "dtypes: datetime64[ns](1), object(2)\n",
      "memory usage: 85.4+ KB\n"
     ]
    }
   ],
   "source": [
    "distinction_df.info()"
   ]
  },
  {
   "cell_type": "code",
   "execution_count": 110,
   "metadata": {},
   "outputs": [
    {
     "data": {
      "text/plain": [
       "str"
      ]
     },
     "execution_count": 110,
     "metadata": {},
     "output_type": "execute_result"
    }
   ],
   "source": [
    "type(raw_distinction_df.loc[0, 'date'])"
   ]
  },
  {
   "cell_type": "markdown",
   "metadata": {},
   "source": [
    "Les deux principales données qui seront utilisées sont df_distinc et df_count"
   ]
  },
  {
   "cell_type": "code",
   "execution_count": 19,
   "metadata": {},
   "outputs": [
    {
     "data": {
      "text/html": [
       "<div>\n",
       "<style scoped>\n",
       "    .dataframe tbody tr th:only-of-type {\n",
       "        vertical-align: middle;\n",
       "    }\n",
       "\n",
       "    .dataframe tbody tr th {\n",
       "        vertical-align: top;\n",
       "    }\n",
       "\n",
       "    .dataframe thead th {\n",
       "        text-align: right;\n",
       "    }\n",
       "</style>\n",
       "<table border=\"1\" class=\"dataframe\">\n",
       "  <thead>\n",
       "    <tr style=\"text-align: right;\">\n",
       "      <th></th>\n",
       "      <th>person</th>\n",
       "      <th>distinction</th>\n",
       "      <th>date</th>\n",
       "    </tr>\n",
       "  </thead>\n",
       "  <tbody>\n",
       "    <tr>\n",
       "      <th>0</th>\n",
       "      <td>Robert Marcel Lepage</td>\n",
       "      <td>Prix René-Jodoin</td>\n",
       "      <td>2018</td>\n",
       "    </tr>\n",
       "    <tr>\n",
       "      <th>1</th>\n",
       "      <td>Jean-Marie Drot</td>\n",
       "      <td>commandeur des Arts et des Lettres</td>\n",
       "      <td>2013</td>\n",
       "    </tr>\n",
       "    <tr>\n",
       "      <th>2</th>\n",
       "      <td>Jean-Marie Drot</td>\n",
       "      <td>concours général</td>\n",
       "      <td>1946</td>\n",
       "    </tr>\n",
       "    <tr>\n",
       "      <th>3</th>\n",
       "      <td>François Damiens</td>\n",
       "      <td>chevalier des Arts et des Lettres</td>\n",
       "      <td>2011</td>\n",
       "    </tr>\n",
       "    <tr>\n",
       "      <th>4</th>\n",
       "      <td>Nicole Garcia</td>\n",
       "      <td>César de la meilleure actrice dans un second rôle</td>\n",
       "      <td>1980</td>\n",
       "    </tr>\n",
       "  </tbody>\n",
       "</table>\n",
       "</div>"
      ],
      "text/plain": [
       "                 person                                        distinction  \\\n",
       "0  Robert Marcel Lepage                                   Prix René-Jodoin   \n",
       "1       Jean-Marie Drot                 commandeur des Arts et des Lettres   \n",
       "2       Jean-Marie Drot                                   concours général   \n",
       "3      François Damiens                  chevalier des Arts et des Lettres   \n",
       "4         Nicole Garcia  César de la meilleure actrice dans un second rôle   \n",
       "\n",
       "   date  \n",
       "0  2018  \n",
       "1  2013  \n",
       "2  1946  \n",
       "3  2011  \n",
       "4  1980  "
      ]
     },
     "execution_count": 19,
     "metadata": {},
     "output_type": "execute_result"
    }
   ],
   "source": [
    "# Load dataframe\n",
    "df_distinc = load_distinction_data()\n",
    "df_distinc.head()\n"
   ]
  },
  {
   "cell_type": "code",
   "execution_count": 20,
   "metadata": {},
   "outputs": [
    {
     "data": {
      "text/plain": [
       "person\n",
       "Alain Corneau        6\n",
       "Alan Arkin          12\n",
       "Alanis Obomsawin    18\n",
       "Albert Uderzo        8\n",
       "Alec Baldwin        15\n",
       "Name: date, dtype: int64"
      ]
     },
     "execution_count": 20,
     "metadata": {},
     "output_type": "execute_result"
    }
   ],
   "source": [
    "# Get counts of dinstinctions per person\n",
    "df_count = df_distinc.groupby(\"person\")[\"date\"].count()\n",
    "\n",
    "# Only consider people with more than 5 distinctions\n",
    "df_count = df_count.loc[df_count >= 5]\n",
    "df_count.head()"
   ]
  },
  {
   "cell_type": "markdown",
   "metadata": {},
   "source": [
    "### Dash jupyter app"
   ]
  },
  {
   "cell_type": "code",
   "execution_count": 21,
   "metadata": {},
   "outputs": [],
   "source": [
    "from jupyter_dash import JupyterDash\n",
    "import dash\n",
    "import dash_html_components as html\n",
    "import dash_core_components as dcc\n",
    "from dash.dependencies import Input, Output, State\n"
   ]
  },
  {
   "cell_type": "code",
   "execution_count": 22,
   "metadata": {},
   "outputs": [],
   "source": [
    "def compute_distinc_histogram(df_count, min_count, max_count):\n",
    "    '''\n",
    "    Compute the height in the scatter plot (histogram). The height\n",
    "    does not encode a data per-say but is used to distinguish multiple\n",
    "    persons who have the same number of distinctions.\n",
    "    '''\n",
    "    # Compute the height of each person in the scatter plot (custom histogram)\n",
    "    df_height = pd.Series(np.zeros((df_count.size, )), index = df_count.index)\n",
    "\n",
    "    for c in range(min_count, max_count + 1):\n",
    "        # Get positions of people with \"c\" distinctions\n",
    "        bool_idx = df_count == c\n",
    "        if not bool_idx.sum() == 0:\n",
    "            df_height[bool_idx] = np.arange(bool_idx.sum())\n",
    "\n",
    "    return df_height\n",
    "        "
   ]
  },
  {
   "cell_type": "code",
   "execution_count": 23,
   "metadata": {},
   "outputs": [],
   "source": [
    "def get_histogram(df_count):\n",
    "    '''\n",
    "    Return the scatter plot (custom histogram) that represents the distribution of\n",
    "    distinctions.\n",
    "    '''\n",
    "    min_count = df_count.min()\n",
    "    max_count = df_count.max()\n",
    "    df_height = compute_distinc_histogram(df_count, min_count, max_count)\n",
    "\n",
    "    # Plot results\n",
    "    fig = go.Figure(\n",
    "            go.Scatter(\n",
    "                mode = 'markers',\n",
    "                marker_symbol = \"square\", \n",
    "                marker_size = 10,\n",
    "                marker_color = \"#B3DEC1\",\n",
    "                marker_line_width = 2,\n",
    "                marker_line_color = \"black\",\n",
    "                x = df_count,\n",
    "                y = df_height,\n",
    "                hovertemplate =\n",
    "                '<br><b>Personne </b>: %{text}<br>'+\n",
    "                '<b>Distinctions </b> : %{x}  <extra></extra>',\n",
    "                text = df_count.index,\n",
    "                showlegend = False \n",
    "                ),\n",
    "            go.Layout(\n",
    "                title_text = \"Distribution des nombres de distinctions\",\n",
    "                title_x = 0.5,\n",
    "                width=1000,\n",
    "                height=700\n",
    "                )\n",
    "            )           \n",
    "    fig.update_xaxes(range=[min_count - 1, max_count + 1], dtick = 1, title = \"Nombre de distinctions\")\n",
    "    fig.update_yaxes(range=[-1, df_height.max() + 1])\n",
    "    return fig\n"
   ]
  },
  {
   "cell_type": "code",
   "execution_count": 24,
   "metadata": {},
   "outputs": [],
   "source": [
    "def get_empty_table(df_distinc):\n",
    "    fig = go.Figure(\n",
    "            data=[go.Table(\n",
    "                    columnwidth = [600,100],\n",
    "                    header=dict(values=list(df_distinc.columns[1:]),\n",
    "                                fill_color=\"#B3DEC1\",\n",
    "                                align='center'),\n",
    "            )],\n",
    "            layout=go.Layout(\n",
    "                    width=700,\n",
    "                    height=700\n",
    "            )\n",
    "        )\n",
    "                \n",
    "    return fig"
   ]
  },
  {
   "cell_type": "code",
   "execution_count": 25,
   "metadata": {},
   "outputs": [],
   "source": [
    "def get_filled_table(df_distinc, name):\n",
    "    one_actor = df_distinc[df_distinc[\"person\"] == name].sort_values(\"date\", ascending = True)\n",
    "\n",
    "    fig = go.Figure(    \n",
    "            data=[go.Table(\n",
    "                    columnwidth = [600,100],\n",
    "                    header=dict(values=list(df_distinc.columns[1:]),\n",
    "                                fill_color=\"#B3DEC1\",\n",
    "                                align='center'),\n",
    "                    cells=dict(values=[one_actor[\"distinction\"], one_actor[\"date\"]],\n",
    "                               fill_color='#E5FCF5',\n",
    "                               align=['left','center'])\n",
    "            )],\n",
    "            layout=go.Layout(\n",
    "                    title_text = f\"Distinctions de {name}\",\n",
    "                    title_x = 0.5,\n",
    "                    width=700,\n",
    "                    height=700\n",
    "            )\n",
    "        )\n",
    "         \n",
    "    return fig"
   ]
  },
  {
   "cell_type": "code",
   "execution_count": 26,
   "metadata": {},
   "outputs": [],
   "source": [
    "external_stylesheets=['https://codepen.io/chriddyp/pen/bWLwgP.css']\n",
    "app = JupyterDash(__name__, external_stylesheets=external_stylesheets)\n"
   ]
  },
  {
   "cell_type": "code",
   "execution_count": 27,
   "metadata": {},
   "outputs": [],
   "source": [
    "app.layout = html.Div(className='content', children=[\n",
    "    html.Header(children=[\n",
    "        html.H1('Graphique des distinctions'),\n",
    "    ]),\n",
    "    html.Main(className='viz-container', children=[\n",
    "        dcc.Graph(\n",
    "            id='histogram',\n",
    "            className='graph',\n",
    "            figure=get_histogram(df_count),\n",
    "            style={'display': 'inline-block'},\n",
    "            config=dict(\n",
    "                scrollZoom=False,\n",
    "                showTips=False,\n",
    "                showAxisDragHandles=False,\n",
    "                doubleClick=False,\n",
    "                displayModeBar=False\n",
    "            )\n",
    "        ),\n",
    "        dcc.Graph(\n",
    "            id='table',\n",
    "            className='graph',\n",
    "            figure=get_empty_table(df_distinc),\n",
    "            style={'display': 'inline-block'},\n",
    "            config=dict(\n",
    "                scrollZoom=False,\n",
    "                showTips=False,\n",
    "                showAxisDragHandles=False,\n",
    "                doubleClick=False,\n",
    "                displayModeBar=False\n",
    "            )\n",
    "        )\n",
    "    ])\n",
    "])\n"
   ]
  },
  {
   "cell_type": "code",
   "execution_count": 28,
   "metadata": {},
   "outputs": [],
   "source": [
    "@app.callback(\n",
    "    Output('table', 'figure'),\n",
    "    [Input('histogram', 'clickData')]\n",
    ")\n",
    "def histogram_clicked(click_data):\n",
    "    if click_data is None:\n",
    "        return get_empty_table(df_distinc)\n",
    "    else:\n",
    "        return get_filled_table(df_distinc, click_data['points'][0]['text'])"
   ]
  },
  {
   "cell_type": "code",
   "execution_count": 29,
   "metadata": {},
   "outputs": [],
   "source": [
    "app.run_server(mode='jupyterlab', port=8060, dev_tools_ui=True, #debug=True, \n",
    "               dev_tools_hot_reload =True, threaded=True)"
   ]
  },
  {
   "cell_type": "code",
   "execution_count": 234,
   "metadata": {},
   "outputs": [
    {
     "name": "stdout",
     "output_type": "stream",
     "text": [
      "hello world\n"
     ]
    }
   ],
   "source": [
    "print(\"hello world\")"
   ]
  },
  {
   "cell_type": "code",
   "execution_count": null,
   "metadata": {},
   "outputs": [],
   "source": []
  }
 ],
 "metadata": {
  "kernelspec": {
   "display_name": "Python 3",
   "language": "python",
   "name": "python3"
  },
  "language_info": {
   "codemirror_mode": {
    "name": "ipython",
    "version": 3
   },
   "file_extension": ".py",
   "mimetype": "text/x-python",
   "name": "python",
   "nbconvert_exporter": "python",
   "pygments_lexer": "ipython3",
   "version": "3.8.8"
  },
  "metadata": {
   "interpreter": {
    "hash": "043e26b34f3bea22d3ce368d50cf2da3c0bd0e8b676e6dc2329424d9c327f8a6"
   }
  }
 },
 "nbformat": 4,
 "nbformat_minor": 4
}
