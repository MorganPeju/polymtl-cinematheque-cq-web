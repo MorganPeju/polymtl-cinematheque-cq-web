{
 "cells": [
  {
   "cell_type": "markdown",
   "id": "palestinian-national",
   "metadata": {},
   "source": [
    "# Équipe 7\n",
    "## Notebook de Jean-Christophe"
   ]
  },
  {
   "cell_type": "code",
   "execution_count": 70,
   "id": "different-demographic",
   "metadata": {},
   "outputs": [],
   "source": [
    "import numpy as np\n",
    "import pandas as pd\n",
    "import datetime\n",
    "\n",
    "import dash\n",
    "import dash_html_components as html\n",
    "import dash_core_components as dcc\n",
    "from dash.dependencies import Input, Output, State\n",
    "from jupyter_dash import JupyterDash\n",
    "\n",
    "import plotly.graph_objects as go\n",
    "import plotly.express as px\n",
    "from plotly.subplots import make_subplots"
   ]
  },
  {
   "cell_type": "markdown",
   "id": "olive-reform",
   "metadata": {},
   "source": [
    "## Load data"
   ]
  },
  {
   "cell_type": "code",
   "execution_count": 2,
   "id": "intellectual-vehicle",
   "metadata": {},
   "outputs": [],
   "source": [
    "def load_master_film_file():\n",
    "\n",
    "    # Read .csv\n",
    "    temp_df = pd.read_csv(\n",
    "        filepath_or_buffer=\"../Src/Assets/Data/Jc/film_vsMaitre.csv\",\n",
    "        sep=',',\n",
    "        header=0,\n",
    "        low_memory=False,\n",
    "        dtype={\n",
    "            'FilmoId': int,\n",
    "            'titreOriginal': str,\n",
    "            'anneeSortie': int,\n",
    "            'GeneriqueId': float,\n",
    "            'fonction': str,\n",
    "            'nom': str,\n",
    "            'prenom': str,\n",
    "            'nomComplet': str,\n",
    "            'langue': str,\n",
    "            'pays': str,\n",
    "            'continent': str,\n",
    "            'capitale': str,\n",
    "            'planete': str,\n",
    "            'genreIdentifiant': str,\n",
    "            'genre': str,\n",
    "            'sousGenre0': str,\n",
    "            'sousGenre1': str\n",
    "        }\n",
    "    )\n",
    "\n",
    "    # Make sure missing value are None\n",
    "    temp_df = temp_df.replace(r'^\\s*$', None, regex=True)\n",
    "\n",
    "    return temp_df"
   ]
  },
  {
   "cell_type": "markdown",
   "id": "mobile-conversation",
   "metadata": {},
   "source": [
    "## Preprocess"
   ]
  },
  {
   "cell_type": "code",
   "execution_count": 3,
   "id": "strong-davis",
   "metadata": {},
   "outputs": [],
   "source": [
    "def clean_duplicates_for_scatterplot_matrix(df):\n",
    "    # Drop duplicates due to irrelevant fields\n",
    "    temp_df = df.drop_duplicates(\n",
    "        subset=['titreOriginal','anneeSortie', 'pays', 'genre'], \n",
    "        keep='first'\n",
    "    )\n",
    "\n",
    "    return temp_df"
   ]
  },
  {
   "cell_type": "code",
   "execution_count": 44,
   "id": "lined-construction",
   "metadata": {},
   "outputs": [],
   "source": [
    "def clean_country_column_for_scatterplot_matrix(df): \n",
    "    \n",
    "    def extract_country(x):\n",
    "        temp = x.split(':')\n",
    "        if len(temp)==2:\n",
    "            return temp[0][:-1]\n",
    "        else:\n",
    "            return x\n",
    "        \n",
    "    # Explicit copy\n",
    "    temp_df = df.copy()\n",
    "    \n",
    "    # Set missing values\n",
    "    temp_df['pays'] = temp_df['pays'].fillna(\"n.d.\")\n",
    "    \n",
    "    # Extract country \n",
    "    temp_df['pays'] = temp_df['pays'].apply(lambda x: extract_country(x))\n",
    "    \n",
    "    return temp_df"
   ]
  },
  {
   "cell_type": "code",
   "execution_count": 40,
   "id": "failing-robertson",
   "metadata": {},
   "outputs": [],
   "source": [
    "def clean_genre_column_for_scatterplot_matrix(df):  \n",
    "    \n",
    "    # Explicit copy\n",
    "    temp_df = df.copy()\n",
    "    \n",
    "    # Replace value\n",
    "    temp_df['genre'] = temp_df['genre'].replace(\"FICTION SPÉCULATIVE\",\"SCIENCE FICTION\")\n",
    "    \n",
    "    # Set missing values\n",
    "    temp_df['genre'] = temp_df['genre'].fillna(\"n.d.\")\n",
    "    \n",
    "    return temp_df"
   ]
  },
  {
   "cell_type": "code",
   "execution_count": 41,
   "id": "awful-paraguay",
   "metadata": {},
   "outputs": [],
   "source": [
    "def clean_film_df_for_scatterplot_matrix(film_df):\n",
    "    \n",
    "    # Explicit copy\n",
    "    temp_df = film_df.copy()\n",
    "    \n",
    "    # Clean duplicates, year, title and genre\n",
    "    temp_df = clean_duplicates_for_scatterplot_matrix(df=temp_df)\n",
    "    temp_df = clean_country_column_for_scatterplot_matrix(df=temp_df)\n",
    "    temp_df = clean_genre_column_for_scatterplot_matrix(df=temp_df)\n",
    "\n",
    "    return temp_df"
   ]
  },
  {
   "cell_type": "code",
   "execution_count": 50,
   "id": "equivalent-chester",
   "metadata": {},
   "outputs": [],
   "source": [
    "def prepare_data_for_scatterplot_matrix(raw_scatterplot_matrix_df, top_n):\n",
    "    \n",
    "    # Replace function to use with .apply()\n",
    "    def replace_string(x):\n",
    "        if x in top_n_country:\n",
    "            return x\n",
    "        else:\n",
    "                return 'Autres'\n",
    "            \n",
    "    # Aggregate by country, genre, year\n",
    "    temp_df = (raw_scatterplot_matrix_df\n",
    "        .groupby(['pays', 'genre', 'anneeSortie'])\n",
    "        .agg(nombreDeFilms=pd.NamedAgg(column='titreOriginal', aggfunc='count'))\n",
    "        .reset_index()\n",
    "        .sort_values(by=['pays', 'genre', 'anneeSortie'], ascending=True)\n",
    "    )\n",
    "    \n",
    "    # Get count of movies for each country\n",
    "    top_n_df = (temp_df\n",
    "        .groupby('pays')\n",
    "        .agg(nombreDeFilms=pd.NamedAgg(column='nombreDeFilms', aggfunc='count'))\n",
    "        .reset_index()\n",
    "        .sort_values(['nombreDeFilms'], ascending=[False])\n",
    "    )\n",
    "    \n",
    "    # handles cases where there is more than n countries\n",
    "    if len(top_n_df) > top_n:\n",
    "        # create a list with top n countries\n",
    "        top_n_country = top_n_df.head(top_n)['pays'].tolist()\n",
    "\n",
    "        # replace non top n languages by \"autres\"\n",
    "        temp_df['pays'] = temp_df['pays'].apply(lambda x: replace_string(x))\n",
    "\n",
    "        # aggregate to have top n + autres languages\n",
    "        temp_df = (temp_df\n",
    "            .groupby(['pays', 'genre', 'anneeSortie'])\n",
    "            .agg(nombreDeFilms=pd.NamedAgg(column='nombreDeFilms', aggfunc='sum'))\n",
    "            .reset_index()\n",
    "            .sort_values(['pays', 'genre', 'anneeSortie'], ascending=True)\n",
    "        )\n",
    "    # else: no need to do anything\n",
    "\n",
    "    return temp_df"
   ]
  },
  {
   "cell_type": "code",
   "execution_count": null,
   "id": "million-english",
   "metadata": {},
   "outputs": [],
   "source": []
  },
  {
   "cell_type": "code",
   "execution_count": 8,
   "id": "abroad-singing",
   "metadata": {},
   "outputs": [],
   "source": [
    "film_df = load_master_film_file()"
   ]
  },
  {
   "cell_type": "code",
   "execution_count": 51,
   "id": "cross-mineral",
   "metadata": {},
   "outputs": [],
   "source": [
    "raw_scatterplot_matrix_df = clean_film_df_for_scatterplot_matrix(film_df=film_df)\n",
    "scatterplot_matrix_df = prepare_data_for_scatterplot_matrix(\n",
    "    raw_scatterplot_matrix_df=raw_scatterplot_matrix_df,\n",
    "    top_n=20\n",
    ")"
   ]
  },
  {
   "cell_type": "code",
   "execution_count": 52,
   "id": "therapeutic-detector",
   "metadata": {},
   "outputs": [
    {
     "data": {
      "text/html": [
       "<div>\n",
       "<style scoped>\n",
       "    .dataframe tbody tr th:only-of-type {\n",
       "        vertical-align: middle;\n",
       "    }\n",
       "\n",
       "    .dataframe tbody tr th {\n",
       "        vertical-align: top;\n",
       "    }\n",
       "\n",
       "    .dataframe thead th {\n",
       "        text-align: right;\n",
       "    }\n",
       "</style>\n",
       "<table border=\"1\" class=\"dataframe\">\n",
       "  <thead>\n",
       "    <tr style=\"text-align: right;\">\n",
       "      <th></th>\n",
       "      <th>pays</th>\n",
       "      <th>genre</th>\n",
       "      <th>anneeSortie</th>\n",
       "      <th>nombreDeFilms</th>\n",
       "    </tr>\n",
       "  </thead>\n",
       "  <tbody>\n",
       "    <tr>\n",
       "      <th>0</th>\n",
       "      <td>Allemagne</td>\n",
       "      <td>Action</td>\n",
       "      <td>1929</td>\n",
       "      <td>1</td>\n",
       "    </tr>\n",
       "    <tr>\n",
       "      <th>1</th>\n",
       "      <td>Allemagne</td>\n",
       "      <td>Action</td>\n",
       "      <td>1976</td>\n",
       "      <td>1</td>\n",
       "    </tr>\n",
       "    <tr>\n",
       "      <th>2</th>\n",
       "      <td>Allemagne</td>\n",
       "      <td>Action</td>\n",
       "      <td>1990</td>\n",
       "      <td>1</td>\n",
       "    </tr>\n",
       "    <tr>\n",
       "      <th>3</th>\n",
       "      <td>Allemagne</td>\n",
       "      <td>Action</td>\n",
       "      <td>1997</td>\n",
       "      <td>1</td>\n",
       "    </tr>\n",
       "    <tr>\n",
       "      <th>4</th>\n",
       "      <td>Allemagne</td>\n",
       "      <td>Action</td>\n",
       "      <td>1998</td>\n",
       "      <td>1</td>\n",
       "    </tr>\n",
       "  </tbody>\n",
       "</table>\n",
       "</div>"
      ],
      "text/plain": [
       "        pays   genre  anneeSortie  nombreDeFilms\n",
       "0  Allemagne  Action         1929              1\n",
       "1  Allemagne  Action         1976              1\n",
       "2  Allemagne  Action         1990              1\n",
       "3  Allemagne  Action         1997              1\n",
       "4  Allemagne  Action         1998              1"
      ]
     },
     "execution_count": 52,
     "metadata": {},
     "output_type": "execute_result"
    }
   ],
   "source": [
    "scatterplot_matrix_df.head(5)"
   ]
  },
  {
   "cell_type": "code",
   "execution_count": 59,
   "id": "nonprofit-overhead",
   "metadata": {},
   "outputs": [],
   "source": [
    "temp_df = scatterplot_matrix_df.set_index(keys=['pays', 'genre'])"
   ]
  },
  {
   "cell_type": "code",
   "execution_count": 60,
   "id": "excellent-label",
   "metadata": {},
   "outputs": [
    {
     "data": {
      "text/html": [
       "<div>\n",
       "<style scoped>\n",
       "    .dataframe tbody tr th:only-of-type {\n",
       "        vertical-align: middle;\n",
       "    }\n",
       "\n",
       "    .dataframe tbody tr th {\n",
       "        vertical-align: top;\n",
       "    }\n",
       "\n",
       "    .dataframe thead th {\n",
       "        text-align: right;\n",
       "    }\n",
       "</style>\n",
       "<table border=\"1\" class=\"dataframe\">\n",
       "  <thead>\n",
       "    <tr style=\"text-align: right;\">\n",
       "      <th></th>\n",
       "      <th></th>\n",
       "      <th>anneeSortie</th>\n",
       "      <th>nombreDeFilms</th>\n",
       "    </tr>\n",
       "    <tr>\n",
       "      <th>pays</th>\n",
       "      <th>genre</th>\n",
       "      <th></th>\n",
       "      <th></th>\n",
       "    </tr>\n",
       "  </thead>\n",
       "  <tbody>\n",
       "    <tr>\n",
       "      <th rowspan=\"5\" valign=\"top\">Allemagne</th>\n",
       "      <th>Action</th>\n",
       "      <td>1929</td>\n",
       "      <td>1</td>\n",
       "    </tr>\n",
       "    <tr>\n",
       "      <th>Action</th>\n",
       "      <td>1976</td>\n",
       "      <td>1</td>\n",
       "    </tr>\n",
       "    <tr>\n",
       "      <th>Action</th>\n",
       "      <td>1990</td>\n",
       "      <td>1</td>\n",
       "    </tr>\n",
       "    <tr>\n",
       "      <th>Action</th>\n",
       "      <td>1997</td>\n",
       "      <td>1</td>\n",
       "    </tr>\n",
       "    <tr>\n",
       "      <th>Action</th>\n",
       "      <td>1998</td>\n",
       "      <td>1</td>\n",
       "    </tr>\n",
       "  </tbody>\n",
       "</table>\n",
       "</div>"
      ],
      "text/plain": [
       "                  anneeSortie  nombreDeFilms\n",
       "pays      genre                             \n",
       "Allemagne Action         1929              1\n",
       "          Action         1976              1\n",
       "          Action         1990              1\n",
       "          Action         1997              1\n",
       "          Action         1998              1"
      ]
     },
     "execution_count": 60,
     "metadata": {},
     "output_type": "execute_result"
    }
   ],
   "source": [
    "temp_df.head(5)"
   ]
  },
  {
   "cell_type": "code",
   "execution_count": 67,
   "id": "worst-large",
   "metadata": {},
   "outputs": [
    {
     "data": {
      "text/plain": [
       "array([1929, 1976, 1990, 1997, 1998, 2000, 2002, 2003, 2004, 2005, 2006,\n",
       "       2007, 2008, 2009, 2010, 2011, 2012, 2013, 2014, 2015, 2017])"
      ]
     },
     "execution_count": 67,
     "metadata": {},
     "output_type": "execute_result"
    }
   ],
   "source": [
    "temp_df.loc[(\"Allemagne\", \"Action\"), :]['anneeSortie'].values"
   ]
  },
  {
   "cell_type": "code",
   "execution_count": 72,
   "id": "prescribed-colonial",
   "metadata": {},
   "outputs": [],
   "source": [
    "def get_list_of_genres(df):\n",
    "    genres = list(set(df['genre'].values))\n",
    "    return genres"
   ]
  },
  {
   "cell_type": "code",
   "execution_count": 73,
   "id": "revolutionary-construction",
   "metadata": {},
   "outputs": [],
   "source": [
    "def get_list_of_countries(df):\n",
    "    pays = list(set(df['pays'].values))\n",
    "    return pays"
   ]
  },
  {
   "cell_type": "code",
   "execution_count": 74,
   "id": "pharmaceutical-profile",
   "metadata": {},
   "outputs": [],
   "source": [
    "genres = get_list_of_genres(df=scatterplot_matrix_df)\n",
    "countries = get_list_of_countries(df=scatterplot_matrix_df)"
   ]
  },
  {
   "cell_type": "code",
   "execution_count": 90,
   "id": "decreased-washington",
   "metadata": {},
   "outputs": [
    {
     "name": "stdout",
     "output_type": "stream",
     "text": [
      "genres :  ['n.d.', 'Historique', 'Crime', 'Amour', 'Sf', 'Comédie', 'Animation', 'Musical', 'Autres', 'Documentaire', 'Action', 'Aventure', 'Drame']\n",
      "countries :  ['Belgique', 'Hong-kong', 'Danemark', 'Italie', 'Canada', 'Australie', 'Allemagne', 'Autres', 'n.d.', 'États-unis', 'Espagne', 'Pays-bas', 'Japon', 'Suisse', \"Allemagne, république fédérale d'\", 'Pologne', 'Urss', 'Royaume-uni', 'Mexique', 'Suède', 'France']\n"
     ]
    }
   ],
   "source": [
    "print(\"genres : \", genres)\n",
    "print(\"countries : \", countries)"
   ]
  },
  {
   "cell_type": "code",
   "execution_count": 125,
   "id": "noted-trouble",
   "metadata": {},
   "outputs": [
    {
     "data": {
      "text/plain": [
       "int"
      ]
     },
     "execution_count": 125,
     "metadata": {},
     "output_type": "execute_result"
    }
   ],
   "source": [
    "type(len(genres))"
   ]
  },
  {
   "cell_type": "code",
   "execution_count": 98,
   "id": "visible-jimmy",
   "metadata": {},
   "outputs": [],
   "source": [
    "def get_min_and_max_year(df):\n",
    "    year_max = df['anneeSortie'].max()\n",
    "    year_min = df['anneeSortie'].min()\n",
    "    \n",
    "    return year_min, year_max"
   ]
  },
  {
   "cell_type": "code",
   "execution_count": null,
   "id": "seasonal-bridges",
   "metadata": {},
   "outputs": [],
   "source": [
    "create_scatterplot_fig()\n",
    "raw_scatterplot_matrix_df = clean_film_df_for_scatterplot_matrix(film_df=film_df)\n",
    "scatterplot_matrix_df = prepare_data_for_scatterplot_matrix(\n",
    "    raw_scatterplot_matrix_df=raw_scatterplot_matrix_df,\n",
    "    top_n=20\n",
    ")"
   ]
  },
  {
   "cell_type": "code",
   "execution_count": 194,
   "id": "soviet-wallet",
   "metadata": {},
   "outputs": [
    {
     "name": "stdout",
     "output_type": "stream",
     "text": [
      "13\n",
      "genre_idx, x0, x1 :  0 0.0 0.07692307692307693\n",
      "genre_idx, x0, x1 :  1 0.07692307692307693 0.15384615384615385\n",
      "genre_idx, x0, x1 :  2 0.15384615384615385 0.23076923076923078\n",
      "genre_idx, x0, x1 :  3 0.23076923076923078 0.3076923076923077\n",
      "genre_idx, x0, x1 :  4 0.3076923076923077 0.38461538461538464\n",
      "genre_idx, x0, x1 :  5 0.38461538461538464 0.46153846153846156\n",
      "genre_idx, x0, x1 :  6 0.46153846153846156 0.5384615384615385\n",
      "genre_idx, x0, x1 :  7 0.5384615384615385 0.6153846153846154\n",
      "genre_idx, x0, x1 :  8 0.6153846153846154 0.6923076923076923\n",
      "genre_idx, x0, x1 :  9 0.6923076923076923 0.7692307692307693\n",
      "genre_idx, x0, x1 :  10 0.7692307692307693 0.8461538461538463\n",
      "genre_idx, x0, x1 :  11 0.8461538461538463 0.9230769230769231\n",
      "genre_idx, x0, x1 :  12 0.9230769230769231 1.0\n"
     ]
    }
   ],
   "source": [
    "print(len(genres))\n",
    "    \n",
    "vertical_spacing=0.02\n",
    "horizontal_spacing=0.02\n",
    "\n",
    "shapes = []\n",
    "height = 5000\n",
    "width = 2500\n",
    "#shape_x_increment = width / len(genres)\n",
    "#shape_y_increment = height / len(countries)\n",
    "shape_x_increment = 1 / len(genres)\n",
    "shape_y_increment = 1 / len(countries)\n",
    "\n",
    "#for country_idx, country in enumerate(countries):\n",
    "for genre_idx, genre in enumerate(genres):\n",
    "\n",
    "    #x0 = genre_idx * shape_x_increment - genre_idx * (vertical_spacing / 2)\n",
    "    #x1 = (genre_idx + 1) * shape_x_increment - (genre_idx + 1) * (vertical_spacing / 2)\n",
    "    x0 = genre_idx * shape_x_increment\n",
    "    x1 = (genre_idx + 1) * shape_x_increment\n",
    "    y0 = country_idx * shape_y_increment - country_idx * (horizontal_spacing / 2)\n",
    "    y1 = (country_idx + 1) * shape_y_increment - (country_idx + 1) * (horizontal_spacing / 2)\n",
    "    \n",
    "    print(\"genre_idx, x0, x1 : \", genre_idx, x0, x1)\n",
    "    #print(\"x1 : \", x1)\n",
    "    #print(\"y0 : \", y0)\n",
    "    #print(\"y1 : \", y1)"
   ]
  },
  {
   "cell_type": "code",
   "execution_count": 229,
   "id": "assisted-banner",
   "metadata": {},
   "outputs": [
    {
     "name": "stdout",
     "output_type": "stream",
     "text": [
      "(0.4707692307692308, 0.5292307692307693)\n",
      "(0.9714285714285715, 1.0)\n"
     ]
    }
   ],
   "source": [
    "print(fig['layout']['xaxis7']['domain'])\n",
    "print(fig['layout']['yaxis']['domain'])\n"
   ]
  },
  {
   "cell_type": "code",
   "execution_count": 239,
   "id": "filled-beijing",
   "metadata": {},
   "outputs": [],
   "source": [
    "def create_scatterplot_fig(scatterplot_matrix_df):\n",
    "\n",
    "    year_min, year_max = get_min_and_max_year(df=scatterplot_matrix_df)\n",
    "    film_max = max(scatterplot_matrix_df['nombreDeFilms'])\n",
    "    \n",
    "    # Create titles\n",
    "    subplot_titles = []\n",
    "    for country in countries:\n",
    "        for genre in genres:\n",
    "            subplot_title = country + \" - \" + genre\n",
    "            subplot_titles.append(subplot_title)\n",
    "\n",
    "    vertical_spacing=0.015\n",
    "    horizontal_spacing=0.015\n",
    "    \n",
    "    fig = make_subplots(\n",
    "        rows=len(countries), \n",
    "        cols=len(genres),\n",
    "        subplot_titles=subplot_titles,\n",
    "        vertical_spacing=vertical_spacing,\n",
    "        horizontal_spacing=horizontal_spacing,\n",
    "    )\n",
    "\n",
    "    # Create components used to create subplot borders\n",
    "    shapes = []\n",
    "    height = 7000\n",
    "    width = 3000\n",
    "    #shape_x_increment = width / len(genres)\n",
    "    #shape_y_increment = height / len(countries)\n",
    "    shape_x_increment = 1 / len(genres)\n",
    "    shape_y_increment = 1 / len(countries)\n",
    "\n",
    "    for country_idx, country in enumerate(countries):\n",
    "        for genre_idx, genre in enumerate(genres):\n",
    "\n",
    "            temp_df = scatterplot_matrix_df[scatterplot_matrix_df['pays']==country]\n",
    "            temp_df = temp_df[temp_df['genre']==genre]\n",
    "\n",
    "            fig.add_trace(\n",
    "                go.Scatter(\n",
    "                    x=temp_df['anneeSortie'].values,\n",
    "                    y=temp_df['nombreDeFilms'].values,\n",
    "                    marker_color='blue',\n",
    "                    mode='markers',\n",
    "                ),\n",
    "                row=country_idx+1, \n",
    "                col=genre_idx+1,\n",
    "            )\n",
    "\n",
    "            fig.update_xaxes(\n",
    "                row=country_idx+1, \n",
    "                col=genre_idx+1,\n",
    "                tickmode = 'array',\n",
    "                tickvals= [2000],\n",
    "                ticktext= [2000],\n",
    "                tickangle = 0,\n",
    "                ticks=\"outside\",\n",
    "                fixedrange=True,\n",
    "                range=[year_min, year_max],\n",
    "            )\n",
    "\n",
    "            # Compute tickval\n",
    "            tickval = (film_max - (film_max%2)) / 2\n",
    "            fig.update_yaxes( \n",
    "                row=country_idx+1, \n",
    "                col=genre_idx+1,\n",
    "                tickmode = 'array',\n",
    "                tickvals= [0, tickval],\n",
    "                ticktext= [0, tickval],\n",
    "                tickangle = 0,\n",
    "                ticks=\"inside\",\n",
    "                fixedrange=True,\n",
    "                range=[0, film_max]\n",
    "            )\n",
    "\n",
    "            # Compute subplot border reference\n",
    "            x0 = genre_idx * shape_x_increment + 0.005\n",
    "            x1 = (genre_idx + 1) * shape_x_increment - 0.005\n",
    "            y0 = country_idx * shape_y_increment + 0.005\n",
    "            y1 = (country_idx + 1) * shape_y_increment - 0.005\n",
    "            #print(\"x0 : \", x0)\n",
    "            #print(\"x1 : \", x1)\n",
    "            #print(\"y0 : \", y0)\n",
    "            #print(\"y1 : \", y1)\n",
    "            \n",
    "            # Handling special case\n",
    "            #if x0==0:\n",
    "            #    x0 = -0.1\n",
    "            #\n",
    "            #if x1==1:\n",
    "            #    x1=1.05\n",
    "\n",
    "            # Create subplot border\n",
    "            shape = go.layout.Shape(\n",
    "                type=\"rect\",\n",
    "                xref=\"paper\",\n",
    "                yref=\"paper\",\n",
    "                x0=x0,\n",
    "                y0=y0,\n",
    "                x1=x1,\n",
    "                y1=y1,\n",
    "                line={'width': 1, 'color': 'black'},\n",
    "            )\n",
    "\n",
    "            # Add subplot border to the list\n",
    "            shapes.append(shape)\n",
    "\n",
    "    # Set the font for all subplots' title \n",
    "    for i in fig['layout']['annotations']:\n",
    "        i['font'] = dict(size=10,color='#ff0000')\n",
    "\n",
    "    # Set layout\n",
    "    fig.update_layout(\n",
    "        height=height, \n",
    "        width=width, \n",
    "        title_text=\"Side By Side Subplots\",\n",
    "        paper_bgcolor='rgba(0,0,0,0)',\n",
    "        plot_bgcolor='rgba(0,0,0,0)',\n",
    "        showlegend=False,\n",
    "        shapes=shapes,\n",
    "        margin_l=40,\n",
    "        margin_r=40,\n",
    "        margin_t=40,\n",
    "        margin_b=40,\n",
    "    )\n",
    "    \n",
    "    return fig"
   ]
  },
  {
   "cell_type": "code",
   "execution_count": 240,
   "id": "advisory-provision",
   "metadata": {},
   "outputs": [],
   "source": [
    "fig = create_scatterplot_fig(scatterplot_matrix_df)\n",
    "\n",
    "scatterplot_graph = dcc.Graph(\n",
    "    figure=fig, \n",
    "    id='scatterplot-graph',\n",
    "    config=dict(\n",
    "        showTips=False,\n",
    "        showAxisDragHandles=False,\n",
    "        displayModeBar=False\n",
    "    )\n",
    ")"
   ]
  },
  {
   "cell_type": "code",
   "execution_count": 241,
   "id": "median-elevation",
   "metadata": {},
   "outputs": [
    {
     "name": "stdout",
     "output_type": "stream",
     "text": [
      "Dash app running on http://127.0.0.1:8060/\n"
     ]
    }
   ],
   "source": [
    "external_stylesheets = ['https://codepen.io/chriddyp/pen/bWLwgP.css']\n",
    "nom_de_la_page = \"Notes sur la librairie Dash de Plotly\"\n",
    "app = JupyterDash(nom_de_la_page, external_stylesheets=external_stylesheets)\n",
    "app.layout = html.Div([\n",
    "    scatterplot_graph\n",
    "])\n",
    "\n",
    "app.run_server(mode='external', port=8060, dev_tools_ui=True, #debug=True, \n",
    "               dev_tools_hot_reload =True, threaded=True)"
   ]
  },
  {
   "cell_type": "code",
   "execution_count": null,
   "id": "exciting-electronics",
   "metadata": {},
   "outputs": [],
   "source": [
    "fig.update_layout( shapes=[\n",
    "# unfilled rectange\n",
    "go.layout.Shape(\n",
    "type=“rect”,\n",
    "xref=“paper”,\n",
    "yref=“paper”,\n",
    "x0=0,\n",
    "y0=-0.1,\n",
    "x1=1.05,\n",
    "y1=1,\n",
    "line={‘width’: 1, ‘color’: ‘black’}),\n",
    "# line\n",
    "go.layout.Shape(\n",
    "type=“line”,\n",
    "xref=“paper”,\n",
    "yref=“paper”,\n",
    "x0=0.5,\n",
    "y0=-0.1,\n",
    "x1=0.5,\n",
    "y1=1,\n",
    "line={‘width’: 1, ‘color’: ‘black’}), ])"
   ]
  }
 ],
 "metadata": {
  "kernelspec": {
   "display_name": "Python 3",
   "language": "python",
   "name": "python3"
  },
  "language_info": {
   "codemirror_mode": {
    "name": "ipython",
    "version": 3
   },
   "file_extension": ".py",
   "mimetype": "text/x-python",
   "name": "python",
   "nbconvert_exporter": "python",
   "pygments_lexer": "ipython3",
   "version": "3.8.8"
  }
 },
 "nbformat": 4,
 "nbformat_minor": 5
}
