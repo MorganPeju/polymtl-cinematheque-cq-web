{
 "metadata": {
  "language_info": {
   "codemirror_mode": {
    "name": "ipython",
    "version": 3
   },
   "file_extension": ".py",
   "mimetype": "text/x-python",
   "name": "python",
   "nbconvert_exporter": "python",
   "pygments_lexer": "ipython3",
   "version": "3.8.8-final"
  },
  "orig_nbformat": 2,
  "kernelspec": {
   "name": "python388jvsc74a57bd0043e26b34f3bea22d3ce368d50cf2da3c0bd0e8b676e6dc2329424d9c327f8a6",
   "display_name": "Python 3.8.8 64-bit ('INF8808_vsCinematheque': conda)"
  },
  "metadata": {
   "interpreter": {
    "hash": "043e26b34f3bea22d3ce368d50cf2da3c0bd0e8b676e6dc2329424d9c327f8a6"
   }
  }
 },
 "nbformat": 4,
 "nbformat_minor": 2,
 "cells": [
  {
   "source": [
    "# Équipe 7\n",
    "## Notebook de Gabriel\n",
    "### Processing des données"
   ],
   "cell_type": "markdown",
   "metadata": {}
  },
  {
   "cell_type": "code",
   "execution_count": 1,
   "metadata": {},
   "outputs": [],
   "source": [
    "import pandas as pd\n",
    "import plotly.graph_objects as go\n",
    "import numpy as np\n"
   ]
  },
  {
   "cell_type": "code",
   "execution_count": 2,
   "metadata": {},
   "outputs": [],
   "source": [
    "def load_distinction_data():\n",
    "    '''\n",
    "    Cette fonction importe les données des distinctions\n",
    "    de divers individus au courant des années.\n",
    "    '''\n",
    "    df = pd.read_csv(\"../Src/Assets/Data/distinctions_people.csv\")\n",
    "\n",
    "    # Enlever ligne avec erreur\n",
    "    df.drop([1176], inplace = True)\n",
    "    \n",
    "    # Enlever colonnes de liens https\n",
    "    df.drop(labels = ['person', 'distinction'], axis = 1, inplace = True)\n",
    "\n",
    "    # Renommer deux colonnes\n",
    "    df.rename(columns={'personLabel': 'person', 'distinctionLabel': 'distinction'}, inplace  =True)\n",
    "\n",
    "    # Convertir Format Date en Entier\n",
    "    df[\"date\"] = df[\"date\"].str[:4].astype('int32')\n",
    "    \n",
    "    return df\n"
   ]
  },
  {
   "source": [
    "Les deux principales données qui seront utilisées sont df_distinc et df_count"
   ],
   "cell_type": "markdown",
   "metadata": {}
  },
  {
   "cell_type": "code",
   "execution_count": 3,
   "metadata": {},
   "outputs": [
    {
     "output_type": "execute_result",
     "data": {
      "text/plain": [
       "                 person                                        distinction  \\\n",
       "0  Robert Marcel Lepage                                   Prix René-Jodoin   \n",
       "1       Jean-Marie Drot                 commandeur des Arts et des Lettres   \n",
       "2       Jean-Marie Drot                                   concours général   \n",
       "3      François Damiens                  chevalier des Arts et des Lettres   \n",
       "4         Nicole Garcia  César de la meilleure actrice dans un second rôle   \n",
       "\n",
       "   date  \n",
       "0  2018  \n",
       "1  2013  \n",
       "2  1946  \n",
       "3  2011  \n",
       "4  1980  "
      ],
      "text/html": "<div>\n<style scoped>\n    .dataframe tbody tr th:only-of-type {\n        vertical-align: middle;\n    }\n\n    .dataframe tbody tr th {\n        vertical-align: top;\n    }\n\n    .dataframe thead th {\n        text-align: right;\n    }\n</style>\n<table border=\"1\" class=\"dataframe\">\n  <thead>\n    <tr style=\"text-align: right;\">\n      <th></th>\n      <th>person</th>\n      <th>distinction</th>\n      <th>date</th>\n    </tr>\n  </thead>\n  <tbody>\n    <tr>\n      <th>0</th>\n      <td>Robert Marcel Lepage</td>\n      <td>Prix René-Jodoin</td>\n      <td>2018</td>\n    </tr>\n    <tr>\n      <th>1</th>\n      <td>Jean-Marie Drot</td>\n      <td>commandeur des Arts et des Lettres</td>\n      <td>2013</td>\n    </tr>\n    <tr>\n      <th>2</th>\n      <td>Jean-Marie Drot</td>\n      <td>concours général</td>\n      <td>1946</td>\n    </tr>\n    <tr>\n      <th>3</th>\n      <td>François Damiens</td>\n      <td>chevalier des Arts et des Lettres</td>\n      <td>2011</td>\n    </tr>\n    <tr>\n      <th>4</th>\n      <td>Nicole Garcia</td>\n      <td>César de la meilleure actrice dans un second rôle</td>\n      <td>1980</td>\n    </tr>\n  </tbody>\n</table>\n</div>"
     },
     "metadata": {},
     "execution_count": 3
    }
   ],
   "source": [
    "# Load dataframe\n",
    "df_distinc = load_distinction_data()\n",
    "df_distinc.head()\n"
   ]
  },
  {
   "cell_type": "code",
   "execution_count": 4,
   "metadata": {},
   "outputs": [
    {
     "output_type": "execute_result",
     "data": {
      "text/plain": [
       "person\n",
       "Alain Corneau        6\n",
       "Alan Arkin          12\n",
       "Alanis Obomsawin    18\n",
       "Albert Uderzo        8\n",
       "Alec Baldwin        15\n",
       "Name: date, dtype: int64"
      ]
     },
     "metadata": {},
     "execution_count": 4
    }
   ],
   "source": [
    "# Get counts of dinstinctions per person\n",
    "df_count = df_distinc.groupby(\"person\")[\"date\"].count()\n",
    "\n",
    "# Only consider people with more than 5 distinctions\n",
    "df_count = df_count.loc[df_count >= 5]\n",
    "df_count.head()"
   ]
  },
  {
   "source": [
    "### Dash jupyter app"
   ],
   "cell_type": "markdown",
   "metadata": {}
  },
  {
   "cell_type": "code",
   "execution_count": 5,
   "metadata": {},
   "outputs": [],
   "source": [
    "from jupyter_dash import JupyterDash\n",
    "import dash\n",
    "import dash_html_components as html\n",
    "import dash_core_components as dcc\n",
    "from dash.dependencies import Input, Output, State\n"
   ]
  },
  {
   "cell_type": "code",
   "execution_count": 6,
   "metadata": {},
   "outputs": [],
   "source": [
    "def compute_distinc_histogram(df_count, min_count, max_count):\n",
    "    '''\n",
    "    Compute the height in the scatter plot (histogram). The height\n",
    "    does not encode a data per-say but is used to distinguish multiple\n",
    "    persons who have the same number of distinctions.\n",
    "    '''\n",
    "    # Compute the height of each person in the scatter plot (custom histogram)\n",
    "    df_height = pd.Series(np.zeros((df_count.size, )), index = df_count.index)\n",
    "\n",
    "    for c in range(min_count, max_count + 1):\n",
    "        # Get positions of people with \"c\" distinctions\n",
    "        bool_idx = df_count == c\n",
    "        if not bool_idx.sum() == 0:\n",
    "            df_height[bool_idx] = np.arange(bool_idx.sum())\n",
    "\n",
    "    return df_height\n",
    "        "
   ]
  },
  {
   "cell_type": "code",
   "execution_count": 7,
   "metadata": {},
   "outputs": [],
   "source": [
    "def get_histogram(df_count):\n",
    "    '''\n",
    "    Return the scatter plot (custom histogram) that represents the distribution of\n",
    "    distinctions.\n",
    "    '''\n",
    "    min_count = df_count.min()\n",
    "    max_count = df_count.max()\n",
    "    df_height = compute_distinc_histogram(df_count, min_count, max_count)\n",
    "\n",
    "    # Plot results\n",
    "    fig = go.Figure(\n",
    "            go.Scatter(\n",
    "                mode = 'markers',\n",
    "                marker_symbol = \"square\", \n",
    "                marker_size = 10,\n",
    "                marker_color = \"#B3DEC1\",\n",
    "                marker_line_width = 2,\n",
    "                marker_line_color = \"black\",\n",
    "                x = df_count,\n",
    "                y = df_height,\n",
    "                hovertemplate =\n",
    "                '<br><b>Personne </b>: %{text}<br>'+\n",
    "                '<b>Distinctions </b> : %{x}  <extra></extra>',\n",
    "                text = df_count.index,\n",
    "                showlegend = False \n",
    "                ),\n",
    "            go.Layout(\n",
    "                title_text = \"Distribution des nombres de distinctions\",\n",
    "                title_x = 0.5,\n",
    "                width=1000,\n",
    "                height=700\n",
    "                )\n",
    "            )           \n",
    "    fig.update_xaxes(range=[min_count - 1, max_count + 1], dtick = 1, title = \"Nombre de distinctions\")\n",
    "    fig.update_yaxes(range=[-1, df_height.max() + 1])\n",
    "    return fig\n"
   ]
  },
  {
   "cell_type": "code",
   "execution_count": 8,
   "metadata": {},
   "outputs": [],
   "source": [
    "def get_empty_table(df_distinc):\n",
    "    fig = go.Figure(\n",
    "            data=[go.Table(\n",
    "                    columnwidth = [600,100],\n",
    "                    header=dict(values=list(df_distinc.columns[1:]),\n",
    "                                fill_color=\"#B3DEC1\",\n",
    "                                align='center'),\n",
    "            )],\n",
    "            layout=go.Layout(\n",
    "                    width=700,\n",
    "                    height=700\n",
    "            )\n",
    "        )\n",
    "                \n",
    "    return fig"
   ]
  },
  {
   "cell_type": "code",
   "execution_count": 9,
   "metadata": {},
   "outputs": [],
   "source": [
    "def get_filled_table(df_distinc, name):\n",
    "    one_actor = df_distinc[df_distinc[\"person\"] == name].sort_values(\"date\", ascending = True)\n",
    "\n",
    "    fig = go.Figure(    \n",
    "            data=[go.Table(\n",
    "                    columnwidth = [600,100],\n",
    "                    header=dict(values=list(df_distinc.columns[1:]),\n",
    "                                fill_color=\"#B3DEC1\",\n",
    "                                align='center'),\n",
    "                    cells=dict(values=[one_actor[\"distinction\"], one_actor[\"date\"]],\n",
    "                               fill_color='#E5FCF5',\n",
    "                               align=['left','center'])\n",
    "            )],\n",
    "            layout=go.Layout(\n",
    "                    title_text = f\"Distinctions de {name}\",\n",
    "                    title_x = 0.5,\n",
    "                    width=700,\n",
    "                    height=700\n",
    "            )\n",
    "        )\n",
    "         \n",
    "    return fig"
   ]
  },
  {
   "cell_type": "code",
   "execution_count": 10,
   "metadata": {},
   "outputs": [],
   "source": [
    "external_stylesheets=['https://codepen.io/chriddyp/pen/bWLwgP.css']\n",
    "app = JupyterDash(__name__, external_stylesheets=external_stylesheets)\n"
   ]
  },
  {
   "cell_type": "code",
   "execution_count": 11,
   "metadata": {},
   "outputs": [],
   "source": [
    "app.layout = html.Div(className='content', children=[\n",
    "    html.Header(children=[\n",
    "        html.H1('Graphique des distinctions'),\n",
    "    ]),\n",
    "    html.Main(className='viz-container', children=[\n",
    "        dcc.Graph(\n",
    "            id='histogram',\n",
    "            className='graph',\n",
    "            figure=get_histogram(df_count),\n",
    "            style={'display': 'inline-block'},\n",
    "            config=dict(\n",
    "                scrollZoom=False,\n",
    "                showTips=False,\n",
    "                showAxisDragHandles=False,\n",
    "                doubleClick=False,\n",
    "                displayModeBar=False\n",
    "            )\n",
    "        ),\n",
    "        dcc.Graph(\n",
    "            id='table',\n",
    "            className='graph',\n",
    "            figure=get_empty_table(df_distinc),\n",
    "            style={'display': 'inline-block'},\n",
    "            config=dict(\n",
    "                scrollZoom=False,\n",
    "                showTips=False,\n",
    "                showAxisDragHandles=False,\n",
    "                doubleClick=False,\n",
    "                displayModeBar=False\n",
    "            )\n",
    "        )\n",
    "    ])\n",
    "])\n"
   ]
  },
  {
   "cell_type": "code",
   "execution_count": 12,
   "metadata": {},
   "outputs": [],
   "source": [
    "@app.callback(\n",
    "    Output('table', 'figure'),\n",
    "    [Input('histogram', 'clickData')]\n",
    ")\n",
    "def histogram_clicked(click_data):\n",
    "    if click_data is None:\n",
    "        return get_empty_table(df_distinc)\n",
    "    else:\n",
    "        return get_filled_table(df_distinc, click_data['points'][0]['text'])"
   ]
  },
  {
   "cell_type": "code",
   "execution_count": 13,
   "metadata": {},
   "outputs": [
    {
     "output_type": "stream",
     "name": "stdout",
     "text": [
      "Dash app running on http://127.0.0.1:8050/\n"
     ]
    }
   ],
   "source": [
    "app.run_server(port=\"8050\", debug=True)"
   ]
  },
  {
   "cell_type": "code",
   "execution_count": null,
   "metadata": {},
   "outputs": [],
   "source": []
  }
 ]
}