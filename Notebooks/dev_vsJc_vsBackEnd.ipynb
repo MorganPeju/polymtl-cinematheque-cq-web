{
 "cells": [
  {
   "cell_type": "markdown",
   "metadata": {
    "jupyter": {
     "source_hidden": true
    },
    "tags": []
   },
   "source": [
    "# Équipe 7\n",
    "## Notebook de Jean-Christophe"
   ]
  },
  {
   "cell_type": "code",
   "execution_count": 5,
   "metadata": {},
   "outputs": [],
   "source": [
    "import numpy as np\n",
    "import pandas as pd\n",
    "import datetime"
   ]
  },
  {
   "cell_type": "markdown",
   "metadata": {},
   "source": [
    "## Load data"
   ]
  },
  {
   "cell_type": "code",
   "execution_count": 6,
   "metadata": {},
   "outputs": [],
   "source": [
    "def backend_load_film():\n",
    "    # Set file path and name\n",
    "    relative_path = \"../Src/Assets/Data/Jc/\"\n",
    "    file_name = \"film.csv\"\n",
    "    full_path = relative_path + file_name\n",
    "    \n",
    "    # Read csv\n",
    "    temp_df = pd.read_csv(\n",
    "        filepath_or_buffer=full_path,\n",
    "        sep=',',\n",
    "        header=0,\n",
    "        #usecols=['FilmoId','titreOriginal','anneeSortie'],\n",
    "    )\n",
    "    \n",
    "    return temp_df"
   ]
  },
  {
   "cell_type": "code",
   "execution_count": 7,
   "metadata": {},
   "outputs": [],
   "source": [
    "def backend_load_genre():\n",
    "    # Set file path and name\n",
    "    relative_path = \"../Src/Assets/Data/Jc/\"\n",
    "    file_name = \"film_genre.csv\"\n",
    "    full_path = relative_path + file_name\n",
    "    \n",
    "    # Read csv\n",
    "    temp_df = pd.read_csv(\n",
    "        filepath_or_buffer=full_path,\n",
    "        sep=',',\n",
    "        header=0\n",
    "    )\n",
    "    \n",
    "    return temp_df"
   ]
  },
  {
   "cell_type": "code",
   "execution_count": 8,
   "metadata": {},
   "outputs": [],
   "source": [
    "def backend_load_film_language():\n",
    "    # Set file path and name\n",
    "    relative_path = \"../Src/Assets/Data/Jc/\"\n",
    "    file_name = \"film_langue.csv\"\n",
    "    full_path = relative_path + file_name\n",
    "    \n",
    "    # Read csv\n",
    "    temp_df = pd.read_csv(\n",
    "        filepath_or_buffer=full_path,\n",
    "        sep=',',\n",
    "        header=0\n",
    "    )\n",
    "    \n",
    "    return temp_df"
   ]
  },
  {
   "cell_type": "code",
   "execution_count": 9,
   "metadata": {},
   "outputs": [],
   "source": [
    "def backend_load_language():\n",
    "    # Set file path and name\n",
    "    relative_path = \"../Src/Assets/Data/Jc/\"\n",
    "    file_name = \"langue.csv\"\n",
    "    full_path = relative_path + file_name\n",
    "    \n",
    "    # Read csv\n",
    "    temp_df = pd.read_csv(\n",
    "        filepath_or_buffer=full_path,\n",
    "        sep=',',\n",
    "        header=0\n",
    "    )\n",
    "    \n",
    "    return temp_df"
   ]
  },
  {
   "cell_type": "code",
   "execution_count": 10,
   "metadata": {},
   "outputs": [],
   "source": [
    "def backend_load_film_country():\n",
    "    # Set file path and name\n",
    "    relative_path = \"../Src/Assets/Data/Jc/\"\n",
    "    file_name = \"film_pays.csv\"\n",
    "    full_path = relative_path + file_name\n",
    "    \n",
    "    # Read csv\n",
    "    temp_df = pd.read_csv(\n",
    "        filepath_or_buffer=full_path,\n",
    "        sep=',',\n",
    "        header=0\n",
    "    )\n",
    "    \n",
    "    return temp_df"
   ]
  },
  {
   "cell_type": "code",
   "execution_count": 11,
   "metadata": {},
   "outputs": [],
   "source": [
    "def backend_load_country():\n",
    "    # Set file path and name\n",
    "    relative_path = \"../Src/Assets/Data/Jc/\"\n",
    "    file_name = \"pays.csv\"\n",
    "    full_path = relative_path + file_name\n",
    "    \n",
    "    # Read csv\n",
    "    temp_df = pd.read_csv(\n",
    "        filepath_or_buffer=full_path,\n",
    "        sep=',',\n",
    "        header=0\n",
    "    )\n",
    "    \n",
    "    return temp_df"
   ]
  },
  {
   "cell_type": "code",
   "execution_count": 12,
   "metadata": {},
   "outputs": [],
   "source": [
    "def backend_load_continent():\n",
    "    # Set file path and name\n",
    "    relative_path = \"../Src/Assets/Data/Jc/\"\n",
    "    file_name = \"continent.csv\"\n",
    "    full_path = relative_path + file_name\n",
    "    \n",
    "    # Read csv\n",
    "    temp_df = pd.read_csv(\n",
    "        filepath_or_buffer=full_path,\n",
    "        sep=',',\n",
    "        header=0\n",
    "    )\n",
    "    \n",
    "    return temp_df"
   ]
  },
  {
   "cell_type": "code",
   "execution_count": 13,
   "metadata": {},
   "outputs": [],
   "source": [
    "def backend_load_place():\n",
    "    # Set file path and name\n",
    "    relative_path = \"../Src/Assets/Data/Jc/\"\n",
    "    file_name = \"film_place.csv\"\n",
    "    full_path = relative_path + file_name\n",
    "    \n",
    "    # Read csv\n",
    "    temp_df = pd.read_csv(\n",
    "        filepath_or_buffer=full_path,\n",
    "        sep=',',\n",
    "        header=0\n",
    "    )\n",
    "    \n",
    "    return temp_df"
   ]
  },
  {
   "cell_type": "code",
   "execution_count": 14,
   "metadata": {},
   "outputs": [],
   "source": [
    "def backend_load_director():\n",
    "    # Set file path and name\n",
    "    relative_path = \"../Src/Assets/Data/Jc/\"\n",
    "    file_name = \"film_directeur.csv\"\n",
    "    full_path = relative_path + file_name\n",
    "    \n",
    "    # Read csv\n",
    "    temp_df = pd.read_csv(\n",
    "        filepath_or_buffer=full_path,\n",
    "        sep=',',\n",
    "        header=0\n",
    "    )\n",
    "    \n",
    "    return temp_df"
   ]
  },
  {
   "cell_type": "code",
   "execution_count": 15,
   "metadata": {},
   "outputs": [],
   "source": [
    "def backend_load_name():\n",
    "    # Set file path and name\n",
    "    relative_path = \"../Src/Assets/Data/Jc/\"\n",
    "    file_name = \"nom.csv\"\n",
    "    full_path = relative_path + file_name\n",
    "    \n",
    "    # Read csv\n",
    "    temp_df = pd.read_csv(\n",
    "        filepath_or_buffer=full_path,\n",
    "        sep=',',\n",
    "        header=0\n",
    "    )\n",
    "    \n",
    "    return temp_df"
   ]
  },
  {
   "cell_type": "code",
   "execution_count": 16,
   "metadata": {},
   "outputs": [],
   "source": [
    "def backend_load_realisator():\n",
    "    # Set file path and name\n",
    "    relative_path = \"../Src/Assets/Data/Jc/\"\n",
    "    file_name = \"film_realisateur.csv\"\n",
    "    full_path = relative_path + file_name\n",
    "    \n",
    "    # Read csv\n",
    "    temp_df = pd.read_csv(\n",
    "        filepath_or_buffer=full_path,\n",
    "        sep=',',\n",
    "        header=0\n",
    "    )\n",
    "    \n",
    "    return temp_df"
   ]
  },
  {
   "cell_type": "code",
   "execution_count": 17,
   "metadata": {},
   "outputs": [],
   "source": [
    "def backend_load_function():\n",
    "    # Set file path and name\n",
    "    relative_path = \"../Src/Assets/Data/Jc/\"\n",
    "    file_name = \"fonction.csv\"\n",
    "    full_path = relative_path + file_name\n",
    "    \n",
    "    # Read csv\n",
    "    temp_df = pd.read_csv(\n",
    "        filepath_or_buffer=full_path,\n",
    "        sep=',',\n",
    "        header=0\n",
    "    )\n",
    "    \n",
    "    return temp_df"
   ]
  },
  {
   "cell_type": "code",
   "execution_count": 18,
   "metadata": {},
   "outputs": [],
   "source": [
    "def backend_load_generic():\n",
    "    # Set file path and name\n",
    "    relative_path = \"../Src/Assets/Data/Jc/\"\n",
    "    file_name = \"film_generique.csv\"\n",
    "    full_path = relative_path + file_name\n",
    "    \n",
    "    # Read csv\n",
    "    temp_df = pd.read_csv(\n",
    "        filepath_or_buffer=full_path,\n",
    "        sep=',',\n",
    "        header=0\n",
    "    )\n",
    "    \n",
    "    return temp_df"
   ]
  },
  {
   "cell_type": "code",
   "execution_count": 19,
   "metadata": {},
   "outputs": [],
   "source": [
    "def backend_load_film_genre_category():\n",
    "    # Set file path and name\n",
    "    relative_path = \"../Src/Assets/Data/Jc/\"\n",
    "    file_name = \"film_genreCategorie.csv\"\n",
    "    full_path = relative_path + file_name\n",
    "    \n",
    "    # Read csv\n",
    "    temp_df = pd.read_csv(\n",
    "        filepath_or_buffer=full_path,\n",
    "        sep=',',\n",
    "        header=0\n",
    "    )\n",
    "    \n",
    "    return temp_df"
   ]
  },
  {
   "cell_type": "code",
   "execution_count": 20,
   "metadata": {},
   "outputs": [],
   "source": [
    "def backend_load_genre_category_wiki():\n",
    "    # Set file path and name\n",
    "    relative_path = \"../Src/Assets/Data/Jc/\"\n",
    "    file_name = \"genreCategorie_wikidata.csv\"\n",
    "    full_path = relative_path + file_name\n",
    "    \n",
    "    # Read csv\n",
    "    temp_df = pd.read_csv(\n",
    "        filepath_or_buffer=full_path,\n",
    "        sep=',',\n",
    "        header=0\n",
    "    )\n",
    "    \n",
    "    return temp_df"
   ]
  },
  {
   "cell_type": "code",
   "execution_count": 21,
   "metadata": {},
   "outputs": [],
   "source": [
    "def backend_load_film_genre():\n",
    "    # Set file path and name\n",
    "    relative_path = \"../Src/Assets/Data/Jc/\"\n",
    "    file_name = \"film_genre.csv\"\n",
    "    full_path = relative_path + file_name\n",
    "    \n",
    "    # Read csv\n",
    "    temp_df = pd.read_csv(\n",
    "        filepath_or_buffer=full_path,\n",
    "        sep=',',\n",
    "        header=0\n",
    "    )\n",
    "    \n",
    "    return temp_df"
   ]
  },
  {
   "cell_type": "code",
   "execution_count": 22,
   "metadata": {},
   "outputs": [],
   "source": [
    "def load_genre_hierarchy(): \n",
    "    # Set file path and name\n",
    "    relative_path = \"../Src/Assets/Data/Jc/\"\n",
    "    file_name = \"genre_hierarchie.csv\"\n",
    "    full_path = relative_path + file_name\n",
    "    \n",
    "     # Read csv\n",
    "    temp_df = pd.read_csv(\n",
    "        filepath_or_buffer=full_path,\n",
    "        sep=r'[\";]',\n",
    "        engine='python',\n",
    "        header=0,\n",
    "    )\n",
    "    \n",
    "    hierarchy_df = temp_df.drop(temp_df.columns[[0, -1]], axis=1)\n",
    "    hierarchy_df = hierarchy_df.fillna(value=\"\")\n",
    "\n",
    "    return hierarchy_df"
   ]
  },
  {
   "cell_type": "code",
   "execution_count": 23,
   "metadata": {},
   "outputs": [],
   "source": [
    "def set_dtype_to_int(x):\n",
    "    if x != np.nan:\n",
    "        return int(x)\n",
    "    else:\n",
    "         return x"
   ]
  },
  {
   "cell_type": "code",
   "execution_count": 24,
   "metadata": {},
   "outputs": [],
   "source": [
    "def set_dtype_to_str(x):\n",
    "    if x != np.nan:\n",
    "        return str(x)\n",
    "    else:\n",
    "         return x"
   ]
  },
  {
   "cell_type": "code",
   "execution_count": 25,
   "metadata": {},
   "outputs": [],
   "source": [
    "def strip_decimals_and_set_dtype_to_int(x):\n",
    "    if x != np.nan:\n",
    "        return str(x)\n",
    "    else:\n",
    "         return x"
   ]
  },
  {
   "cell_type": "code",
   "execution_count": 26,
   "metadata": {},
   "outputs": [],
   "source": [
    "def clean_film_df_after_load(df):\n",
    "    # Drop all columns but id, title, year\n",
    "    temp_df = df[['FilmoId','titreOriginal','anneeSortie']]\n",
    "    \n",
    "    # Convert columns to their right type\n",
    "    #temp_df['FilmoId'] = temp_df['FilmoId'].apply(lambda x: set_dtype_to_int(x))\n",
    "    #temp_df['titreOriginal'] = temp_df['titreOriginal'].apply(lambda x: set_dtype_to_str(x))\n",
    "    #temp_df['anneeSortie'] = temp_df['anneeSortie'].apply(lambda x: set_dtype_to_int(x))\n",
    "    \n",
    "    return temp_df"
   ]
  },
  {
   "cell_type": "code",
   "execution_count": 27,
   "metadata": {},
   "outputs": [],
   "source": [
    "def merge_film_and_generic(film_df, generic_df):\n",
    "    temp_df = pd.merge(\n",
    "        left=film_df,\n",
    "        right=generic_df,\n",
    "        how=\"left\",\n",
    "        left_on=\"FilmoId\",\n",
    "        right_on=\"filmoId\",\n",
    "        sort=True,\n",
    "        suffixes=(\"\", \"\")\n",
    "    )\n",
    "    \n",
    "    return temp_df"
   ]
  },
  {
   "cell_type": "code",
   "execution_count": 28,
   "metadata": {},
   "outputs": [],
   "source": [
    "def clean_film_df_after_merge_generic(df):\n",
    "    # Drop 'organismeId' and 'filmoId'\n",
    "    temp_df = df.drop(columns=['organismeId', 'filmoId'])\n",
    "    \n",
    "    return temp_df"
   ]
  },
  {
   "cell_type": "code",
   "execution_count": 29,
   "metadata": {},
   "outputs": [],
   "source": [
    "def merge_film_and_function(film_df, function_df):\n",
    "    temp_df = pd.merge(\n",
    "        left=film_df,\n",
    "        right=function_df,\n",
    "        how=\"left\",\n",
    "        left_on=\"fonctionId\",\n",
    "        right_on=\"FonctionId\",\n",
    "        sort=True,\n",
    "        suffixes=(\"\", \"\")\n",
    "    )\n",
    "    \n",
    "    return temp_df"
   ]
  },
  {
   "cell_type": "code",
   "execution_count": 30,
   "metadata": {},
   "outputs": [],
   "source": [
    "def clean_film_df_after_merge_function(df):\n",
    "    # Drop 'fonctionId' and 'FonctionId'\n",
    "    temp_df = df.drop(columns=['fonctionId', 'FonctionId'])\n",
    "    \n",
    "    # Rename 'terme' to 'fonction'\n",
    "    temp_df = temp_df.rename(columns={\"terme\": \"fonction\"})\n",
    "    \n",
    "    return temp_df"
   ]
  },
  {
   "cell_type": "code",
   "execution_count": 31,
   "metadata": {},
   "outputs": [],
   "source": [
    "def merge_film_and_name(film_df, name_df):\n",
    "    temp_df = pd.merge(\n",
    "        left=film_df,\n",
    "        right=name_df,\n",
    "        how=\"left\",\n",
    "        left_on=\"nomId\",\n",
    "        right_on=\"NomId\",\n",
    "        sort=True,\n",
    "        suffixes=(\"\", \"\")\n",
    "    )\n",
    "    \n",
    "    return temp_df"
   ]
  },
  {
   "cell_type": "code",
   "execution_count": 32,
   "metadata": {},
   "outputs": [],
   "source": [
    "def clean_film_df_after_merge_name(df):\n",
    "    # Drop 'nomId' and 'NomId'\n",
    "    temp_df = df.drop(columns=['nomId', 'NomId'])\n",
    "    \n",
    "    # Add a combined first name and last name column\n",
    "    temp_df['nomComplet'] = temp_df['prenom'] + \" \" + temp_df['nom']\n",
    "    \n",
    "    return temp_df"
   ]
  },
  {
   "cell_type": "code",
   "execution_count": 33,
   "metadata": {},
   "outputs": [],
   "source": [
    "def merge_film_and_film_language(film_df, film_language_df):\n",
    "    temp_df = pd.merge(\n",
    "        left=film_df,\n",
    "        right=film_language_df,\n",
    "        how=\"left\",\n",
    "        left_on=\"FilmoId\",\n",
    "        right_on=\"filmoId\",\n",
    "        sort=True,\n",
    "        suffixes=(\"\", \"\")\n",
    "    )\n",
    "    \n",
    "    return temp_df"
   ]
  },
  {
   "cell_type": "code",
   "execution_count": 34,
   "metadata": {},
   "outputs": [],
   "source": [
    "def clean_film_df_after_merge_film_language(df):\n",
    "    # Drop 'filmoId' \n",
    "    temp_df = df.drop(columns=['filmoId'])\n",
    "    \n",
    "    return temp_df"
   ]
  },
  {
   "cell_type": "code",
   "execution_count": 35,
   "metadata": {},
   "outputs": [],
   "source": [
    "def merge_film_and_language(film_df, language_df):\n",
    "    temp_df = pd.merge(\n",
    "        left=film_df,\n",
    "        right=language_df,\n",
    "        how=\"left\",\n",
    "        left_on=\"langueId\",\n",
    "        right_on=\"LangueId\",\n",
    "        sort=True,\n",
    "        suffixes=(\"\", \"\")\n",
    "    )\n",
    "    \n",
    "    return temp_df"
   ]
  },
  {
   "cell_type": "code",
   "execution_count": 36,
   "metadata": {},
   "outputs": [],
   "source": [
    "def clean_film_df_after_merge_language(df):\n",
    "    # Drop 'langueId' and 'LangueId' \n",
    "    temp_df = df.drop(columns=['langueId', 'LangueId'])\n",
    "    \n",
    "    # Rename 'terme' to 'langue'\n",
    "    temp_df = temp_df.rename(columns={\"terme\": \"langue\"})\n",
    "    \n",
    "    return temp_df"
   ]
  },
  {
   "cell_type": "code",
   "execution_count": 37,
   "metadata": {},
   "outputs": [],
   "source": [
    "def merge_film_and_film_country(film_df, film_country_df):\n",
    "    temp_df = pd.merge(\n",
    "        left=film_df,\n",
    "        right=film_country_df,\n",
    "        how=\"left\",\n",
    "        left_on=\"FilmoId\",\n",
    "        right_on=\"filmoId\",\n",
    "        sort=True,\n",
    "        suffixes=(\"\", \"\")\n",
    "    )\n",
    "    \n",
    "    return temp_df"
   ]
  },
  {
   "cell_type": "code",
   "execution_count": 38,
   "metadata": {},
   "outputs": [],
   "source": [
    "def clean_film_df_after_merge_film_country(df):\n",
    "    # Drop 'filmoId' \n",
    "    temp_df = df.drop(columns=['filmoId'])\n",
    "    \n",
    "    return temp_df"
   ]
  },
  {
   "cell_type": "code",
   "execution_count": 39,
   "metadata": {},
   "outputs": [],
   "source": [
    "def merge_film_and_country(film_df, country_df):\n",
    "    temp_df = pd.merge(\n",
    "        left=film_df,\n",
    "        right=country_df,\n",
    "        how=\"left\",\n",
    "        left_on=\"paysId\",\n",
    "        right_on=\"PaysId\",\n",
    "        sort=True,\n",
    "        suffixes=(\"\", \"\")\n",
    "    )\n",
    "    \n",
    "    return temp_df"
   ]
  },
  {
   "cell_type": "code",
   "execution_count": 40,
   "metadata": {},
   "outputs": [],
   "source": [
    "def clean_film_df_after_merge_country(df):\n",
    "    # Drop 'paysId' and 'PaysId' \n",
    "    temp_df = df.drop(columns=['paysId', 'PaysId'])\n",
    "    \n",
    "    # Rename 'terme' to 'pays'\n",
    "    temp_df = temp_df.rename(columns={\"terme\": \"pays\"})\n",
    "    \n",
    "    return temp_df"
   ]
  },
  {
   "cell_type": "code",
   "execution_count": 41,
   "metadata": {},
   "outputs": [],
   "source": [
    "def merge_film_and_continent(film_df, continent_df):\n",
    "    temp_df = pd.merge(\n",
    "        left=film_df,\n",
    "        right=continent_df,\n",
    "        how=\"left\",\n",
    "        left_on=\"pays\",\n",
    "        right_on=\"pays\",\n",
    "        sort=True,\n",
    "        suffixes=(\"\", \"\")\n",
    "    )\n",
    "    \n",
    "    return temp_df"
   ]
  },
  {
   "cell_type": "code",
   "execution_count": 42,
   "metadata": {},
   "outputs": [],
   "source": [
    "def clean_film_df_after_merge_continent(df):\n",
    "    # Drop none\n",
    "    temp_df = df\n",
    "    \n",
    "    return temp_df"
   ]
  },
  {
   "cell_type": "code",
   "execution_count": 43,
   "metadata": {},
   "outputs": [],
   "source": [
    "def add_constant_column(df, col_name, const_name):\n",
    "    # Create a copy of the given df\n",
    "    temp_df = df.copy()\n",
    "    \n",
    "    # Add the constant col with the given name\n",
    "    temp_df[col_name] = const_name\n",
    "    \n",
    "    return temp_df"
   ]
  },
  {
   "cell_type": "code",
   "execution_count": 44,
   "metadata": {},
   "outputs": [],
   "source": [
    "def merge_film_and_film_genre_category(film_df, film_genre_category_df):\n",
    "    temp_df = pd.merge(\n",
    "        left=film_df,\n",
    "        right=film_genre_category_df,\n",
    "        how=\"left\",\n",
    "        left_on=\"FilmoId\",\n",
    "        right_on=\"filmoId\",\n",
    "        sort=True,\n",
    "        suffixes=(\"\", \"\")\n",
    "    )\n",
    "    \n",
    "    return temp_df"
   ]
  },
  {
   "cell_type": "code",
   "execution_count": 45,
   "metadata": {},
   "outputs": [],
   "source": [
    "def clean_film_df_after_merge_film_genre_category(df):\n",
    "    # Drop 'filmoId', 'FilmoGenresCategoriesID'\n",
    "    temp_df = df.drop(columns=['filmoId', 'FilmoGenresCategoriesID'])\n",
    "    \n",
    "    return temp_df"
   ]
  },
  {
   "cell_type": "code",
   "execution_count": 46,
   "metadata": {},
   "outputs": [],
   "source": [
    "def merge_film_and_genre_category_wiki(film_df, genre_category_wiki_df):\n",
    "    temp_df = pd.merge(\n",
    "        left=film_df,\n",
    "        right=genre_category_wiki_df,\n",
    "        how=\"left\",\n",
    "        left_on=\"sujetId\",\n",
    "        right_on=\"sujetId\",\n",
    "        sort=True,\n",
    "        suffixes=(\"\", \"\")\n",
    "    )\n",
    "    \n",
    "    return temp_df"
   ]
  },
  {
   "cell_type": "code",
   "execution_count": 47,
   "metadata": {},
   "outputs": [],
   "source": [
    "def clean_film_df_after_merge_genre_category_wiki(df):\n",
    "    # Drop 'sujetId' and \n",
    "    temp_df = df.drop(columns=['sujetId'])\n",
    "    \n",
    "    return temp_df"
   ]
  },
  {
   "cell_type": "code",
   "execution_count": 48,
   "metadata": {},
   "outputs": [],
   "source": [
    "def preprocess_film_genre(df):\n",
    "    temp_df=df[['genre', 'genreLabel']]\n",
    "    temp_df=temp_df.drop_duplicates()\n",
    "    \n",
    "    return temp_df"
   ]
  },
  {
   "cell_type": "code",
   "execution_count": 49,
   "metadata": {},
   "outputs": [],
   "source": [
    "def merge_film_and_film_genre(film_df, film_genre_df):\n",
    "    temp_df = pd.merge(\n",
    "        left=film_df,\n",
    "        right=film_genre_df,\n",
    "        how=\"left\",\n",
    "        left_on=\"lienWikidata\",\n",
    "        right_on=\"genre\",\n",
    "        sort=True,\n",
    "        suffixes=(\"\", \"\")\n",
    "    )\n",
    "    \n",
    "    return temp_df"
   ]
  },
  {
   "cell_type": "code",
   "execution_count": 50,
   "metadata": {
    "tags": []
   },
   "outputs": [],
   "source": [
    "def clean_film_df_after_merge_film_genre(df):\n",
    "    # Drop 'lienWikidata', 'genre'\n",
    "    temp_df = df.drop(columns=['lienWikidata', 'genre'])\n",
    "      \n",
    "    return temp_df"
   ]
  },
  {
   "cell_type": "code",
   "execution_count": 51,
   "metadata": {},
   "outputs": [],
   "source": [
    "def merge_film_and_genre_hierarchy(film_df, genre_hierearchy_df):\n",
    "    temp_df = pd.merge(\n",
    "        left=film_df,\n",
    "        right=genre_hierearchy_df,\n",
    "        how=\"left\",\n",
    "        left_on=\"genreLabel\",\n",
    "        right_on=\"data\",\n",
    "        sort=True,\n",
    "        suffixes=(\"\", \"\")\n",
    "    )\n",
    "    \n",
    "    return temp_df"
   ]
  },
  {
   "cell_type": "code",
   "execution_count": 52,
   "metadata": {
    "tags": []
   },
   "outputs": [],
   "source": [
    "def clean_film_df_after_merge_genre_hierarchy(df):\n",
    "    # Drop 'data'\n",
    "    temp_df = df.drop(columns=['data'])\n",
    "    \n",
    "    # Rename 'genreLabel', 'subgenre_0, subgenre_1'\n",
    "    temp_df = temp_df.rename(columns={\n",
    "        \"genreLabel\": \"genreIdentifiant\",\n",
    "        \"subgenre_0\": \"sousGenre0\",\n",
    "        \"subgenre_1\": \"sousGenre1\"\n",
    "    })\n",
    "    \n",
    "    return temp_df"
   ]
  },
  {
   "cell_type": "code",
   "execution_count": 53,
   "metadata": {},
   "outputs": [],
   "source": [
    "# Load film_df\n",
    "film_df = backend_load_film()\n",
    "\n",
    "# Clean film_df\n",
    "film_df = clean_film_df_after_load(df=film_df)\n",
    "\n",
    "\n",
    "# Load generic_df\n",
    "generic_df = backend_load_generic()\n",
    "\n",
    "# Merge film_df and generic_df\n",
    "film_df = merge_film_and_generic(film_df=film_df, generic_df=generic_df)\n",
    "\n",
    "# Clean film_df after merge with generic_df\n",
    "film_df = clean_film_df_after_merge_generic(df=film_df)\n",
    "\n",
    "# Clear memory space\n",
    "del generic_df\n",
    "\n",
    "\n",
    "# Load function_df\n",
    "function_df = backend_load_function()\n",
    "\n",
    "# Merge film_df and function_df\n",
    "film_df = merge_film_and_function(film_df=film_df, function_df=function_df)\n",
    "\n",
    "# Clean film_df after merge with function_df\n",
    "film_df = clean_film_df_after_merge_function(df=film_df)\n",
    "\n",
    "# Clear memory space\n",
    "del function_df\n",
    "\n",
    "\n",
    "# Load name_df\n",
    "name_df = backend_load_name()\n",
    "\n",
    "# Merge film_df and name_df\n",
    "film_df = merge_film_and_name(film_df=film_df, name_df=name_df)\n",
    "\n",
    "# Clean film_df after merge with name_df\n",
    "film_df = clean_film_df_after_merge_name(df=film_df)\n",
    "\n",
    "# Clear memory space\n",
    "del name_df\n",
    "\n",
    "\n",
    "# Load film_language_df\n",
    "film_language_df = backend_load_film_language()\n",
    "\n",
    "# Merge film_df and film_langue_df\n",
    "film_df = merge_film_and_film_language(film_df=film_df, film_language_df=film_language_df)\n",
    "\n",
    "# Clean film_df after merge with film_langue_df\n",
    "film_df = clean_film_df_after_merge_film_language(df=film_df)\n",
    "\n",
    "# Clear memory space\n",
    "del film_language_df\n",
    "\n",
    "\n",
    "# Load language_df\n",
    "language_df = backend_load_language()\n",
    "\n",
    "# Merge film_df and language_df\n",
    "film_df = merge_film_and_language(film_df=film_df, language_df=language_df)\n",
    "\n",
    "# Clean film_df after merge with language_df\n",
    "film_df = clean_film_df_after_merge_language(df=film_df)\n",
    "\n",
    "# Clear memory space\n",
    "del language_df\n",
    "\n",
    "\n",
    "# Load film_country_df\n",
    "film_country_df = backend_load_film_country()\n",
    "\n",
    "# Merge film_df and film_pays_df\n",
    "film_df = merge_film_and_film_country(film_df=film_df, film_country_df=film_country_df)\n",
    "\n",
    "# Clean film_df after merge with film_country_df\n",
    "film_df = clean_film_df_after_merge_film_country(df=film_df)\n",
    "\n",
    "# Clear memory space\n",
    "del film_country_df\n",
    "\n",
    "\n",
    "# Load country_df\n",
    "country_df = backend_load_country()\n",
    "\n",
    "# Merge film_df and film_pays_df\n",
    "film_df = merge_film_and_country(film_df=film_df, country_df=country_df)\n",
    "\n",
    "# Clean film_df after merge with country_df\n",
    "film_df = clean_film_df_after_merge_country(df=film_df)\n",
    "\n",
    "# Clear memory space\n",
    "del country_df\n",
    "\n",
    "\n",
    "# Load continent_df\n",
    "continent_df = backend_load_continent()\n",
    "\n",
    "# Merge film_df and film_pays_df\n",
    "film_df = merge_film_and_continent(film_df=film_df, continent_df=continent_df)\n",
    "\n",
    "# Clean film_df after merge with continent_df\n",
    "film_df = clean_film_df_after_merge_continent(df=film_df)\n",
    "\n",
    "# Clear memory space\n",
    "del continent_df\n",
    "\n",
    "\n",
    "# Add planete column\n",
    "film_df = add_constant_column(df=film_df, col_name='planete', const_name='Terre')\n",
    "\n",
    "\n",
    "# Load film_genre_category_df\n",
    "film_genre_category_df = backend_load_film_genre_category()\n",
    "\n",
    "# Merge film_df and film_genre_category_df\n",
    "film_df = merge_film_and_film_genre_category(film_df=film_df, film_genre_category_df=film_genre_category_df)\n",
    "\n",
    "# Clean film_df after merge with film_genre_category_df\n",
    "film_df = clean_film_df_after_merge_film_genre_category(df=film_df)\n",
    "\n",
    "# Clear memory space\n",
    "del film_genre_category_df\n",
    "\n",
    "\n",
    "# Load genre_category_wiki_df\n",
    "genre_category_wiki_df = backend_load_genre_category_wiki()\n",
    "\n",
    "# Merge film_df and genre_category_wiki_df\n",
    "film_df = merge_film_and_genre_category_wiki(film_df=film_df, genre_category_wiki_df=genre_category_wiki_df)\n",
    "\n",
    "# Clean film_df after merge with genre_category_wiki_df\n",
    "film_df = clean_film_df_after_merge_genre_category_wiki(df=film_df)\n",
    "\n",
    "# Clear memory space\n",
    "del genre_category_wiki_df\n",
    "\n",
    "\n",
    "# Load film_genre_df\n",
    "film_genre_df = backend_load_film_genre()\n",
    "\n",
    "# Preprocess film_genre_df\n",
    "film_genre_df = preprocess_film_genre(df=film_genre_df)\n",
    "\n",
    "# Merge film_df and film_genre_df\n",
    "film_df = merge_film_and_film_genre(film_df=film_df, film_genre_df=film_genre_df)\n",
    "\n",
    "# Clean film_df after merge with film_genre_df\n",
    "film_df = clean_film_df_after_merge_film_genre(df=film_df)\n",
    "\n",
    "# Clear memory space\n",
    "del film_genre_df\n",
    "\n",
    "\n",
    "# Load genre_hierearchy_df\n",
    "genre_hierearchy_df = load_genre_hierarchy()\n",
    "\n",
    "# Merge film_df and genre_hierearchy_df\n",
    "film_df = merge_film_and_genre_hierarchy(film_df=film_df, genre_hierearchy_df=genre_hierearchy_df)\n",
    "\n",
    "# Clean film_df after merge with genre_hierearchy_df\n",
    "film_df = clean_film_df_after_merge_genre_hierarchy(df=film_df)\n",
    "\n",
    "# Clear memory space\n",
    "del genre_hierearchy_df\n"
   ]
  },
  {
   "cell_type": "code",
   "execution_count": 54,
   "metadata": {},
   "outputs": [],
   "source": [
    "def clean_year_column(df):\n",
    "    temp_df = df.dropna(subset=['anneeSortie'])\n",
    "    temp_df = temp_df.astype({'anneeSortie': 'int'})\n",
    "    temp_df = temp_df[temp_df['anneeSortie']<=datetime.datetime.now().year]\n",
    "    \n",
    "    return temp_df"
   ]
  },
  {
   "cell_type": "code",
   "execution_count": 55,
   "metadata": {},
   "outputs": [],
   "source": [
    "def capitalize_first_letter_first_word(df, col_name):\n",
    "    temp_df = df.copy()\n",
    "    temp_df[col_name] = temp_df[col_name].apply(str.capitalize)\n",
    "\n",
    "    return temp_df"
   ]
  },
  {
   "cell_type": "code",
   "execution_count": 56,
   "metadata": {},
   "outputs": [],
   "source": [
    "def capitalize_first_letter_all_words(df, col_name):\n",
    "    temp_df = df.copy()\n",
    "    temp_df[col_name] = temp_df[col_name].apply(str.title)\n",
    "    \n",
    "    return temp_df"
   ]
  },
  {
   "cell_type": "code",
   "execution_count": 57,
   "metadata": {},
   "outputs": [],
   "source": [
    "def clean_str_column(df, col_name):\n",
    "    temp_df = df.copy()\n",
    "    temp_df[col_name] = (temp_df[col_name]\n",
    "        .apply(lambda x: str.capitalize(x) if isinstance(x, str) else str(\"\"))\n",
    "    )\n",
    "    \n",
    "    return temp_df"
   ]
  },
  {
   "cell_type": "code",
   "execution_count": 58,
   "metadata": {},
   "outputs": [],
   "source": [
    "def clean_film_df_columns(film_df):\n",
    "    \n",
    "    # Clean year column\n",
    "    temp_df = clean_year_column(df=film_df)\n",
    "    \n",
    "    # clean str columns\n",
    "    temp_df = clean_str_column(df=temp_df, col_name='titreOriginal')\n",
    "    temp_df = clean_str_column(df=temp_df, col_name='fonction')\n",
    "    temp_df = clean_str_column(df=temp_df, col_name='nom')\n",
    "    temp_df = clean_str_column(df=temp_df, col_name='prenom')\n",
    "    temp_df = clean_str_column(df=temp_df, col_name='nomComplet')\n",
    "    temp_df = clean_str_column(df=temp_df, col_name='langue')\n",
    "    temp_df = clean_str_column(df=temp_df, col_name='pays')\n",
    "    temp_df = clean_str_column(df=temp_df, col_name='continent')\n",
    "    temp_df = clean_str_column(df=temp_df, col_name='capitale')\n",
    "    temp_df = clean_str_column(df=temp_df, col_name='planete')\n",
    "    temp_df = clean_str_column(df=temp_df, col_name='genreIdentifiant')\n",
    "    temp_df = clean_str_column(df=temp_df, col_name='genre')\n",
    "    temp_df = clean_str_column(df=temp_df, col_name='sousGenre0')\n",
    "    temp_df = clean_str_column(df=temp_df, col_name='sousGenre1')\n",
    "    \n",
    "    # capitalize \n",
    "    temp_df = capitalize_first_letter_all_words(df=temp_df, col_name='titreOriginal')\n",
    "    temp_df = capitalize_first_letter_all_words(df=temp_df, col_name='sousGenre0')\n",
    "    temp_df = capitalize_first_letter_all_words(df=temp_df, col_name='sousGenre1')\n",
    "    \n",
    "    return temp_df"
   ]
  },
  {
   "cell_type": "code",
   "execution_count": 59,
   "metadata": {},
   "outputs": [],
   "source": [
    "#film_df = clean_film_df_columns(film_df=film_df)"
   ]
  },
  {
   "cell_type": "code",
   "execution_count": 60,
   "metadata": {},
   "outputs": [],
   "source": [
    "#dff = film_df[film_df['nom']==\"Aznavour\"]"
   ]
  },
  {
   "cell_type": "code",
   "execution_count": 61,
   "metadata": {},
   "outputs": [],
   "source": [
    "#dff.drop_duplicates(subset=['titreOriginal'], keep='first')"
   ]
  },
  {
   "cell_type": "code",
   "execution_count": 62,
   "metadata": {},
   "outputs": [],
   "source": [
    "#display(film_df)"
   ]
  },
  {
   "cell_type": "code",
   "execution_count": 63,
   "metadata": {},
   "outputs": [],
   "source": [
    "def export_master_film_df(film_df):\n",
    "    # Set file path and name\n",
    "    relative_path = \"../Src/Assets/Data/Jc/\"\n",
    "    file_name = \"film_vsMaitre.csv\"\n",
    "    full_path = relative_path + file_name\n",
    "    \n",
    "    # Write csv\n",
    "    temp_df = film_df.to_csv(\n",
    "        path_or_buf=full_path,\n",
    "        sep=',',\n",
    "        index=False\n",
    "    )\n",
    "    \n",
    "    return"
   ]
  },
  {
   "cell_type": "code",
   "execution_count": 64,
   "metadata": {},
   "outputs": [],
   "source": [
    "export_master_film_df(film_df=film_df)"
   ]
  },
  {
   "cell_type": "code",
   "execution_count": null,
   "metadata": {},
   "outputs": [],
   "source": []
  }
 ],
 "metadata": {
  "kernelspec": {
   "display_name": "Python 3",
   "language": "python",
   "name": "python3"
  },
  "language_info": {
   "codemirror_mode": {
    "name": "ipython",
    "version": 3
   },
   "file_extension": ".py",
   "mimetype": "text/x-python",
   "name": "python",
   "nbconvert_exporter": "python",
   "pygments_lexer": "ipython3",
   "version": "3.8.8"
  }
 },
 "nbformat": 4,
 "nbformat_minor": 4
}
