{
 "cells": [
  {
   "cell_type": "markdown",
   "metadata": {},
   "source": [
    "# Équipe 7\n",
    "## Notebook de Jean-Christophe"
   ]
  },
  {
   "cell_type": "code",
   "execution_count": 1,
   "metadata": {},
   "outputs": [],
   "source": [
    "import numpy as np\n",
    "import pandas as pd\n",
    "import datetime"
   ]
  },
  {
   "cell_type": "markdown",
   "metadata": {},
   "source": [
    "## Load data"
   ]
  },
  {
   "cell_type": "markdown",
   "metadata": {},
   "source": [
    "### Sunburst"
   ]
  },
  {
   "cell_type": "code",
   "execution_count": 6,
   "metadata": {},
   "outputs": [],
   "source": [
    "def load_genre_hierarchy():\n",
    "    # Set file path and name\n",
    "    relative_path = \"../Src/Assets/Data/\"\n",
    "    file_name = \"genres_hierarchy.csv\"\n",
    "    full_path = relative_path + file_name\n",
    "    \n",
    "    temp_df = pd.read_csv(\n",
    "        filepath_or_buffer=full_path,\n",
    "        sep=r'[\";]',\n",
    "        engine='python',\n",
    "        header=0,\n",
    "    )\n",
    "    \n",
    "    temp_df = temp_df.drop(temp_df.columns[[0, -1]], axis=1)\n",
    "    temp_df = temp_df.fillna(value=\"\")\n",
    "\n",
    "    return temp_df"
   ]
  },
  {
   "cell_type": "markdown",
   "metadata": {},
   "source": [
    "### Treemap "
   ]
  },
  {
   "cell_type": "code",
   "execution_count": 7,
   "metadata": {},
   "outputs": [],
   "source": [
    "def load_film_genres():\n",
    "    # Set file path and name\n",
    "    relative_path = \"../Src/Assets/Data/\"\n",
    "    file_name = \"_film_genres.csv\"\n",
    "    full_path = relative_path + file_name\n",
    "    \n",
    "    # Read csv\n",
    "    temp_df = pd.read_csv(\n",
    "        filepath_or_buffer=full_path,\n",
    "        sep=',',\n",
    "        header=0,\n",
    "        index_col=None,\n",
    "        parse_dates=True,\n",
    "    )\n",
    "    \n",
    "    return temp_df"
   ]
  },
  {
   "cell_type": "code",
   "execution_count": 8,
   "metadata": {},
   "outputs": [],
   "source": [
    "def load_film_countries():\n",
    "    # Set file path and name\n",
    "    relative_path = \"../Src/Assets/Data/\"\n",
    "    file_name = \"_film_pays.csv\"\n",
    "    full_path = relative_path + file_name\n",
    "    \n",
    "    # Read csv\n",
    "    temp_df = pd.read_csv(\n",
    "        filepath_or_buffer=full_path,\n",
    "        sep=',',\n",
    "        header=0,\n",
    "        index_col=None,\n",
    "        parse_dates=True,\n",
    "    )\n",
    "    \n",
    "    return temp_df"
   ]
  },
  {
   "cell_type": "code",
   "execution_count": 9,
   "metadata": {},
   "outputs": [],
   "source": [
    "def load_film_languages():\n",
    "    # Set file path and name\n",
    "    relative_path = \"../Src/Assets/Data/\"\n",
    "    file_name = \"_film_langue.csv\"\n",
    "    full_path = relative_path + file_name\n",
    "    \n",
    "    # Read csv\n",
    "    temp_df = pd.read_csv(\n",
    "        filepath_or_buffer=full_path,\n",
    "        sep=',',\n",
    "        header=0,\n",
    "        index_col=None,\n",
    "        parse_dates=True,\n",
    "    )\n",
    "    \n",
    "    return temp_df"
   ]
  },
  {
   "cell_type": "code",
   "execution_count": 10,
   "metadata": {},
   "outputs": [],
   "source": [
    "def load_capital_by_countries_by_continent():\n",
    "    # Set file path and name\n",
    "    relative_path = \"../Src/Assets/Data/\"\n",
    "    file_name = \"pays_vsParContinent_vsFrancais.csv\"\n",
    "    full_path = relative_path + file_name\n",
    "    \n",
    "    # Read csv\n",
    "    temp_df = pd.read_csv(\n",
    "        filepath_or_buffer=full_path,\n",
    "        sep=',',\n",
    "        header=0,\n",
    "        index_col=None,\n",
    "        parse_dates=True,\n",
    "    )\n",
    "    \n",
    "    return temp_df"
   ]
  },
  {
   "cell_type": "code",
   "execution_count": 11,
   "metadata": {},
   "outputs": [],
   "source": [
    "def merge_on_countries(df1, df2):\n",
    "    temp_df = pd.merge(\n",
    "        left=df1,\n",
    "        right=df2,\n",
    "        how=\"left\",\n",
    "        left_on=\"pays\",\n",
    "        right_on=\"pays\",\n",
    "        sort=True,\n",
    "        suffixes=(\"\", \"\"),\n",
    "    )\n",
    "    \n",
    "    return temp_df"
   ]
  },
  {
   "cell_type": "code",
   "execution_count": 12,
   "metadata": {},
   "outputs": [],
   "source": [
    "def merge_on_film_id(df1, df2):\n",
    "    temp_df = pd.merge(\n",
    "        left=temp,\n",
    "        right=df_film_langues,\n",
    "        how=\"left\",\n",
    "        left_on=\"filmoId\",\n",
    "        right_on=\"filmoId\",\n",
    "        sort=True,\n",
    "        suffixes=(\"\", \"\"),\n",
    "    )\n",
    "    \n",
    "    return temp_df"
   ]
  },
  {
   "cell_type": "code",
   "execution_count": null,
   "metadata": {},
   "outputs": [],
   "source": []
  },
  {
   "cell_type": "code",
   "execution_count": null,
   "metadata": {},
   "outputs": [],
   "source": []
  },
  {
   "cell_type": "markdown",
   "metadata": {},
   "source": [
    "## Clean data"
   ]
  },
  {
   "cell_type": "code",
   "execution_count": null,
   "metadata": {},
   "outputs": [],
   "source": [
    "def clean_common_df(df):\n",
    "    \n",
    "    # Specify columns relevant for each viz - Don't wory about duplicates\n",
    "    col_for_sunburn = []\n",
    "    col_for_treemap = [\"anneeSortie\", \"continent\", \"pays\", \"capitale\", \"langue\", \"filmoId\", \"titreOriginal\", \"genres_categorized\"]\n",
    "    \n",
    "    # Put all lists together \n",
    "    cols = (\n",
    "        col_for_sunburn +\n",
    "        col_for_treemap + \n",
    "        col_for_table\n",
    "    )\n",
    "    \n",
    "    # Drop duplicates\n",
    "    cols = list(set(cols))\n",
    "    \n",
    "    # Create a dict for the new names\n",
    "    new_col_names={\n",
    "        \"anneeSortie\": \"annee\",\n",
    "        \"filmoId\": \"id\", \n",
    "        \"titreOriginal\": \"titre\",\n",
    "        \"genres_categorized\": \"genre\"\n",
    "    }\n",
    "    \n",
    "    # Select relevant columns\n",
    "    temp_df = df[cols]\n",
    "    \n",
    "    # Rename the columns\n",
    "    temp_df = temp_df.rename(columns=new_col_names)\n",
    "    \n",
    "    return temp_df"
   ]
  },
  {
   "cell_type": "code",
   "execution_count": null,
   "metadata": {},
   "outputs": [],
   "source": [
    "def capitalize_first_letter_first_word(df, col_name):\n",
    "    temp_df = df.copy()\n",
    "    temp_df[col_name] = temp_df[col_name].apply(str.capitalize)\n",
    "\n",
    "    return temp_df"
   ]
  },
  {
   "cell_type": "code",
   "execution_count": null,
   "metadata": {},
   "outputs": [],
   "source": [
    "def capitalize_first_letter_all_words(df, col_name):\n",
    "    temp_df = df.copy()\n",
    "    temp_df[col_name] = temp_df[col_name].apply(str.title)\n",
    "    \n",
    "    return temp_df"
   ]
  },
  {
   "cell_type": "markdown",
   "metadata": {},
   "source": [
    "### Sunburst"
   ]
  },
  {
   "cell_type": "code",
   "execution_count": 5,
   "metadata": {},
   "outputs": [],
   "source": [
    "def clean_genre_hierarchy(df):\n",
    "    temp_df = capitalize_first_letter_all_words(df=df, col_name='subgenre_0')\n",
    "    temp_df = capitalize_first_letter_all_words(df=temp_df, col_name='subgenre_1')"
   ]
  },
  {
   "cell_type": "markdown",
   "metadata": {},
   "source": [
    "### Treemap"
   ]
  },
  {
   "cell_type": "code",
   "execution_count": 2,
   "metadata": {},
   "outputs": [],
   "source": [
    "def clean_year_column(df):\n",
    "    # Capture the lenght before dropping\n",
    "    initial_length = len(df)\n",
    "    \n",
    "    # Drop movies for which no date is available\n",
    "    temp_df = df.dropna(subset=['annee'])\n",
    "    \n",
    "    # Capture the lenght after dropping\n",
    "    after_drop_length = len(temp_df)\n",
    "    \n",
    "    # Cast years to type int\n",
    "    temp_df = temp_df.astype({'annee': 'int'})\n",
    "    \n",
    "    # Filter movies for which date is greater than now\n",
    "    temp_df = temp_df[temp_df['annee']<=datetime.datetime.now().year]\n",
    "    \n",
    "    # Capture the length after filtering\n",
    "    after_filter_length = len(temp_df)\n",
    "    \n",
    "    # Compute length deltas\n",
    "    count_dropped_no_year = initial_length - after_drop_length\n",
    "    count_filtered_year_greater_now = after_drop_length - after_filter_length\n",
    "    \n",
    "    return temp_df, count_dropped_no_year, count_filtered_year_greater_now"
   ]
  },
  {
   "cell_type": "code",
   "execution_count": 3,
   "metadata": {},
   "outputs": [],
   "source": [
    "def clean_genre_column(df):\n",
    "    # Capture the lenght before dropping\n",
    "    initial_length = len(df)\n",
    "\n",
    "    # Drop movies for which no genre is available\n",
    "    temp_df = df.dropna(subset=['genre'])\n",
    "    \n",
    "    # Capture the lenght after dropping\n",
    "    after_drop_length = len(temp_df)\n",
    "    \n",
    "    # Cast genres to type str\n",
    "    temp_df = temp_df.astype({'genre': 'str'})\n",
    "    \n",
    "    # Capitalize the first letter of the genres\n",
    "    temp_df = capitalize_first_letter_first_word(df=temp_df, col_name='genre')\n",
    "    \n",
    "    # Compute length deltas\n",
    "    count_dropped_no_genre = initial_length - after_drop_length\n",
    "    \n",
    "    return temp_df, count_dropped_no_genre"
   ]
  },
  {
   "cell_type": "code",
   "execution_count": 4,
   "metadata": {},
   "outputs": [],
   "source": [
    "def clean_title_column(df):\n",
    "    # Capture the lenght before dropping\n",
    "    initial_length = len(df)\n",
    "\n",
    "    # Drop movies for which no title is available\n",
    "    temp_df = df.dropna(subset=['titre'])\n",
    "    \n",
    "    # Capture the lenght after dropping\n",
    "    after_drop_length = len(temp_df)\n",
    "    \n",
    "    # Cast titles to type str\n",
    "    temp_df = temp_df.astype({'titre': 'str'})\n",
    "    \n",
    "    \n",
    "    # Capitalize the first letter of the titles\n",
    "    temp_df = capitalize_first_letter_first_word(df=temp_df, col_name='titre')\n",
    "    \n",
    "    # Compute length deltas\n",
    "    count_dropped_no_title = initial_length - after_drop_length\n",
    "    \n",
    "    return temp, count_dropped_no_title"
   ]
  },
  {
   "cell_type": "code",
   "execution_count": 8,
   "metadata": {},
   "outputs": [],
   "source": [
    "def add_constant_column(df, col_name, const_name):\n",
    "    # Create a copy of the given df\n",
    "    temp_df = df.copy()\n",
    "    \n",
    "    # Add the constant col with the given name\n",
    "    temp_df[col_name] = const_name\n",
    "    \n",
    "    return temp_df"
   ]
  },
  {
   "cell_type": "markdown",
   "metadata": {
    "tags": []
   },
   "source": [
    "### Table"
   ]
  },
  {
   "cell_type": "code",
   "execution_count": 21,
   "metadata": {},
   "outputs": [],
   "source": [
    "def clean_language_column(df):\n",
    "    temp = df.copy()\n",
    "    temp['langue'] = (temp['langue']\n",
    "        .apply(lambda x: str.capitalize(x) if isinstance(x, str) else x)\n",
    "    )\n",
    "    \n",
    "    return temp"
   ]
  },
  {
   "cell_type": "code",
   "execution_count": 18,
   "metadata": {},
   "outputs": [],
   "source": [
    "def round_decimals(df, n):\n",
    "    temp_df = df.round(decimals=n)\n",
    "    \n",
    "    return temp_df"
   ]
  },
  {
   "cell_type": "code",
   "execution_count": 20,
   "metadata": {},
   "outputs": [],
   "source": [
    "def drop_duplicated_movies(df):\n",
    "    subset=['annee', 'continent', 'pays', 'capitale', 'langue', 'id', 'titre']\n",
    "    temp = df.drop_duplicates(subset=subset, keep='first')\n",
    "    \n",
    "    return temp"
   ]
  },
  {
   "cell_type": "code",
   "execution_count": 2,
   "metadata": {},
   "outputs": [],
   "source": [
    "def replace_non_top_languages(x):\n",
    "    if x in top_n_languages:\n",
    "        return x\n",
    "    else:\n",
    "         return 'autres' "
   ]
  },
  {
   "cell_type": "markdown",
   "metadata": {},
   "source": [
    "## Extract"
   ]
  },
  {
   "cell_type": "markdown",
   "metadata": {},
   "source": [
    "### Treemap"
   ]
  },
  {
   "cell_type": "code",
   "execution_count": 6,
   "metadata": {},
   "outputs": [],
   "source": [
    "def get_min_and_max_year(df):\n",
    "    year_max = df['annee'].max()\n",
    "    year_min = df['annee'].min()\n",
    "    \n",
    "    return year_min, year_max"
   ]
  },
  {
   "cell_type": "code",
   "execution_count": 7,
   "metadata": {},
   "outputs": [],
   "source": [
    "def get_list_of_genres(df):\n",
    "    genres = list(set(df['genre'].values))\n",
    "    \n",
    "    return genres"
   ]
  },
  {
   "cell_type": "markdown",
   "metadata": {},
   "source": [
    "### Table"
   ]
  },
  {
   "cell_type": "code",
   "execution_count": 19,
   "metadata": {},
   "outputs": [],
   "source": [
    "def get_list_of_languages(df):\n",
    "    languages = list(set(df['langue'].values))\n",
    "    \n",
    "    return languages"
   ]
  }
 ],
 "metadata": {
  "kernelspec": {
   "display_name": "Python 3",
   "language": "python",
   "name": "python3"
  },
  "language_info": {
   "codemirror_mode": {
    "name": "ipython",
    "version": 3
   },
   "file_extension": ".py",
   "mimetype": "text/x-python",
   "name": "python",
   "nbconvert_exporter": "python",
   "pygments_lexer": "ipython3",
   "version": "3.8.8"
  }
 },
 "nbformat": 4,
 "nbformat_minor": 4
}
