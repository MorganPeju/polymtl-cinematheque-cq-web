{
 "cells": [
  {
   "cell_type": "markdown",
   "metadata": {},
   "source": [
    "# INF8808 |  PROJET VIZ 1\n",
    "\n",
    "\n"
   ]
  },
  {
   "cell_type": "code",
   "execution_count": 267,
   "metadata": {},
   "outputs": [],
   "source": [
    "import pandas as pd\n",
    "import numpy as np\n",
    "import datetime\n",
    "\n",
    "import plotly.graph_objects as go\n",
    "import plotly.express as px"
   ]
  },
  {
   "cell_type": "code",
   "execution_count": 238,
   "metadata": {},
   "outputs": [],
   "source": [
    "def clean_year_column(df):\n",
    "    # Capture the lenght before dropping\n",
    "    initial_length = len(df)\n",
    "    \n",
    "    # Drop movies for which no date is available\n",
    "    temp_df = df.dropna(subset=['anneeSortie'])\n",
    "    \n",
    "    # Capture the lenght after dropping\n",
    "    after_drop_length = len(temp_df)\n",
    "    \n",
    "    # Cast years to type int\n",
    "    temp_df = temp_df.astype({'anneeSortie': 'int'})\n",
    "    \n",
    "    # Filter movies for which date is greater than now\n",
    "    temp_df = temp_df[temp_df['anneeSortie']<=datetime.datetime.now().year]\n",
    "    \n",
    "    # Capture the length after filtering\n",
    "    after_filter_length = len(temp_df)\n",
    "    \n",
    "    # Compute length deltas\n",
    "    count_dropped_no_year = initial_length - after_drop_length\n",
    "    count_filtered_year_greater_now = after_drop_length - after_filter_length\n",
    "    \n",
    "    return temp_df, count_dropped_no_year, count_filtered_year_greater_now"
   ]
  },
  {
   "cell_type": "code",
   "execution_count": 239,
   "metadata": {},
   "outputs": [],
   "source": [
    "def clean_genre_column(df):\n",
    "    # Capture the lenght before dropping\n",
    "    initial_length = len(df)\n",
    "\n",
    "    # Drop movies for which no genre is available\n",
    "    #temp_df = df.dropna(subset=['genreIdentifiant'])\n",
    "    \n",
    "    # Capture the lenght after dropping\n",
    "    after_drop_length = len(temp_df)\n",
    "    \n",
    "    # Cast genres to type str\n",
    "    #temp_df['genre'] = temp_df['genre'].apply(lambda x: str(x))\n",
    "    \n",
    "    # Compute length deltas\n",
    "    count_dropped_no_genre = initial_length - after_drop_length\n",
    "    \n",
    "    return temp_df, count_dropped_no_genre"
   ]
  },
  {
   "cell_type": "code",
   "execution_count": 282,
   "metadata": {},
   "outputs": [],
   "source": [
    "def clean_title_column(df):\n",
    "    # Capture the lenght before dropping\n",
    "    initial_length = len(df)\n",
    "\n",
    "    # Drop movies for which no title is available\n",
    "    temp_df = df.dropna(subset=['titreOriginal'])\n",
    "    temp_df = temp_df.drop_duplicates(subset=['titreOriginal', 'anneeSortie', 'genre', 'sousGenre0', 'sousGenre1'])\n",
    "    \n",
    "    # Capture the lenght after dropping\n",
    "    after_drop_length = len(temp_df)\n",
    "    \n",
    "    # Cast titles to type str\n",
    "    #temp_df = temp_df.astype({'titreOriginal': 'str'})\n",
    "    \n",
    "    # Compute length deltas\n",
    "    count_dropped_no_title = initial_length - after_drop_length\n",
    "    \n",
    "    return temp_df, count_dropped_no_title"
   ]
  },
  {
   "cell_type": "code",
   "execution_count": 204,
   "metadata": {},
   "outputs": [],
   "source": [
    "def replace_str_containing_str(df, column_name, search_str, new_str, contain_word):\n",
    "    '''\n",
    "    Si contain_word = True: \n",
    "        Cette fonction permet de remplacer les cellules d'un \n",
    "        dataframe contenant certains mots par un autre.\n",
    "        \n",
    "    Si contain_word = False: \n",
    "        Cette fonction permet de remplacer les cellules d'un \n",
    "        dataframe NE contenant PAS certains mots par un autre.\n",
    "    \n",
    "    Retourne : \n",
    "    Le Dataframe modifié\n",
    "    '''\n",
    "    \n",
    "    # Make a local copy \n",
    "    temp_df = df.copy()\n",
    "    \n",
    "    # Replace string\n",
    "    if  contain_word == True:\n",
    "        temp_df.loc[temp_df[column_name].str.contains(search_str, case=False), column_name] = new_str\n",
    "        \n",
    "    elif contain_word == False:\n",
    "        temp_df.loc[~temp_df[column_name].str.contains(search_str, case=False), column_name] = new_str\n",
    "    \n",
    "    return temp_df"
   ]
  },
  {
   "cell_type": "code",
   "execution_count": 205,
   "metadata": {},
   "outputs": [],
   "source": [
    "def clean_film_df_for_sunburst(df):\n",
    "    \n",
    "    # Explicit copy\n",
    "    temp_df = df.copy()\n",
    "    \n",
    "    # Clean year, title and genre\n",
    "    temp_df, count_dropped_no_title = clean_title_column(df=temp_df)\n",
    "    temp_df, count_dropped_no_year, count_filtered_year_greater_now = clean_year_column(df=temp_df)\n",
    "    temp_df, count_dropped_no_genre = clean_genre_column(df=temp_df)\n",
    "    \n",
    "    print(count_dropped_no_year)\n",
    "    print(count_dropped_no_title)\n",
    "    print(count_dropped_no_genre)\n",
    "    \n",
    "    # Capitalize genre\n",
    "    temp_df['genre'] = temp_df['genre'].apply(str.capitalize)\n",
    "    \n",
    "    # Replace strings 'VIDÉOS|VIDÉO' for 'Vidéos'\n",
    "    temp_df = replace_str_containing_str(\n",
    "        df=temp_df, \n",
    "        column_name='genreIdentifiant', \n",
    "        search_str='VIDÉOS|VIDÉO', \n",
    "        new_str='Vidéos',\n",
    "        contain_word=True\n",
    "    )\n",
    "    \n",
    "    # Replace strings 'ÉMISSIONS' for 'Émissions'\n",
    "    temp_df = replace_str_containing_str(\n",
    "        df=temp_df, \n",
    "        column_name='genreIdentifiant', \n",
    "        search_str='ÉMISSIONS', \n",
    "        new_str='Émissions',\n",
    "        contain_word=True\n",
    "    )\n",
    "    \n",
    "    # Replace strings 'TV' for 'TV'\n",
    "    temp_df = replace_str_containing_str(\n",
    "        df=temp_df, \n",
    "        column_name='genreIdentifiant', \n",
    "        search_str='TV', \n",
    "        new_str='TV',\n",
    "        contain_word=True\n",
    "    )\n",
    "    \n",
    "    # Replace strings that do not contain 'Vidéos|Émissions|TV' for 'Films'\n",
    "    temp_df = replace_str_containing_str(\n",
    "        df=temp_df, \n",
    "        column_name='genreIdentifiant', \n",
    "        search_str='Vidéos|Émissions|TV', \n",
    "        new_str='Films',\n",
    "        contain_word=False\n",
    "    )\n",
    "\n",
    "    return temp_df"
   ]
  },
  {
   "cell_type": "code",
   "execution_count": 228,
   "metadata": {},
   "outputs": [],
   "source": [
    "def clean_film_df_for_sunburst(df):\n",
    "    \n",
    "    temp_df = df.replace(r'^\\s*$', '.', regex=True)\n",
    "        \n",
    "    # Clean year, title and genre\n",
    "    temp_df, count_dropped_no_title = clean_title_column(df=temp_df)\n",
    "    temp_df, count_dropped_no_year, count_filtered_year_greater_now = clean_year_column(df=temp_df)\n",
    "    temp_df, count_dropped_no_genre = clean_genre_column(df=temp_df)\n",
    "    \n",
    "    # Capitalize genre\n",
    "    temp_df['genre'] = temp_df['genre'].apply(str.upper)\n",
    "    \n",
    "    return temp_df"
   ]
  },
  {
   "cell_type": "code",
   "execution_count": 215,
   "metadata": {},
   "outputs": [],
   "source": [
    "def create_sunburst_df(df):\n",
    "    '''\n",
    "    Cette fonction permet le pretraitement des données pour\n",
    "    correspondre la structure du Sunburst de Plotly.\n",
    "    Autrement dit, il faut construire: \n",
    "        - Une liste des labels de TOUS les niveaux de genre\n",
    "        - Une liste avec le 'parent' de chacun des labels\n",
    "        - Une liste avec les valeurs de chacun des labels\n",
    "    \n",
    "    Retourne:\n",
    "        - Un dataframe avec l'ensemble des films avec les différents\n",
    "        'niveaux de genres' auxquels ils appartiennent.\n",
    "        - Un dataframe avec les données pour le sunburst.\n",
    "    '''\n",
    "    # Create explicit copy\n",
    "    temp_df = df.copy()\n",
    "    \n",
    "    # Create levels \n",
    "    genre = (temp_df\n",
    "        .groupby(['genre'])\n",
    "        .size()\n",
    "    )\n",
    "    subgenre0 = (temp_df\n",
    "        .groupby(['sousGenre0'])\n",
    "        .size()\n",
    "        .drop(\".\", errors='ignore')\n",
    "    )\n",
    "    subgenre1 = (temp_df\n",
    "        .groupby(['sousGenre1'])\n",
    "        .size()\n",
    "        .drop(\".\", errors='ignore')\n",
    "    )\n",
    "    \n",
    "    # Create \"values\"\n",
    "    genre_values = genre.to_list()\n",
    "    subgenre0_values = subgenre0.to_list()\n",
    "    subgenre1_values = subgenre1.to_list()\n",
    "    values = [*genre_values, *subgenre0_values, *subgenre1_values] \n",
    "    \n",
    "    # Create \"labels\"\n",
    "    genre_labels = genre.index.values.tolist()\n",
    "    subgenre0_labels = subgenre0.index.values.tolist()\n",
    "    subgenre1_labels = subgenre1.index.values.tolist()\n",
    "    labels = [*genre_labels, *subgenre0_labels, *subgenre1_labels] \n",
    "    \n",
    "    # Create \"parents\" - extract tuples\n",
    "    subgenre0_tuples = (temp_df\n",
    "        .groupby(['sousGenre0', 'genre'])\n",
    "        .size()\n",
    "        .drop(\".\", errors='ignore')\n",
    "        .index\n",
    "        .values\n",
    "    )\n",
    "    subgenre1_tuples = (temp_df\n",
    "        .groupby(['sousGenre1', 'sousGenre0'])\n",
    "        .size()\n",
    "        .drop(\".\", errors='ignore')\n",
    "        .index\n",
    "        .values\n",
    "    )\n",
    "    \n",
    "    # Create \"parents\"\n",
    "    genre_parents = [\"\"] * len(genre_values) # No parents for level 1\n",
    "    subgenre0_parents = [i[1] for i in subgenre0_tuples]\n",
    "    subgenre1_parents = [i[1] for i in subgenre1_tuples]\n",
    "    parents = [*genre_parents, *subgenre0_parents, *subgenre1_parents] \n",
    "    \n",
    "    # Create sunburst_df \n",
    "    sunburst_df = pd.DataFrame({\n",
    "        'labels': labels,\n",
    "        'parents': parents, \n",
    "        'values': values\n",
    "    })\n",
    "    \n",
    "    return sunburst_df"
   ]
  },
  {
   "cell_type": "code",
   "execution_count": 287,
   "metadata": {},
   "outputs": [],
   "source": [
    "def create_sunburst_fig(df): #, list_hovertemplate):\n",
    "    # Initialisation\n",
    "    fig = go.Figure()\n",
    "\n",
    "    # On trace le sunburst souhaité\n",
    "    fig.add_trace(\n",
    "        go.Sunburst(\n",
    "            labels=df['labels'],\n",
    "            parents=df['parents'],\n",
    "            values=df['values'],\n",
    "            branchvalues='total',\n",
    "            insidetextorientation='radial',\n",
    "            maxdepth=3,\n",
    "            rotation=90,\n",
    "            sort=True,\n",
    "            marker_colorscale='twilight', # A CHANGER PAR RAPPORT AU THEME\n",
    "        )\n",
    "    )\n",
    "\n",
    "    # On met à jour les paramètres de présenation de la figure\n",
    "    fig.update_layout(\n",
    "        width=800,\n",
    "        height=800,\n",
    "        title='Hiérarchie des différents genres cinématographiques',\n",
    "        uniformtext_minsize=10,\n",
    "        uniformtext_mode='hide',\n",
    "    )\n",
    "\n",
    "    return fig"
   ]
  },
  {
   "cell_type": "code",
   "execution_count": 224,
   "metadata": {},
   "outputs": [
    {
     "data": {
      "text/plain": [
       "['FilmoId',\n",
       " 'titreOriginal',\n",
       " 'anneeSortie',\n",
       " 'GeneriqueId',\n",
       " 'fonction',\n",
       " 'nom',\n",
       " 'prenom',\n",
       " 'nomComplet',\n",
       " 'langue',\n",
       " 'pays',\n",
       " 'continent',\n",
       " 'capitale',\n",
       " 'planete',\n",
       " 'genreIdentifiant',\n",
       " 'genre',\n",
       " 'sousGenre0',\n",
       " 'sousGenre1']"
      ]
     },
     "execution_count": 224,
     "metadata": {},
     "output_type": "execute_result"
    }
   ],
   "source": [
    "film_df.columns.values.tolist()"
   ]
  },
  {
   "cell_type": "code",
   "execution_count": 283,
   "metadata": {},
   "outputs": [],
   "source": [
    "film_df = pd.read_csv(\n",
    "    filepath_or_buffer='../Src/Assets/Data/Jc/film_vsMaitre.csv',\n",
    "    sep=',',\n",
    "    header=0,\n",
    "    low_memory=False,\n",
    "    dtype={\n",
    "        'FilmoId': int,\n",
    "        'titreOriginal': str,\n",
    "        'anneeSortie': int,\n",
    "        'GeneriqueId': float,\n",
    "        'fonction': str,\n",
    "        'nom': str,\n",
    "        'prenom': str,\n",
    "        'nomComplet': str,\n",
    "        'langue': str,\n",
    "        'pays': str,\n",
    "        'continent': str,\n",
    "        'capitale': str,\n",
    "        'planete': str,\n",
    "        'genreIdentifiant': str,\n",
    "        'genre': str,\n",
    "        'sousGenre0': str,\n",
    "        'sousGenre1': str\n",
    "    }\n",
    ")"
   ]
  },
  {
   "cell_type": "code",
   "execution_count": null,
   "metadata": {},
   "outputs": [],
   "source": [
    "temp_df = film_df.replace(r'^\\s*$', None, regex=True)\n",
    "        \n",
    "# Clean year, title and genre\n",
    "temp_df, count_dropped_no_title = clean_title_column(df=temp_df)\n",
    "temp_df, count_dropped_no_year, count_filtered_year_greater_now = clean_year_column(df=temp_df)\n",
    "temp_df, count_dropped_no_genre = clean_genre_column(df=temp_df)"
   ]
  },
  {
   "cell_type": "code",
   "execution_count": 341,
   "metadata": {},
   "outputs": [
    {
     "data": {
      "application/vnd.plotly.v1+json": {
       "config": {
        "plotlyServerURL": "https://plot.ly"
       },
       "data": [
        {
         "branchvalues": "total",
         "customdata": [
          [
           "Autres"
          ],
          [
           "Autres"
          ],
          [
           "Autres"
          ],
          [
           "Sf"
          ],
          [
           "Historique"
          ],
          [
           "Historique"
          ],
          [
           "Crime"
          ],
          [
           "Sf"
          ],
          [
           "Autres"
          ],
          [
           "Action"
          ],
          [
           "Drame"
          ],
          [
           "Drame"
          ],
          [
           "Documentaire"
          ],
          [
           "Animation"
          ],
          [
           "Musical"
          ],
          [
           "Crime"
          ],
          [
           "Musical"
          ],
          [
           "Action"
          ],
          [
           "Aventure"
          ],
          [
           "Historique"
          ],
          [
           "Aventure"
          ],
          [
           "Autres"
          ],
          [
           "Autres"
          ],
          [
           "Animation"
          ],
          [
           "Autres"
          ],
          [
           "Musical"
          ],
          [
           "Documentaire"
          ],
          [
           "Comédie"
          ],
          [
           "Musical"
          ],
          [
           "Historique"
          ],
          [
           "Drame"
          ],
          [
           "Documentaire"
          ],
          [
           "Crime"
          ],
          [
           "Comédie"
          ],
          [
           "Aventure"
          ],
          [
           "Autres"
          ],
          [
           "Animation"
          ],
          [
           "Amour"
          ],
          [
           "Action"
          ],
          [
           "Documentaire"
          ],
          [
           "Aventure"
          ],
          [
           "Autres"
          ],
          [
           "Autres"
          ],
          [
           "Amour"
          ],
          [
           "Sf"
          ],
          [
           "Amour"
          ],
          [
           "Aventure"
          ],
          [
           "Historique"
          ],
          [
           "Crime"
          ],
          [
           "Aventure"
          ],
          [
           "Musical"
          ],
          [
           "Non Spécifié"
          ],
          [
           "Crime"
          ],
          [
           "Non Spécifié"
          ],
          [
           "Action"
          ],
          [
           "Amour"
          ],
          [
           "Drame"
          ],
          [
           "Documentaire"
          ],
          [
           "Animation"
          ],
          [
           "Musical"
          ],
          [
           "Crime"
          ],
          [
           "Musical"
          ],
          [
           "Action"
          ],
          [
           "Aventure"
          ],
          [
           "Historique"
          ],
          [
           "Aventure"
          ],
          [
           "Autres"
          ],
          [
           "Animation"
          ],
          [
           "Documentaire"
          ],
          [
           "Action"
          ],
          [
           "Autres"
          ],
          [
           "Autres"
          ],
          [
           "Autres"
          ],
          [
           "Sf"
          ],
          [
           "Autres"
          ],
          [
           "Autres"
          ],
          [
           "Autres"
          ],
          [
           "Autres"
          ],
          [
           "Autres"
          ],
          [
           "Drame"
          ],
          [
           "Action"
          ],
          [
           "Crime"
          ],
          [
           "Historique"
          ],
          [
           "Autres"
          ],
          [
           "Sf"
          ],
          [
           "Autres"
          ],
          [
           "Autres"
          ],
          [
           "Amour"
          ],
          [
           "Autres"
          ],
          [
           "Aventure"
          ],
          [
           "Crime"
          ],
          [
           "Autres"
          ],
          [
           "Autres"
          ],
          [
           "Sf"
          ],
          [
           "Autres"
          ],
          [
           "Amour"
          ],
          [
           "Historique"
          ],
          [
           "Crime"
          ],
          [
           "Aventure"
          ],
          [
           "Musical"
          ],
          [
           "Non Spécifié"
          ],
          [
           "Comédie"
          ],
          [
           "Documentaire"
          ],
          [
           "Musical"
          ],
          [
           "Autres"
          ],
          [
           "Sf"
          ],
          [
           "Historique"
          ],
          [
           "Aventure"
          ],
          [
           "Sf"
          ]
         ],
         "domain": {
          "x": [
           0,
           1
          ],
          "y": [
           0,
           1
          ]
         },
         "hovertemplate": "labels=%{label}<br>count=%{value}<br>parent=%{parent}<br>id=%{id}<br>genre=%{customdata[0]}<extra></extra>",
         "ids": [
          "Autres/Indépendants/Amateur",
          "Autres/Institutionnel",
          "Autres/Indépendants",
          "Sf/Horreur",
          "Historique/Historique",
          "Historique/Guerre",
          "Crime/Gangsters",
          "Sf/Fantastique",
          "Autres/Famille",
          "Action/Espionnage",
          "Drame/Drame",
          "Drame/Dramatique",
          "Documentaire/Documentaire",
          "Animation/Dessins Animés",
          "Musical/Danse",
          "Crime/Crime",
          "Musical/Comédie Musicale",
          "Action/Catastrophe",
          "Aventure/Cape Et D'Épée",
          "Historique/Biographie",
          "Aventure/Aventure",
          "Autres/Arts Martiaux",
          "Autres/Art",
          "Animation/Animation",
          "Autres/Muet",
          "Musical/Musicaux",
          "Documentaire/Nature",
          "Comédie/Non Spécifié",
          "Musical",
          "Historique",
          "Drame",
          "Documentaire",
          "Crime",
          "Comédie",
          "Aventure",
          "Autres",
          "Animation",
          "Amour",
          "Action",
          "Documentaire/Actualités",
          "Aventure/Western",
          "Autres/Sport",
          "Autres/Sketches",
          "Amour/Sexualite",
          "Sf/Science-Fiction",
          "Amour/Romantique",
          "Aventure/Road Movie",
          "Historique/Péplum",
          "Crime/Policier",
          "Aventure/Pirate",
          "Musical/Opéra",
          "Non Spécifié/Non Spécifié",
          "Crime/Thriller",
          "Non Spécifié",
          "Action/Action",
          "Amour/Sexualite/Érotique",
          "Drame/Dramatique/Non Spécifié",
          "Documentaire/Documentaire/Non Spécifié",
          "Animation/Dessins Animés/Non Spécifié",
          "Musical/Danse/Non Spécifié",
          "Crime/Crime/Non Spécifié",
          "Musical/Comédie Musicale/Non Spécifié",
          "Action/Catastrophe/Non Spécifié",
          "Aventure/Cape Et D'Épée/Non Spécifié",
          "Historique/Biographie/Non Spécifié",
          "Aventure/Aventure/Non Spécifié",
          "Autres/Arts Martiaux/Non Spécifié",
          "Animation/Animation/Non Spécifié",
          "Documentaire/Actualités/Non Spécifié",
          "Action/Action/Non Spécifié",
          "Autres/Famille/Jeunes",
          "Autres/Indépendants/Indépendants",
          "Autres/Art/Fiction",
          "Sf/Fantastique/Fantastique",
          "Autres/Famille/Famille",
          "Autres/Art/Expérimental",
          "Autres/Famille/Enfants",
          "Autres/Art/Collage",
          "Autres/Art/Art",
          "Drame/Drame/Non Spécifié",
          "Action/Espionnage/Non Spécifié",
          "Crime/Gangsters/Non Spécifié",
          "Historique/Guerre/Non Spécifié",
          "Autres/Institutionnel/Éducatif",
          "Sf/Fantastique/Vampire",
          "Autres/Institutionnel/Religion",
          "Autres/Institutionnel/Propagande",
          "Amour/Sexualite/Pornographie",
          "Autres/Institutionnel/Politique",
          "Aventure/Western/Non Spécifié",
          "Crime/Thriller/Non Spécifié",
          "Autres/Sport/Non Spécifié",
          "Autres/Sketches/Non Spécifié",
          "Sf/Science-Fiction/Non Spécifié",
          "Autres/Indépendants/Étudiants",
          "Amour/Romantique/Non Spécifié",
          "Historique/Péplum/Non Spécifié",
          "Crime/Policier/Non Spécifié",
          "Aventure/Pirate/Non Spécifié",
          "Musical/Opéra/Non Spécifié",
          "Non Spécifié/Non Spécifié/Non Spécifié",
          "Comédie/Non Spécifié/Non Spécifié",
          "Documentaire/Nature/Non Spécifié",
          "Musical/Musicaux/Non Spécifié",
          "Autres/Muet/Non Spécifié",
          "Sf/Horreur/Non Spécifié",
          "Historique/Historique/Non Spécifié",
          "Aventure/Road Movie/Non Spécifié",
          "Sf"
         ],
         "insidetextorientation": "radial",
         "labels": [
          "Amateur",
          "Institutionnel",
          "Indépendants",
          "Horreur",
          "Historique",
          "Guerre",
          "Gangsters",
          "Fantastique",
          "Famille",
          "Espionnage",
          "Drame",
          "Dramatique",
          "Documentaire",
          "Dessins Animés",
          "Danse",
          "Crime",
          "Comédie Musicale",
          "Catastrophe",
          "Cape Et D'Épée",
          "Biographie",
          "Aventure",
          "Arts Martiaux",
          "Art",
          "Animation",
          "Muet",
          "Musicaux",
          "Nature",
          "Non Spécifié",
          "Musical",
          "Historique",
          "Drame",
          "Documentaire",
          "Crime",
          "Comédie",
          "Aventure",
          "Autres",
          "Animation",
          "Amour",
          "Action",
          "Actualités",
          "Western",
          "Sport",
          "Sketches",
          "Sexualite",
          "Science-Fiction",
          "Romantique",
          "Road Movie",
          "Péplum",
          "Policier",
          "Pirate",
          "Opéra",
          "Non Spécifié",
          "Thriller",
          "Non Spécifié",
          "Action",
          "Érotique",
          "Non Spécifié",
          "Non Spécifié",
          "Non Spécifié",
          "Non Spécifié",
          "Non Spécifié",
          "Non Spécifié",
          "Non Spécifié",
          "Non Spécifié",
          "Non Spécifié",
          "Non Spécifié",
          "Non Spécifié",
          "Non Spécifié",
          "Non Spécifié",
          "Non Spécifié",
          "Jeunes",
          "Indépendants",
          "Fiction",
          "Fantastique",
          "Famille",
          "Expérimental",
          "Enfants",
          "Collage",
          "Art",
          "Non Spécifié",
          "Non Spécifié",
          "Non Spécifié",
          "Non Spécifié",
          "Éducatif",
          "Vampire",
          "Religion",
          "Propagande",
          "Pornographie",
          "Politique",
          "Non Spécifié",
          "Non Spécifié",
          "Non Spécifié",
          "Non Spécifié",
          "Non Spécifié",
          "Étudiants",
          "Non Spécifié",
          "Non Spécifié",
          "Non Spécifié",
          "Non Spécifié",
          "Non Spécifié",
          "Non Spécifié",
          "Non Spécifié",
          "Non Spécifié",
          "Non Spécifié",
          "Non Spécifié",
          "Non Spécifié",
          "Non Spécifié",
          "Non Spécifié",
          "Sf"
         ],
         "level": "1281c2",
         "marker": {
          "colors": [
           "rgb(102, 197, 204)",
           "rgb(102, 197, 204)",
           "rgb(102, 197, 204)",
           "rgb(246, 207, 113)",
           "rgb(248, 156, 116)",
           "rgb(248, 156, 116)",
           "rgb(220, 176, 242)",
           "rgb(246, 207, 113)",
           "rgb(102, 197, 204)",
           "rgb(135, 197, 95)",
           "rgb(158, 185, 243)",
           "rgb(158, 185, 243)",
           "rgb(254, 136, 177)",
           "rgb(201, 219, 116)",
           "rgb(139, 224, 164)",
           "rgb(220, 176, 242)",
           "rgb(139, 224, 164)",
           "rgb(135, 197, 95)",
           "rgb(180, 151, 231)",
           "rgb(248, 156, 116)",
           "rgb(180, 151, 231)",
           "rgb(102, 197, 204)",
           "rgb(102, 197, 204)",
           "rgb(201, 219, 116)",
           "rgb(102, 197, 204)",
           "rgb(139, 224, 164)",
           "rgb(254, 136, 177)",
           "rgb(179, 179, 179)",
           "rgb(139, 224, 164)",
           "rgb(248, 156, 116)",
           "rgb(158, 185, 243)",
           "rgb(254, 136, 177)",
           "rgb(220, 176, 242)",
           "rgb(179, 179, 179)",
           "rgb(180, 151, 231)",
           "rgb(102, 197, 204)",
           "rgb(201, 219, 116)",
           "rgb(102, 197, 204)",
           "rgb(135, 197, 95)",
           "rgb(254, 136, 177)",
           "rgb(180, 151, 231)",
           "rgb(102, 197, 204)",
           "rgb(102, 197, 204)",
           "rgb(102, 197, 204)",
           "rgb(246, 207, 113)",
           "rgb(102, 197, 204)",
           "rgb(180, 151, 231)",
           "rgb(248, 156, 116)",
           "rgb(220, 176, 242)",
           "rgb(180, 151, 231)",
           "rgb(139, 224, 164)",
           "rgb(246, 207, 113)",
           "rgb(220, 176, 242)",
           "rgb(246, 207, 113)",
           "rgb(135, 197, 95)",
           "rgb(102, 197, 204)",
           "rgb(158, 185, 243)",
           "rgb(254, 136, 177)",
           "rgb(201, 219, 116)",
           "rgb(139, 224, 164)",
           "rgb(220, 176, 242)",
           "rgb(139, 224, 164)",
           "rgb(135, 197, 95)",
           "rgb(180, 151, 231)",
           "rgb(248, 156, 116)",
           "rgb(180, 151, 231)",
           "rgb(102, 197, 204)",
           "rgb(201, 219, 116)",
           "rgb(254, 136, 177)",
           "rgb(135, 197, 95)",
           "rgb(102, 197, 204)",
           "rgb(102, 197, 204)",
           "rgb(102, 197, 204)",
           "rgb(246, 207, 113)",
           "rgb(102, 197, 204)",
           "rgb(102, 197, 204)",
           "rgb(102, 197, 204)",
           "rgb(102, 197, 204)",
           "rgb(102, 197, 204)",
           "rgb(158, 185, 243)",
           "rgb(135, 197, 95)",
           "rgb(220, 176, 242)",
           "rgb(248, 156, 116)",
           "rgb(102, 197, 204)",
           "rgb(246, 207, 113)",
           "rgb(102, 197, 204)",
           "rgb(102, 197, 204)",
           "rgb(102, 197, 204)",
           "rgb(102, 197, 204)",
           "rgb(180, 151, 231)",
           "rgb(220, 176, 242)",
           "rgb(102, 197, 204)",
           "rgb(102, 197, 204)",
           "rgb(246, 207, 113)",
           "rgb(102, 197, 204)",
           "rgb(102, 197, 204)",
           "rgb(248, 156, 116)",
           "rgb(220, 176, 242)",
           "rgb(180, 151, 231)",
           "rgb(139, 224, 164)",
           "rgb(246, 207, 113)",
           "rgb(179, 179, 179)",
           "rgb(254, 136, 177)",
           "rgb(139, 224, 164)",
           "rgb(102, 197, 204)",
           "rgb(246, 207, 113)",
           "rgb(248, 156, 116)",
           "rgb(180, 151, 231)",
           "rgb(246, 207, 113)"
          ]
         },
         "maxdepth": -1,
         "name": "",
         "parents": [
          "Autres/Indépendants",
          "Autres",
          "Autres",
          "Sf",
          "Historique",
          "Historique",
          "Crime",
          "Sf",
          "Autres",
          "Action",
          "Drame",
          "Drame",
          "Documentaire",
          "Animation",
          "Musical",
          "Crime",
          "Musical",
          "Action",
          "Aventure",
          "Historique",
          "Aventure",
          "Autres",
          "Autres",
          "Animation",
          "Autres",
          "Musical",
          "Documentaire",
          "Comédie",
          "",
          "",
          "",
          "",
          "",
          "",
          "",
          "",
          "",
          "",
          "",
          "Documentaire",
          "Aventure",
          "Autres",
          "Autres",
          "Amour",
          "Sf",
          "Amour",
          "Aventure",
          "Historique",
          "Crime",
          "Aventure",
          "Musical",
          "Non Spécifié",
          "Crime",
          "",
          "Action",
          "Amour/Sexualite",
          "Drame/Dramatique",
          "Documentaire/Documentaire",
          "Animation/Dessins Animés",
          "Musical/Danse",
          "Crime/Crime",
          "Musical/Comédie Musicale",
          "Action/Catastrophe",
          "Aventure/Cape Et D'Épée",
          "Historique/Biographie",
          "Aventure/Aventure",
          "Autres/Arts Martiaux",
          "Animation/Animation",
          "Documentaire/Actualités",
          "Action/Action",
          "Autres/Famille",
          "Autres/Indépendants",
          "Autres/Art",
          "Sf/Fantastique",
          "Autres/Famille",
          "Autres/Art",
          "Autres/Famille",
          "Autres/Art",
          "Autres/Art",
          "Drame/Drame",
          "Action/Espionnage",
          "Crime/Gangsters",
          "Historique/Guerre",
          "Autres/Institutionnel",
          "Sf/Fantastique",
          "Autres/Institutionnel",
          "Autres/Institutionnel",
          "Amour/Sexualite",
          "Autres/Institutionnel",
          "Aventure/Western",
          "Crime/Thriller",
          "Autres/Sport",
          "Autres/Sketches",
          "Sf/Science-Fiction",
          "Autres/Indépendants",
          "Amour/Romantique",
          "Historique/Péplum",
          "Crime/Policier",
          "Aventure/Pirate",
          "Musical/Opéra",
          "Non Spécifié/Non Spécifié",
          "Comédie/Non Spécifié",
          "Documentaire/Nature",
          "Musical/Musicaux",
          "Autres/Muet",
          "Sf/Horreur",
          "Historique/Historique",
          "Aventure/Road Movie",
          ""
         ],
         "textinfo": "label+percent parent",
         "type": "sunburst",
         "values": [
          269,
          1607,
          5148,
          2291,
          586,
          830,
          31,
          425,
          1559,
          63,
          4406,
          4406,
          12010,
          1829,
          174,
          1349,
          205,
          6,
          14,
          749,
          1119,
          160,
          3171,
          5915,
          295,
          369,
          199,
          5060,
          759,
          2175,
          8812,
          12498,
          3736,
          5060,
          2153,
          12648,
          7744,
          1414,
          1415,
          289,
          958,
          581,
          127,
          478,
          1441,
          936,
          48,
          10,
          207,
          14,
          11,
          12476,
          2149,
          12476,
          1346,
          169,
          4406,
          12010,
          1829,
          174,
          1349,
          205,
          6,
          14,
          749,
          1119,
          160,
          5915,
          289,
          1346,
          512,
          4286,
          614,
          309,
          535,
          1187,
          512,
          7,
          1363,
          4406,
          63,
          31,
          830,
          842,
          116,
          242,
          32,
          309,
          491,
          958,
          2149,
          581,
          127,
          1441,
          593,
          936,
          10,
          207,
          14,
          11,
          12476,
          5060,
          199,
          369,
          295,
          2291,
          586,
          48,
          4157
         ]
        }
       ],
       "layout": {
        "height": 800,
        "legend": {
         "tracegroupgap": 0
        },
        "margin": {
         "t": 60
        },
        "sunburstcolorway": [
         "rgb(102, 197, 204)",
         "rgb(246, 207, 113)",
         "rgb(248, 156, 116)",
         "rgb(220, 176, 242)",
         "rgb(135, 197, 95)",
         "rgb(158, 185, 243)",
         "rgb(254, 136, 177)",
         "rgb(201, 219, 116)",
         "rgb(139, 224, 164)",
         "rgb(180, 151, 231)",
         "rgb(179, 179, 179)"
        ],
        "template": {
         "data": {
          "bar": [
           {
            "error_x": {
             "color": "#2a3f5f"
            },
            "error_y": {
             "color": "#2a3f5f"
            },
            "marker": {
             "line": {
              "color": "#E5ECF6",
              "width": 0.5
             }
            },
            "type": "bar"
           }
          ],
          "barpolar": [
           {
            "marker": {
             "line": {
              "color": "#E5ECF6",
              "width": 0.5
             }
            },
            "type": "barpolar"
           }
          ],
          "carpet": [
           {
            "aaxis": {
             "endlinecolor": "#2a3f5f",
             "gridcolor": "white",
             "linecolor": "white",
             "minorgridcolor": "white",
             "startlinecolor": "#2a3f5f"
            },
            "baxis": {
             "endlinecolor": "#2a3f5f",
             "gridcolor": "white",
             "linecolor": "white",
             "minorgridcolor": "white",
             "startlinecolor": "#2a3f5f"
            },
            "type": "carpet"
           }
          ],
          "choropleth": [
           {
            "colorbar": {
             "outlinewidth": 0,
             "ticks": ""
            },
            "type": "choropleth"
           }
          ],
          "contour": [
           {
            "colorbar": {
             "outlinewidth": 0,
             "ticks": ""
            },
            "colorscale": [
             [
              0,
              "#0d0887"
             ],
             [
              0.1111111111111111,
              "#46039f"
             ],
             [
              0.2222222222222222,
              "#7201a8"
             ],
             [
              0.3333333333333333,
              "#9c179e"
             ],
             [
              0.4444444444444444,
              "#bd3786"
             ],
             [
              0.5555555555555556,
              "#d8576b"
             ],
             [
              0.6666666666666666,
              "#ed7953"
             ],
             [
              0.7777777777777778,
              "#fb9f3a"
             ],
             [
              0.8888888888888888,
              "#fdca26"
             ],
             [
              1,
              "#f0f921"
             ]
            ],
            "type": "contour"
           }
          ],
          "contourcarpet": [
           {
            "colorbar": {
             "outlinewidth": 0,
             "ticks": ""
            },
            "type": "contourcarpet"
           }
          ],
          "heatmap": [
           {
            "colorbar": {
             "outlinewidth": 0,
             "ticks": ""
            },
            "colorscale": [
             [
              0,
              "#0d0887"
             ],
             [
              0.1111111111111111,
              "#46039f"
             ],
             [
              0.2222222222222222,
              "#7201a8"
             ],
             [
              0.3333333333333333,
              "#9c179e"
             ],
             [
              0.4444444444444444,
              "#bd3786"
             ],
             [
              0.5555555555555556,
              "#d8576b"
             ],
             [
              0.6666666666666666,
              "#ed7953"
             ],
             [
              0.7777777777777778,
              "#fb9f3a"
             ],
             [
              0.8888888888888888,
              "#fdca26"
             ],
             [
              1,
              "#f0f921"
             ]
            ],
            "type": "heatmap"
           }
          ],
          "heatmapgl": [
           {
            "colorbar": {
             "outlinewidth": 0,
             "ticks": ""
            },
            "colorscale": [
             [
              0,
              "#0d0887"
             ],
             [
              0.1111111111111111,
              "#46039f"
             ],
             [
              0.2222222222222222,
              "#7201a8"
             ],
             [
              0.3333333333333333,
              "#9c179e"
             ],
             [
              0.4444444444444444,
              "#bd3786"
             ],
             [
              0.5555555555555556,
              "#d8576b"
             ],
             [
              0.6666666666666666,
              "#ed7953"
             ],
             [
              0.7777777777777778,
              "#fb9f3a"
             ],
             [
              0.8888888888888888,
              "#fdca26"
             ],
             [
              1,
              "#f0f921"
             ]
            ],
            "type": "heatmapgl"
           }
          ],
          "histogram": [
           {
            "marker": {
             "colorbar": {
              "outlinewidth": 0,
              "ticks": ""
             }
            },
            "type": "histogram"
           }
          ],
          "histogram2d": [
           {
            "colorbar": {
             "outlinewidth": 0,
             "ticks": ""
            },
            "colorscale": [
             [
              0,
              "#0d0887"
             ],
             [
              0.1111111111111111,
              "#46039f"
             ],
             [
              0.2222222222222222,
              "#7201a8"
             ],
             [
              0.3333333333333333,
              "#9c179e"
             ],
             [
              0.4444444444444444,
              "#bd3786"
             ],
             [
              0.5555555555555556,
              "#d8576b"
             ],
             [
              0.6666666666666666,
              "#ed7953"
             ],
             [
              0.7777777777777778,
              "#fb9f3a"
             ],
             [
              0.8888888888888888,
              "#fdca26"
             ],
             [
              1,
              "#f0f921"
             ]
            ],
            "type": "histogram2d"
           }
          ],
          "histogram2dcontour": [
           {
            "colorbar": {
             "outlinewidth": 0,
             "ticks": ""
            },
            "colorscale": [
             [
              0,
              "#0d0887"
             ],
             [
              0.1111111111111111,
              "#46039f"
             ],
             [
              0.2222222222222222,
              "#7201a8"
             ],
             [
              0.3333333333333333,
              "#9c179e"
             ],
             [
              0.4444444444444444,
              "#bd3786"
             ],
             [
              0.5555555555555556,
              "#d8576b"
             ],
             [
              0.6666666666666666,
              "#ed7953"
             ],
             [
              0.7777777777777778,
              "#fb9f3a"
             ],
             [
              0.8888888888888888,
              "#fdca26"
             ],
             [
              1,
              "#f0f921"
             ]
            ],
            "type": "histogram2dcontour"
           }
          ],
          "mesh3d": [
           {
            "colorbar": {
             "outlinewidth": 0,
             "ticks": ""
            },
            "type": "mesh3d"
           }
          ],
          "parcoords": [
           {
            "line": {
             "colorbar": {
              "outlinewidth": 0,
              "ticks": ""
             }
            },
            "type": "parcoords"
           }
          ],
          "pie": [
           {
            "automargin": true,
            "type": "pie"
           }
          ],
          "scatter": [
           {
            "marker": {
             "colorbar": {
              "outlinewidth": 0,
              "ticks": ""
             }
            },
            "type": "scatter"
           }
          ],
          "scatter3d": [
           {
            "line": {
             "colorbar": {
              "outlinewidth": 0,
              "ticks": ""
             }
            },
            "marker": {
             "colorbar": {
              "outlinewidth": 0,
              "ticks": ""
             }
            },
            "type": "scatter3d"
           }
          ],
          "scattercarpet": [
           {
            "marker": {
             "colorbar": {
              "outlinewidth": 0,
              "ticks": ""
             }
            },
            "type": "scattercarpet"
           }
          ],
          "scattergeo": [
           {
            "marker": {
             "colorbar": {
              "outlinewidth": 0,
              "ticks": ""
             }
            },
            "type": "scattergeo"
           }
          ],
          "scattergl": [
           {
            "marker": {
             "colorbar": {
              "outlinewidth": 0,
              "ticks": ""
             }
            },
            "type": "scattergl"
           }
          ],
          "scattermapbox": [
           {
            "marker": {
             "colorbar": {
              "outlinewidth": 0,
              "ticks": ""
             }
            },
            "type": "scattermapbox"
           }
          ],
          "scatterpolar": [
           {
            "marker": {
             "colorbar": {
              "outlinewidth": 0,
              "ticks": ""
             }
            },
            "type": "scatterpolar"
           }
          ],
          "scatterpolargl": [
           {
            "marker": {
             "colorbar": {
              "outlinewidth": 0,
              "ticks": ""
             }
            },
            "type": "scatterpolargl"
           }
          ],
          "scatterternary": [
           {
            "marker": {
             "colorbar": {
              "outlinewidth": 0,
              "ticks": ""
             }
            },
            "type": "scatterternary"
           }
          ],
          "surface": [
           {
            "colorbar": {
             "outlinewidth": 0,
             "ticks": ""
            },
            "colorscale": [
             [
              0,
              "#0d0887"
             ],
             [
              0.1111111111111111,
              "#46039f"
             ],
             [
              0.2222222222222222,
              "#7201a8"
             ],
             [
              0.3333333333333333,
              "#9c179e"
             ],
             [
              0.4444444444444444,
              "#bd3786"
             ],
             [
              0.5555555555555556,
              "#d8576b"
             ],
             [
              0.6666666666666666,
              "#ed7953"
             ],
             [
              0.7777777777777778,
              "#fb9f3a"
             ],
             [
              0.8888888888888888,
              "#fdca26"
             ],
             [
              1,
              "#f0f921"
             ]
            ],
            "type": "surface"
           }
          ],
          "table": [
           {
            "cells": {
             "fill": {
              "color": "#EBF0F8"
             },
             "line": {
              "color": "white"
             }
            },
            "header": {
             "fill": {
              "color": "#C8D4E3"
             },
             "line": {
              "color": "white"
             }
            },
            "type": "table"
           }
          ]
         },
         "layout": {
          "annotationdefaults": {
           "arrowcolor": "#2a3f5f",
           "arrowhead": 0,
           "arrowwidth": 1
          },
          "autotypenumbers": "strict",
          "coloraxis": {
           "colorbar": {
            "outlinewidth": 0,
            "ticks": ""
           }
          },
          "colorscale": {
           "diverging": [
            [
             0,
             "#8e0152"
            ],
            [
             0.1,
             "#c51b7d"
            ],
            [
             0.2,
             "#de77ae"
            ],
            [
             0.3,
             "#f1b6da"
            ],
            [
             0.4,
             "#fde0ef"
            ],
            [
             0.5,
             "#f7f7f7"
            ],
            [
             0.6,
             "#e6f5d0"
            ],
            [
             0.7,
             "#b8e186"
            ],
            [
             0.8,
             "#7fbc41"
            ],
            [
             0.9,
             "#4d9221"
            ],
            [
             1,
             "#276419"
            ]
           ],
           "sequential": [
            [
             0,
             "#0d0887"
            ],
            [
             0.1111111111111111,
             "#46039f"
            ],
            [
             0.2222222222222222,
             "#7201a8"
            ],
            [
             0.3333333333333333,
             "#9c179e"
            ],
            [
             0.4444444444444444,
             "#bd3786"
            ],
            [
             0.5555555555555556,
             "#d8576b"
            ],
            [
             0.6666666666666666,
             "#ed7953"
            ],
            [
             0.7777777777777778,
             "#fb9f3a"
            ],
            [
             0.8888888888888888,
             "#fdca26"
            ],
            [
             1,
             "#f0f921"
            ]
           ],
           "sequentialminus": [
            [
             0,
             "#0d0887"
            ],
            [
             0.1111111111111111,
             "#46039f"
            ],
            [
             0.2222222222222222,
             "#7201a8"
            ],
            [
             0.3333333333333333,
             "#9c179e"
            ],
            [
             0.4444444444444444,
             "#bd3786"
            ],
            [
             0.5555555555555556,
             "#d8576b"
            ],
            [
             0.6666666666666666,
             "#ed7953"
            ],
            [
             0.7777777777777778,
             "#fb9f3a"
            ],
            [
             0.8888888888888888,
             "#fdca26"
            ],
            [
             1,
             "#f0f921"
            ]
           ]
          },
          "colorway": [
           "#636efa",
           "#EF553B",
           "#00cc96",
           "#ab63fa",
           "#FFA15A",
           "#19d3f3",
           "#FF6692",
           "#B6E880",
           "#FF97FF",
           "#FECB52"
          ],
          "font": {
           "color": "#2a3f5f"
          },
          "geo": {
           "bgcolor": "white",
           "lakecolor": "white",
           "landcolor": "#E5ECF6",
           "showlakes": true,
           "showland": true,
           "subunitcolor": "white"
          },
          "hoverlabel": {
           "align": "left"
          },
          "hovermode": "closest",
          "mapbox": {
           "style": "light"
          },
          "paper_bgcolor": "white",
          "plot_bgcolor": "#E5ECF6",
          "polar": {
           "angularaxis": {
            "gridcolor": "white",
            "linecolor": "white",
            "ticks": ""
           },
           "bgcolor": "#E5ECF6",
           "radialaxis": {
            "gridcolor": "white",
            "linecolor": "white",
            "ticks": ""
           }
          },
          "scene": {
           "xaxis": {
            "backgroundcolor": "#E5ECF6",
            "gridcolor": "white",
            "gridwidth": 2,
            "linecolor": "white",
            "showbackground": true,
            "ticks": "",
            "zerolinecolor": "white"
           },
           "yaxis": {
            "backgroundcolor": "#E5ECF6",
            "gridcolor": "white",
            "gridwidth": 2,
            "linecolor": "white",
            "showbackground": true,
            "ticks": "",
            "zerolinecolor": "white"
           },
           "zaxis": {
            "backgroundcolor": "#E5ECF6",
            "gridcolor": "white",
            "gridwidth": 2,
            "linecolor": "white",
            "showbackground": true,
            "ticks": "",
            "zerolinecolor": "white"
           }
          },
          "shapedefaults": {
           "line": {
            "color": "#2a3f5f"
           }
          },
          "ternary": {
           "aaxis": {
            "gridcolor": "white",
            "linecolor": "white",
            "ticks": ""
           },
           "baxis": {
            "gridcolor": "white",
            "linecolor": "white",
            "ticks": ""
           },
           "bgcolor": "#E5ECF6",
           "caxis": {
            "gridcolor": "white",
            "linecolor": "white",
            "ticks": ""
           }
          },
          "title": {
           "x": 0.05
          },
          "xaxis": {
           "automargin": true,
           "gridcolor": "white",
           "linecolor": "white",
           "ticks": "",
           "title": {
            "standoff": 15
           },
           "zerolinecolor": "white",
           "zerolinewidth": 2
          },
          "yaxis": {
           "automargin": true,
           "gridcolor": "white",
           "linecolor": "white",
           "ticks": "",
           "title": {
            "standoff": 15
           },
           "zerolinecolor": "white",
           "zerolinewidth": 2
          }
         }
        },
        "title": {
         "text": "Hiérarchie des différents genres cinématographiques"
        },
        "uniformtext": {
         "minsize": 10
        },
        "width": 800
       }
      },
      "image/png": "[encoded data removed]",
      "text/html": [
       "<div>                            <div id=\"863eb492-5b57-4c3d-8d3f-fe6769dc08e1\" class=\"plotly-graph-div\" style=\"height:800px; width:800px;\"></div>            <script type=\"text/javascript\">                require([\"plotly\"], function(Plotly) {                    window.PLOTLYENV=window.PLOTLYENV || {};                                    if (document.getElementById(\"863eb492-5b57-4c3d-8d3f-fe6769dc08e1\")) {                    Plotly.newPlot(                        \"863eb492-5b57-4c3d-8d3f-fe6769dc08e1\",                        [{\"branchvalues\": \"total\", \"customdata\": [[\"Autres\"], [\"Autres\"], [\"Autres\"], [\"Sf\"], [\"Historique\"], [\"Historique\"], [\"Crime\"], [\"Sf\"], [\"Autres\"], [\"Action\"], [\"Drame\"], [\"Drame\"], [\"Documentaire\"], [\"Animation\"], [\"Musical\"], [\"Crime\"], [\"Musical\"], [\"Action\"], [\"Aventure\"], [\"Historique\"], [\"Aventure\"], [\"Autres\"], [\"Autres\"], [\"Animation\"], [\"Autres\"], [\"Musical\"], [\"Documentaire\"], [\"Com\\u00e9die\"], [\"Musical\"], [\"Historique\"], [\"Drame\"], [\"Documentaire\"], [\"Crime\"], [\"Com\\u00e9die\"], [\"Aventure\"], [\"Autres\"], [\"Animation\"], [\"Amour\"], [\"Action\"], [\"Documentaire\"], [\"Aventure\"], [\"Autres\"], [\"Autres\"], [\"Amour\"], [\"Sf\"], [\"Amour\"], [\"Aventure\"], [\"Historique\"], [\"Crime\"], [\"Aventure\"], [\"Musical\"], [\"Non Sp\\u00e9cifi\\u00e9\"], [\"Crime\"], [\"Non Sp\\u00e9cifi\\u00e9\"], [\"Action\"], [\"Amour\"], [\"Drame\"], [\"Documentaire\"], [\"Animation\"], [\"Musical\"], [\"Crime\"], [\"Musical\"], [\"Action\"], [\"Aventure\"], [\"Historique\"], [\"Aventure\"], [\"Autres\"], [\"Animation\"], [\"Documentaire\"], [\"Action\"], [\"Autres\"], [\"Autres\"], [\"Autres\"], [\"Sf\"], [\"Autres\"], [\"Autres\"], [\"Autres\"], [\"Autres\"], [\"Autres\"], [\"Drame\"], [\"Action\"], [\"Crime\"], [\"Historique\"], [\"Autres\"], [\"Sf\"], [\"Autres\"], [\"Autres\"], [\"Amour\"], [\"Autres\"], [\"Aventure\"], [\"Crime\"], [\"Autres\"], [\"Autres\"], [\"Sf\"], [\"Autres\"], [\"Amour\"], [\"Historique\"], [\"Crime\"], [\"Aventure\"], [\"Musical\"], [\"Non Sp\\u00e9cifi\\u00e9\"], [\"Com\\u00e9die\"], [\"Documentaire\"], [\"Musical\"], [\"Autres\"], [\"Sf\"], [\"Historique\"], [\"Aventure\"], [\"Sf\"]], \"domain\": {\"x\": [0.0, 1.0], \"y\": [0.0, 1.0]}, \"hovertemplate\": \"labels=%{label}<br>count=%{value}<br>parent=%{parent}<br>id=%{id}<br>genre=%{customdata[0]}<extra></extra>\", \"ids\": [\"Autres/Ind\\u00e9pendants/Amateur\", \"Autres/Institutionnel\", \"Autres/Ind\\u00e9pendants\", \"Sf/Horreur\", \"Historique/Historique\", \"Historique/Guerre\", \"Crime/Gangsters\", \"Sf/Fantastique\", \"Autres/Famille\", \"Action/Espionnage\", \"Drame/Drame\", \"Drame/Dramatique\", \"Documentaire/Documentaire\", \"Animation/Dessins Anim\\u00e9s\", \"Musical/Danse\", \"Crime/Crime\", \"Musical/Com\\u00e9die Musicale\", \"Action/Catastrophe\", \"Aventure/Cape Et D'\\u00c9p\\u00e9e\", \"Historique/Biographie\", \"Aventure/Aventure\", \"Autres/Arts Martiaux\", \"Autres/Art\", \"Animation/Animation\", \"Autres/Muet\", \"Musical/Musicaux\", \"Documentaire/Nature\", \"Com\\u00e9die/Non Sp\\u00e9cifi\\u00e9\", \"Musical\", \"Historique\", \"Drame\", \"Documentaire\", \"Crime\", \"Com\\u00e9die\", \"Aventure\", \"Autres\", \"Animation\", \"Amour\", \"Action\", \"Documentaire/Actualit\\u00e9s\", \"Aventure/Western\", \"Autres/Sport\", \"Autres/Sketches\", \"Amour/Sexualite\", \"Sf/Science-Fiction\", \"Amour/Romantique\", \"Aventure/Road Movie\", \"Historique/P\\u00e9plum\", \"Crime/Policier\", \"Aventure/Pirate\", \"Musical/Op\\u00e9ra\", \"Non Sp\\u00e9cifi\\u00e9/Non Sp\\u00e9cifi\\u00e9\", \"Crime/Thriller\", \"Non Sp\\u00e9cifi\\u00e9\", \"Action/Action\", \"Amour/Sexualite/\\u00c9rotique\", \"Drame/Dramatique/Non Sp\\u00e9cifi\\u00e9\", \"Documentaire/Documentaire/Non Sp\\u00e9cifi\\u00e9\", \"Animation/Dessins Anim\\u00e9s/Non Sp\\u00e9cifi\\u00e9\", \"Musical/Danse/Non Sp\\u00e9cifi\\u00e9\", \"Crime/Crime/Non Sp\\u00e9cifi\\u00e9\", \"Musical/Com\\u00e9die Musicale/Non Sp\\u00e9cifi\\u00e9\", \"Action/Catastrophe/Non Sp\\u00e9cifi\\u00e9\", \"Aventure/Cape Et D'\\u00c9p\\u00e9e/Non Sp\\u00e9cifi\\u00e9\", \"Historique/Biographie/Non Sp\\u00e9cifi\\u00e9\", \"Aventure/Aventure/Non Sp\\u00e9cifi\\u00e9\", \"Autres/Arts Martiaux/Non Sp\\u00e9cifi\\u00e9\", \"Animation/Animation/Non Sp\\u00e9cifi\\u00e9\", \"Documentaire/Actualit\\u00e9s/Non Sp\\u00e9cifi\\u00e9\", \"Action/Action/Non Sp\\u00e9cifi\\u00e9\", \"Autres/Famille/Jeunes\", \"Autres/Ind\\u00e9pendants/Ind\\u00e9pendants\", \"Autres/Art/Fiction\", \"Sf/Fantastique/Fantastique\", \"Autres/Famille/Famille\", \"Autres/Art/Exp\\u00e9rimental\", \"Autres/Famille/Enfants\", \"Autres/Art/Collage\", \"Autres/Art/Art\", \"Drame/Drame/Non Sp\\u00e9cifi\\u00e9\", \"Action/Espionnage/Non Sp\\u00e9cifi\\u00e9\", \"Crime/Gangsters/Non Sp\\u00e9cifi\\u00e9\", \"Historique/Guerre/Non Sp\\u00e9cifi\\u00e9\", \"Autres/Institutionnel/\\u00c9ducatif\", \"Sf/Fantastique/Vampire\", \"Autres/Institutionnel/Religion\", \"Autres/Institutionnel/Propagande\", \"Amour/Sexualite/Pornographie\", \"Autres/Institutionnel/Politique\", \"Aventure/Western/Non Sp\\u00e9cifi\\u00e9\", \"Crime/Thriller/Non Sp\\u00e9cifi\\u00e9\", \"Autres/Sport/Non Sp\\u00e9cifi\\u00e9\", \"Autres/Sketches/Non Sp\\u00e9cifi\\u00e9\", \"Sf/Science-Fiction/Non Sp\\u00e9cifi\\u00e9\", \"Autres/Ind\\u00e9pendants/\\u00c9tudiants\", \"Amour/Romantique/Non Sp\\u00e9cifi\\u00e9\", \"Historique/P\\u00e9plum/Non Sp\\u00e9cifi\\u00e9\", \"Crime/Policier/Non Sp\\u00e9cifi\\u00e9\", \"Aventure/Pirate/Non Sp\\u00e9cifi\\u00e9\", \"Musical/Op\\u00e9ra/Non Sp\\u00e9cifi\\u00e9\", \"Non Sp\\u00e9cifi\\u00e9/Non Sp\\u00e9cifi\\u00e9/Non Sp\\u00e9cifi\\u00e9\", \"Com\\u00e9die/Non Sp\\u00e9cifi\\u00e9/Non Sp\\u00e9cifi\\u00e9\", \"Documentaire/Nature/Non Sp\\u00e9cifi\\u00e9\", \"Musical/Musicaux/Non Sp\\u00e9cifi\\u00e9\", \"Autres/Muet/Non Sp\\u00e9cifi\\u00e9\", \"Sf/Horreur/Non Sp\\u00e9cifi\\u00e9\", \"Historique/Historique/Non Sp\\u00e9cifi\\u00e9\", \"Aventure/Road Movie/Non Sp\\u00e9cifi\\u00e9\", \"Sf\"], \"insidetextorientation\": \"radial\", \"labels\": [\"Amateur\", \"Institutionnel\", \"Ind\\u00e9pendants\", \"Horreur\", \"Historique\", \"Guerre\", \"Gangsters\", \"Fantastique\", \"Famille\", \"Espionnage\", \"Drame\", \"Dramatique\", \"Documentaire\", \"Dessins Anim\\u00e9s\", \"Danse\", \"Crime\", \"Com\\u00e9die Musicale\", \"Catastrophe\", \"Cape Et D'\\u00c9p\\u00e9e\", \"Biographie\", \"Aventure\", \"Arts Martiaux\", \"Art\", \"Animation\", \"Muet\", \"Musicaux\", \"Nature\", \"Non Sp\\u00e9cifi\\u00e9\", \"Musical\", \"Historique\", \"Drame\", \"Documentaire\", \"Crime\", \"Com\\u00e9die\", \"Aventure\", \"Autres\", \"Animation\", \"Amour\", \"Action\", \"Actualit\\u00e9s\", \"Western\", \"Sport\", \"Sketches\", \"Sexualite\", \"Science-Fiction\", \"Romantique\", \"Road Movie\", \"P\\u00e9plum\", \"Policier\", \"Pirate\", \"Op\\u00e9ra\", \"Non Sp\\u00e9cifi\\u00e9\", \"Thriller\", \"Non Sp\\u00e9cifi\\u00e9\", \"Action\", \"\\u00c9rotique\", \"Non Sp\\u00e9cifi\\u00e9\", \"Non Sp\\u00e9cifi\\u00e9\", \"Non Sp\\u00e9cifi\\u00e9\", \"Non Sp\\u00e9cifi\\u00e9\", \"Non Sp\\u00e9cifi\\u00e9\", \"Non Sp\\u00e9cifi\\u00e9\", \"Non Sp\\u00e9cifi\\u00e9\", \"Non Sp\\u00e9cifi\\u00e9\", \"Non Sp\\u00e9cifi\\u00e9\", \"Non Sp\\u00e9cifi\\u00e9\", \"Non Sp\\u00e9cifi\\u00e9\", \"Non Sp\\u00e9cifi\\u00e9\", \"Non Sp\\u00e9cifi\\u00e9\", \"Non Sp\\u00e9cifi\\u00e9\", \"Jeunes\", \"Ind\\u00e9pendants\", \"Fiction\", \"Fantastique\", \"Famille\", \"Exp\\u00e9rimental\", \"Enfants\", \"Collage\", \"Art\", \"Non Sp\\u00e9cifi\\u00e9\", \"Non Sp\\u00e9cifi\\u00e9\", \"Non Sp\\u00e9cifi\\u00e9\", \"Non Sp\\u00e9cifi\\u00e9\", \"\\u00c9ducatif\", \"Vampire\", \"Religion\", \"Propagande\", \"Pornographie\", \"Politique\", \"Non Sp\\u00e9cifi\\u00e9\", \"Non Sp\\u00e9cifi\\u00e9\", \"Non Sp\\u00e9cifi\\u00e9\", \"Non Sp\\u00e9cifi\\u00e9\", \"Non Sp\\u00e9cifi\\u00e9\", \"\\u00c9tudiants\", \"Non Sp\\u00e9cifi\\u00e9\", \"Non Sp\\u00e9cifi\\u00e9\", \"Non Sp\\u00e9cifi\\u00e9\", \"Non Sp\\u00e9cifi\\u00e9\", \"Non Sp\\u00e9cifi\\u00e9\", \"Non Sp\\u00e9cifi\\u00e9\", \"Non Sp\\u00e9cifi\\u00e9\", \"Non Sp\\u00e9cifi\\u00e9\", \"Non Sp\\u00e9cifi\\u00e9\", \"Non Sp\\u00e9cifi\\u00e9\", \"Non Sp\\u00e9cifi\\u00e9\", \"Non Sp\\u00e9cifi\\u00e9\", \"Non Sp\\u00e9cifi\\u00e9\", \"Sf\"], \"marker\": {\"colors\": [\"rgb(102, 197, 204)\", \"rgb(102, 197, 204)\", \"rgb(102, 197, 204)\", \"rgb(246, 207, 113)\", \"rgb(248, 156, 116)\", \"rgb(248, 156, 116)\", \"rgb(220, 176, 242)\", \"rgb(246, 207, 113)\", \"rgb(102, 197, 204)\", \"rgb(135, 197, 95)\", \"rgb(158, 185, 243)\", \"rgb(158, 185, 243)\", \"rgb(254, 136, 177)\", \"rgb(201, 219, 116)\", \"rgb(139, 224, 164)\", \"rgb(220, 176, 242)\", \"rgb(139, 224, 164)\", \"rgb(135, 197, 95)\", \"rgb(180, 151, 231)\", \"rgb(248, 156, 116)\", \"rgb(180, 151, 231)\", \"rgb(102, 197, 204)\", \"rgb(102, 197, 204)\", \"rgb(201, 219, 116)\", \"rgb(102, 197, 204)\", \"rgb(139, 224, 164)\", \"rgb(254, 136, 177)\", \"rgb(179, 179, 179)\", \"rgb(139, 224, 164)\", \"rgb(248, 156, 116)\", \"rgb(158, 185, 243)\", \"rgb(254, 136, 177)\", \"rgb(220, 176, 242)\", \"rgb(179, 179, 179)\", \"rgb(180, 151, 231)\", \"rgb(102, 197, 204)\", \"rgb(201, 219, 116)\", \"rgb(102, 197, 204)\", \"rgb(135, 197, 95)\", \"rgb(254, 136, 177)\", \"rgb(180, 151, 231)\", \"rgb(102, 197, 204)\", \"rgb(102, 197, 204)\", \"rgb(102, 197, 204)\", \"rgb(246, 207, 113)\", \"rgb(102, 197, 204)\", \"rgb(180, 151, 231)\", \"rgb(248, 156, 116)\", \"rgb(220, 176, 242)\", \"rgb(180, 151, 231)\", \"rgb(139, 224, 164)\", \"rgb(246, 207, 113)\", \"rgb(220, 176, 242)\", \"rgb(246, 207, 113)\", \"rgb(135, 197, 95)\", \"rgb(102, 197, 204)\", \"rgb(158, 185, 243)\", \"rgb(254, 136, 177)\", \"rgb(201, 219, 116)\", \"rgb(139, 224, 164)\", \"rgb(220, 176, 242)\", \"rgb(139, 224, 164)\", \"rgb(135, 197, 95)\", \"rgb(180, 151, 231)\", \"rgb(248, 156, 116)\", \"rgb(180, 151, 231)\", \"rgb(102, 197, 204)\", \"rgb(201, 219, 116)\", \"rgb(254, 136, 177)\", \"rgb(135, 197, 95)\", \"rgb(102, 197, 204)\", \"rgb(102, 197, 204)\", \"rgb(102, 197, 204)\", \"rgb(246, 207, 113)\", \"rgb(102, 197, 204)\", \"rgb(102, 197, 204)\", \"rgb(102, 197, 204)\", \"rgb(102, 197, 204)\", \"rgb(102, 197, 204)\", \"rgb(158, 185, 243)\", \"rgb(135, 197, 95)\", \"rgb(220, 176, 242)\", \"rgb(248, 156, 116)\", \"rgb(102, 197, 204)\", \"rgb(246, 207, 113)\", \"rgb(102, 197, 204)\", \"rgb(102, 197, 204)\", \"rgb(102, 197, 204)\", \"rgb(102, 197, 204)\", \"rgb(180, 151, 231)\", \"rgb(220, 176, 242)\", \"rgb(102, 197, 204)\", \"rgb(102, 197, 204)\", \"rgb(246, 207, 113)\", \"rgb(102, 197, 204)\", \"rgb(102, 197, 204)\", \"rgb(248, 156, 116)\", \"rgb(220, 176, 242)\", \"rgb(180, 151, 231)\", \"rgb(139, 224, 164)\", \"rgb(246, 207, 113)\", \"rgb(179, 179, 179)\", \"rgb(254, 136, 177)\", \"rgb(139, 224, 164)\", \"rgb(102, 197, 204)\", \"rgb(246, 207, 113)\", \"rgb(248, 156, 116)\", \"rgb(180, 151, 231)\", \"rgb(246, 207, 113)\"]}, \"maxdepth\": -1, \"name\": \"\", \"parents\": [\"Autres/Ind\\u00e9pendants\", \"Autres\", \"Autres\", \"Sf\", \"Historique\", \"Historique\", \"Crime\", \"Sf\", \"Autres\", \"Action\", \"Drame\", \"Drame\", \"Documentaire\", \"Animation\", \"Musical\", \"Crime\", \"Musical\", \"Action\", \"Aventure\", \"Historique\", \"Aventure\", \"Autres\", \"Autres\", \"Animation\", \"Autres\", \"Musical\", \"Documentaire\", \"Com\\u00e9die\", \"\", \"\", \"\", \"\", \"\", \"\", \"\", \"\", \"\", \"\", \"\", \"Documentaire\", \"Aventure\", \"Autres\", \"Autres\", \"Amour\", \"Sf\", \"Amour\", \"Aventure\", \"Historique\", \"Crime\", \"Aventure\", \"Musical\", \"Non Sp\\u00e9cifi\\u00e9\", \"Crime\", \"\", \"Action\", \"Amour/Sexualite\", \"Drame/Dramatique\", \"Documentaire/Documentaire\", \"Animation/Dessins Anim\\u00e9s\", \"Musical/Danse\", \"Crime/Crime\", \"Musical/Com\\u00e9die Musicale\", \"Action/Catastrophe\", \"Aventure/Cape Et D'\\u00c9p\\u00e9e\", \"Historique/Biographie\", \"Aventure/Aventure\", \"Autres/Arts Martiaux\", \"Animation/Animation\", \"Documentaire/Actualit\\u00e9s\", \"Action/Action\", \"Autres/Famille\", \"Autres/Ind\\u00e9pendants\", \"Autres/Art\", \"Sf/Fantastique\", \"Autres/Famille\", \"Autres/Art\", \"Autres/Famille\", \"Autres/Art\", \"Autres/Art\", \"Drame/Drame\", \"Action/Espionnage\", \"Crime/Gangsters\", \"Historique/Guerre\", \"Autres/Institutionnel\", \"Sf/Fantastique\", \"Autres/Institutionnel\", \"Autres/Institutionnel\", \"Amour/Sexualite\", \"Autres/Institutionnel\", \"Aventure/Western\", \"Crime/Thriller\", \"Autres/Sport\", \"Autres/Sketches\", \"Sf/Science-Fiction\", \"Autres/Ind\\u00e9pendants\", \"Amour/Romantique\", \"Historique/P\\u00e9plum\", \"Crime/Policier\", \"Aventure/Pirate\", \"Musical/Op\\u00e9ra\", \"Non Sp\\u00e9cifi\\u00e9/Non Sp\\u00e9cifi\\u00e9\", \"Com\\u00e9die/Non Sp\\u00e9cifi\\u00e9\", \"Documentaire/Nature\", \"Musical/Musicaux\", \"Autres/Muet\", \"Sf/Horreur\", \"Historique/Historique\", \"Aventure/Road Movie\", \"\"], \"textinfo\": \"label+percent parent\", \"type\": \"sunburst\", \"values\": [269, 1607, 5148, 2291, 586, 830, 31, 425, 1559, 63, 4406, 4406, 12010, 1829, 174, 1349, 205, 6, 14, 749, 1119, 160, 3171, 5915, 295, 369, 199, 5060, 759, 2175, 8812, 12498, 3736, 5060, 2153, 12648, 7744, 1414, 1415, 289, 958, 581, 127, 478, 1441, 936, 48, 10, 207, 14, 11, 12476, 2149, 12476, 1346, 169, 4406, 12010, 1829, 174, 1349, 205, 6, 14, 749, 1119, 160, 5915, 289, 1346, 512, 4286, 614, 309, 535, 1187, 512, 7, 1363, 4406, 63, 31, 830, 842, 116, 242, 32, 309, 491, 958, 2149, 581, 127, 1441, 593, 936, 10, 207, 14, 11, 12476, 5060, 199, 369, 295, 2291, 586, 48, 4157]}],                        {\"height\": 800, \"legend\": {\"tracegroupgap\": 0}, \"margin\": {\"t\": 60}, \"sunburstcolorway\": [\"rgb(102, 197, 204)\", \"rgb(246, 207, 113)\", \"rgb(248, 156, 116)\", \"rgb(220, 176, 242)\", \"rgb(135, 197, 95)\", \"rgb(158, 185, 243)\", \"rgb(254, 136, 177)\", \"rgb(201, 219, 116)\", \"rgb(139, 224, 164)\", \"rgb(180, 151, 231)\", \"rgb(179, 179, 179)\"], \"template\": {\"data\": {\"bar\": [{\"error_x\": {\"color\": \"#2a3f5f\"}, \"error_y\": {\"color\": \"#2a3f5f\"}, \"marker\": {\"line\": {\"color\": \"#E5ECF6\", \"width\": 0.5}}, \"type\": \"bar\"}], \"barpolar\": [{\"marker\": {\"line\": {\"color\": \"#E5ECF6\", \"width\": 0.5}}, \"type\": \"barpolar\"}], \"carpet\": [{\"aaxis\": {\"endlinecolor\": \"#2a3f5f\", \"gridcolor\": \"white\", \"linecolor\": \"white\", \"minorgridcolor\": \"white\", \"startlinecolor\": \"#2a3f5f\"}, \"baxis\": {\"endlinecolor\": \"#2a3f5f\", \"gridcolor\": \"white\", \"linecolor\": \"white\", \"minorgridcolor\": \"white\", \"startlinecolor\": \"#2a3f5f\"}, \"type\": \"carpet\"}], \"choropleth\": [{\"colorbar\": {\"outlinewidth\": 0, \"ticks\": \"\"}, \"type\": \"choropleth\"}], \"contour\": [{\"colorbar\": {\"outlinewidth\": 0, \"ticks\": \"\"}, \"colorscale\": [[0.0, \"#0d0887\"], [0.1111111111111111, \"#46039f\"], [0.2222222222222222, \"#7201a8\"], [0.3333333333333333, \"#9c179e\"], [0.4444444444444444, \"#bd3786\"], [0.5555555555555556, \"#d8576b\"], [0.6666666666666666, \"#ed7953\"], [0.7777777777777778, \"#fb9f3a\"], [0.8888888888888888, \"#fdca26\"], [1.0, \"#f0f921\"]], \"type\": \"contour\"}], \"contourcarpet\": [{\"colorbar\": {\"outlinewidth\": 0, \"ticks\": \"\"}, \"type\": \"contourcarpet\"}], \"heatmap\": [{\"colorbar\": {\"outlinewidth\": 0, \"ticks\": \"\"}, \"colorscale\": [[0.0, \"#0d0887\"], [0.1111111111111111, \"#46039f\"], [0.2222222222222222, \"#7201a8\"], [0.3333333333333333, \"#9c179e\"], [0.4444444444444444, \"#bd3786\"], [0.5555555555555556, \"#d8576b\"], [0.6666666666666666, \"#ed7953\"], [0.7777777777777778, \"#fb9f3a\"], [0.8888888888888888, \"#fdca26\"], [1.0, \"#f0f921\"]], \"type\": \"heatmap\"}], \"heatmapgl\": [{\"colorbar\": {\"outlinewidth\": 0, \"ticks\": \"\"}, \"colorscale\": [[0.0, \"#0d0887\"], [0.1111111111111111, \"#46039f\"], [0.2222222222222222, \"#7201a8\"], [0.3333333333333333, \"#9c179e\"], [0.4444444444444444, \"#bd3786\"], [0.5555555555555556, \"#d8576b\"], [0.6666666666666666, \"#ed7953\"], [0.7777777777777778, \"#fb9f3a\"], [0.8888888888888888, \"#fdca26\"], [1.0, \"#f0f921\"]], \"type\": \"heatmapgl\"}], \"histogram\": [{\"marker\": {\"colorbar\": {\"outlinewidth\": 0, \"ticks\": \"\"}}, \"type\": \"histogram\"}], \"histogram2d\": [{\"colorbar\": {\"outlinewidth\": 0, \"ticks\": \"\"}, \"colorscale\": [[0.0, \"#0d0887\"], [0.1111111111111111, \"#46039f\"], [0.2222222222222222, \"#7201a8\"], [0.3333333333333333, \"#9c179e\"], [0.4444444444444444, \"#bd3786\"], [0.5555555555555556, \"#d8576b\"], [0.6666666666666666, \"#ed7953\"], [0.7777777777777778, \"#fb9f3a\"], [0.8888888888888888, \"#fdca26\"], [1.0, \"#f0f921\"]], \"type\": \"histogram2d\"}], \"histogram2dcontour\": [{\"colorbar\": {\"outlinewidth\": 0, \"ticks\": \"\"}, \"colorscale\": [[0.0, \"#0d0887\"], [0.1111111111111111, \"#46039f\"], [0.2222222222222222, \"#7201a8\"], [0.3333333333333333, \"#9c179e\"], [0.4444444444444444, \"#bd3786\"], [0.5555555555555556, \"#d8576b\"], [0.6666666666666666, \"#ed7953\"], [0.7777777777777778, \"#fb9f3a\"], [0.8888888888888888, \"#fdca26\"], [1.0, \"#f0f921\"]], \"type\": \"histogram2dcontour\"}], \"mesh3d\": [{\"colorbar\": {\"outlinewidth\": 0, \"ticks\": \"\"}, \"type\": \"mesh3d\"}], \"parcoords\": [{\"line\": {\"colorbar\": {\"outlinewidth\": 0, \"ticks\": \"\"}}, \"type\": \"parcoords\"}], \"pie\": [{\"automargin\": true, \"type\": \"pie\"}], \"scatter\": [{\"marker\": {\"colorbar\": {\"outlinewidth\": 0, \"ticks\": \"\"}}, \"type\": \"scatter\"}], \"scatter3d\": [{\"line\": {\"colorbar\": {\"outlinewidth\": 0, \"ticks\": \"\"}}, \"marker\": {\"colorbar\": {\"outlinewidth\": 0, \"ticks\": \"\"}}, \"type\": \"scatter3d\"}], \"scattercarpet\": [{\"marker\": {\"colorbar\": {\"outlinewidth\": 0, \"ticks\": \"\"}}, \"type\": \"scattercarpet\"}], \"scattergeo\": [{\"marker\": {\"colorbar\": {\"outlinewidth\": 0, \"ticks\": \"\"}}, \"type\": \"scattergeo\"}], \"scattergl\": [{\"marker\": {\"colorbar\": {\"outlinewidth\": 0, \"ticks\": \"\"}}, \"type\": \"scattergl\"}], \"scattermapbox\": [{\"marker\": {\"colorbar\": {\"outlinewidth\": 0, \"ticks\": \"\"}}, \"type\": \"scattermapbox\"}], \"scatterpolar\": [{\"marker\": {\"colorbar\": {\"outlinewidth\": 0, \"ticks\": \"\"}}, \"type\": \"scatterpolar\"}], \"scatterpolargl\": [{\"marker\": {\"colorbar\": {\"outlinewidth\": 0, \"ticks\": \"\"}}, \"type\": \"scatterpolargl\"}], \"scatterternary\": [{\"marker\": {\"colorbar\": {\"outlinewidth\": 0, \"ticks\": \"\"}}, \"type\": \"scatterternary\"}], \"surface\": [{\"colorbar\": {\"outlinewidth\": 0, \"ticks\": \"\"}, \"colorscale\": [[0.0, \"#0d0887\"], [0.1111111111111111, \"#46039f\"], [0.2222222222222222, \"#7201a8\"], [0.3333333333333333, \"#9c179e\"], [0.4444444444444444, \"#bd3786\"], [0.5555555555555556, \"#d8576b\"], [0.6666666666666666, \"#ed7953\"], [0.7777777777777778, \"#fb9f3a\"], [0.8888888888888888, \"#fdca26\"], [1.0, \"#f0f921\"]], \"type\": \"surface\"}], \"table\": [{\"cells\": {\"fill\": {\"color\": \"#EBF0F8\"}, \"line\": {\"color\": \"white\"}}, \"header\": {\"fill\": {\"color\": \"#C8D4E3\"}, \"line\": {\"color\": \"white\"}}, \"type\": \"table\"}]}, \"layout\": {\"annotationdefaults\": {\"arrowcolor\": \"#2a3f5f\", \"arrowhead\": 0, \"arrowwidth\": 1}, \"autotypenumbers\": \"strict\", \"coloraxis\": {\"colorbar\": {\"outlinewidth\": 0, \"ticks\": \"\"}}, \"colorscale\": {\"diverging\": [[0, \"#8e0152\"], [0.1, \"#c51b7d\"], [0.2, \"#de77ae\"], [0.3, \"#f1b6da\"], [0.4, \"#fde0ef\"], [0.5, \"#f7f7f7\"], [0.6, \"#e6f5d0\"], [0.7, \"#b8e186\"], [0.8, \"#7fbc41\"], [0.9, \"#4d9221\"], [1, \"#276419\"]], \"sequential\": [[0.0, \"#0d0887\"], [0.1111111111111111, \"#46039f\"], [0.2222222222222222, \"#7201a8\"], [0.3333333333333333, \"#9c179e\"], [0.4444444444444444, \"#bd3786\"], [0.5555555555555556, \"#d8576b\"], [0.6666666666666666, \"#ed7953\"], [0.7777777777777778, \"#fb9f3a\"], [0.8888888888888888, \"#fdca26\"], [1.0, \"#f0f921\"]], \"sequentialminus\": [[0.0, \"#0d0887\"], [0.1111111111111111, \"#46039f\"], [0.2222222222222222, \"#7201a8\"], [0.3333333333333333, \"#9c179e\"], [0.4444444444444444, \"#bd3786\"], [0.5555555555555556, \"#d8576b\"], [0.6666666666666666, \"#ed7953\"], [0.7777777777777778, \"#fb9f3a\"], [0.8888888888888888, \"#fdca26\"], [1.0, \"#f0f921\"]]}, \"colorway\": [\"#636efa\", \"#EF553B\", \"#00cc96\", \"#ab63fa\", \"#FFA15A\", \"#19d3f3\", \"#FF6692\", \"#B6E880\", \"#FF97FF\", \"#FECB52\"], \"font\": {\"color\": \"#2a3f5f\"}, \"geo\": {\"bgcolor\": \"white\", \"lakecolor\": \"white\", \"landcolor\": \"#E5ECF6\", \"showlakes\": true, \"showland\": true, \"subunitcolor\": \"white\"}, \"hoverlabel\": {\"align\": \"left\"}, \"hovermode\": \"closest\", \"mapbox\": {\"style\": \"light\"}, \"paper_bgcolor\": \"white\", \"plot_bgcolor\": \"#E5ECF6\", \"polar\": {\"angularaxis\": {\"gridcolor\": \"white\", \"linecolor\": \"white\", \"ticks\": \"\"}, \"bgcolor\": \"#E5ECF6\", \"radialaxis\": {\"gridcolor\": \"white\", \"linecolor\": \"white\", \"ticks\": \"\"}}, \"scene\": {\"xaxis\": {\"backgroundcolor\": \"#E5ECF6\", \"gridcolor\": \"white\", \"gridwidth\": 2, \"linecolor\": \"white\", \"showbackground\": true, \"ticks\": \"\", \"zerolinecolor\": \"white\"}, \"yaxis\": {\"backgroundcolor\": \"#E5ECF6\", \"gridcolor\": \"white\", \"gridwidth\": 2, \"linecolor\": \"white\", \"showbackground\": true, \"ticks\": \"\", \"zerolinecolor\": \"white\"}, \"zaxis\": {\"backgroundcolor\": \"#E5ECF6\", \"gridcolor\": \"white\", \"gridwidth\": 2, \"linecolor\": \"white\", \"showbackground\": true, \"ticks\": \"\", \"zerolinecolor\": \"white\"}}, \"shapedefaults\": {\"line\": {\"color\": \"#2a3f5f\"}}, \"ternary\": {\"aaxis\": {\"gridcolor\": \"white\", \"linecolor\": \"white\", \"ticks\": \"\"}, \"baxis\": {\"gridcolor\": \"white\", \"linecolor\": \"white\", \"ticks\": \"\"}, \"bgcolor\": \"#E5ECF6\", \"caxis\": {\"gridcolor\": \"white\", \"linecolor\": \"white\", \"ticks\": \"\"}}, \"title\": {\"x\": 0.05}, \"xaxis\": {\"automargin\": true, \"gridcolor\": \"white\", \"linecolor\": \"white\", \"ticks\": \"\", \"title\": {\"standoff\": 15}, \"zerolinecolor\": \"white\", \"zerolinewidth\": 2}, \"yaxis\": {\"automargin\": true, \"gridcolor\": \"white\", \"linecolor\": \"white\", \"ticks\": \"\", \"title\": {\"standoff\": 15}, \"zerolinecolor\": \"white\", \"zerolinewidth\": 2}}}, \"title\": {\"text\": \"Hi\\u00e9rarchie des diff\\u00e9rents genres cin\\u00e9matographiques\"}, \"uniformtext\": {\"minsize\": 10}, \"width\": 800},                        {\"responsive\": true}                    ).then(function(){\n",
       "                            \n",
       "var gd = document.getElementById('863eb492-5b57-4c3d-8d3f-fe6769dc08e1');\n",
       "var x = new MutationObserver(function (mutations, observer) {{\n",
       "        var display = window.getComputedStyle(gd).display;\n",
       "        if (!display || display === 'none') {{\n",
       "            console.log([gd, 'removed!']);\n",
       "            Plotly.purge(gd);\n",
       "            observer.disconnect();\n",
       "        }}\n",
       "}});\n",
       "\n",
       "// Listen for the removal of the full notebook cells\n",
       "var notebookContainer = gd.closest('#notebook-container');\n",
       "if (notebookContainer) {{\n",
       "    x.observe(notebookContainer, {childList: true});\n",
       "}}\n",
       "\n",
       "// Listen for the clearing of the current output cell\n",
       "var outputEl = gd.closest('.output');\n",
       "if (outputEl) {{\n",
       "    x.observe(outputEl, {childList: true});\n",
       "}}\n",
       "\n",
       "                        })                };                });            </script>        </div>"
      ]
     },
     "metadata": {},
     "output_type": "display_data"
    }
   ],
   "source": [
    "temp_df[\"genre\"] = temp_df[\"genre\"].fillna(\"Non Spécifié\")\n",
    "temp_df[\"sousGenre0\"] = temp_df[\"sousGenre0\"].fillna(\"Non Spécifié\")\n",
    "temp_df[\"sousGenre1\"] = temp_df[\"sousGenre1\"].fillna(\"Non Spécifié\")\n",
    "\n",
    "fig = px.sunburst(\n",
    "    data_frame=temp_df,\n",
    "    path=[\"genre\", \"sousGenre0\", \"sousGenre1\"], # root, branches, leaves\n",
    "    maxdepth=-1,\n",
    "    branchvalues='total',\n",
    "    color=\"genre\",\n",
    "    color_discrete_sequence=px.colors.qualitative.Pastel,\n",
    ")\n",
    "\n",
    "#fig.update_traces(textinfo='label+percent entry')\n",
    "fig.update_traces(\n",
    "    #insidetextfont_\n",
    "    insidetextorientation='radial',\n",
    "    textinfo='label+percent parent',\n",
    ")\n",
    "\n",
    "fig.update_layout(\n",
    "    width=800,\n",
    "    height=800,\n",
    "    title='Hiérarchie des différents genres cinématographiques',\n",
    "    uniformtext_minsize=10,\n",
    "    )\n",
    "    \n",
    "fig.show()"
   ]
  },
  {
   "cell_type": "code",
   "execution_count": 343,
   "metadata": {},
   "outputs": [
    {
     "data": {
      "application/json": {
       "data": [
        {
         "branchvalues": "total",
         "customdata": [
          [
           "Autres"
          ],
          [
           "Autres"
          ],
          [
           "Autres"
          ],
          [
           "Sf"
          ],
          [
           "Historique"
          ],
          [
           "Historique"
          ],
          [
           "Crime"
          ],
          [
           "Sf"
          ],
          [
           "Autres"
          ],
          [
           "Action"
          ],
          [
           "Drame"
          ],
          [
           "Drame"
          ],
          [
           "Documentaire"
          ],
          [
           "Animation"
          ],
          [
           "Musical"
          ],
          [
           "Crime"
          ],
          [
           "Musical"
          ],
          [
           "Action"
          ],
          [
           "Aventure"
          ],
          [
           "Historique"
          ],
          [
           "Aventure"
          ],
          [
           "Autres"
          ],
          [
           "Autres"
          ],
          [
           "Animation"
          ],
          [
           "Autres"
          ],
          [
           "Musical"
          ],
          [
           "Documentaire"
          ],
          [
           "Comédie"
          ],
          [
           "Musical"
          ],
          [
           "Historique"
          ],
          [
           "Drame"
          ],
          [
           "Documentaire"
          ],
          [
           "Crime"
          ],
          [
           "Comédie"
          ],
          [
           "Aventure"
          ],
          [
           "Autres"
          ],
          [
           "Animation"
          ],
          [
           "Amour"
          ],
          [
           "Action"
          ],
          [
           "Documentaire"
          ],
          [
           "Aventure"
          ],
          [
           "Autres"
          ],
          [
           "Autres"
          ],
          [
           "Amour"
          ],
          [
           "Sf"
          ],
          [
           "Amour"
          ],
          [
           "Aventure"
          ],
          [
           "Historique"
          ],
          [
           "Crime"
          ],
          [
           "Aventure"
          ],
          [
           "Musical"
          ],
          [
           "Non Spécifié"
          ],
          [
           "Crime"
          ],
          [
           "Non Spécifié"
          ],
          [
           "Action"
          ],
          [
           "Amour"
          ],
          [
           "Drame"
          ],
          [
           "Documentaire"
          ],
          [
           "Animation"
          ],
          [
           "Musical"
          ],
          [
           "Crime"
          ],
          [
           "Musical"
          ],
          [
           "Action"
          ],
          [
           "Aventure"
          ],
          [
           "Historique"
          ],
          [
           "Aventure"
          ],
          [
           "Autres"
          ],
          [
           "Animation"
          ],
          [
           "Documentaire"
          ],
          [
           "Action"
          ],
          [
           "Autres"
          ],
          [
           "Autres"
          ],
          [
           "Autres"
          ],
          [
           "Sf"
          ],
          [
           "Autres"
          ],
          [
           "Autres"
          ],
          [
           "Autres"
          ],
          [
           "Autres"
          ],
          [
           "Autres"
          ],
          [
           "Drame"
          ],
          [
           "Action"
          ],
          [
           "Crime"
          ],
          [
           "Historique"
          ],
          [
           "Autres"
          ],
          [
           "Sf"
          ],
          [
           "Autres"
          ],
          [
           "Autres"
          ],
          [
           "Amour"
          ],
          [
           "Autres"
          ],
          [
           "Aventure"
          ],
          [
           "Crime"
          ],
          [
           "Autres"
          ],
          [
           "Autres"
          ],
          [
           "Sf"
          ],
          [
           "Autres"
          ],
          [
           "Amour"
          ],
          [
           "Historique"
          ],
          [
           "Crime"
          ],
          [
           "Aventure"
          ],
          [
           "Musical"
          ],
          [
           "Non Spécifié"
          ],
          [
           "Comédie"
          ],
          [
           "Documentaire"
          ],
          [
           "Musical"
          ],
          [
           "Autres"
          ],
          [
           "Sf"
          ],
          [
           "Historique"
          ],
          [
           "Aventure"
          ],
          [
           "Sf"
          ]
         ],
         "domain": {
          "x": [
           0,
           1
          ],
          "y": [
           0,
           1
          ]
         },
         "hoverlabel": {
          "align": "left",
          "font": {
           "family": "Arial, sans-serif",
           "size": 13
          },
          "namelength": -1
         },
         "hovertemplate": "labels=%{label}<br>count=%{value}<br>parent=%{parent}<br>id=%{id}<br>genre=%{customdata[0]}<extra></extra>",
         "hovertext": "",
         "ids": [
          "Autres/Indépendants/Amateur",
          "Autres/Institutionnel",
          "Autres/Indépendants",
          "Sf/Horreur",
          "Historique/Historique",
          "Historique/Guerre",
          "Crime/Gangsters",
          "Sf/Fantastique",
          "Autres/Famille",
          "Action/Espionnage",
          "Drame/Drame",
          "Drame/Dramatique",
          "Documentaire/Documentaire",
          "Animation/Dessins Animés",
          "Musical/Danse",
          "Crime/Crime",
          "Musical/Comédie Musicale",
          "Action/Catastrophe",
          "Aventure/Cape Et D'Épée",
          "Historique/Biographie",
          "Aventure/Aventure",
          "Autres/Arts Martiaux",
          "Autres/Art",
          "Animation/Animation",
          "Autres/Muet",
          "Musical/Musicaux",
          "Documentaire/Nature",
          "Comédie/Non Spécifié",
          "Musical",
          "Historique",
          "Drame",
          "Documentaire",
          "Crime",
          "Comédie",
          "Aventure",
          "Autres",
          "Animation",
          "Amour",
          "Action",
          "Documentaire/Actualités",
          "Aventure/Western",
          "Autres/Sport",
          "Autres/Sketches",
          "Amour/Sexualite",
          "Sf/Science-Fiction",
          "Amour/Romantique",
          "Aventure/Road Movie",
          "Historique/Péplum",
          "Crime/Policier",
          "Aventure/Pirate",
          "Musical/Opéra",
          "Non Spécifié/Non Spécifié",
          "Crime/Thriller",
          "Non Spécifié",
          "Action/Action",
          "Amour/Sexualite/Érotique",
          "Drame/Dramatique/Non Spécifié",
          "Documentaire/Documentaire/Non Spécifié",
          "Animation/Dessins Animés/Non Spécifié",
          "Musical/Danse/Non Spécifié",
          "Crime/Crime/Non Spécifié",
          "Musical/Comédie Musicale/Non Spécifié",
          "Action/Catastrophe/Non Spécifié",
          "Aventure/Cape Et D'Épée/Non Spécifié",
          "Historique/Biographie/Non Spécifié",
          "Aventure/Aventure/Non Spécifié",
          "Autres/Arts Martiaux/Non Spécifié",
          "Animation/Animation/Non Spécifié",
          "Documentaire/Actualités/Non Spécifié",
          "Action/Action/Non Spécifié",
          "Autres/Famille/Jeunes",
          "Autres/Indépendants/Indépendants",
          "Autres/Art/Fiction",
          "Sf/Fantastique/Fantastique",
          "Autres/Famille/Famille",
          "Autres/Art/Expérimental",
          "Autres/Famille/Enfants",
          "Autres/Art/Collage",
          "Autres/Art/Art",
          "Drame/Drame/Non Spécifié",
          "Action/Espionnage/Non Spécifié",
          "Crime/Gangsters/Non Spécifié",
          "Historique/Guerre/Non Spécifié",
          "Autres/Institutionnel/Éducatif",
          "Sf/Fantastique/Vampire",
          "Autres/Institutionnel/Religion",
          "Autres/Institutionnel/Propagande",
          "Amour/Sexualite/Pornographie",
          "Autres/Institutionnel/Politique",
          "Aventure/Western/Non Spécifié",
          "Crime/Thriller/Non Spécifié",
          "Autres/Sport/Non Spécifié",
          "Autres/Sketches/Non Spécifié",
          "Sf/Science-Fiction/Non Spécifié",
          "Autres/Indépendants/Étudiants",
          "Amour/Romantique/Non Spécifié",
          "Historique/Péplum/Non Spécifié",
          "Crime/Policier/Non Spécifié",
          "Aventure/Pirate/Non Spécifié",
          "Musical/Opéra/Non Spécifié",
          "Non Spécifié/Non Spécifié/Non Spécifié",
          "Comédie/Non Spécifié/Non Spécifié",
          "Documentaire/Nature/Non Spécifié",
          "Musical/Musicaux/Non Spécifié",
          "Autres/Muet/Non Spécifié",
          "Sf/Horreur/Non Spécifié",
          "Historique/Historique/Non Spécifié",
          "Aventure/Road Movie/Non Spécifié",
          "Sf"
         ],
         "insidetextfont": {
          "family": "\"Open Sans\", verdana, arial, sans-serif",
          "size": 12
         },
         "insidetextorientation": "radial",
         "labels": [
          "Amateur",
          "Institutionnel",
          "Indépendants",
          "Horreur",
          "Historique",
          "Guerre",
          "Gangsters",
          "Fantastique",
          "Famille",
          "Espionnage",
          "Drame",
          "Dramatique",
          "Documentaire",
          "Dessins Animés",
          "Danse",
          "Crime",
          "Comédie Musicale",
          "Catastrophe",
          "Cape Et D'Épée",
          "Biographie",
          "Aventure",
          "Arts Martiaux",
          "Art",
          "Animation",
          "Muet",
          "Musicaux",
          "Nature",
          "Non Spécifié",
          "Musical",
          "Historique",
          "Drame",
          "Documentaire",
          "Crime",
          "Comédie",
          "Aventure",
          "Autres",
          "Animation",
          "Amour",
          "Action",
          "Actualités",
          "Western",
          "Sport",
          "Sketches",
          "Sexualite",
          "Science-Fiction",
          "Romantique",
          "Road Movie",
          "Péplum",
          "Policier",
          "Pirate",
          "Opéra",
          "Non Spécifié",
          "Thriller",
          "Non Spécifié",
          "Action",
          "Érotique",
          "Non Spécifié",
          "Non Spécifié",
          "Non Spécifié",
          "Non Spécifié",
          "Non Spécifié",
          "Non Spécifié",
          "Non Spécifié",
          "Non Spécifié",
          "Non Spécifié",
          "Non Spécifié",
          "Non Spécifié",
          "Non Spécifié",
          "Non Spécifié",
          "Non Spécifié",
          "Jeunes",
          "Indépendants",
          "Fiction",
          "Fantastique",
          "Famille",
          "Expérimental",
          "Enfants",
          "Collage",
          "Art",
          "Non Spécifié",
          "Non Spécifié",
          "Non Spécifié",
          "Non Spécifié",
          "Éducatif",
          "Vampire",
          "Religion",
          "Propagande",
          "Pornographie",
          "Politique",
          "Non Spécifié",
          "Non Spécifié",
          "Non Spécifié",
          "Non Spécifié",
          "Non Spécifié",
          "Étudiants",
          "Non Spécifié",
          "Non Spécifié",
          "Non Spécifié",
          "Non Spécifié",
          "Non Spécifié",
          "Non Spécifié",
          "Non Spécifié",
          "Non Spécifié",
          "Non Spécifié",
          "Non Spécifié",
          "Non Spécifié",
          "Non Spécifié",
          "Non Spécifié",
          "Sf"
         ],
         "leaf": {
          "opacity": 0.7
         },
         "marker": {
          "colors": [
           "rgb(102, 197, 204)",
           "rgb(102, 197, 204)",
           "rgb(102, 197, 204)",
           "rgb(246, 207, 113)",
           "rgb(248, 156, 116)",
           "rgb(248, 156, 116)",
           "rgb(220, 176, 242)",
           "rgb(246, 207, 113)",
           "rgb(102, 197, 204)",
           "rgb(135, 197, 95)",
           "rgb(158, 185, 243)",
           "rgb(158, 185, 243)",
           "rgb(254, 136, 177)",
           "rgb(201, 219, 116)",
           "rgb(139, 224, 164)",
           "rgb(220, 176, 242)",
           "rgb(139, 224, 164)",
           "rgb(135, 197, 95)",
           "rgb(180, 151, 231)",
           "rgb(248, 156, 116)",
           "rgb(180, 151, 231)",
           "rgb(102, 197, 204)",
           "rgb(102, 197, 204)",
           "rgb(201, 219, 116)",
           "rgb(102, 197, 204)",
           "rgb(139, 224, 164)",
           "rgb(254, 136, 177)",
           "rgb(179, 179, 179)",
           "rgb(139, 224, 164)",
           "rgb(248, 156, 116)",
           "rgb(158, 185, 243)",
           "rgb(254, 136, 177)",
           "rgb(220, 176, 242)",
           "rgb(179, 179, 179)",
           "rgb(180, 151, 231)",
           "rgb(102, 197, 204)",
           "rgb(201, 219, 116)",
           "rgb(102, 197, 204)",
           "rgb(135, 197, 95)",
           "rgb(254, 136, 177)",
           "rgb(180, 151, 231)",
           "rgb(102, 197, 204)",
           "rgb(102, 197, 204)",
           "rgb(102, 197, 204)",
           "rgb(246, 207, 113)",
           "rgb(102, 197, 204)",
           "rgb(180, 151, 231)",
           "rgb(248, 156, 116)",
           "rgb(220, 176, 242)",
           "rgb(180, 151, 231)",
           "rgb(139, 224, 164)",
           "rgb(246, 207, 113)",
           "rgb(220, 176, 242)",
           "rgb(246, 207, 113)",
           "rgb(135, 197, 95)",
           "rgb(102, 197, 204)",
           "rgb(158, 185, 243)",
           "rgb(254, 136, 177)",
           "rgb(201, 219, 116)",
           "rgb(139, 224, 164)",
           "rgb(220, 176, 242)",
           "rgb(139, 224, 164)",
           "rgb(135, 197, 95)",
           "rgb(180, 151, 231)",
           "rgb(248, 156, 116)",
           "rgb(180, 151, 231)",
           "rgb(102, 197, 204)",
           "rgb(201, 219, 116)",
           "rgb(254, 136, 177)",
           "rgb(135, 197, 95)",
           "rgb(102, 197, 204)",
           "rgb(102, 197, 204)",
           "rgb(102, 197, 204)",
           "rgb(246, 207, 113)",
           "rgb(102, 197, 204)",
           "rgb(102, 197, 204)",
           "rgb(102, 197, 204)",
           "rgb(102, 197, 204)",
           "rgb(102, 197, 204)",
           "rgb(158, 185, 243)",
           "rgb(135, 197, 95)",
           "rgb(220, 176, 242)",
           "rgb(248, 156, 116)",
           "rgb(102, 197, 204)",
           "rgb(246, 207, 113)",
           "rgb(102, 197, 204)",
           "rgb(102, 197, 204)",
           "rgb(102, 197, 204)",
           "rgb(102, 197, 204)",
           "rgb(180, 151, 231)",
           "rgb(220, 176, 242)",
           "rgb(102, 197, 204)",
           "rgb(102, 197, 204)",
           "rgb(246, 207, 113)",
           "rgb(102, 197, 204)",
           "rgb(102, 197, 204)",
           "rgb(248, 156, 116)",
           "rgb(220, 176, 242)",
           "rgb(180, 151, 231)",
           "rgb(139, 224, 164)",
           "rgb(246, 207, 113)",
           "rgb(179, 179, 179)",
           "rgb(254, 136, 177)",
           "rgb(139, 224, 164)",
           "rgb(102, 197, 204)",
           "rgb(246, 207, 113)",
           "rgb(248, 156, 116)",
           "rgb(180, 151, 231)",
           "rgb(246, 207, 113)"
          ],
          "line": {
           "color": "white",
           "width": 1
          }
         },
         "maxdepth": -1,
         "name": "",
         "opacity": 1,
         "outsidetextfont": {
          "color": "#2a3f5f",
          "family": "\"Open Sans\", verdana, arial, sans-serif",
          "size": 12
         },
         "parents": [
          "Autres/Indépendants",
          "Autres",
          "Autres",
          "Sf",
          "Historique",
          "Historique",
          "Crime",
          "Sf",
          "Autres",
          "Action",
          "Drame",
          "Drame",
          "Documentaire",
          "Animation",
          "Musical",
          "Crime",
          "Musical",
          "Action",
          "Aventure",
          "Historique",
          "Aventure",
          "Autres",
          "Autres",
          "Animation",
          "Autres",
          "Musical",
          "Documentaire",
          "Comédie",
          "",
          "",
          "",
          "",
          "",
          "",
          "",
          "",
          "",
          "",
          "",
          "Documentaire",
          "Aventure",
          "Autres",
          "Autres",
          "Amour",
          "Sf",
          "Amour",
          "Aventure",
          "Historique",
          "Crime",
          "Aventure",
          "Musical",
          "Non Spécifié",
          "Crime",
          "",
          "Action",
          "Amour/Sexualite",
          "Drame/Dramatique",
          "Documentaire/Documentaire",
          "Animation/Dessins Animés",
          "Musical/Danse",
          "Crime/Crime",
          "Musical/Comédie Musicale",
          "Action/Catastrophe",
          "Aventure/Cape Et D'Épée",
          "Historique/Biographie",
          "Aventure/Aventure",
          "Autres/Arts Martiaux",
          "Animation/Animation",
          "Documentaire/Actualités",
          "Action/Action",
          "Autres/Famille",
          "Autres/Indépendants",
          "Autres/Art",
          "Sf/Fantastique",
          "Autres/Famille",
          "Autres/Art",
          "Autres/Famille",
          "Autres/Art",
          "Autres/Art",
          "Drame/Drame",
          "Action/Espionnage",
          "Crime/Gangsters",
          "Historique/Guerre",
          "Autres/Institutionnel",
          "Sf/Fantastique",
          "Autres/Institutionnel",
          "Autres/Institutionnel",
          "Amour/Sexualite",
          "Autres/Institutionnel",
          "Aventure/Western",
          "Crime/Thriller",
          "Autres/Sport",
          "Autres/Sketches",
          "Sf/Science-Fiction",
          "Autres/Indépendants",
          "Amour/Romantique",
          "Historique/Péplum",
          "Crime/Policier",
          "Aventure/Pirate",
          "Musical/Opéra",
          "Non Spécifié/Non Spécifié",
          "Comédie/Non Spécifié",
          "Documentaire/Nature",
          "Musical/Musicaux",
          "Autres/Muet",
          "Sf/Horreur",
          "Historique/Historique",
          "Aventure/Road Movie",
          ""
         ],
         "root": {
          "color": "rgba(0,0,0,0)"
         },
         "rotation": 0,
         "sort": true,
         "textfont": {
          "color": "#2a3f5f",
          "family": "\"Open Sans\", verdana, arial, sans-serif",
          "size": 12
         },
         "textinfo": "label+percent parent",
         "texttemplate": "",
         "type": "sunburst",
         "uid": "aa909c",
         "values": [
          269,
          1607,
          5148,
          2291,
          586,
          830,
          31,
          425,
          1559,
          63,
          4406,
          4406,
          12010,
          1829,
          174,
          1349,
          205,
          6,
          14,
          749,
          1119,
          160,
          3171,
          5915,
          295,
          369,
          199,
          5060,
          759,
          2175,
          8812,
          12498,
          3736,
          5060,
          2153,
          12648,
          7744,
          1414,
          1415,
          289,
          958,
          581,
          127,
          478,
          1441,
          936,
          48,
          10,
          207,
          14,
          11,
          12476,
          2149,
          12476,
          1346,
          169,
          4406,
          12010,
          1829,
          174,
          1349,
          205,
          6,
          14,
          749,
          1119,
          160,
          5915,
          289,
          1346,
          512,
          4286,
          614,
          309,
          535,
          1187,
          512,
          7,
          1363,
          4406,
          63,
          31,
          830,
          842,
          116,
          242,
          32,
          309,
          491,
          958,
          2149,
          581,
          127,
          1441,
          593,
          936,
          10,
          207,
          14,
          11,
          12476,
          5060,
          199,
          369,
          295,
          2291,
          586,
          48,
          4157
         ],
         "visible": true
        }
       ],
       "layout": {
        "activeshape": {
         "fillcolor": "rgb(255,0,255)",
         "opacity": 0.5
        },
        "autosize": false,
        "autotypenumbers": "strict",
        "calendar": "gregorian",
        "clickmode": "event",
        "colorscale": {
         "diverging": [
          [
           0,
           "#8e0152"
          ],
          [
           0.1,
           "#c51b7d"
          ],
          [
           0.2,
           "#de77ae"
          ],
          [
           0.3,
           "#f1b6da"
          ],
          [
           0.4,
           "#fde0ef"
          ],
          [
           0.5,
           "#f7f7f7"
          ],
          [
           0.6,
           "#e6f5d0"
          ],
          [
           0.7,
           "#b8e186"
          ],
          [
           0.8,
           "#7fbc41"
          ],
          [
           0.9,
           "#4d9221"
          ],
          [
           1,
           "#276419"
          ]
         ],
         "sequential": [
          [
           0,
           "#0d0887"
          ],
          [
           0.1111111111111111,
           "#46039f"
          ],
          [
           0.2222222222222222,
           "#7201a8"
          ],
          [
           0.3333333333333333,
           "#9c179e"
          ],
          [
           0.4444444444444444,
           "#bd3786"
          ],
          [
           0.5555555555555556,
           "#d8576b"
          ],
          [
           0.6666666666666666,
           "#ed7953"
          ],
          [
           0.7777777777777778,
           "#fb9f3a"
          ],
          [
           0.8888888888888888,
           "#fdca26"
          ],
          [
           1,
           "#f0f921"
          ]
         ],
         "sequentialminus": [
          [
           0,
           "#0d0887"
          ],
          [
           0.1111111111111111,
           "#46039f"
          ],
          [
           0.2222222222222222,
           "#7201a8"
          ],
          [
           0.3333333333333333,
           "#9c179e"
          ],
          [
           0.4444444444444444,
           "#bd3786"
          ],
          [
           0.5555555555555556,
           "#d8576b"
          ],
          [
           0.6666666666666666,
           "#ed7953"
          ],
          [
           0.7777777777777778,
           "#fb9f3a"
          ],
          [
           0.8888888888888888,
           "#fdca26"
          ],
          [
           1,
           "#f0f921"
          ]
         ]
        },
        "colorway": [
         "#636efa",
         "#EF553B",
         "#00cc96",
         "#ab63fa",
         "#FFA15A",
         "#19d3f3",
         "#FF6692",
         "#B6E880",
         "#FF97FF",
         "#FECB52"
        ],
        "computed": {
         "margin": {
          "b": 80,
          "l": 80,
          "r": 80,
          "t": 60
         }
        },
        "dragmode": "zoom",
        "extendsunburstcolors": true,
        "font": {
         "color": "#2a3f5f",
         "family": "\"Open Sans\", verdana, arial, sans-serif",
         "size": 12
        },
        "height": 800,
        "hidesources": false,
        "hoverdistance": 20,
        "hoverlabel": {
         "align": "left",
         "font": {
          "family": "Arial, sans-serif",
          "size": 13
         },
         "namelength": 15
        },
        "hovermode": "closest",
        "margin": {
         "autoexpand": true,
         "b": 80,
         "l": 80,
         "pad": 0,
         "r": 80,
         "t": 60
        },
        "modebar": {
         "activecolor": "rgba(68, 68, 68, 0.7)",
         "bgcolor": "rgba(255, 255, 255, 0.5)",
         "color": "rgba(68, 68, 68, 0.3)",
         "orientation": "h"
        },
        "newshape": {
         "drawdirection": "diagonal",
         "fillcolor": "rgba(0,0,0,0)",
         "fillrule": "evenodd",
         "layer": "above",
         "line": {
          "color": "#444",
          "dash": "solid",
          "width": 4
         },
         "opacity": 1
        },
        "paper_bgcolor": "white",
        "separators": ".,",
        "showlegend": false,
        "spikedistance": 20,
        "sunburstcolorway": [
         "rgb(102, 197, 204)",
         "rgb(246, 207, 113)",
         "rgb(248, 156, 116)",
         "rgb(220, 176, 242)",
         "rgb(135, 197, 95)",
         "rgb(158, 185, 243)",
         "rgb(254, 136, 177)",
         "rgb(201, 219, 116)",
         "rgb(139, 224, 164)",
         "rgb(180, 151, 231)",
         "rgb(179, 179, 179)"
        ],
        "template": {
         "data": {
          "bar": [
           {
            "error_x": {
             "color": "#2a3f5f"
            },
            "error_y": {
             "color": "#2a3f5f"
            },
            "marker": {
             "line": {
              "color": "#E5ECF6",
              "width": 0.5
             }
            },
            "type": "bar"
           }
          ],
          "barpolar": [
           {
            "marker": {
             "line": {
              "color": "#E5ECF6",
              "width": 0.5
             }
            },
            "type": "barpolar"
           }
          ],
          "carpet": [
           {
            "aaxis": {
             "endlinecolor": "#2a3f5f",
             "gridcolor": "white",
             "linecolor": "white",
             "minorgridcolor": "white",
             "startlinecolor": "#2a3f5f"
            },
            "baxis": {
             "endlinecolor": "#2a3f5f",
             "gridcolor": "white",
             "linecolor": "white",
             "minorgridcolor": "white",
             "startlinecolor": "#2a3f5f"
            },
            "type": "carpet"
           }
          ],
          "choropleth": [
           {
            "colorbar": {
             "outlinewidth": 0,
             "ticks": ""
            },
            "type": "choropleth"
           }
          ],
          "contour": [
           {
            "colorbar": {
             "outlinewidth": 0,
             "ticks": ""
            },
            "colorscale": [
             [
              0,
              "#0d0887"
             ],
             [
              0.1111111111111111,
              "#46039f"
             ],
             [
              0.2222222222222222,
              "#7201a8"
             ],
             [
              0.3333333333333333,
              "#9c179e"
             ],
             [
              0.4444444444444444,
              "#bd3786"
             ],
             [
              0.5555555555555556,
              "#d8576b"
             ],
             [
              0.6666666666666666,
              "#ed7953"
             ],
             [
              0.7777777777777778,
              "#fb9f3a"
             ],
             [
              0.8888888888888888,
              "#fdca26"
             ],
             [
              1,
              "#f0f921"
             ]
            ],
            "type": "contour"
           }
          ],
          "contourcarpet": [
           {
            "colorbar": {
             "outlinewidth": 0,
             "ticks": ""
            },
            "type": "contourcarpet"
           }
          ],
          "heatmap": [
           {
            "colorbar": {
             "outlinewidth": 0,
             "ticks": ""
            },
            "colorscale": [
             [
              0,
              "#0d0887"
             ],
             [
              0.1111111111111111,
              "#46039f"
             ],
             [
              0.2222222222222222,
              "#7201a8"
             ],
             [
              0.3333333333333333,
              "#9c179e"
             ],
             [
              0.4444444444444444,
              "#bd3786"
             ],
             [
              0.5555555555555556,
              "#d8576b"
             ],
             [
              0.6666666666666666,
              "#ed7953"
             ],
             [
              0.7777777777777778,
              "#fb9f3a"
             ],
             [
              0.8888888888888888,
              "#fdca26"
             ],
             [
              1,
              "#f0f921"
             ]
            ],
            "type": "heatmap"
           }
          ],
          "heatmapgl": [
           {
            "colorbar": {
             "outlinewidth": 0,
             "ticks": ""
            },
            "colorscale": [
             [
              0,
              "#0d0887"
             ],
             [
              0.1111111111111111,
              "#46039f"
             ],
             [
              0.2222222222222222,
              "#7201a8"
             ],
             [
              0.3333333333333333,
              "#9c179e"
             ],
             [
              0.4444444444444444,
              "#bd3786"
             ],
             [
              0.5555555555555556,
              "#d8576b"
             ],
             [
              0.6666666666666666,
              "#ed7953"
             ],
             [
              0.7777777777777778,
              "#fb9f3a"
             ],
             [
              0.8888888888888888,
              "#fdca26"
             ],
             [
              1,
              "#f0f921"
             ]
            ],
            "type": "heatmapgl"
           }
          ],
          "histogram": [
           {
            "marker": {
             "colorbar": {
              "outlinewidth": 0,
              "ticks": ""
             }
            },
            "type": "histogram"
           }
          ],
          "histogram2d": [
           {
            "colorbar": {
             "outlinewidth": 0,
             "ticks": ""
            },
            "colorscale": [
             [
              0,
              "#0d0887"
             ],
             [
              0.1111111111111111,
              "#46039f"
             ],
             [
              0.2222222222222222,
              "#7201a8"
             ],
             [
              0.3333333333333333,
              "#9c179e"
             ],
             [
              0.4444444444444444,
              "#bd3786"
             ],
             [
              0.5555555555555556,
              "#d8576b"
             ],
             [
              0.6666666666666666,
              "#ed7953"
             ],
             [
              0.7777777777777778,
              "#fb9f3a"
             ],
             [
              0.8888888888888888,
              "#fdca26"
             ],
             [
              1,
              "#f0f921"
             ]
            ],
            "type": "histogram2d"
           }
          ],
          "histogram2dcontour": [
           {
            "colorbar": {
             "outlinewidth": 0,
             "ticks": ""
            },
            "colorscale": [
             [
              0,
              "#0d0887"
             ],
             [
              0.1111111111111111,
              "#46039f"
             ],
             [
              0.2222222222222222,
              "#7201a8"
             ],
             [
              0.3333333333333333,
              "#9c179e"
             ],
             [
              0.4444444444444444,
              "#bd3786"
             ],
             [
              0.5555555555555556,
              "#d8576b"
             ],
             [
              0.6666666666666666,
              "#ed7953"
             ],
             [
              0.7777777777777778,
              "#fb9f3a"
             ],
             [
              0.8888888888888888,
              "#fdca26"
             ],
             [
              1,
              "#f0f921"
             ]
            ],
            "type": "histogram2dcontour"
           }
          ],
          "mesh3d": [
           {
            "colorbar": {
             "outlinewidth": 0,
             "ticks": ""
            },
            "type": "mesh3d"
           }
          ],
          "parcoords": [
           {
            "line": {
             "colorbar": {
              "outlinewidth": 0,
              "ticks": ""
             }
            },
            "type": "parcoords"
           }
          ],
          "pie": [
           {
            "automargin": true,
            "type": "pie"
           }
          ],
          "scatter": [
           {
            "marker": {
             "colorbar": {
              "outlinewidth": 0,
              "ticks": ""
             }
            },
            "type": "scatter"
           }
          ],
          "scatter3d": [
           {
            "line": {
             "colorbar": {
              "outlinewidth": 0,
              "ticks": ""
             }
            },
            "marker": {
             "colorbar": {
              "outlinewidth": 0,
              "ticks": ""
             }
            },
            "type": "scatter3d"
           }
          ],
          "scattercarpet": [
           {
            "marker": {
             "colorbar": {
              "outlinewidth": 0,
              "ticks": ""
             }
            },
            "type": "scattercarpet"
           }
          ],
          "scattergeo": [
           {
            "marker": {
             "colorbar": {
              "outlinewidth": 0,
              "ticks": ""
             }
            },
            "type": "scattergeo"
           }
          ],
          "scattergl": [
           {
            "marker": {
             "colorbar": {
              "outlinewidth": 0,
              "ticks": ""
             }
            },
            "type": "scattergl"
           }
          ],
          "scattermapbox": [
           {
            "marker": {
             "colorbar": {
              "outlinewidth": 0,
              "ticks": ""
             }
            },
            "type": "scattermapbox"
           }
          ],
          "scatterpolar": [
           {
            "marker": {
             "colorbar": {
              "outlinewidth": 0,
              "ticks": ""
             }
            },
            "type": "scatterpolar"
           }
          ],
          "scatterpolargl": [
           {
            "marker": {
             "colorbar": {
              "outlinewidth": 0,
              "ticks": ""
             }
            },
            "type": "scatterpolargl"
           }
          ],
          "scatterternary": [
           {
            "marker": {
             "colorbar": {
              "outlinewidth": 0,
              "ticks": ""
             }
            },
            "type": "scatterternary"
           }
          ],
          "surface": [
           {
            "colorbar": {
             "outlinewidth": 0,
             "ticks": ""
            },
            "colorscale": [
             [
              0,
              "#0d0887"
             ],
             [
              0.1111111111111111,
              "#46039f"
             ],
             [
              0.2222222222222222,
              "#7201a8"
             ],
             [
              0.3333333333333333,
              "#9c179e"
             ],
             [
              0.4444444444444444,
              "#bd3786"
             ],
             [
              0.5555555555555556,
              "#d8576b"
             ],
             [
              0.6666666666666666,
              "#ed7953"
             ],
             [
              0.7777777777777778,
              "#fb9f3a"
             ],
             [
              0.8888888888888888,
              "#fdca26"
             ],
             [
              1,
              "#f0f921"
             ]
            ],
            "type": "surface"
           }
          ],
          "table": [
           {
            "cells": {
             "fill": {
              "color": "#EBF0F8"
             },
             "line": {
              "color": "white"
             }
            },
            "header": {
             "fill": {
              "color": "#C8D4E3"
             },
             "line": {
              "color": "white"
             }
            },
            "type": "table"
           }
          ]
         },
         "layout": {
          "annotationdefaults": {
           "arrowcolor": "#2a3f5f",
           "arrowhead": 0,
           "arrowwidth": 1
          },
          "autotypenumbers": "strict",
          "coloraxis": {
           "colorbar": {
            "outlinewidth": 0,
            "ticks": ""
           }
          },
          "colorscale": {
           "diverging": [
            [
             0,
             "#8e0152"
            ],
            [
             0.1,
             "#c51b7d"
            ],
            [
             0.2,
             "#de77ae"
            ],
            [
             0.3,
             "#f1b6da"
            ],
            [
             0.4,
             "#fde0ef"
            ],
            [
             0.5,
             "#f7f7f7"
            ],
            [
             0.6,
             "#e6f5d0"
            ],
            [
             0.7,
             "#b8e186"
            ],
            [
             0.8,
             "#7fbc41"
            ],
            [
             0.9,
             "#4d9221"
            ],
            [
             1,
             "#276419"
            ]
           ],
           "sequential": [
            [
             0,
             "#0d0887"
            ],
            [
             0.1111111111111111,
             "#46039f"
            ],
            [
             0.2222222222222222,
             "#7201a8"
            ],
            [
             0.3333333333333333,
             "#9c179e"
            ],
            [
             0.4444444444444444,
             "#bd3786"
            ],
            [
             0.5555555555555556,
             "#d8576b"
            ],
            [
             0.6666666666666666,
             "#ed7953"
            ],
            [
             0.7777777777777778,
             "#fb9f3a"
            ],
            [
             0.8888888888888888,
             "#fdca26"
            ],
            [
             1,
             "#f0f921"
            ]
           ],
           "sequentialminus": [
            [
             0,
             "#0d0887"
            ],
            [
             0.1111111111111111,
             "#46039f"
            ],
            [
             0.2222222222222222,
             "#7201a8"
            ],
            [
             0.3333333333333333,
             "#9c179e"
            ],
            [
             0.4444444444444444,
             "#bd3786"
            ],
            [
             0.5555555555555556,
             "#d8576b"
            ],
            [
             0.6666666666666666,
             "#ed7953"
            ],
            [
             0.7777777777777778,
             "#fb9f3a"
            ],
            [
             0.8888888888888888,
             "#fdca26"
            ],
            [
             1,
             "#f0f921"
            ]
           ]
          },
          "colorway": [
           "#636efa",
           "#EF553B",
           "#00cc96",
           "#ab63fa",
           "#FFA15A",
           "#19d3f3",
           "#FF6692",
           "#B6E880",
           "#FF97FF",
           "#FECB52"
          ],
          "font": {
           "color": "#2a3f5f"
          },
          "geo": {
           "bgcolor": "white",
           "lakecolor": "white",
           "landcolor": "#E5ECF6",
           "showlakes": true,
           "showland": true,
           "subunitcolor": "white"
          },
          "hoverlabel": {
           "align": "left"
          },
          "hovermode": "closest",
          "mapbox": {
           "style": "light"
          },
          "paper_bgcolor": "white",
          "plot_bgcolor": "#E5ECF6",
          "polar": {
           "angularaxis": {
            "gridcolor": "white",
            "linecolor": "white",
            "ticks": ""
           },
           "bgcolor": "#E5ECF6",
           "radialaxis": {
            "gridcolor": "white",
            "linecolor": "white",
            "ticks": ""
           }
          },
          "scene": {
           "xaxis": {
            "backgroundcolor": "#E5ECF6",
            "gridcolor": "white",
            "gridwidth": 2,
            "linecolor": "white",
            "showbackground": true,
            "ticks": "",
            "zerolinecolor": "white"
           },
           "yaxis": {
            "backgroundcolor": "#E5ECF6",
            "gridcolor": "white",
            "gridwidth": 2,
            "linecolor": "white",
            "showbackground": true,
            "ticks": "",
            "zerolinecolor": "white"
           },
           "zaxis": {
            "backgroundcolor": "#E5ECF6",
            "gridcolor": "white",
            "gridwidth": 2,
            "linecolor": "white",
            "showbackground": true,
            "ticks": "",
            "zerolinecolor": "white"
           }
          },
          "shapedefaults": {
           "line": {
            "color": "#2a3f5f"
           }
          },
          "ternary": {
           "aaxis": {
            "gridcolor": "white",
            "linecolor": "white",
            "ticks": ""
           },
           "baxis": {
            "gridcolor": "white",
            "linecolor": "white",
            "ticks": ""
           },
           "bgcolor": "#E5ECF6",
           "caxis": {
            "gridcolor": "white",
            "linecolor": "white",
            "ticks": ""
           }
          },
          "title": {
           "x": 0.05
          },
          "xaxis": {
           "automargin": true,
           "gridcolor": "white",
           "linecolor": "white",
           "ticks": "",
           "title": {
            "standoff": 15
           },
           "zerolinecolor": "white",
           "zerolinewidth": 2
          },
          "yaxis": {
           "automargin": true,
           "gridcolor": "white",
           "linecolor": "white",
           "ticks": "",
           "title": {
            "standoff": 15
           },
           "zerolinecolor": "white",
           "zerolinewidth": 2
          }
         }
        },
        "title": {
         "font": {
          "color": "#2a3f5f",
          "family": "\"Open Sans\", verdana, arial, sans-serif",
          "size": 17
         },
         "pad": {
          "b": 0,
          "l": 0,
          "r": 0,
          "t": 0
         },
         "text": "Hiérarchie des différents genres cinématographiques",
         "x": 0.05,
         "xanchor": "auto",
         "xref": "container",
         "yanchor": "auto",
         "yref": "container"
        },
        "uniformtext": {
         "mode": false
        },
        "width": 800
       }
      }
     },
     "metadata": {},
     "output_type": "display_data"
    }
   ],
   "source": [
    "fig.full_figure_for_development(warn=False).show('json')"
   ]
  },
  {
   "cell_type": "code",
   "execution_count": 319,
   "metadata": {},
   "outputs": [],
   "source": [
    "temp_df = film_df.replace(r'^\\s*$', None, regex=True)\n",
    "        \n",
    "# Clean year, title and genre\n",
    "temp_df, count_dropped_no_title = clean_title_column(df=temp_df)\n",
    "temp_df, count_dropped_no_year, count_filtered_year_greater_now = clean_year_column(df=temp_df)\n",
    "temp_df, count_dropped_no_genre = clean_genre_column(df=temp_df)\n",
    "\n",
    "\n",
    "# Create levels \n",
    "genre = (temp_df\n",
    "    .groupby(['genre'])\n",
    "    .size()\n",
    "    #.drop(None, errors='ignore')\n",
    ")\n",
    "subgenre0 = (temp_df\n",
    "    .groupby(['sousGenre0'])\n",
    "    .size()\n",
    "    #.drop(None, errors='ignore')\n",
    ")\n",
    "subgenre1 = (temp_df\n",
    "    .groupby(['sousGenre1'])\n",
    "    .size()\n",
    "    #.drop(None, errors='ignore')\n",
    ")\n",
    "\n",
    "# Create \"values\"\n",
    "genre_values = genre.to_list()\n",
    "subgenre0_values = subgenre0.to_list()\n",
    "subgenre1_values = subgenre1.to_list()\n",
    "#values = [*genre_values, *subgenre0_values, *subgenre1_values] \n",
    "values = [*genre_values, *subgenre0_values] \n",
    "#values = [*genre_values] \n",
    "\n",
    "# Create \"labels\"\n",
    "genre_labels = genre.index.values.tolist()\n",
    "subgenre0_labels = subgenre0.index.values.tolist()\n",
    "subgenre1_labels = subgenre1.index.values.tolist()\n",
    "#labels = [*genre_labels, *subgenre0_labels, *subgenre1_labels] \n",
    "labels = [*genre_labels, *subgenre0_labels] \n",
    "#labels = [*genre_labels] \n",
    "\n",
    "# Create \"parents\"\n",
    "genre_parents = [''] * len(genre_values) # No parents for level 1\n",
    "subgenre0_tuples = (temp_df\n",
    "    .groupby(['sousGenre0', 'genre'])\n",
    "    .size()\n",
    "    #.drop(\".\", errors='ignore')\n",
    "    .index\n",
    "    .values\n",
    ")\n",
    "subgenre0_parents = [i[1] for i in subgenre0_tuples]  \n",
    "subgenre1_tuples = (temp_df\n",
    "    .groupby(['sousGenre1', 'sousGenre0'])\n",
    "    .size()\n",
    "    #.drop(\".\", errors='ignore')\n",
    "    .index\n",
    "    .values\n",
    ") \n",
    "subgenre1_parents = [i[1] for i in subgenre1_tuples]\n",
    "#parents = [*genre_parents, *subgenre0_parents, *subgenre1_parents] \n",
    "parents = [*genre_parents, *subgenre0_parents]\n",
    "#parents = [*genre_parents]\n",
    "\n",
    "# Create sunburst_df \n",
    "sunburst_df = pd.DataFrame({\n",
    "    'labels': labels,\n",
    "    'parents': parents, \n",
    "    'values': values\n",
    "})"
   ]
  },
  {
   "cell_type": "code",
   "execution_count": 266,
   "metadata": {},
   "outputs": [
    {
     "data": {
      "application/vnd.plotly.v1+json": {
       "config": {
        "plotlyServerURL": "https://plot.ly"
       },
       "data": [
        {
         "branchvalues": "total",
         "domain": {
          "x": [
           0,
           1
          ],
          "y": [
           0,
           1
          ]
         },
         "hoverinfo": "label+text+value",
         "hoverlabel": {
          "align": "left",
          "font": {
           "family": "Arial, sans-serif",
           "size": 13
          },
          "namelength": 15
         },
         "hovertemplate": "",
         "hovertext": "",
         "insidetextfont": {
          "family": "\"Open Sans\", verdana, arial, sans-serif",
          "size": 12
         },
         "insidetextorientation": "radial",
         "labels": [
          "Action",
          "Amour",
          "Animation",
          "Autres",
          "Aventure",
          "Comédie",
          "Crime",
          "Documentaire",
          "Drame",
          "Historique",
          "Musical",
          "Sf",
          "Action",
          "Actualités",
          "Animation",
          "Art",
          "Arts Martiaux",
          "Aventure",
          "Biographie",
          "Cape Et D'Épée",
          "Catastrophe",
          "Comédie Musicale",
          "Crime",
          "Danse",
          "Dessins Animés",
          "Documentaire",
          "Dramatique",
          "Espionnage",
          "Famille",
          "Fantastique",
          "Gangsters",
          "Guerre",
          "Horreur",
          "Indépendants",
          "Institutionnel",
          "Muet",
          "Nature",
          "Opéra",
          "Pirate",
          "Policier",
          "Péplum",
          "Road Movie",
          "Romantique",
          "Science-Fiction",
          "Sexualite",
          "Sketches",
          "Sport",
          "Thriller",
          "Western",
          "Amateur",
          "Art",
          "Collage",
          "Enfants",
          "Expérimental",
          "Fantastique",
          "Fiction",
          "Indépendants",
          "Politique",
          "Pornographie",
          "Propagande",
          "Religion",
          "Vampire",
          "Éducatif",
          "Érotique",
          "Étudiants"
         ],
         "leaf": {
          "opacity": 1
         },
         "marker": {
          "autocolorscale": false,
          "cauto": true,
          "colorscale": [
           [
            0,
            "#e2d9e2"
           ],
           [
            0.1111111111111111,
            "#9ebbc9"
           ],
           [
            0.2222222222222222,
            "#6785be"
           ],
           [
            0.3333333333333333,
            "#5e43a5"
           ],
           [
            0.4444444444444444,
            "#421257"
           ],
           [
            0.5555555555555556,
            "#471340"
           ],
           [
            0.6666666666666666,
            "#8e2c50"
           ],
           [
            0.7777777777777778,
            "#ba6657"
           ],
           [
            0.8888888888888888,
            "#ceac94"
           ],
           [
            1,
            "#e2d9e2"
           ]
          ],
          "line": {
           "color": "white",
           "width": 1
          },
          "reversescale": false,
          "showscale": false
         },
         "maxdepth": 3,
         "name": "trace 0",
         "opacity": 1,
         "outsidetextfont": {
          "color": "#2a3f5f",
          "family": "\"Open Sans\", verdana, arial, sans-serif",
          "size": 12
         },
         "parents": [
          "",
          "",
          "",
          "",
          "",
          "",
          "",
          "",
          "",
          "",
          "",
          "",
          "Action",
          "Documentaire",
          "Animation",
          "Autres",
          "Autres",
          "Aventure",
          "Historique",
          "Aventure",
          "Action",
          "Musical",
          "Crime",
          "Musical",
          "Animation",
          "Documentaire",
          "Drame",
          "Action",
          "Autres",
          "Sf",
          "Crime",
          "Historique",
          "Sf",
          "Autres",
          "Autres",
          "Autres",
          "Documentaire",
          "Musical",
          "Aventure",
          "Crime",
          "Historique",
          "Aventure",
          "Amour",
          "Sf",
          "Amour",
          "Autres",
          "Autres",
          "Crime",
          "Aventure",
          "Indépendants",
          "Art",
          "Art",
          "Famille",
          "Art",
          "Fantastique",
          "Art",
          "Indépendants",
          "Institutionnel",
          "Sexualite",
          "Institutionnel",
          "Institutionnel",
          "Fantastique",
          "Institutionnel",
          "Sexualite",
          "Indépendants"
         ],
         "root": {
          "color": "rgba(0, 0, 0, 0)"
         },
         "rotation": 90,
         "sort": true,
         "textfont": {
          "color": "#2a3f5f",
          "family": "\"Open Sans\", verdana, arial, sans-serif",
          "size": 12
         },
         "textinfo": "label",
         "texttemplate": "",
         "type": "sunburst",
         "uid": "9a1688",
         "values": [
          1372,
          479,
          5771,
          5242,
          1375,
          4357,
          1480,
          10302,
          3112,
          839,
          249,
          2236,
          1332,
          283,
          5770,
          2553,
          113,
          618,
          497,
          6,
          4,
          172,
          839,
          73,
          1,
          10017,
          3112,
          36,
          170,
          118,
          22,
          337,
          1557,
          1970,
          208,
          97,
          2,
          4,
          4,
          106,
          5,
          25,
          133,
          561,
          346,
          66,
          65,
          513,
          722,
          268,
          1260,
          6,
          170,
          844,
          112,
          443,
          1607,
          44,
          261,
          7,
          28,
          6,
          129,
          85,
          95
         ],
         "visible": true
        }
       ],
       "layout": {
        "activeshape": {
         "fillcolor": "rgb(255,0,255)",
         "opacity": 0.5
        },
        "autosize": false,
        "autotypenumbers": "strict",
        "calendar": "gregorian",
        "clickmode": "event",
        "colorscale": {
         "diverging": [
          [
           0,
           "#8e0152"
          ],
          [
           0.1,
           "#c51b7d"
          ],
          [
           0.2,
           "#de77ae"
          ],
          [
           0.3,
           "#f1b6da"
          ],
          [
           0.4,
           "#fde0ef"
          ],
          [
           0.5,
           "#f7f7f7"
          ],
          [
           0.6,
           "#e6f5d0"
          ],
          [
           0.7,
           "#b8e186"
          ],
          [
           0.8,
           "#7fbc41"
          ],
          [
           0.9,
           "#4d9221"
          ],
          [
           1,
           "#276419"
          ]
         ],
         "sequential": [
          [
           0,
           "#0d0887"
          ],
          [
           0.1111111111111111,
           "#46039f"
          ],
          [
           0.2222222222222222,
           "#7201a8"
          ],
          [
           0.3333333333333333,
           "#9c179e"
          ],
          [
           0.4444444444444444,
           "#bd3786"
          ],
          [
           0.5555555555555556,
           "#d8576b"
          ],
          [
           0.6666666666666666,
           "#ed7953"
          ],
          [
           0.7777777777777778,
           "#fb9f3a"
          ],
          [
           0.8888888888888888,
           "#fdca26"
          ],
          [
           1,
           "#f0f921"
          ]
         ],
         "sequentialminus": [
          [
           0,
           "#0d0887"
          ],
          [
           0.1111111111111111,
           "#46039f"
          ],
          [
           0.2222222222222222,
           "#7201a8"
          ],
          [
           0.3333333333333333,
           "#9c179e"
          ],
          [
           0.4444444444444444,
           "#bd3786"
          ],
          [
           0.5555555555555556,
           "#d8576b"
          ],
          [
           0.6666666666666666,
           "#ed7953"
          ],
          [
           0.7777777777777778,
           "#fb9f3a"
          ],
          [
           0.8888888888888888,
           "#fdca26"
          ],
          [
           1,
           "#f0f921"
          ]
         ]
        },
        "colorway": [
         "#636efa",
         "#EF553B",
         "#00cc96",
         "#ab63fa",
         "#FFA15A",
         "#19d3f3",
         "#FF6692",
         "#B6E880",
         "#FF97FF",
         "#FECB52"
        ],
        "computed": {
         "margin": {
          "b": 80,
          "l": 80,
          "r": 80,
          "t": 100
         }
        },
        "dragmode": "zoom",
        "extendsunburstcolors": true,
        "font": {
         "color": "#2a3f5f",
         "family": "\"Open Sans\", verdana, arial, sans-serif",
         "size": 12
        },
        "height": 500,
        "hidesources": false,
        "hoverdistance": 20,
        "hoverlabel": {
         "align": "left",
         "font": {
          "family": "Arial, sans-serif",
          "size": 13
         },
         "namelength": 15
        },
        "hovermode": "closest",
        "margin": {
         "autoexpand": true,
         "b": 80,
         "l": 80,
         "pad": 0,
         "r": 80,
         "t": 100
        },
        "modebar": {
         "activecolor": "rgba(68, 68, 68, 0.7)",
         "bgcolor": "rgba(255, 255, 255, 0.5)",
         "color": "rgba(68, 68, 68, 0.3)",
         "orientation": "h"
        },
        "newshape": {
         "drawdirection": "diagonal",
         "fillcolor": "rgba(0, 0, 0, 0)",
         "fillrule": "evenodd",
         "layer": "above",
         "line": {
          "color": "#444",
          "dash": "solid",
          "width": 4
         },
         "opacity": 1
        },
        "paper_bgcolor": "white",
        "separators": ".,",
        "showlegend": false,
        "spikedistance": 20,
        "sunburstcolorway": [
         "#636efa",
         "#EF553B",
         "#00cc96",
         "#ab63fa",
         "#FFA15A",
         "#19d3f3",
         "#FF6692",
         "#B6E880",
         "#FF97FF",
         "#FECB52"
        ],
        "template": {
         "data": {
          "bar": [
           {
            "error_x": {
             "color": "#2a3f5f"
            },
            "error_y": {
             "color": "#2a3f5f"
            },
            "marker": {
             "line": {
              "color": "#E5ECF6",
              "width": 0.5
             }
            },
            "type": "bar"
           }
          ],
          "barpolar": [
           {
            "marker": {
             "line": {
              "color": "#E5ECF6",
              "width": 0.5
             }
            },
            "type": "barpolar"
           }
          ],
          "carpet": [
           {
            "aaxis": {
             "endlinecolor": "#2a3f5f",
             "gridcolor": "white",
             "linecolor": "white",
             "minorgridcolor": "white",
             "startlinecolor": "#2a3f5f"
            },
            "baxis": {
             "endlinecolor": "#2a3f5f",
             "gridcolor": "white",
             "linecolor": "white",
             "minorgridcolor": "white",
             "startlinecolor": "#2a3f5f"
            },
            "type": "carpet"
           }
          ],
          "choropleth": [
           {
            "colorbar": {
             "outlinewidth": 0,
             "ticks": ""
            },
            "type": "choropleth"
           }
          ],
          "contour": [
           {
            "colorbar": {
             "outlinewidth": 0,
             "ticks": ""
            },
            "colorscale": [
             [
              0,
              "#0d0887"
             ],
             [
              0.1111111111111111,
              "#46039f"
             ],
             [
              0.2222222222222222,
              "#7201a8"
             ],
             [
              0.3333333333333333,
              "#9c179e"
             ],
             [
              0.4444444444444444,
              "#bd3786"
             ],
             [
              0.5555555555555556,
              "#d8576b"
             ],
             [
              0.6666666666666666,
              "#ed7953"
             ],
             [
              0.7777777777777778,
              "#fb9f3a"
             ],
             [
              0.8888888888888888,
              "#fdca26"
             ],
             [
              1,
              "#f0f921"
             ]
            ],
            "type": "contour"
           }
          ],
          "contourcarpet": [
           {
            "colorbar": {
             "outlinewidth": 0,
             "ticks": ""
            },
            "type": "contourcarpet"
           }
          ],
          "heatmap": [
           {
            "colorbar": {
             "outlinewidth": 0,
             "ticks": ""
            },
            "colorscale": [
             [
              0,
              "#0d0887"
             ],
             [
              0.1111111111111111,
              "#46039f"
             ],
             [
              0.2222222222222222,
              "#7201a8"
             ],
             [
              0.3333333333333333,
              "#9c179e"
             ],
             [
              0.4444444444444444,
              "#bd3786"
             ],
             [
              0.5555555555555556,
              "#d8576b"
             ],
             [
              0.6666666666666666,
              "#ed7953"
             ],
             [
              0.7777777777777778,
              "#fb9f3a"
             ],
             [
              0.8888888888888888,
              "#fdca26"
             ],
             [
              1,
              "#f0f921"
             ]
            ],
            "type": "heatmap"
           }
          ],
          "heatmapgl": [
           {
            "colorbar": {
             "outlinewidth": 0,
             "ticks": ""
            },
            "colorscale": [
             [
              0,
              "#0d0887"
             ],
             [
              0.1111111111111111,
              "#46039f"
             ],
             [
              0.2222222222222222,
              "#7201a8"
             ],
             [
              0.3333333333333333,
              "#9c179e"
             ],
             [
              0.4444444444444444,
              "#bd3786"
             ],
             [
              0.5555555555555556,
              "#d8576b"
             ],
             [
              0.6666666666666666,
              "#ed7953"
             ],
             [
              0.7777777777777778,
              "#fb9f3a"
             ],
             [
              0.8888888888888888,
              "#fdca26"
             ],
             [
              1,
              "#f0f921"
             ]
            ],
            "type": "heatmapgl"
           }
          ],
          "histogram": [
           {
            "marker": {
             "colorbar": {
              "outlinewidth": 0,
              "ticks": ""
             }
            },
            "type": "histogram"
           }
          ],
          "histogram2d": [
           {
            "colorbar": {
             "outlinewidth": 0,
             "ticks": ""
            },
            "colorscale": [
             [
              0,
              "#0d0887"
             ],
             [
              0.1111111111111111,
              "#46039f"
             ],
             [
              0.2222222222222222,
              "#7201a8"
             ],
             [
              0.3333333333333333,
              "#9c179e"
             ],
             [
              0.4444444444444444,
              "#bd3786"
             ],
             [
              0.5555555555555556,
              "#d8576b"
             ],
             [
              0.6666666666666666,
              "#ed7953"
             ],
             [
              0.7777777777777778,
              "#fb9f3a"
             ],
             [
              0.8888888888888888,
              "#fdca26"
             ],
             [
              1,
              "#f0f921"
             ]
            ],
            "type": "histogram2d"
           }
          ],
          "histogram2dcontour": [
           {
            "colorbar": {
             "outlinewidth": 0,
             "ticks": ""
            },
            "colorscale": [
             [
              0,
              "#0d0887"
             ],
             [
              0.1111111111111111,
              "#46039f"
             ],
             [
              0.2222222222222222,
              "#7201a8"
             ],
             [
              0.3333333333333333,
              "#9c179e"
             ],
             [
              0.4444444444444444,
              "#bd3786"
             ],
             [
              0.5555555555555556,
              "#d8576b"
             ],
             [
              0.6666666666666666,
              "#ed7953"
             ],
             [
              0.7777777777777778,
              "#fb9f3a"
             ],
             [
              0.8888888888888888,
              "#fdca26"
             ],
             [
              1,
              "#f0f921"
             ]
            ],
            "type": "histogram2dcontour"
           }
          ],
          "mesh3d": [
           {
            "colorbar": {
             "outlinewidth": 0,
             "ticks": ""
            },
            "type": "mesh3d"
           }
          ],
          "parcoords": [
           {
            "line": {
             "colorbar": {
              "outlinewidth": 0,
              "ticks": ""
             }
            },
            "type": "parcoords"
           }
          ],
          "pie": [
           {
            "automargin": true,
            "type": "pie"
           }
          ],
          "scatter": [
           {
            "marker": {
             "colorbar": {
              "outlinewidth": 0,
              "ticks": ""
             }
            },
            "type": "scatter"
           }
          ],
          "scatter3d": [
           {
            "line": {
             "colorbar": {
              "outlinewidth": 0,
              "ticks": ""
             }
            },
            "marker": {
             "colorbar": {
              "outlinewidth": 0,
              "ticks": ""
             }
            },
            "type": "scatter3d"
           }
          ],
          "scattercarpet": [
           {
            "marker": {
             "colorbar": {
              "outlinewidth": 0,
              "ticks": ""
             }
            },
            "type": "scattercarpet"
           }
          ],
          "scattergeo": [
           {
            "marker": {
             "colorbar": {
              "outlinewidth": 0,
              "ticks": ""
             }
            },
            "type": "scattergeo"
           }
          ],
          "scattergl": [
           {
            "marker": {
             "colorbar": {
              "outlinewidth": 0,
              "ticks": ""
             }
            },
            "type": "scattergl"
           }
          ],
          "scattermapbox": [
           {
            "marker": {
             "colorbar": {
              "outlinewidth": 0,
              "ticks": ""
             }
            },
            "type": "scattermapbox"
           }
          ],
          "scatterpolar": [
           {
            "marker": {
             "colorbar": {
              "outlinewidth": 0,
              "ticks": ""
             }
            },
            "type": "scatterpolar"
           }
          ],
          "scatterpolargl": [
           {
            "marker": {
             "colorbar": {
              "outlinewidth": 0,
              "ticks": ""
             }
            },
            "type": "scatterpolargl"
           }
          ],
          "scatterternary": [
           {
            "marker": {
             "colorbar": {
              "outlinewidth": 0,
              "ticks": ""
             }
            },
            "type": "scatterternary"
           }
          ],
          "surface": [
           {
            "colorbar": {
             "outlinewidth": 0,
             "ticks": ""
            },
            "colorscale": [
             [
              0,
              "#0d0887"
             ],
             [
              0.1111111111111111,
              "#46039f"
             ],
             [
              0.2222222222222222,
              "#7201a8"
             ],
             [
              0.3333333333333333,
              "#9c179e"
             ],
             [
              0.4444444444444444,
              "#bd3786"
             ],
             [
              0.5555555555555556,
              "#d8576b"
             ],
             [
              0.6666666666666666,
              "#ed7953"
             ],
             [
              0.7777777777777778,
              "#fb9f3a"
             ],
             [
              0.8888888888888888,
              "#fdca26"
             ],
             [
              1,
              "#f0f921"
             ]
            ],
            "type": "surface"
           }
          ],
          "table": [
           {
            "cells": {
             "fill": {
              "color": "#EBF0F8"
             },
             "line": {
              "color": "white"
             }
            },
            "header": {
             "fill": {
              "color": "#C8D4E3"
             },
             "line": {
              "color": "white"
             }
            },
            "type": "table"
           }
          ]
         },
         "layout": {
          "annotationdefaults": {
           "arrowcolor": "#2a3f5f",
           "arrowhead": 0,
           "arrowwidth": 1
          },
          "autotypenumbers": "strict",
          "coloraxis": {
           "colorbar": {
            "outlinewidth": 0,
            "ticks": ""
           }
          },
          "colorscale": {
           "diverging": [
            [
             0,
             "#8e0152"
            ],
            [
             0.1,
             "#c51b7d"
            ],
            [
             0.2,
             "#de77ae"
            ],
            [
             0.3,
             "#f1b6da"
            ],
            [
             0.4,
             "#fde0ef"
            ],
            [
             0.5,
             "#f7f7f7"
            ],
            [
             0.6,
             "#e6f5d0"
            ],
            [
             0.7,
             "#b8e186"
            ],
            [
             0.8,
             "#7fbc41"
            ],
            [
             0.9,
             "#4d9221"
            ],
            [
             1,
             "#276419"
            ]
           ],
           "sequential": [
            [
             0,
             "#0d0887"
            ],
            [
             0.1111111111111111,
             "#46039f"
            ],
            [
             0.2222222222222222,
             "#7201a8"
            ],
            [
             0.3333333333333333,
             "#9c179e"
            ],
            [
             0.4444444444444444,
             "#bd3786"
            ],
            [
             0.5555555555555556,
             "#d8576b"
            ],
            [
             0.6666666666666666,
             "#ed7953"
            ],
            [
             0.7777777777777778,
             "#fb9f3a"
            ],
            [
             0.8888888888888888,
             "#fdca26"
            ],
            [
             1,
             "#f0f921"
            ]
           ],
           "sequentialminus": [
            [
             0,
             "#0d0887"
            ],
            [
             0.1111111111111111,
             "#46039f"
            ],
            [
             0.2222222222222222,
             "#7201a8"
            ],
            [
             0.3333333333333333,
             "#9c179e"
            ],
            [
             0.4444444444444444,
             "#bd3786"
            ],
            [
             0.5555555555555556,
             "#d8576b"
            ],
            [
             0.6666666666666666,
             "#ed7953"
            ],
            [
             0.7777777777777778,
             "#fb9f3a"
            ],
            [
             0.8888888888888888,
             "#fdca26"
            ],
            [
             1,
             "#f0f921"
            ]
           ]
          },
          "colorway": [
           "#636efa",
           "#EF553B",
           "#00cc96",
           "#ab63fa",
           "#FFA15A",
           "#19d3f3",
           "#FF6692",
           "#B6E880",
           "#FF97FF",
           "#FECB52"
          ],
          "font": {
           "color": "#2a3f5f"
          },
          "geo": {
           "bgcolor": "white",
           "lakecolor": "white",
           "landcolor": "#E5ECF6",
           "showlakes": true,
           "showland": true,
           "subunitcolor": "white"
          },
          "hoverlabel": {
           "align": "left"
          },
          "hovermode": "closest",
          "mapbox": {
           "style": "light"
          },
          "paper_bgcolor": "white",
          "plot_bgcolor": "#E5ECF6",
          "polar": {
           "angularaxis": {
            "gridcolor": "white",
            "linecolor": "white",
            "ticks": ""
           },
           "bgcolor": "#E5ECF6",
           "radialaxis": {
            "gridcolor": "white",
            "linecolor": "white",
            "ticks": ""
           }
          },
          "scene": {
           "xaxis": {
            "backgroundcolor": "#E5ECF6",
            "gridcolor": "white",
            "gridwidth": 2,
            "linecolor": "white",
            "showbackground": true,
            "ticks": "",
            "zerolinecolor": "white"
           },
           "yaxis": {
            "backgroundcolor": "#E5ECF6",
            "gridcolor": "white",
            "gridwidth": 2,
            "linecolor": "white",
            "showbackground": true,
            "ticks": "",
            "zerolinecolor": "white"
           },
           "zaxis": {
            "backgroundcolor": "#E5ECF6",
            "gridcolor": "white",
            "gridwidth": 2,
            "linecolor": "white",
            "showbackground": true,
            "ticks": "",
            "zerolinecolor": "white"
           }
          },
          "shapedefaults": {
           "line": {
            "color": "#2a3f5f"
           }
          },
          "ternary": {
           "aaxis": {
            "gridcolor": "white",
            "linecolor": "white",
            "ticks": ""
           },
           "baxis": {
            "gridcolor": "white",
            "linecolor": "white",
            "ticks": ""
           },
           "bgcolor": "#E5ECF6",
           "caxis": {
            "gridcolor": "white",
            "linecolor": "white",
            "ticks": ""
           }
          },
          "title": {
           "x": 0.05
          },
          "xaxis": {
           "automargin": true,
           "gridcolor": "white",
           "linecolor": "white",
           "ticks": "",
           "title": {
            "standoff": 15
           },
           "zerolinecolor": "white",
           "zerolinewidth": 2
          },
          "yaxis": {
           "automargin": true,
           "gridcolor": "white",
           "linecolor": "white",
           "ticks": "",
           "title": {
            "standoff": 15
           },
           "zerolinecolor": "white",
           "zerolinewidth": 2
          }
         }
        },
        "title": {
         "font": {
          "color": "#2a3f5f",
          "family": "\"Open Sans\", verdana, arial, sans-serif",
          "size": 17
         },
         "pad": {
          "b": 0,
          "l": 0,
          "r": 0,
          "t": 0
         },
         "text": "Click to enter Plot title",
         "x": 0.05,
         "xanchor": "auto",
         "xref": "container",
         "yanchor": "auto",
         "yref": "container"
        },
        "uniformtext": {
         "mode": false
        },
        "width": 700
       }
      },
      "image/png": "[encoded data removed]",
      "text/html": [
       "<div>                            <div id=\"556d26f7-5c42-42bb-bb0c-5ace14a2dd09\" class=\"plotly-graph-div\" style=\"height:500px; width:700px;\"></div>            <script type=\"text/javascript\">                require([\"plotly\"], function(Plotly) {                    window.PLOTLYENV=window.PLOTLYENV || {};                                    if (document.getElementById(\"556d26f7-5c42-42bb-bb0c-5ace14a2dd09\")) {                    Plotly.newPlot(                        \"556d26f7-5c42-42bb-bb0c-5ace14a2dd09\",                        [{\"branchvalues\": \"total\", \"domain\": {\"x\": [0, 1], \"y\": [0, 1]}, \"hoverinfo\": \"label+text+value\", \"hoverlabel\": {\"align\": \"left\", \"font\": {\"family\": \"Arial, sans-serif\", \"size\": 13}, \"namelength\": 15}, \"hovertemplate\": \"\", \"hovertext\": \"\", \"insidetextfont\": {\"family\": \"\\\"Open Sans\\\", verdana, arial, sans-serif\", \"size\": 12}, \"insidetextorientation\": \"radial\", \"labels\": [\"Action\", \"Amour\", \"Animation\", \"Autres\", \"Aventure\", \"Com\\u00e9die\", \"Crime\", \"Documentaire\", \"Drame\", \"Historique\", \"Musical\", \"Sf\", \"Action\", \"Actualit\\u00e9s\", \"Animation\", \"Art\", \"Arts Martiaux\", \"Aventure\", \"Biographie\", \"Cape Et D'\\u00c9p\\u00e9e\", \"Catastrophe\", \"Com\\u00e9die Musicale\", \"Crime\", \"Danse\", \"Dessins Anim\\u00e9s\", \"Documentaire\", \"Dramatique\", \"Espionnage\", \"Famille\", \"Fantastique\", \"Gangsters\", \"Guerre\", \"Horreur\", \"Ind\\u00e9pendants\", \"Institutionnel\", \"Muet\", \"Nature\", \"Op\\u00e9ra\", \"Pirate\", \"Policier\", \"P\\u00e9plum\", \"Road Movie\", \"Romantique\", \"Science-Fiction\", \"Sexualite\", \"Sketches\", \"Sport\", \"Thriller\", \"Western\", \"Amateur\", \"Art\", \"Collage\", \"Enfants\", \"Exp\\u00e9rimental\", \"Fantastique\", \"Fiction\", \"Ind\\u00e9pendants\", \"Politique\", \"Pornographie\", \"Propagande\", \"Religion\", \"Vampire\", \"\\u00c9ducatif\", \"\\u00c9rotique\", \"\\u00c9tudiants\"], \"leaf\": {\"opacity\": 1}, \"marker\": {\"autocolorscale\": false, \"cauto\": true, \"colorscale\": [[0, \"#e2d9e2\"], [0.1111111111111111, \"#9ebbc9\"], [0.2222222222222222, \"#6785be\"], [0.3333333333333333, \"#5e43a5\"], [0.4444444444444444, \"#421257\"], [0.5555555555555556, \"#471340\"], [0.6666666666666666, \"#8e2c50\"], [0.7777777777777778, \"#ba6657\"], [0.8888888888888888, \"#ceac94\"], [1, \"#e2d9e2\"]], \"line\": {\"color\": \"white\", \"width\": 1}, \"reversescale\": false, \"showscale\": false}, \"maxdepth\": 3, \"name\": \"trace 0\", \"opacity\": 1, \"outsidetextfont\": {\"color\": \"#2a3f5f\", \"family\": \"\\\"Open Sans\\\", verdana, arial, sans-serif\", \"size\": 12}, \"parents\": [\"\", \"\", \"\", \"\", \"\", \"\", \"\", \"\", \"\", \"\", \"\", \"\", \"Action\", \"Documentaire\", \"Animation\", \"Autres\", \"Autres\", \"Aventure\", \"Historique\", \"Aventure\", \"Action\", \"Musical\", \"Crime\", \"Musical\", \"Animation\", \"Documentaire\", \"Drame\", \"Action\", \"Autres\", \"Sf\", \"Crime\", \"Historique\", \"Sf\", \"Autres\", \"Autres\", \"Autres\", \"Documentaire\", \"Musical\", \"Aventure\", \"Crime\", \"Historique\", \"Aventure\", \"Amour\", \"Sf\", \"Amour\", \"Autres\", \"Autres\", \"Crime\", \"Aventure\", \"Ind\\u00e9pendants\", \"Art\", \"Art\", \"Famille\", \"Art\", \"Fantastique\", \"Art\", \"Ind\\u00e9pendants\", \"Institutionnel\", \"Sexualite\", \"Institutionnel\", \"Institutionnel\", \"Fantastique\", \"Institutionnel\", \"Sexualite\", \"Ind\\u00e9pendants\"], \"root\": {\"color\": \"rgba(0,0,0,0)\"}, \"rotation\": 90, \"sort\": true, \"textfont\": {\"color\": \"#2a3f5f\", \"family\": \"\\\"Open Sans\\\", verdana, arial, sans-serif\", \"size\": 12}, \"textinfo\": \"label\", \"texttemplate\": \"\", \"type\": \"sunburst\", \"uid\": \"9a1688\", \"values\": [1372, 479, 5771, 5242, 1375, 4357, 1480, 10302, 3112, 839, 249, 2236, 1332, 283, 5770, 2553, 113, 618, 497, 6, 4, 172, 839, 73, 1, 10017, 3112, 36, 170, 118, 22, 337, 1557, 1970, 208, 97, 2, 4, 4, 106, 5, 25, 133, 561, 346, 66, 65, 513, 722, 268, 1260, 6, 170, 844, 112, 443, 1607, 44, 261, 7, 28, 6, 129, 85, 95], \"visible\": true}],                        {\"activeshape\": {\"fillcolor\": \"rgb(255,0,255)\", \"opacity\": 0.5}, \"autosize\": false, \"autotypenumbers\": \"strict\", \"calendar\": \"gregorian\", \"clickmode\": \"event\", \"colorscale\": {\"diverging\": [[0, \"#8e0152\"], [0.1, \"#c51b7d\"], [0.2, \"#de77ae\"], [0.3, \"#f1b6da\"], [0.4, \"#fde0ef\"], [0.5, \"#f7f7f7\"], [0.6, \"#e6f5d0\"], [0.7, \"#b8e186\"], [0.8, \"#7fbc41\"], [0.9, \"#4d9221\"], [1, \"#276419\"]], \"sequential\": [[0, \"#0d0887\"], [0.1111111111111111, \"#46039f\"], [0.2222222222222222, \"#7201a8\"], [0.3333333333333333, \"#9c179e\"], [0.4444444444444444, \"#bd3786\"], [0.5555555555555556, \"#d8576b\"], [0.6666666666666666, \"#ed7953\"], [0.7777777777777778, \"#fb9f3a\"], [0.8888888888888888, \"#fdca26\"], [1, \"#f0f921\"]], \"sequentialminus\": [[0, \"#0d0887\"], [0.1111111111111111, \"#46039f\"], [0.2222222222222222, \"#7201a8\"], [0.3333333333333333, \"#9c179e\"], [0.4444444444444444, \"#bd3786\"], [0.5555555555555556, \"#d8576b\"], [0.6666666666666666, \"#ed7953\"], [0.7777777777777778, \"#fb9f3a\"], [0.8888888888888888, \"#fdca26\"], [1, \"#f0f921\"]]}, \"colorway\": [\"#636efa\", \"#EF553B\", \"#00cc96\", \"#ab63fa\", \"#FFA15A\", \"#19d3f3\", \"#FF6692\", \"#B6E880\", \"#FF97FF\", \"#FECB52\"], \"computed\": {\"margin\": {\"b\": 80, \"l\": 80, \"r\": 80, \"t\": 100}}, \"dragmode\": \"zoom\", \"extendsunburstcolors\": true, \"font\": {\"color\": \"#2a3f5f\", \"family\": \"\\\"Open Sans\\\", verdana, arial, sans-serif\", \"size\": 12}, \"height\": 500, \"hidesources\": false, \"hoverdistance\": 20, \"hoverlabel\": {\"align\": \"left\", \"font\": {\"family\": \"Arial, sans-serif\", \"size\": 13}, \"namelength\": 15}, \"hovermode\": \"closest\", \"margin\": {\"autoexpand\": true, \"b\": 80, \"l\": 80, \"pad\": 0, \"r\": 80, \"t\": 100}, \"modebar\": {\"activecolor\": \"rgba(68, 68, 68, 0.7)\", \"bgcolor\": \"rgba(255, 255, 255, 0.5)\", \"color\": \"rgba(68, 68, 68, 0.3)\", \"orientation\": \"h\"}, \"newshape\": {\"drawdirection\": \"diagonal\", \"fillcolor\": \"rgba(0,0,0,0)\", \"fillrule\": \"evenodd\", \"layer\": \"above\", \"line\": {\"color\": \"#444\", \"dash\": \"solid\", \"width\": 4}, \"opacity\": 1}, \"paper_bgcolor\": \"white\", \"separators\": \".,\", \"showlegend\": false, \"spikedistance\": 20, \"sunburstcolorway\": [\"#636efa\", \"#EF553B\", \"#00cc96\", \"#ab63fa\", \"#FFA15A\", \"#19d3f3\", \"#FF6692\", \"#B6E880\", \"#FF97FF\", \"#FECB52\"], \"template\": {\"data\": {\"bar\": [{\"error_x\": {\"color\": \"#2a3f5f\"}, \"error_y\": {\"color\": \"#2a3f5f\"}, \"marker\": {\"line\": {\"color\": \"#E5ECF6\", \"width\": 0.5}}, \"type\": \"bar\"}], \"barpolar\": [{\"marker\": {\"line\": {\"color\": \"#E5ECF6\", \"width\": 0.5}}, \"type\": \"barpolar\"}], \"carpet\": [{\"aaxis\": {\"endlinecolor\": \"#2a3f5f\", \"gridcolor\": \"white\", \"linecolor\": \"white\", \"minorgridcolor\": \"white\", \"startlinecolor\": \"#2a3f5f\"}, \"baxis\": {\"endlinecolor\": \"#2a3f5f\", \"gridcolor\": \"white\", \"linecolor\": \"white\", \"minorgridcolor\": \"white\", \"startlinecolor\": \"#2a3f5f\"}, \"type\": \"carpet\"}], \"choropleth\": [{\"colorbar\": {\"outlinewidth\": 0, \"ticks\": \"\"}, \"type\": \"choropleth\"}], \"contour\": [{\"colorbar\": {\"outlinewidth\": 0, \"ticks\": \"\"}, \"colorscale\": [[0, \"#0d0887\"], [0.1111111111111111, \"#46039f\"], [0.2222222222222222, \"#7201a8\"], [0.3333333333333333, \"#9c179e\"], [0.4444444444444444, \"#bd3786\"], [0.5555555555555556, \"#d8576b\"], [0.6666666666666666, \"#ed7953\"], [0.7777777777777778, \"#fb9f3a\"], [0.8888888888888888, \"#fdca26\"], [1, \"#f0f921\"]], \"type\": \"contour\"}], \"contourcarpet\": [{\"colorbar\": {\"outlinewidth\": 0, \"ticks\": \"\"}, \"type\": \"contourcarpet\"}], \"heatmap\": [{\"colorbar\": {\"outlinewidth\": 0, \"ticks\": \"\"}, \"colorscale\": [[0, \"#0d0887\"], [0.1111111111111111, \"#46039f\"], [0.2222222222222222, \"#7201a8\"], [0.3333333333333333, \"#9c179e\"], [0.4444444444444444, \"#bd3786\"], [0.5555555555555556, \"#d8576b\"], [0.6666666666666666, \"#ed7953\"], [0.7777777777777778, \"#fb9f3a\"], [0.8888888888888888, \"#fdca26\"], [1, \"#f0f921\"]], \"type\": \"heatmap\"}], \"heatmapgl\": [{\"colorbar\": {\"outlinewidth\": 0, \"ticks\": \"\"}, \"colorscale\": [[0, \"#0d0887\"], [0.1111111111111111, \"#46039f\"], [0.2222222222222222, \"#7201a8\"], [0.3333333333333333, \"#9c179e\"], [0.4444444444444444, \"#bd3786\"], [0.5555555555555556, \"#d8576b\"], [0.6666666666666666, \"#ed7953\"], [0.7777777777777778, \"#fb9f3a\"], [0.8888888888888888, \"#fdca26\"], [1, \"#f0f921\"]], \"type\": \"heatmapgl\"}], \"histogram\": [{\"marker\": {\"colorbar\": {\"outlinewidth\": 0, \"ticks\": \"\"}}, \"type\": \"histogram\"}], \"histogram2d\": [{\"colorbar\": {\"outlinewidth\": 0, \"ticks\": \"\"}, \"colorscale\": [[0, \"#0d0887\"], [0.1111111111111111, \"#46039f\"], [0.2222222222222222, \"#7201a8\"], [0.3333333333333333, \"#9c179e\"], [0.4444444444444444, \"#bd3786\"], [0.5555555555555556, \"#d8576b\"], [0.6666666666666666, \"#ed7953\"], [0.7777777777777778, \"#fb9f3a\"], [0.8888888888888888, \"#fdca26\"], [1, \"#f0f921\"]], \"type\": \"histogram2d\"}], \"histogram2dcontour\": [{\"colorbar\": {\"outlinewidth\": 0, \"ticks\": \"\"}, \"colorscale\": [[0, \"#0d0887\"], [0.1111111111111111, \"#46039f\"], [0.2222222222222222, \"#7201a8\"], [0.3333333333333333, \"#9c179e\"], [0.4444444444444444, \"#bd3786\"], [0.5555555555555556, \"#d8576b\"], [0.6666666666666666, \"#ed7953\"], [0.7777777777777778, \"#fb9f3a\"], [0.8888888888888888, \"#fdca26\"], [1, \"#f0f921\"]], \"type\": \"histogram2dcontour\"}], \"mesh3d\": [{\"colorbar\": {\"outlinewidth\": 0, \"ticks\": \"\"}, \"type\": \"mesh3d\"}], \"parcoords\": [{\"line\": {\"colorbar\": {\"outlinewidth\": 0, \"ticks\": \"\"}}, \"type\": \"parcoords\"}], \"pie\": [{\"automargin\": true, \"type\": \"pie\"}], \"scatter\": [{\"marker\": {\"colorbar\": {\"outlinewidth\": 0, \"ticks\": \"\"}}, \"type\": \"scatter\"}], \"scatter3d\": [{\"line\": {\"colorbar\": {\"outlinewidth\": 0, \"ticks\": \"\"}}, \"marker\": {\"colorbar\": {\"outlinewidth\": 0, \"ticks\": \"\"}}, \"type\": \"scatter3d\"}], \"scattercarpet\": [{\"marker\": {\"colorbar\": {\"outlinewidth\": 0, \"ticks\": \"\"}}, \"type\": \"scattercarpet\"}], \"scattergeo\": [{\"marker\": {\"colorbar\": {\"outlinewidth\": 0, \"ticks\": \"\"}}, \"type\": \"scattergeo\"}], \"scattergl\": [{\"marker\": {\"colorbar\": {\"outlinewidth\": 0, \"ticks\": \"\"}}, \"type\": \"scattergl\"}], \"scattermapbox\": [{\"marker\": {\"colorbar\": {\"outlinewidth\": 0, \"ticks\": \"\"}}, \"type\": \"scattermapbox\"}], \"scatterpolar\": [{\"marker\": {\"colorbar\": {\"outlinewidth\": 0, \"ticks\": \"\"}}, \"type\": \"scatterpolar\"}], \"scatterpolargl\": [{\"marker\": {\"colorbar\": {\"outlinewidth\": 0, \"ticks\": \"\"}}, \"type\": \"scatterpolargl\"}], \"scatterternary\": [{\"marker\": {\"colorbar\": {\"outlinewidth\": 0, \"ticks\": \"\"}}, \"type\": \"scatterternary\"}], \"surface\": [{\"colorbar\": {\"outlinewidth\": 0, \"ticks\": \"\"}, \"colorscale\": [[0, \"#0d0887\"], [0.1111111111111111, \"#46039f\"], [0.2222222222222222, \"#7201a8\"], [0.3333333333333333, \"#9c179e\"], [0.4444444444444444, \"#bd3786\"], [0.5555555555555556, \"#d8576b\"], [0.6666666666666666, \"#ed7953\"], [0.7777777777777778, \"#fb9f3a\"], [0.8888888888888888, \"#fdca26\"], [1, \"#f0f921\"]], \"type\": \"surface\"}], \"table\": [{\"cells\": {\"fill\": {\"color\": \"#EBF0F8\"}, \"line\": {\"color\": \"white\"}}, \"header\": {\"fill\": {\"color\": \"#C8D4E3\"}, \"line\": {\"color\": \"white\"}}, \"type\": \"table\"}]}, \"layout\": {\"annotationdefaults\": {\"arrowcolor\": \"#2a3f5f\", \"arrowhead\": 0, \"arrowwidth\": 1}, \"autotypenumbers\": \"strict\", \"coloraxis\": {\"colorbar\": {\"outlinewidth\": 0, \"ticks\": \"\"}}, \"colorscale\": {\"diverging\": [[0, \"#8e0152\"], [0.1, \"#c51b7d\"], [0.2, \"#de77ae\"], [0.3, \"#f1b6da\"], [0.4, \"#fde0ef\"], [0.5, \"#f7f7f7\"], [0.6, \"#e6f5d0\"], [0.7, \"#b8e186\"], [0.8, \"#7fbc41\"], [0.9, \"#4d9221\"], [1, \"#276419\"]], \"sequential\": [[0, \"#0d0887\"], [0.1111111111111111, \"#46039f\"], [0.2222222222222222, \"#7201a8\"], [0.3333333333333333, \"#9c179e\"], [0.4444444444444444, \"#bd3786\"], [0.5555555555555556, \"#d8576b\"], [0.6666666666666666, \"#ed7953\"], [0.7777777777777778, \"#fb9f3a\"], [0.8888888888888888, \"#fdca26\"], [1, \"#f0f921\"]], \"sequentialminus\": [[0, \"#0d0887\"], [0.1111111111111111, \"#46039f\"], [0.2222222222222222, \"#7201a8\"], [0.3333333333333333, \"#9c179e\"], [0.4444444444444444, \"#bd3786\"], [0.5555555555555556, \"#d8576b\"], [0.6666666666666666, \"#ed7953\"], [0.7777777777777778, \"#fb9f3a\"], [0.8888888888888888, \"#fdca26\"], [1, \"#f0f921\"]]}, \"colorway\": [\"#636efa\", \"#EF553B\", \"#00cc96\", \"#ab63fa\", \"#FFA15A\", \"#19d3f3\", \"#FF6692\", \"#B6E880\", \"#FF97FF\", \"#FECB52\"], \"font\": {\"color\": \"#2a3f5f\"}, \"geo\": {\"bgcolor\": \"white\", \"lakecolor\": \"white\", \"landcolor\": \"#E5ECF6\", \"showlakes\": true, \"showland\": true, \"subunitcolor\": \"white\"}, \"hoverlabel\": {\"align\": \"left\"}, \"hovermode\": \"closest\", \"mapbox\": {\"style\": \"light\"}, \"paper_bgcolor\": \"white\", \"plot_bgcolor\": \"#E5ECF6\", \"polar\": {\"angularaxis\": {\"gridcolor\": \"white\", \"linecolor\": \"white\", \"ticks\": \"\"}, \"bgcolor\": \"#E5ECF6\", \"radialaxis\": {\"gridcolor\": \"white\", \"linecolor\": \"white\", \"ticks\": \"\"}}, \"scene\": {\"xaxis\": {\"backgroundcolor\": \"#E5ECF6\", \"gridcolor\": \"white\", \"gridwidth\": 2, \"linecolor\": \"white\", \"showbackground\": true, \"ticks\": \"\", \"zerolinecolor\": \"white\"}, \"yaxis\": {\"backgroundcolor\": \"#E5ECF6\", \"gridcolor\": \"white\", \"gridwidth\": 2, \"linecolor\": \"white\", \"showbackground\": true, \"ticks\": \"\", \"zerolinecolor\": \"white\"}, \"zaxis\": {\"backgroundcolor\": \"#E5ECF6\", \"gridcolor\": \"white\", \"gridwidth\": 2, \"linecolor\": \"white\", \"showbackground\": true, \"ticks\": \"\", \"zerolinecolor\": \"white\"}}, \"shapedefaults\": {\"line\": {\"color\": \"#2a3f5f\"}}, \"ternary\": {\"aaxis\": {\"gridcolor\": \"white\", \"linecolor\": \"white\", \"ticks\": \"\"}, \"baxis\": {\"gridcolor\": \"white\", \"linecolor\": \"white\", \"ticks\": \"\"}, \"bgcolor\": \"#E5ECF6\", \"caxis\": {\"gridcolor\": \"white\", \"linecolor\": \"white\", \"ticks\": \"\"}}, \"title\": {\"x\": 0.05}, \"xaxis\": {\"automargin\": true, \"gridcolor\": \"white\", \"linecolor\": \"white\", \"ticks\": \"\", \"title\": {\"standoff\": 15}, \"zerolinecolor\": \"white\", \"zerolinewidth\": 2}, \"yaxis\": {\"automargin\": true, \"gridcolor\": \"white\", \"linecolor\": \"white\", \"ticks\": \"\", \"title\": {\"standoff\": 15}, \"zerolinecolor\": \"white\", \"zerolinewidth\": 2}}}, \"title\": {\"font\": {\"color\": \"#2a3f5f\", \"family\": \"\\\"Open Sans\\\", verdana, arial, sans-serif\", \"size\": 17}, \"pad\": {\"b\": 0, \"l\": 0, \"r\": 0, \"t\": 0}, \"text\": \"Click to enter Plot title\", \"x\": 0.05, \"xanchor\": \"auto\", \"xref\": \"container\", \"yanchor\": \"auto\", \"yref\": \"container\"}, \"uniformtext\": {\"mode\": false}, \"width\": 700},                        {\"responsive\": true}                    ).then(function(){\n",
       "                            \n",
       "var gd = document.getElementById('556d26f7-5c42-42bb-bb0c-5ace14a2dd09');\n",
       "var x = new MutationObserver(function (mutations, observer) {{\n",
       "        var display = window.getComputedStyle(gd).display;\n",
       "        if (!display || display === 'none') {{\n",
       "            console.log([gd, 'removed!']);\n",
       "            Plotly.purge(gd);\n",
       "            observer.disconnect();\n",
       "        }}\n",
       "}});\n",
       "\n",
       "// Listen for the removal of the full notebook cells\n",
       "var notebookContainer = gd.closest('#notebook-container');\n",
       "if (notebookContainer) {{\n",
       "    x.observe(notebookContainer, {childList: true});\n",
       "}}\n",
       "\n",
       "// Listen for the clearing of the current output cell\n",
       "var outputEl = gd.closest('.output');\n",
       "if (outputEl) {{\n",
       "    x.observe(outputEl, {childList: true});\n",
       "}}\n",
       "\n",
       "                        })                };                });            </script>        </div>"
      ]
     },
     "metadata": {},
     "output_type": "display_data"
    }
   ],
   "source": [
    "fig.full_figure_for_development(warn=False)"
   ]
  },
  {
   "cell_type": "code",
   "execution_count": null,
   "metadata": {},
   "outputs": [],
   "source": []
  }
 ],
 "metadata": {
  "kernelspec": {
   "display_name": "Python 3",
   "language": "python",
   "name": "python3"
  },
  "language_info": {
   "codemirror_mode": {
    "name": "ipython",
    "version": 3
   },
   "file_extension": ".py",
   "mimetype": "text/x-python",
   "name": "python",
   "nbconvert_exporter": "python",
   "pygments_lexer": "ipython3",
   "version": "3.8.8"
  }
 },
 "nbformat": 4,
 "nbformat_minor": 4
}
