{
 "cells": [
  {
   "cell_type": "markdown",
   "metadata": {},
   "source": [
    "# Équipe 7\n",
    "## Notebook de Maninder"
   ]
  },
  {
   "cell_type": "code",
   "execution_count": 38,
   "metadata": {},
   "outputs": [],
   "source": [
    "#import the needed  libraries \n",
    "import pandas as pd \n",
    "from functools import reduce\n",
    "import plotly.express as px\n",
    "import numpy as np\n",
    "import matplotlib.pyplot as plt\n",
    "import plotly.graph_objects as go"
   ]
  },
  {
   "cell_type": "code",
   "execution_count": 39,
   "metadata": {},
   "outputs": [
    {
     "name": "stdout",
     "output_type": "stream",
     "text": [
      "        filmoId              titreOriginal  anneeSortie\n",
      "0             3     HANNAH AND HER SISTERS       1986.0\n",
      "1             5        GUILTY BY SUSPICION       1991.0\n",
      "2             6            TACONES LEJANOS       1991.0\n",
      "3             7         DIARY OF A HIT MAN       1991.0\n",
      "4             8               STEPPING OUT       1991.0\n",
      "...         ...                        ...          ...\n",
      "104389   110073          TABLES AND CHAIRS       1974.0\n",
      "104390   110074  THREE WORKS FOR MIND/BODY       1975.0\n",
      "104391   110075  THREE PIECES FOR CIRCUITS       1974.0\n",
      "104392   110076                        NaN          NaN\n",
      "104393   110077                        NaN          NaN\n",
      "\n",
      "[104394 rows x 3 columns]\n"
     ]
    }
   ],
   "source": [
    "#create a csv with the film and the years \n",
    "film_df = pd.read_csv(\"/Users/maninderbhogal/PycharmProjects/INF8808_vsCinematheque/Src/Assets/Data/film.csv\")\n",
    "film_df = film_df.rename(columns={\"FilmoId\": \"filmoId\"},errors='raise')\n",
    "film_df = film_df[['filmoId','titreOriginal','anneeSortie']]\n",
    "print(film_df)\n",
    "film_df.to_csv(r'/Users/maninderbhogal/PycharmProjects/INF8808_vsCinematheque/Src/Assets/Data/film_year.csv', index = False, header=True)"
   ]
  },
  {
   "cell_type": "code",
   "execution_count": 40,
   "metadata": {},
   "outputs": [],
   "source": [
    "#donnees de wikidata\n",
    "\n",
    "film_genres = pd.read_csv(\"/Users/maninderbhogal/PycharmProjects/INF8808_vsCinematheque/Src/Assets/Data/movie_genres.csv\")\n",
    "film_langues = pd.read_csv(\"/Users/maninderbhogal/PycharmProjects/INF8808_vsCinematheque/Src/Assets/Data/movie_langues.csv\")\n",
    "film_places = pd.read_csv(\"/Users/maninderbhogal/PycharmProjects/INF8808_vsCinematheque/Src/Assets/Data/movie_places.csv\")\n",
    "film_directors = pd.read_csv(\"/Users/maninderbhogal/PycharmProjects/INF8808_vsCinematheque/Src/Assets/Data/movie_directors.csv\")"
   ]
  },
  {
   "cell_type": "code",
   "execution_count": 41,
   "metadata": {},
   "outputs": [],
   "source": [
    "#donnees de cinématèque quebecoise \n",
    "#*********directors cleanup ***************\n",
    "\n",
    "#combining the names of the actors with the movies they were in\n",
    "nom = pd.read_csv(\"/Users/maninderbhogal/PycharmProjects/INF8808_vsCinematheque/Src/Assets/Data/Nom.csv\")\n",
    "film_realisation = pd.read_csv(\"/Users/maninderbhogal/PycharmProjects/INF8808_vsCinematheque/Src/Assets/Data/Filmo_Realisation.csv\")\n",
    "film_realisation['NomId'] = film_realisation['nomId']\n",
    "film_director = pd.merge(film_realisation,nom, on='NomId', how=\"inner\")\n",
    "\n",
    "\n",
    "#combining the first name and last name of the actor\n",
    "#film_director = film_director[['filmoId','nom','prenom']]\n",
    "film_director['Nom']= film_director['prenom'] + ' ' + film_director['nom']\n",
    "film_director = film_director.drop(columns=[\"nom\", \"prenom\"])\n",
    "\n",
    "#getting functions of each person\n",
    "fonction = pd.read_csv(\"/Users/maninderbhogal/PycharmProjects/INF8808_vsCinematheque/Src/Assets/Data/Fonction.csv\")\n",
    "filmo_generique = pd.read_csv(\"/Users/maninderbhogal/PycharmProjects/INF8808_vsCinematheque/Src/Assets/Data/Filmo_Generique.csv\")\n",
    "filmo_generique['FonctionId'] = filmo_generique['fonctionId']\n",
    "film_fonctions = pd.merge(fonction,filmo_generique, on='FonctionId', how=\"inner\")\n",
    "film_fonctions['Role'] = film_fonctions['terme']\n",
    "film_fonctions = film_fonctions.drop(columns=[\"filmoId\",\"terme\", \"organismeId\", \"fonctionId\", \"FonctionId\",\"GeneriqueId\"])\n",
    "\n",
    "#PERSONNES ET GENRES\n",
    "film_fonctions = pd.merge(film_fonctions,film_director,on=\"nomId\", how=\"inner\")\n",
    "film_fonctions = film_fonctions[['Nom','Role','filmoId']]\n",
    "film_fonctions.to_csv(r'/Users/maninderbhogal/PycharmProjects/INF8808_vsCinematheque/Src/Assets/Data/film_personRole.csv', index = False, header=True)\n"
   ]
  },
  {
   "cell_type": "code",
   "execution_count": 42,
   "metadata": {},
   "outputs": [],
   "source": [
    "#donnees de cinématèque quebecoise \n",
    "#*********langue cleanup ***************\n",
    "#combinaison de langueID avec le label de la langue\n",
    "\n",
    "langue = pd.read_csv(\"/Users/maninderbhogal/PycharmProjects/INF8808_vsCinematheque/Src/Assets/Data/Langue.csv\")\n",
    "filmo_langue = pd.read_csv(\"/Users/maninderbhogal/PycharmProjects/INF8808_vsCinematheque/Src/Assets/Data/Filmo_Langue.csv\")\n",
    "filmo_langue['LangueId'] = filmo_langue['langueId']\n",
    "film_langue = pd.merge(filmo_langue,langue, on='LangueId', how=\"inner\")\n",
    "film_langue['langue'] = film_langue[['terme']]\n",
    "film_langue = film_langue[['filmoId','langue']]\n",
    "\n",
    "film_langue.to_csv(r'/Users/maninderbhogal/PycharmProjects/INF8808_vsCinematheque/Src/Assets/Data/film_langue.csv', index = False, header=True)"
   ]
  },
  {
   "cell_type": "code",
   "execution_count": 43,
   "metadata": {},
   "outputs": [],
   "source": [
    "#donnees de cinématèque quebecoise \n",
    "#*********pays cleanup ***************\n",
    "#combinaison de paysID avec le label du pays\n",
    "\n",
    "pays = pd.read_csv(\"/Users/maninderbhogal/PycharmProjects/INF8808_vsCinematheque/Src/Assets/Data/Pays.csv\")\n",
    "filmo_pays = pd.read_csv(\"/Users/maninderbhogal/PycharmProjects/INF8808_vsCinematheque/Src/Assets/Data/Filmo_Pays.csv\")\n",
    "filmo_pays['PaysId'] = filmo_pays['paysId']\n",
    "film_pays = pd.merge(filmo_pays,pays, on='PaysId', how=\"inner\")\n",
    "film_pays['pays'] = film_pays[['terme']]\n",
    "film_pays = film_pays[['filmoId','pays']]\n",
    "\n",
    "film_pays.to_csv(r'/Users/maninderbhogal/PycharmProjects/INF8808_vsCinematheque/Src/Assets/Data/film_pays.csv', index = False, header=True)"
   ]
  },
  {
   "cell_type": "code",
   "execution_count": 44,
   "metadata": {},
   "outputs": [
    {
     "data": {
      "text/html": [
       "<div>\n",
       "<style scoped>\n",
       "    .dataframe tbody tr th:only-of-type {\n",
       "        vertical-align: middle;\n",
       "    }\n",
       "\n",
       "    .dataframe tbody tr th {\n",
       "        vertical-align: top;\n",
       "    }\n",
       "\n",
       "    .dataframe thead th {\n",
       "        text-align: right;\n",
       "    }\n",
       "</style>\n",
       "<table border=\"1\" class=\"dataframe\">\n",
       "  <thead>\n",
       "    <tr style=\"text-align: right;\">\n",
       "      <th></th>\n",
       "      <th>filmoId</th>\n",
       "      <th>langue</th>\n",
       "      <th>pays</th>\n",
       "    </tr>\n",
       "  </thead>\n",
       "  <tbody>\n",
       "    <tr>\n",
       "      <th>0</th>\n",
       "      <td>5</td>\n",
       "      <td>anglais</td>\n",
       "      <td>États-Unis</td>\n",
       "    </tr>\n",
       "    <tr>\n",
       "      <th>1</th>\n",
       "      <td>25</td>\n",
       "      <td>anglais</td>\n",
       "      <td>Italie</td>\n",
       "    </tr>\n",
       "    <tr>\n",
       "      <th>2</th>\n",
       "      <td>25</td>\n",
       "      <td>anglais</td>\n",
       "      <td>Royaume-Uni</td>\n",
       "    </tr>\n",
       "    <tr>\n",
       "      <th>3</th>\n",
       "      <td>25</td>\n",
       "      <td>français</td>\n",
       "      <td>Italie</td>\n",
       "    </tr>\n",
       "    <tr>\n",
       "      <th>4</th>\n",
       "      <td>25</td>\n",
       "      <td>français</td>\n",
       "      <td>Royaume-Uni</td>\n",
       "    </tr>\n",
       "    <tr>\n",
       "      <th>...</th>\n",
       "      <td>...</td>\n",
       "      <td>...</td>\n",
       "      <td>...</td>\n",
       "    </tr>\n",
       "    <tr>\n",
       "      <th>52300</th>\n",
       "      <td>103925</td>\n",
       "      <td>Dzongkha</td>\n",
       "      <td>Finlande</td>\n",
       "    </tr>\n",
       "    <tr>\n",
       "      <th>52301</th>\n",
       "      <td>103925</td>\n",
       "      <td>Dzongkha</td>\n",
       "      <td>Bhoutan</td>\n",
       "    </tr>\n",
       "    <tr>\n",
       "      <th>52302</th>\n",
       "      <td>105511</td>\n",
       "      <td>Dzongkha</td>\n",
       "      <td>Espagne</td>\n",
       "    </tr>\n",
       "    <tr>\n",
       "      <th>52303</th>\n",
       "      <td>105511</td>\n",
       "      <td>Dzongkha</td>\n",
       "      <td>Cuba</td>\n",
       "    </tr>\n",
       "    <tr>\n",
       "      <th>52304</th>\n",
       "      <td>105511</td>\n",
       "      <td>Dzongkha</td>\n",
       "      <td>Venezuela</td>\n",
       "    </tr>\n",
       "  </tbody>\n",
       "</table>\n",
       "<p>52305 rows × 3 columns</p>\n",
       "</div>"
      ],
      "text/plain": [
       "       filmoId    langue         pays\n",
       "0            5   anglais   États-Unis\n",
       "1           25   anglais       Italie\n",
       "2           25   anglais  Royaume-Uni\n",
       "3           25  français       Italie\n",
       "4           25  français  Royaume-Uni\n",
       "...        ...       ...          ...\n",
       "52300   103925  Dzongkha     Finlande\n",
       "52301   103925  Dzongkha      Bhoutan\n",
       "52302   105511  Dzongkha      Espagne\n",
       "52303   105511  Dzongkha         Cuba\n",
       "52304   105511  Dzongkha    Venezuela\n",
       "\n",
       "[52305 rows x 3 columns]"
      ]
     },
     "execution_count": 44,
     "metadata": {},
     "output_type": "execute_result"
    }
   ],
   "source": [
    "#donnees de cinématèque quebecoise \n",
    "#combinaison de LANGUE ET PAYS \n",
    "dfs = [film_langue, film_pays]\n",
    "langue_pays = reduce(lambda left, right: pd.merge(left, right, on='filmoId', how=\"inner\"), dfs)\n",
    "langue_pays\n",
    "\n",
    "#there's more colummns now because some movies are produced in two countries"
   ]
  },
  {
   "cell_type": "code",
   "execution_count": 45,
   "metadata": {},
   "outputs": [
    {
     "data": {
      "text/html": [
       "<div>\n",
       "<style scoped>\n",
       "    .dataframe tbody tr th:only-of-type {\n",
       "        vertical-align: middle;\n",
       "    }\n",
       "\n",
       "    .dataframe tbody tr th {\n",
       "        vertical-align: top;\n",
       "    }\n",
       "\n",
       "    .dataframe thead th {\n",
       "        text-align: right;\n",
       "    }\n",
       "</style>\n",
       "<table border=\"1\" class=\"dataframe\">\n",
       "  <thead>\n",
       "    <tr style=\"text-align: right;\">\n",
       "      <th></th>\n",
       "      <th>filmoId</th>\n",
       "      <th>genre</th>\n",
       "    </tr>\n",
       "  </thead>\n",
       "  <tbody>\n",
       "    <tr>\n",
       "      <th>0</th>\n",
       "      <td>57864</td>\n",
       "      <td>http://www.wikidata.org/entity/Q93204</td>\n",
       "    </tr>\n",
       "    <tr>\n",
       "      <th>1</th>\n",
       "      <td>55784</td>\n",
       "      <td>http://www.wikidata.org/entity/Q93204</td>\n",
       "    </tr>\n",
       "    <tr>\n",
       "      <th>2</th>\n",
       "      <td>20937</td>\n",
       "      <td>http://www.wikidata.org/entity/Q93204</td>\n",
       "    </tr>\n",
       "    <tr>\n",
       "      <th>3</th>\n",
       "      <td>53108</td>\n",
       "      <td>http://www.wikidata.org/entity/Q93204</td>\n",
       "    </tr>\n",
       "    <tr>\n",
       "      <th>4</th>\n",
       "      <td>61024</td>\n",
       "      <td>http://www.wikidata.org/entity/Q93204</td>\n",
       "    </tr>\n",
       "    <tr>\n",
       "      <th>...</th>\n",
       "      <td>...</td>\n",
       "      <td>...</td>\n",
       "    </tr>\n",
       "    <tr>\n",
       "      <th>121030</th>\n",
       "      <td>62691</td>\n",
       "      <td>http://www.wikidata.org/entity/Q229390</td>\n",
       "    </tr>\n",
       "    <tr>\n",
       "      <th>121031</th>\n",
       "      <td>75863</td>\n",
       "      <td>http://www.wikidata.org/entity/Q229390</td>\n",
       "    </tr>\n",
       "    <tr>\n",
       "      <th>121032</th>\n",
       "      <td>97606</td>\n",
       "      <td>http://www.wikidata.org/entity/Q229390</td>\n",
       "    </tr>\n",
       "    <tr>\n",
       "      <th>121033</th>\n",
       "      <td>109769</td>\n",
       "      <td>http://www.wikidata.org/entity/Q229390</td>\n",
       "    </tr>\n",
       "    <tr>\n",
       "      <th>121034</th>\n",
       "      <td>109773</td>\n",
       "      <td>http://www.wikidata.org/entity/Q229390</td>\n",
       "    </tr>\n",
       "  </tbody>\n",
       "</table>\n",
       "<p>121035 rows × 2 columns</p>\n",
       "</div>"
      ],
      "text/plain": [
       "        filmoId                                   genre\n",
       "0         57864   http://www.wikidata.org/entity/Q93204\n",
       "1         55784   http://www.wikidata.org/entity/Q93204\n",
       "2         20937   http://www.wikidata.org/entity/Q93204\n",
       "3         53108   http://www.wikidata.org/entity/Q93204\n",
       "4         61024   http://www.wikidata.org/entity/Q93204\n",
       "...         ...                                     ...\n",
       "121030    62691  http://www.wikidata.org/entity/Q229390\n",
       "121031    75863  http://www.wikidata.org/entity/Q229390\n",
       "121032    97606  http://www.wikidata.org/entity/Q229390\n",
       "121033   109769  http://www.wikidata.org/entity/Q229390\n",
       "121034   109773  http://www.wikidata.org/entity/Q229390\n",
       "\n",
       "[121035 rows x 2 columns]"
      ]
     },
     "execution_count": 45,
     "metadata": {},
     "output_type": "execute_result"
    }
   ],
   "source": [
    "#donnees de cinématèque quebecoise \n",
    "#*********genre cleanup ***************\n",
    "\n",
    "genres = pd.read_csv(\"/Users/maninderbhogal/PycharmProjects/INF8808_vsCinematheque/Src/Assets/Data/GenresCategories_Wikidata.csv\")\n",
    "filmo_genre = pd.read_csv(\"/Users/maninderbhogal/PycharmProjects/INF8808_vsCinematheque/Src/Assets/Data/Filmo_GenreCategories.csv\")\n",
    "filmo_genre = pd.merge(filmo_genre,genres, on='sujetId', how=\"inner\")\n",
    "filmo_genre['genre'] = filmo_genre['lienWikidata']\n",
    "filmo_genre = filmo_genre[['filmoId','genre']]\n",
    "filmo_genre"
   ]
  },
  {
   "cell_type": "code",
   "execution_count": 46,
   "metadata": {},
   "outputs": [
    {
     "data": {
      "text/html": [
       "<div>\n",
       "<style scoped>\n",
       "    .dataframe tbody tr th:only-of-type {\n",
       "        vertical-align: middle;\n",
       "    }\n",
       "\n",
       "    .dataframe tbody tr th {\n",
       "        vertical-align: top;\n",
       "    }\n",
       "\n",
       "    .dataframe thead th {\n",
       "        text-align: right;\n",
       "    }\n",
       "</style>\n",
       "<table border=\"1\" class=\"dataframe\">\n",
       "  <thead>\n",
       "    <tr style=\"text-align: right;\">\n",
       "      <th></th>\n",
       "      <th>filmoId</th>\n",
       "      <th>genre</th>\n",
       "      <th>genreLabel</th>\n",
       "    </tr>\n",
       "  </thead>\n",
       "  <tbody>\n",
       "    <tr>\n",
       "      <th>0</th>\n",
       "      <td>57864</td>\n",
       "      <td>http://www.wikidata.org/entity/Q93204</td>\n",
       "      <td>DOCUMENTAIRES (VIDÉO)</td>\n",
       "    </tr>\n",
       "    <tr>\n",
       "      <th>1</th>\n",
       "      <td>57864</td>\n",
       "      <td>http://www.wikidata.org/entity/Q93204</td>\n",
       "      <td>SÉRIES DOCUMENTAIRES (TV)</td>\n",
       "    </tr>\n",
       "    <tr>\n",
       "      <th>2</th>\n",
       "      <td>57864</td>\n",
       "      <td>http://www.wikidata.org/entity/Q93204</td>\n",
       "      <td>DOCUMENTAIRE</td>\n",
       "    </tr>\n",
       "    <tr>\n",
       "      <th>3</th>\n",
       "      <td>57864</td>\n",
       "      <td>http://www.wikidata.org/entity/Q93204</td>\n",
       "      <td>SÉRIES DOCUMENTAIRES</td>\n",
       "    </tr>\n",
       "    <tr>\n",
       "      <th>4</th>\n",
       "      <td>57864</td>\n",
       "      <td>http://www.wikidata.org/entity/Q93204</td>\n",
       "      <td>SÉRIE DOCUMENTAIRE</td>\n",
       "    </tr>\n",
       "    <tr>\n",
       "      <th>...</th>\n",
       "      <td>...</td>\n",
       "      <td>...</td>\n",
       "      <td>...</td>\n",
       "    </tr>\n",
       "    <tr>\n",
       "      <th>372993</th>\n",
       "      <td>107830</td>\n",
       "      <td>http://www.wikidata.org/entity/Q226730</td>\n",
       "      <td>MUET</td>\n",
       "    </tr>\n",
       "    <tr>\n",
       "      <th>372994</th>\n",
       "      <td>107831</td>\n",
       "      <td>http://www.wikidata.org/entity/Q226730</td>\n",
       "      <td>MUET</td>\n",
       "    </tr>\n",
       "    <tr>\n",
       "      <th>372995</th>\n",
       "      <td>108164</td>\n",
       "      <td>http://www.wikidata.org/entity/Q226730</td>\n",
       "      <td>MUET</td>\n",
       "    </tr>\n",
       "    <tr>\n",
       "      <th>372996</th>\n",
       "      <td>436</td>\n",
       "      <td>http://www.wikidata.org/entity/Q226730</td>\n",
       "      <td>MUET</td>\n",
       "    </tr>\n",
       "    <tr>\n",
       "      <th>372997</th>\n",
       "      <td>109666</td>\n",
       "      <td>http://www.wikidata.org/entity/Q226730</td>\n",
       "      <td>MUET</td>\n",
       "    </tr>\n",
       "  </tbody>\n",
       "</table>\n",
       "<p>372998 rows × 3 columns</p>\n",
       "</div>"
      ],
      "text/plain": [
       "        filmoId                                   genre  \\\n",
       "0         57864   http://www.wikidata.org/entity/Q93204   \n",
       "1         57864   http://www.wikidata.org/entity/Q93204   \n",
       "2         57864   http://www.wikidata.org/entity/Q93204   \n",
       "3         57864   http://www.wikidata.org/entity/Q93204   \n",
       "4         57864   http://www.wikidata.org/entity/Q93204   \n",
       "...         ...                                     ...   \n",
       "372993   107830  http://www.wikidata.org/entity/Q226730   \n",
       "372994   107831  http://www.wikidata.org/entity/Q226730   \n",
       "372995   108164  http://www.wikidata.org/entity/Q226730   \n",
       "372996      436  http://www.wikidata.org/entity/Q226730   \n",
       "372997   109666  http://www.wikidata.org/entity/Q226730   \n",
       "\n",
       "                       genreLabel  \n",
       "0           DOCUMENTAIRES (VIDÉO)  \n",
       "1       SÉRIES DOCUMENTAIRES (TV)  \n",
       "2                    DOCUMENTAIRE  \n",
       "3            SÉRIES DOCUMENTAIRES  \n",
       "4              SÉRIE DOCUMENTAIRE  \n",
       "...                           ...  \n",
       "372993                       MUET  \n",
       "372994                       MUET  \n",
       "372995                       MUET  \n",
       "372996                       MUET  \n",
       "372997                       MUET  \n",
       "\n",
       "[372998 rows x 3 columns]"
      ]
     },
     "execution_count": 46,
     "metadata": {},
     "output_type": "execute_result"
    }
   ],
   "source": [
    "#getting movies genre label   \n",
    "movies_genre = pd.merge(film_df, filmo_genre, on='filmoId', how=\"inner\")\n",
    "film_genres = film_genres.drop(columns=['film','titreOriginal'])\n",
    "#movies = movies.sort_values(by='filmoId')\n",
    "film_genres = film_genres.drop_duplicates()\n",
    "#film_genres\n",
    "genre_labels = pd.merge(filmo_genre, film_genres, on='genre', how=\"inner\")\n",
    "genre_labels"
   ]
  },
  {
   "cell_type": "code",
   "execution_count": 47,
   "metadata": {},
   "outputs": [],
   "source": [
    "#genre combiend with data from database\n",
    "\n",
    "movies_genre = pd.merge(film_df, genre_labels, on='filmoId', how=\"inner\")\n",
    "movies_genre = movies_genre.sort_values(by='filmoId')\n",
    "movies_genre.to_csv(r'/Users/maninderbhogal/PycharmProjects/INF8808_vsCinematheque/Src/Assets/Data/film_genres.csv', index = False, header=True)\n",
    "#movies_genre.groupby(movies_genre['filmoId']).count()"
   ]
  },
  {
   "cell_type": "code",
   "execution_count": 48,
   "metadata": {},
   "outputs": [
    {
     "data": {
      "text/html": [
       "<div>\n",
       "<style scoped>\n",
       "    .dataframe tbody tr th:only-of-type {\n",
       "        vertical-align: middle;\n",
       "    }\n",
       "\n",
       "    .dataframe tbody tr th {\n",
       "        vertical-align: top;\n",
       "    }\n",
       "\n",
       "    .dataframe thead th {\n",
       "        text-align: right;\n",
       "    }\n",
       "</style>\n",
       "<table border=\"1\" class=\"dataframe\">\n",
       "  <thead>\n",
       "    <tr style=\"text-align: right;\">\n",
       "      <th></th>\n",
       "      <th>filmoId</th>\n",
       "      <th>titreOriginal</th>\n",
       "      <th>anneeSortie</th>\n",
       "      <th>genre</th>\n",
       "      <th>genreLabel</th>\n",
       "      <th>film</th>\n",
       "      <th>director</th>\n",
       "      <th>directorLabel</th>\n",
       "    </tr>\n",
       "  </thead>\n",
       "  <tbody>\n",
       "    <tr>\n",
       "      <th>0</th>\n",
       "      <td>5</td>\n",
       "      <td>GUILTY BY SUSPICION</td>\n",
       "      <td>1991.0</td>\n",
       "      <td>http://www.wikidata.org/entity/Q2484376</td>\n",
       "      <td>THRILLERS</td>\n",
       "      <td>http://data.cinematheque.qc.ca/resource/Work5</td>\n",
       "      <td>http://www.wikidata.org/entity/Q950428</td>\n",
       "      <td>Irwin Winkler</td>\n",
       "    </tr>\n",
       "    <tr>\n",
       "      <th>1</th>\n",
       "      <td>5</td>\n",
       "      <td>GUILTY BY SUSPICION</td>\n",
       "      <td>1991.0</td>\n",
       "      <td>http://www.wikidata.org/entity/Q2484376</td>\n",
       "      <td>THRILLERS (TV)</td>\n",
       "      <td>http://data.cinematheque.qc.ca/resource/Work5</td>\n",
       "      <td>http://www.wikidata.org/entity/Q950428</td>\n",
       "      <td>Irwin Winkler</td>\n",
       "    </tr>\n",
       "    <tr>\n",
       "      <th>2</th>\n",
       "      <td>5</td>\n",
       "      <td>GUILTY BY SUSPICION</td>\n",
       "      <td>1991.0</td>\n",
       "      <td>http://www.wikidata.org/entity/Q2484376</td>\n",
       "      <td>THRILLERS (VIDÉO)</td>\n",
       "      <td>http://data.cinematheque.qc.ca/resource/Work5</td>\n",
       "      <td>http://www.wikidata.org/entity/Q950428</td>\n",
       "      <td>Irwin Winkler</td>\n",
       "    </tr>\n",
       "    <tr>\n",
       "      <th>3</th>\n",
       "      <td>5</td>\n",
       "      <td>GUILTY BY SUSPICION</td>\n",
       "      <td>1991.0</td>\n",
       "      <td>http://www.wikidata.org/entity/Q2484376</td>\n",
       "      <td>THRILLER</td>\n",
       "      <td>http://data.cinematheque.qc.ca/resource/Work5</td>\n",
       "      <td>http://www.wikidata.org/entity/Q950428</td>\n",
       "      <td>Irwin Winkler</td>\n",
       "    </tr>\n",
       "    <tr>\n",
       "      <th>4</th>\n",
       "      <td>17</td>\n",
       "      <td>URANUS</td>\n",
       "      <td>1990.0</td>\n",
       "      <td>http://www.wikidata.org/entity/Q157443</td>\n",
       "      <td>HUMOUR, ÉMISSIONS D'</td>\n",
       "      <td>http://data.cinematheque.qc.ca/resource/Work17</td>\n",
       "      <td>http://www.wikidata.org/entity/Q298905</td>\n",
       "      <td>Claude Berri</td>\n",
       "    </tr>\n",
       "    <tr>\n",
       "      <th>...</th>\n",
       "      <td>...</td>\n",
       "      <td>...</td>\n",
       "      <td>...</td>\n",
       "      <td>...</td>\n",
       "      <td>...</td>\n",
       "      <td>...</td>\n",
       "      <td>...</td>\n",
       "      <td>...</td>\n",
       "    </tr>\n",
       "    <tr>\n",
       "      <th>124110</th>\n",
       "      <td>110070</td>\n",
       "      <td>BROKEN SILENCE</td>\n",
       "      <td>NaN</td>\n",
       "      <td>http://www.wikidata.org/entity/Q93204</td>\n",
       "      <td>DOCUMENTAIRES</td>\n",
       "      <td>http://data.cinematheque.qc.ca/resource/Work11...</td>\n",
       "      <td>http://www.wikidata.org/entity/Q1374327</td>\n",
       "      <td>Vojtech Jasny</td>\n",
       "    </tr>\n",
       "    <tr>\n",
       "      <th>124111</th>\n",
       "      <td>110070</td>\n",
       "      <td>BROKEN SILENCE</td>\n",
       "      <td>NaN</td>\n",
       "      <td>http://www.wikidata.org/entity/Q93204</td>\n",
       "      <td>DOCUMENTAIRES</td>\n",
       "      <td>http://data.cinematheque.qc.ca/resource/Work11...</td>\n",
       "      <td>http://www.wikidata.org/entity/Q611429</td>\n",
       "      <td>Luis Puenzo</td>\n",
       "    </tr>\n",
       "    <tr>\n",
       "      <th>124112</th>\n",
       "      <td>110070</td>\n",
       "      <td>BROKEN SILENCE</td>\n",
       "      <td>NaN</td>\n",
       "      <td>http://www.wikidata.org/entity/Q93204</td>\n",
       "      <td>DOCUMENTAIRES (TV)</td>\n",
       "      <td>http://data.cinematheque.qc.ca/resource/Work11...</td>\n",
       "      <td>http://www.wikidata.org/entity/Q106685</td>\n",
       "      <td>Andrzej Wajda</td>\n",
       "    </tr>\n",
       "    <tr>\n",
       "      <th>124113</th>\n",
       "      <td>110070</td>\n",
       "      <td>BROKEN SILENCE</td>\n",
       "      <td>NaN</td>\n",
       "      <td>http://www.wikidata.org/entity/Q93204</td>\n",
       "      <td>DOCUMENTAIRES (TV)</td>\n",
       "      <td>http://data.cinematheque.qc.ca/resource/Work11...</td>\n",
       "      <td>http://www.wikidata.org/entity/Q1374327</td>\n",
       "      <td>Vojtech Jasny</td>\n",
       "    </tr>\n",
       "    <tr>\n",
       "      <th>124114</th>\n",
       "      <td>110070</td>\n",
       "      <td>BROKEN SILENCE</td>\n",
       "      <td>NaN</td>\n",
       "      <td>http://www.wikidata.org/entity/Q93204</td>\n",
       "      <td>DOCUMENTAIRES (TV)</td>\n",
       "      <td>http://data.cinematheque.qc.ca/resource/Work11...</td>\n",
       "      <td>http://www.wikidata.org/entity/Q611429</td>\n",
       "      <td>Luis Puenzo</td>\n",
       "    </tr>\n",
       "  </tbody>\n",
       "</table>\n",
       "<p>124115 rows × 8 columns</p>\n",
       "</div>"
      ],
      "text/plain": [
       "        filmoId        titreOriginal  anneeSortie  \\\n",
       "0             5  GUILTY BY SUSPICION       1991.0   \n",
       "1             5  GUILTY BY SUSPICION       1991.0   \n",
       "2             5  GUILTY BY SUSPICION       1991.0   \n",
       "3             5  GUILTY BY SUSPICION       1991.0   \n",
       "4            17               URANUS       1990.0   \n",
       "...         ...                  ...          ...   \n",
       "124110   110070       BROKEN SILENCE          NaN   \n",
       "124111   110070       BROKEN SILENCE          NaN   \n",
       "124112   110070       BROKEN SILENCE          NaN   \n",
       "124113   110070       BROKEN SILENCE          NaN   \n",
       "124114   110070       BROKEN SILENCE          NaN   \n",
       "\n",
       "                                          genre            genreLabel  \\\n",
       "0       http://www.wikidata.org/entity/Q2484376             THRILLERS   \n",
       "1       http://www.wikidata.org/entity/Q2484376        THRILLERS (TV)   \n",
       "2       http://www.wikidata.org/entity/Q2484376     THRILLERS (VIDÉO)   \n",
       "3       http://www.wikidata.org/entity/Q2484376              THRILLER   \n",
       "4        http://www.wikidata.org/entity/Q157443  HUMOUR, ÉMISSIONS D'   \n",
       "...                                         ...                   ...   \n",
       "124110    http://www.wikidata.org/entity/Q93204         DOCUMENTAIRES   \n",
       "124111    http://www.wikidata.org/entity/Q93204         DOCUMENTAIRES   \n",
       "124112    http://www.wikidata.org/entity/Q93204    DOCUMENTAIRES (TV)   \n",
       "124113    http://www.wikidata.org/entity/Q93204    DOCUMENTAIRES (TV)   \n",
       "124114    http://www.wikidata.org/entity/Q93204    DOCUMENTAIRES (TV)   \n",
       "\n",
       "                                                     film  \\\n",
       "0           http://data.cinematheque.qc.ca/resource/Work5   \n",
       "1           http://data.cinematheque.qc.ca/resource/Work5   \n",
       "2           http://data.cinematheque.qc.ca/resource/Work5   \n",
       "3           http://data.cinematheque.qc.ca/resource/Work5   \n",
       "4          http://data.cinematheque.qc.ca/resource/Work17   \n",
       "...                                                   ...   \n",
       "124110  http://data.cinematheque.qc.ca/resource/Work11...   \n",
       "124111  http://data.cinematheque.qc.ca/resource/Work11...   \n",
       "124112  http://data.cinematheque.qc.ca/resource/Work11...   \n",
       "124113  http://data.cinematheque.qc.ca/resource/Work11...   \n",
       "124114  http://data.cinematheque.qc.ca/resource/Work11...   \n",
       "\n",
       "                                       director  directorLabel  \n",
       "0        http://www.wikidata.org/entity/Q950428  Irwin Winkler  \n",
       "1        http://www.wikidata.org/entity/Q950428  Irwin Winkler  \n",
       "2        http://www.wikidata.org/entity/Q950428  Irwin Winkler  \n",
       "3        http://www.wikidata.org/entity/Q950428  Irwin Winkler  \n",
       "4        http://www.wikidata.org/entity/Q298905   Claude Berri  \n",
       "...                                         ...            ...  \n",
       "124110  http://www.wikidata.org/entity/Q1374327  Vojtech Jasny  \n",
       "124111   http://www.wikidata.org/entity/Q611429    Luis Puenzo  \n",
       "124112   http://www.wikidata.org/entity/Q106685  Andrzej Wajda  \n",
       "124113  http://www.wikidata.org/entity/Q1374327  Vojtech Jasny  \n",
       "124114   http://www.wikidata.org/entity/Q611429    Luis Puenzo  \n",
       "\n",
       "[124115 rows x 8 columns]"
      ]
     },
     "execution_count": 48,
     "metadata": {},
     "output_type": "execute_result"
    }
   ],
   "source": [
    "film_directors = pd.merge(movies_genre,film_directors,on=\"titreOriginal\")\n",
    "film_directors.to_csv(r'/Users/maninderbhogal/PycharmProjects/INF8808_vsCinematheque/Src/Assets/Data/film_directors_wiki.csv', index = False, header=True)\n",
    "film_directors"
   ]
  },
  {
   "cell_type": "code",
   "execution_count": 49,
   "metadata": {},
   "outputs": [
    {
     "data": {
      "text/html": [
       "<div>\n",
       "<style scoped>\n",
       "    .dataframe tbody tr th:only-of-type {\n",
       "        vertical-align: middle;\n",
       "    }\n",
       "\n",
       "    .dataframe tbody tr th {\n",
       "        vertical-align: top;\n",
       "    }\n",
       "\n",
       "    .dataframe thead th {\n",
       "        text-align: right;\n",
       "    }\n",
       "</style>\n",
       "<table border=\"1\" class=\"dataframe\">\n",
       "  <thead>\n",
       "    <tr style=\"text-align: right;\">\n",
       "      <th></th>\n",
       "      <th>filmoId</th>\n",
       "      <th>titreOriginal</th>\n",
       "      <th>anneeSortie</th>\n",
       "      <th>genre</th>\n",
       "      <th>genreLabel</th>\n",
       "      <th>pays</th>\n",
       "    </tr>\n",
       "  </thead>\n",
       "  <tbody>\n",
       "    <tr>\n",
       "      <th>0</th>\n",
       "      <td>5</td>\n",
       "      <td>GUILTY BY SUSPICION</td>\n",
       "      <td>1991.0</td>\n",
       "      <td>http://www.wikidata.org/entity/Q2484376</td>\n",
       "      <td>THRILLERS</td>\n",
       "      <td>États-Unis</td>\n",
       "    </tr>\n",
       "    <tr>\n",
       "      <th>1</th>\n",
       "      <td>5</td>\n",
       "      <td>GUILTY BY SUSPICION</td>\n",
       "      <td>1991.0</td>\n",
       "      <td>http://www.wikidata.org/entity/Q2484376</td>\n",
       "      <td>THRILLERS (TV)</td>\n",
       "      <td>États-Unis</td>\n",
       "    </tr>\n",
       "    <tr>\n",
       "      <th>2</th>\n",
       "      <td>5</td>\n",
       "      <td>GUILTY BY SUSPICION</td>\n",
       "      <td>1991.0</td>\n",
       "      <td>http://www.wikidata.org/entity/Q2484376</td>\n",
       "      <td>THRILLERS (VIDÉO)</td>\n",
       "      <td>États-Unis</td>\n",
       "    </tr>\n",
       "    <tr>\n",
       "      <th>3</th>\n",
       "      <td>5</td>\n",
       "      <td>GUILTY BY SUSPICION</td>\n",
       "      <td>1991.0</td>\n",
       "      <td>http://www.wikidata.org/entity/Q2484376</td>\n",
       "      <td>THRILLER</td>\n",
       "      <td>États-Unis</td>\n",
       "    </tr>\n",
       "    <tr>\n",
       "      <th>4</th>\n",
       "      <td>17</td>\n",
       "      <td>URANUS</td>\n",
       "      <td>1990.0</td>\n",
       "      <td>http://www.wikidata.org/entity/Q157443</td>\n",
       "      <td>HUMOUR, ÉMISSIONS D'</td>\n",
       "      <td>France</td>\n",
       "    </tr>\n",
       "    <tr>\n",
       "      <th>...</th>\n",
       "      <td>...</td>\n",
       "      <td>...</td>\n",
       "      <td>...</td>\n",
       "      <td>...</td>\n",
       "      <td>...</td>\n",
       "      <td>...</td>\n",
       "    </tr>\n",
       "    <tr>\n",
       "      <th>422862</th>\n",
       "      <td>110075</td>\n",
       "      <td>THREE PIECES FOR CIRCUITS</td>\n",
       "      <td>1974.0</td>\n",
       "      <td>http://www.wikidata.org/entity/Q790192</td>\n",
       "      <td>EXPÉRIMENTAUX, FILMS</td>\n",
       "      <td>Canada</td>\n",
       "    </tr>\n",
       "    <tr>\n",
       "      <th>422863</th>\n",
       "      <td>110075</td>\n",
       "      <td>THREE PIECES FOR CIRCUITS</td>\n",
       "      <td>1974.0</td>\n",
       "      <td>http://www.wikidata.org/entity/Q459290</td>\n",
       "      <td>INDÉPENDANTE, VIDÉO</td>\n",
       "      <td>Canada</td>\n",
       "    </tr>\n",
       "    <tr>\n",
       "      <th>422864</th>\n",
       "      <td>110075</td>\n",
       "      <td>THREE PIECES FOR CIRCUITS</td>\n",
       "      <td>1974.0</td>\n",
       "      <td>http://www.wikidata.org/entity/Q790192</td>\n",
       "      <td>EXPÉRIMENTAL</td>\n",
       "      <td>Canada</td>\n",
       "    </tr>\n",
       "    <tr>\n",
       "      <th>422865</th>\n",
       "      <td>110075</td>\n",
       "      <td>THREE PIECES FOR CIRCUITS</td>\n",
       "      <td>1974.0</td>\n",
       "      <td>http://www.wikidata.org/entity/Q790192</td>\n",
       "      <td>EXPÉRIMENTAUX, VIDÉOS</td>\n",
       "      <td>Canada</td>\n",
       "    </tr>\n",
       "    <tr>\n",
       "      <th>422866</th>\n",
       "      <td>110075</td>\n",
       "      <td>THREE PIECES FOR CIRCUITS</td>\n",
       "      <td>1974.0</td>\n",
       "      <td>http://www.wikidata.org/entity/Q459290</td>\n",
       "      <td>INDÉPENDANTS, FILMS</td>\n",
       "      <td>Canada</td>\n",
       "    </tr>\n",
       "  </tbody>\n",
       "</table>\n",
       "<p>422867 rows × 6 columns</p>\n",
       "</div>"
      ],
      "text/plain": [
       "        filmoId              titreOriginal  anneeSortie  \\\n",
       "0             5        GUILTY BY SUSPICION       1991.0   \n",
       "1             5        GUILTY BY SUSPICION       1991.0   \n",
       "2             5        GUILTY BY SUSPICION       1991.0   \n",
       "3             5        GUILTY BY SUSPICION       1991.0   \n",
       "4            17                     URANUS       1990.0   \n",
       "...         ...                        ...          ...   \n",
       "422862   110075  THREE PIECES FOR CIRCUITS       1974.0   \n",
       "422863   110075  THREE PIECES FOR CIRCUITS       1974.0   \n",
       "422864   110075  THREE PIECES FOR CIRCUITS       1974.0   \n",
       "422865   110075  THREE PIECES FOR CIRCUITS       1974.0   \n",
       "422866   110075  THREE PIECES FOR CIRCUITS       1974.0   \n",
       "\n",
       "                                          genre             genreLabel  \\\n",
       "0       http://www.wikidata.org/entity/Q2484376              THRILLERS   \n",
       "1       http://www.wikidata.org/entity/Q2484376         THRILLERS (TV)   \n",
       "2       http://www.wikidata.org/entity/Q2484376      THRILLERS (VIDÉO)   \n",
       "3       http://www.wikidata.org/entity/Q2484376               THRILLER   \n",
       "4        http://www.wikidata.org/entity/Q157443   HUMOUR, ÉMISSIONS D'   \n",
       "...                                         ...                    ...   \n",
       "422862   http://www.wikidata.org/entity/Q790192   EXPÉRIMENTAUX, FILMS   \n",
       "422863   http://www.wikidata.org/entity/Q459290    INDÉPENDANTE, VIDÉO   \n",
       "422864   http://www.wikidata.org/entity/Q790192           EXPÉRIMENTAL   \n",
       "422865   http://www.wikidata.org/entity/Q790192  EXPÉRIMENTAUX, VIDÉOS   \n",
       "422866   http://www.wikidata.org/entity/Q459290    INDÉPENDANTS, FILMS   \n",
       "\n",
       "              pays  \n",
       "0       États-Unis  \n",
       "1       États-Unis  \n",
       "2       États-Unis  \n",
       "3       États-Unis  \n",
       "4           France  \n",
       "...            ...  \n",
       "422862      Canada  \n",
       "422863      Canada  \n",
       "422864      Canada  \n",
       "422865      Canada  \n",
       "422866      Canada  \n",
       "\n",
       "[422867 rows x 6 columns]"
      ]
     },
     "execution_count": 49,
     "metadata": {},
     "output_type": "execute_result"
    }
   ],
   "source": [
    "genres = pd.read_csv(\"/Users/maninderbhogal/PycharmProjects/INF8808_vsCinematheque/Src/Assets/Data/_film_genres.csv\")\n",
    "pays = pd.read_csv(\"/Users/maninderbhogal/PycharmProjects/INF8808_vsCinematheque/Src/Assets/Data/_film_pays.csv\")\n",
    "langues = pd.read_csv(\"/Users/maninderbhogal/PycharmProjects/INF8808_vsCinematheque/Src/Assets/Data/_film_langue.csv\")\n",
    "film_genres = pd.merge(genres,pays,on=\"filmoId\")\n",
    "film_genres"
   ]
  },
  {
   "cell_type": "code",
   "execution_count": 50,
   "metadata": {},
   "outputs": [],
   "source": [
    "film_genres.to_csv(r'/Users/maninderbhogal/PycharmProjects/INF8808_vsCinematheque/Src/Assets/Data/film_genres_pays.csv', index = False, header=True)"
   ]
  },
  {
   "cell_type": "code",
   "execution_count": 51,
   "metadata": {},
   "outputs": [
    {
     "data": {
      "application/vnd.plotly.v1+json": {
       "config": {
        "plotlyServerURL": "https://plot.ly"
       },
       "data": [
        {
         "colorscale": [
          [
           0,
           "rgb(255,255,217)"
          ],
          [
           0.125,
           "rgb(237,248,177)"
          ],
          [
           0.25,
           "rgb(199,233,180)"
          ],
          [
           0.375,
           "rgb(127,205,187)"
          ],
          [
           0.5,
           "rgb(65,182,196)"
          ],
          [
           0.625,
           "rgb(29,145,192)"
          ],
          [
           0.75,
           "rgb(34,94,168)"
          ],
          [
           0.875,
           "rgb(37,52,148)"
          ],
          [
           1,
           "rgb(8,29,88)"
          ]
         ],
         "type": "heatmap",
         "x": [
          "DOCUMENTAIRE",
          "DOCUMENTAIRE",
          "COMÉDIES",
          "ANIMATION",
          "ANIMATION",
          "DOCUMENTAIRE",
          "DOCUMENTAIRE",
          "DRAME",
          "COMÉDIES",
          "DRAME",
          "THRILLER",
          "COMÉDIES",
          "ANIMATION",
          "ACTION",
          "AVENTURE",
          "ANIMATION",
          "DRAME",
          "ANIMATION",
          "COMÉDIES",
          "DOCUMENTAIRE",
          "BIOGRAPHIE",
          "THRILLER",
          "GUERRE",
          "DRAME",
          "DRAME",
          "THRILLER",
          "DRAME",
          "COMÉDIES",
          "BIOGRAPHIE",
          "DRAME",
          "COMÉDIES",
          "ANIMATION",
          "ANIMATION",
          "BIOGRAPHIE",
          "ANIMATION",
          "ANIMATION",
          "AVENTURE",
          "DOCUMENTAIRE",
          "THRILLER",
          "ANIMATION",
          "DOCUMENTAIRE",
          "GUERRE",
          "DOCUMENTAIRE",
          "THRILLER",
          "AVENTURE",
          "DRAME",
          "COMÉDIES",
          "DRAME",
          "DOCUMENTAIRE",
          "ACTION",
          "ANIMATION",
          "THRILLER",
          "ANIMATION",
          "ANIMATION",
          "ACTION",
          "ANIMATION",
          "THRILLER",
          "DRAME",
          "COMÉDIES",
          "BIOGRAPHIE",
          "COMÉDIES",
          "ACTION",
          "AVENTURE",
          "ANIMATION"
         ],
         "y": [
          "Canada : Québec",
          "France",
          "États-Unis",
          "États-Unis",
          "Canada : Québec",
          "Canada",
          "États-Unis",
          "États-Unis",
          "France",
          "France",
          "États-Unis",
          "Canada : Québec",
          "France",
          "États-Unis",
          "États-Unis",
          "Canada",
          "Royaume-Uni",
          "Pologne",
          "Royaume-Uni",
          "Royaume-Uni",
          "Canada : Québec",
          "France",
          "États-Unis",
          "Canada : Québec",
          "Italie",
          "Royaume-Uni",
          "Allemagne",
          "Italie",
          "États-Unis",
          "Canada",
          "Canada",
          "Royaume-Uni",
          "Belgique",
          "France",
          "Tchécoslovaquie",
          "Japon",
          "France",
          "Belgique",
          "Canada",
          "Yougoslavie",
          "Italie",
          "France",
          "Allemagne",
          "Canada : Québec",
          "Royaume-Uni",
          "Espagne",
          "Allemagne",
          "Japon",
          "Suisse",
          "Royaume-Uni",
          "Allemagne",
          "Allemagne",
          "Italie",
          "URSS",
          "France",
          "Hongrie",
          "Italie",
          "Belgique",
          "Espagne",
          "Royaume-Uni",
          "Belgique",
          "Japon",
          "Italie",
          "Bulgarie"
         ],
         "z": [
          9692,
          2566,
          2551,
          2197,
          2113,
          2109,
          1616,
          1484,
          1440,
          1256,
          1236,
          1042,
          947,
          920,
          740,
          647,
          498,
          477,
          438,
          407,
          401,
          381,
          362,
          361,
          330,
          302,
          296,
          284,
          274,
          268,
          258,
          257,
          233,
          230,
          227,
          221,
          217,
          211,
          201,
          195,
          190,
          182,
          177,
          166,
          166,
          163,
          162,
          158,
          150,
          145,
          139,
          136,
          136,
          136,
          129,
          126,
          124,
          124,
          118,
          113,
          109,
          109,
          102,
          101
         ]
        }
       ],
       "layout": {
        "autosize": true,
        "template": {
         "data": {
          "bar": [
           {
            "error_x": {
             "color": "#2a3f5f"
            },
            "error_y": {
             "color": "#2a3f5f"
            },
            "marker": {
             "line": {
              "color": "#E5ECF6",
              "width": 0.5
             }
            },
            "type": "bar"
           }
          ],
          "barpolar": [
           {
            "marker": {
             "line": {
              "color": "#E5ECF6",
              "width": 0.5
             }
            },
            "type": "barpolar"
           }
          ],
          "carpet": [
           {
            "aaxis": {
             "endlinecolor": "#2a3f5f",
             "gridcolor": "white",
             "linecolor": "white",
             "minorgridcolor": "white",
             "startlinecolor": "#2a3f5f"
            },
            "baxis": {
             "endlinecolor": "#2a3f5f",
             "gridcolor": "white",
             "linecolor": "white",
             "minorgridcolor": "white",
             "startlinecolor": "#2a3f5f"
            },
            "type": "carpet"
           }
          ],
          "choropleth": [
           {
            "colorbar": {
             "outlinewidth": 0,
             "ticks": ""
            },
            "type": "choropleth"
           }
          ],
          "contour": [
           {
            "colorbar": {
             "outlinewidth": 0,
             "ticks": ""
            },
            "colorscale": [
             [
              0,
              "#0d0887"
             ],
             [
              0.1111111111111111,
              "#46039f"
             ],
             [
              0.2222222222222222,
              "#7201a8"
             ],
             [
              0.3333333333333333,
              "#9c179e"
             ],
             [
              0.4444444444444444,
              "#bd3786"
             ],
             [
              0.5555555555555556,
              "#d8576b"
             ],
             [
              0.6666666666666666,
              "#ed7953"
             ],
             [
              0.7777777777777778,
              "#fb9f3a"
             ],
             [
              0.8888888888888888,
              "#fdca26"
             ],
             [
              1,
              "#f0f921"
             ]
            ],
            "type": "contour"
           }
          ],
          "contourcarpet": [
           {
            "colorbar": {
             "outlinewidth": 0,
             "ticks": ""
            },
            "type": "contourcarpet"
           }
          ],
          "heatmap": [
           {
            "colorbar": {
             "outlinewidth": 0,
             "ticks": ""
            },
            "colorscale": [
             [
              0,
              "#0d0887"
             ],
             [
              0.1111111111111111,
              "#46039f"
             ],
             [
              0.2222222222222222,
              "#7201a8"
             ],
             [
              0.3333333333333333,
              "#9c179e"
             ],
             [
              0.4444444444444444,
              "#bd3786"
             ],
             [
              0.5555555555555556,
              "#d8576b"
             ],
             [
              0.6666666666666666,
              "#ed7953"
             ],
             [
              0.7777777777777778,
              "#fb9f3a"
             ],
             [
              0.8888888888888888,
              "#fdca26"
             ],
             [
              1,
              "#f0f921"
             ]
            ],
            "type": "heatmap"
           }
          ],
          "heatmapgl": [
           {
            "colorbar": {
             "outlinewidth": 0,
             "ticks": ""
            },
            "colorscale": [
             [
              0,
              "#0d0887"
             ],
             [
              0.1111111111111111,
              "#46039f"
             ],
             [
              0.2222222222222222,
              "#7201a8"
             ],
             [
              0.3333333333333333,
              "#9c179e"
             ],
             [
              0.4444444444444444,
              "#bd3786"
             ],
             [
              0.5555555555555556,
              "#d8576b"
             ],
             [
              0.6666666666666666,
              "#ed7953"
             ],
             [
              0.7777777777777778,
              "#fb9f3a"
             ],
             [
              0.8888888888888888,
              "#fdca26"
             ],
             [
              1,
              "#f0f921"
             ]
            ],
            "type": "heatmapgl"
           }
          ],
          "histogram": [
           {
            "marker": {
             "colorbar": {
              "outlinewidth": 0,
              "ticks": ""
             }
            },
            "type": "histogram"
           }
          ],
          "histogram2d": [
           {
            "colorbar": {
             "outlinewidth": 0,
             "ticks": ""
            },
            "colorscale": [
             [
              0,
              "#0d0887"
             ],
             [
              0.1111111111111111,
              "#46039f"
             ],
             [
              0.2222222222222222,
              "#7201a8"
             ],
             [
              0.3333333333333333,
              "#9c179e"
             ],
             [
              0.4444444444444444,
              "#bd3786"
             ],
             [
              0.5555555555555556,
              "#d8576b"
             ],
             [
              0.6666666666666666,
              "#ed7953"
             ],
             [
              0.7777777777777778,
              "#fb9f3a"
             ],
             [
              0.8888888888888888,
              "#fdca26"
             ],
             [
              1,
              "#f0f921"
             ]
            ],
            "type": "histogram2d"
           }
          ],
          "histogram2dcontour": [
           {
            "colorbar": {
             "outlinewidth": 0,
             "ticks": ""
            },
            "colorscale": [
             [
              0,
              "#0d0887"
             ],
             [
              0.1111111111111111,
              "#46039f"
             ],
             [
              0.2222222222222222,
              "#7201a8"
             ],
             [
              0.3333333333333333,
              "#9c179e"
             ],
             [
              0.4444444444444444,
              "#bd3786"
             ],
             [
              0.5555555555555556,
              "#d8576b"
             ],
             [
              0.6666666666666666,
              "#ed7953"
             ],
             [
              0.7777777777777778,
              "#fb9f3a"
             ],
             [
              0.8888888888888888,
              "#fdca26"
             ],
             [
              1,
              "#f0f921"
             ]
            ],
            "type": "histogram2dcontour"
           }
          ],
          "mesh3d": [
           {
            "colorbar": {
             "outlinewidth": 0,
             "ticks": ""
            },
            "type": "mesh3d"
           }
          ],
          "parcoords": [
           {
            "line": {
             "colorbar": {
              "outlinewidth": 0,
              "ticks": ""
             }
            },
            "type": "parcoords"
           }
          ],
          "pie": [
           {
            "automargin": true,
            "type": "pie"
           }
          ],
          "scatter": [
           {
            "marker": {
             "colorbar": {
              "outlinewidth": 0,
              "ticks": ""
             }
            },
            "type": "scatter"
           }
          ],
          "scatter3d": [
           {
            "line": {
             "colorbar": {
              "outlinewidth": 0,
              "ticks": ""
             }
            },
            "marker": {
             "colorbar": {
              "outlinewidth": 0,
              "ticks": ""
             }
            },
            "type": "scatter3d"
           }
          ],
          "scattercarpet": [
           {
            "marker": {
             "colorbar": {
              "outlinewidth": 0,
              "ticks": ""
             }
            },
            "type": "scattercarpet"
           }
          ],
          "scattergeo": [
           {
            "marker": {
             "colorbar": {
              "outlinewidth": 0,
              "ticks": ""
             }
            },
            "type": "scattergeo"
           }
          ],
          "scattergl": [
           {
            "marker": {
             "colorbar": {
              "outlinewidth": 0,
              "ticks": ""
             }
            },
            "type": "scattergl"
           }
          ],
          "scattermapbox": [
           {
            "marker": {
             "colorbar": {
              "outlinewidth": 0,
              "ticks": ""
             }
            },
            "type": "scattermapbox"
           }
          ],
          "scatterpolar": [
           {
            "marker": {
             "colorbar": {
              "outlinewidth": 0,
              "ticks": ""
             }
            },
            "type": "scatterpolar"
           }
          ],
          "scatterpolargl": [
           {
            "marker": {
             "colorbar": {
              "outlinewidth": 0,
              "ticks": ""
             }
            },
            "type": "scatterpolargl"
           }
          ],
          "scatterternary": [
           {
            "marker": {
             "colorbar": {
              "outlinewidth": 0,
              "ticks": ""
             }
            },
            "type": "scatterternary"
           }
          ],
          "surface": [
           {
            "colorbar": {
             "outlinewidth": 0,
             "ticks": ""
            },
            "colorscale": [
             [
              0,
              "#0d0887"
             ],
             [
              0.1111111111111111,
              "#46039f"
             ],
             [
              0.2222222222222222,
              "#7201a8"
             ],
             [
              0.3333333333333333,
              "#9c179e"
             ],
             [
              0.4444444444444444,
              "#bd3786"
             ],
             [
              0.5555555555555556,
              "#d8576b"
             ],
             [
              0.6666666666666666,
              "#ed7953"
             ],
             [
              0.7777777777777778,
              "#fb9f3a"
             ],
             [
              0.8888888888888888,
              "#fdca26"
             ],
             [
              1,
              "#f0f921"
             ]
            ],
            "type": "surface"
           }
          ],
          "table": [
           {
            "cells": {
             "fill": {
              "color": "#EBF0F8"
             },
             "line": {
              "color": "white"
             }
            },
            "header": {
             "fill": {
              "color": "#C8D4E3"
             },
             "line": {
              "color": "white"
             }
            },
            "type": "table"
           }
          ]
         },
         "layout": {
          "annotationdefaults": {
           "arrowcolor": "#2a3f5f",
           "arrowhead": 0,
           "arrowwidth": 1
          },
          "autotypenumbers": "strict",
          "coloraxis": {
           "colorbar": {
            "outlinewidth": 0,
            "ticks": ""
           }
          },
          "colorscale": {
           "diverging": [
            [
             0,
             "#8e0152"
            ],
            [
             0.1,
             "#c51b7d"
            ],
            [
             0.2,
             "#de77ae"
            ],
            [
             0.3,
             "#f1b6da"
            ],
            [
             0.4,
             "#fde0ef"
            ],
            [
             0.5,
             "#f7f7f7"
            ],
            [
             0.6,
             "#e6f5d0"
            ],
            [
             0.7,
             "#b8e186"
            ],
            [
             0.8,
             "#7fbc41"
            ],
            [
             0.9,
             "#4d9221"
            ],
            [
             1,
             "#276419"
            ]
           ],
           "sequential": [
            [
             0,
             "#0d0887"
            ],
            [
             0.1111111111111111,
             "#46039f"
            ],
            [
             0.2222222222222222,
             "#7201a8"
            ],
            [
             0.3333333333333333,
             "#9c179e"
            ],
            [
             0.4444444444444444,
             "#bd3786"
            ],
            [
             0.5555555555555556,
             "#d8576b"
            ],
            [
             0.6666666666666666,
             "#ed7953"
            ],
            [
             0.7777777777777778,
             "#fb9f3a"
            ],
            [
             0.8888888888888888,
             "#fdca26"
            ],
            [
             1,
             "#f0f921"
            ]
           ],
           "sequentialminus": [
            [
             0,
             "#0d0887"
            ],
            [
             0.1111111111111111,
             "#46039f"
            ],
            [
             0.2222222222222222,
             "#7201a8"
            ],
            [
             0.3333333333333333,
             "#9c179e"
            ],
            [
             0.4444444444444444,
             "#bd3786"
            ],
            [
             0.5555555555555556,
             "#d8576b"
            ],
            [
             0.6666666666666666,
             "#ed7953"
            ],
            [
             0.7777777777777778,
             "#fb9f3a"
            ],
            [
             0.8888888888888888,
             "#fdca26"
            ],
            [
             1,
             "#f0f921"
            ]
           ]
          },
          "colorway": [
           "#636efa",
           "#EF553B",
           "#00cc96",
           "#ab63fa",
           "#FFA15A",
           "#19d3f3",
           "#FF6692",
           "#B6E880",
           "#FF97FF",
           "#FECB52"
          ],
          "font": {
           "color": "#2a3f5f"
          },
          "geo": {
           "bgcolor": "white",
           "lakecolor": "white",
           "landcolor": "#E5ECF6",
           "showlakes": true,
           "showland": true,
           "subunitcolor": "white"
          },
          "hoverlabel": {
           "align": "left"
          },
          "hovermode": "closest",
          "mapbox": {
           "style": "light"
          },
          "paper_bgcolor": "white",
          "plot_bgcolor": "#E5ECF6",
          "polar": {
           "angularaxis": {
            "gridcolor": "white",
            "linecolor": "white",
            "ticks": ""
           },
           "bgcolor": "#E5ECF6",
           "radialaxis": {
            "gridcolor": "white",
            "linecolor": "white",
            "ticks": ""
           }
          },
          "scene": {
           "xaxis": {
            "backgroundcolor": "#E5ECF6",
            "gridcolor": "white",
            "gridwidth": 2,
            "linecolor": "white",
            "showbackground": true,
            "ticks": "",
            "zerolinecolor": "white"
           },
           "yaxis": {
            "backgroundcolor": "#E5ECF6",
            "gridcolor": "white",
            "gridwidth": 2,
            "linecolor": "white",
            "showbackground": true,
            "ticks": "",
            "zerolinecolor": "white"
           },
           "zaxis": {
            "backgroundcolor": "#E5ECF6",
            "gridcolor": "white",
            "gridwidth": 2,
            "linecolor": "white",
            "showbackground": true,
            "ticks": "",
            "zerolinecolor": "white"
           }
          },
          "shapedefaults": {
           "line": {
            "color": "#2a3f5f"
           }
          },
          "ternary": {
           "aaxis": {
            "gridcolor": "white",
            "linecolor": "white",
            "ticks": ""
           },
           "baxis": {
            "gridcolor": "white",
            "linecolor": "white",
            "ticks": ""
           },
           "bgcolor": "#E5ECF6",
           "caxis": {
            "gridcolor": "white",
            "linecolor": "white",
            "ticks": ""
           }
          },
          "title": {
           "x": 0.05
          },
          "xaxis": {
           "automargin": true,
           "gridcolor": "white",
           "linecolor": "white",
           "ticks": "",
           "title": {
            "standoff": 15
           },
           "zerolinecolor": "white",
           "zerolinewidth": 2
          },
          "yaxis": {
           "automargin": true,
           "gridcolor": "white",
           "linecolor": "white",
           "ticks": "",
           "title": {
            "standoff": 15
           },
           "zerolinecolor": "white",
           "zerolinewidth": 2
          }
         }
        },
        "xaxis": {
         "autorange": true,
         "range": [
          -0.5,
          8.5
         ],
         "type": "category"
        },
        "yaxis": {
         "autorange": true,
         "range": [
          -0.5,
          16.5
         ],
         "type": "category"
        }
       }
      },
      "image/png": "[encoded data removed]",
      "text/html": [
       "<div>                            <div id=\"20b36e44-5966-4378-9f25-b8ad21cc03c4\" class=\"plotly-graph-div\" style=\"height:525px; width:100%;\"></div>            <script type=\"text/javascript\">                require([\"plotly\"], function(Plotly) {                    window.PLOTLYENV=window.PLOTLYENV || {};                                    if (document.getElementById(\"20b36e44-5966-4378-9f25-b8ad21cc03c4\")) {                    Plotly.newPlot(                        \"20b36e44-5966-4378-9f25-b8ad21cc03c4\",                        [{\"colorscale\": [[0.0, \"rgb(255,255,217)\"], [0.125, \"rgb(237,248,177)\"], [0.25, \"rgb(199,233,180)\"], [0.375, \"rgb(127,205,187)\"], [0.5, \"rgb(65,182,196)\"], [0.625, \"rgb(29,145,192)\"], [0.75, \"rgb(34,94,168)\"], [0.875, \"rgb(37,52,148)\"], [1.0, \"rgb(8,29,88)\"]], \"type\": \"heatmap\", \"x\": [\"DOCUMENTAIRE\", \"DOCUMENTAIRE\", \"COM\\u00c9DIES\", \"ANIMATION\", \"ANIMATION\", \"DOCUMENTAIRE\", \"DOCUMENTAIRE\", \"DRAME\", \"COM\\u00c9DIES\", \"DRAME\", \"THRILLER\", \"COM\\u00c9DIES\", \"ANIMATION\", \"ACTION\", \"AVENTURE\", \"ANIMATION\", \"DRAME\", \"ANIMATION\", \"COM\\u00c9DIES\", \"DOCUMENTAIRE\", \"BIOGRAPHIE\", \"THRILLER\", \"GUERRE\", \"DRAME\", \"DRAME\", \"THRILLER\", \"DRAME\", \"COM\\u00c9DIES\", \"BIOGRAPHIE\", \"DRAME\", \"COM\\u00c9DIES\", \"ANIMATION\", \"ANIMATION\", \"BIOGRAPHIE\", \"ANIMATION\", \"ANIMATION\", \"AVENTURE\", \"DOCUMENTAIRE\", \"THRILLER\", \"ANIMATION\", \"DOCUMENTAIRE\", \"GUERRE\", \"DOCUMENTAIRE\", \"THRILLER\", \"AVENTURE\", \"DRAME\", \"COM\\u00c9DIES\", \"DRAME\", \"DOCUMENTAIRE\", \"ACTION\", \"ANIMATION\", \"THRILLER\", \"ANIMATION\", \"ANIMATION\", \"ACTION\", \"ANIMATION\", \"THRILLER\", \"DRAME\", \"COM\\u00c9DIES\", \"BIOGRAPHIE\", \"COM\\u00c9DIES\", \"ACTION\", \"AVENTURE\", \"ANIMATION\"], \"y\": [\"Canada : Qu\\u00e9bec\", \"France\", \"\\u00c9tats-Unis\", \"\\u00c9tats-Unis\", \"Canada : Qu\\u00e9bec\", \"Canada\", \"\\u00c9tats-Unis\", \"\\u00c9tats-Unis\", \"France\", \"France\", \"\\u00c9tats-Unis\", \"Canada : Qu\\u00e9bec\", \"France\", \"\\u00c9tats-Unis\", \"\\u00c9tats-Unis\", \"Canada\", \"Royaume-Uni\", \"Pologne\", \"Royaume-Uni\", \"Royaume-Uni\", \"Canada : Qu\\u00e9bec\", \"France\", \"\\u00c9tats-Unis\", \"Canada : Qu\\u00e9bec\", \"Italie\", \"Royaume-Uni\", \"Allemagne\", \"Italie\", \"\\u00c9tats-Unis\", \"Canada\", \"Canada\", \"Royaume-Uni\", \"Belgique\", \"France\", \"Tch\\u00e9coslovaquie\", \"Japon\", \"France\", \"Belgique\", \"Canada\", \"Yougoslavie\", \"Italie\", \"France\", \"Allemagne\", \"Canada : Qu\\u00e9bec\", \"Royaume-Uni\", \"Espagne\", \"Allemagne\", \"Japon\", \"Suisse\", \"Royaume-Uni\", \"Allemagne\", \"Allemagne\", \"Italie\", \"URSS\", \"France\", \"Hongrie\", \"Italie\", \"Belgique\", \"Espagne\", \"Royaume-Uni\", \"Belgique\", \"Japon\", \"Italie\", \"Bulgarie\"], \"z\": [9692, 2566, 2551, 2197, 2113, 2109, 1616, 1484, 1440, 1256, 1236, 1042, 947, 920, 740, 647, 498, 477, 438, 407, 401, 381, 362, 361, 330, 302, 296, 284, 274, 268, 258, 257, 233, 230, 227, 221, 217, 211, 201, 195, 190, 182, 177, 166, 166, 163, 162, 158, 150, 145, 139, 136, 136, 136, 129, 126, 124, 124, 118, 113, 109, 109, 102, 101]}],                        {\"template\": {\"data\": {\"bar\": [{\"error_x\": {\"color\": \"#2a3f5f\"}, \"error_y\": {\"color\": \"#2a3f5f\"}, \"marker\": {\"line\": {\"color\": \"#E5ECF6\", \"width\": 0.5}}, \"type\": \"bar\"}], \"barpolar\": [{\"marker\": {\"line\": {\"color\": \"#E5ECF6\", \"width\": 0.5}}, \"type\": \"barpolar\"}], \"carpet\": [{\"aaxis\": {\"endlinecolor\": \"#2a3f5f\", \"gridcolor\": \"white\", \"linecolor\": \"white\", \"minorgridcolor\": \"white\", \"startlinecolor\": \"#2a3f5f\"}, \"baxis\": {\"endlinecolor\": \"#2a3f5f\", \"gridcolor\": \"white\", \"linecolor\": \"white\", \"minorgridcolor\": \"white\", \"startlinecolor\": \"#2a3f5f\"}, \"type\": \"carpet\"}], \"choropleth\": [{\"colorbar\": {\"outlinewidth\": 0, \"ticks\": \"\"}, \"type\": \"choropleth\"}], \"contour\": [{\"colorbar\": {\"outlinewidth\": 0, \"ticks\": \"\"}, \"colorscale\": [[0.0, \"#0d0887\"], [0.1111111111111111, \"#46039f\"], [0.2222222222222222, \"#7201a8\"], [0.3333333333333333, \"#9c179e\"], [0.4444444444444444, \"#bd3786\"], [0.5555555555555556, \"#d8576b\"], [0.6666666666666666, \"#ed7953\"], [0.7777777777777778, \"#fb9f3a\"], [0.8888888888888888, \"#fdca26\"], [1.0, \"#f0f921\"]], \"type\": \"contour\"}], \"contourcarpet\": [{\"colorbar\": {\"outlinewidth\": 0, \"ticks\": \"\"}, \"type\": \"contourcarpet\"}], \"heatmap\": [{\"colorbar\": {\"outlinewidth\": 0, \"ticks\": \"\"}, \"colorscale\": [[0.0, \"#0d0887\"], [0.1111111111111111, \"#46039f\"], [0.2222222222222222, \"#7201a8\"], [0.3333333333333333, \"#9c179e\"], [0.4444444444444444, \"#bd3786\"], [0.5555555555555556, \"#d8576b\"], [0.6666666666666666, \"#ed7953\"], [0.7777777777777778, \"#fb9f3a\"], [0.8888888888888888, \"#fdca26\"], [1.0, \"#f0f921\"]], \"type\": \"heatmap\"}], \"heatmapgl\": [{\"colorbar\": {\"outlinewidth\": 0, \"ticks\": \"\"}, \"colorscale\": [[0.0, \"#0d0887\"], [0.1111111111111111, \"#46039f\"], [0.2222222222222222, \"#7201a8\"], [0.3333333333333333, \"#9c179e\"], [0.4444444444444444, \"#bd3786\"], [0.5555555555555556, \"#d8576b\"], [0.6666666666666666, \"#ed7953\"], [0.7777777777777778, \"#fb9f3a\"], [0.8888888888888888, \"#fdca26\"], [1.0, \"#f0f921\"]], \"type\": \"heatmapgl\"}], \"histogram\": [{\"marker\": {\"colorbar\": {\"outlinewidth\": 0, \"ticks\": \"\"}}, \"type\": \"histogram\"}], \"histogram2d\": [{\"colorbar\": {\"outlinewidth\": 0, \"ticks\": \"\"}, \"colorscale\": [[0.0, \"#0d0887\"], [0.1111111111111111, \"#46039f\"], [0.2222222222222222, \"#7201a8\"], [0.3333333333333333, \"#9c179e\"], [0.4444444444444444, \"#bd3786\"], [0.5555555555555556, \"#d8576b\"], [0.6666666666666666, \"#ed7953\"], [0.7777777777777778, \"#fb9f3a\"], [0.8888888888888888, \"#fdca26\"], [1.0, \"#f0f921\"]], \"type\": \"histogram2d\"}], \"histogram2dcontour\": [{\"colorbar\": {\"outlinewidth\": 0, \"ticks\": \"\"}, \"colorscale\": [[0.0, \"#0d0887\"], [0.1111111111111111, \"#46039f\"], [0.2222222222222222, \"#7201a8\"], [0.3333333333333333, \"#9c179e\"], [0.4444444444444444, \"#bd3786\"], [0.5555555555555556, \"#d8576b\"], [0.6666666666666666, \"#ed7953\"], [0.7777777777777778, \"#fb9f3a\"], [0.8888888888888888, \"#fdca26\"], [1.0, \"#f0f921\"]], \"type\": \"histogram2dcontour\"}], \"mesh3d\": [{\"colorbar\": {\"outlinewidth\": 0, \"ticks\": \"\"}, \"type\": \"mesh3d\"}], \"parcoords\": [{\"line\": {\"colorbar\": {\"outlinewidth\": 0, \"ticks\": \"\"}}, \"type\": \"parcoords\"}], \"pie\": [{\"automargin\": true, \"type\": \"pie\"}], \"scatter\": [{\"marker\": {\"colorbar\": {\"outlinewidth\": 0, \"ticks\": \"\"}}, \"type\": \"scatter\"}], \"scatter3d\": [{\"line\": {\"colorbar\": {\"outlinewidth\": 0, \"ticks\": \"\"}}, \"marker\": {\"colorbar\": {\"outlinewidth\": 0, \"ticks\": \"\"}}, \"type\": \"scatter3d\"}], \"scattercarpet\": [{\"marker\": {\"colorbar\": {\"outlinewidth\": 0, \"ticks\": \"\"}}, \"type\": \"scattercarpet\"}], \"scattergeo\": [{\"marker\": {\"colorbar\": {\"outlinewidth\": 0, \"ticks\": \"\"}}, \"type\": \"scattergeo\"}], \"scattergl\": [{\"marker\": {\"colorbar\": {\"outlinewidth\": 0, \"ticks\": \"\"}}, \"type\": \"scattergl\"}], \"scattermapbox\": [{\"marker\": {\"colorbar\": {\"outlinewidth\": 0, \"ticks\": \"\"}}, \"type\": \"scattermapbox\"}], \"scatterpolar\": [{\"marker\": {\"colorbar\": {\"outlinewidth\": 0, \"ticks\": \"\"}}, \"type\": \"scatterpolar\"}], \"scatterpolargl\": [{\"marker\": {\"colorbar\": {\"outlinewidth\": 0, \"ticks\": \"\"}}, \"type\": \"scatterpolargl\"}], \"scatterternary\": [{\"marker\": {\"colorbar\": {\"outlinewidth\": 0, \"ticks\": \"\"}}, \"type\": \"scatterternary\"}], \"surface\": [{\"colorbar\": {\"outlinewidth\": 0, \"ticks\": \"\"}, \"colorscale\": [[0.0, \"#0d0887\"], [0.1111111111111111, \"#46039f\"], [0.2222222222222222, \"#7201a8\"], [0.3333333333333333, \"#9c179e\"], [0.4444444444444444, \"#bd3786\"], [0.5555555555555556, \"#d8576b\"], [0.6666666666666666, \"#ed7953\"], [0.7777777777777778, \"#fb9f3a\"], [0.8888888888888888, \"#fdca26\"], [1.0, \"#f0f921\"]], \"type\": \"surface\"}], \"table\": [{\"cells\": {\"fill\": {\"color\": \"#EBF0F8\"}, \"line\": {\"color\": \"white\"}}, \"header\": {\"fill\": {\"color\": \"#C8D4E3\"}, \"line\": {\"color\": \"white\"}}, \"type\": \"table\"}]}, \"layout\": {\"annotationdefaults\": {\"arrowcolor\": \"#2a3f5f\", \"arrowhead\": 0, \"arrowwidth\": 1}, \"autotypenumbers\": \"strict\", \"coloraxis\": {\"colorbar\": {\"outlinewidth\": 0, \"ticks\": \"\"}}, \"colorscale\": {\"diverging\": [[0, \"#8e0152\"], [0.1, \"#c51b7d\"], [0.2, \"#de77ae\"], [0.3, \"#f1b6da\"], [0.4, \"#fde0ef\"], [0.5, \"#f7f7f7\"], [0.6, \"#e6f5d0\"], [0.7, \"#b8e186\"], [0.8, \"#7fbc41\"], [0.9, \"#4d9221\"], [1, \"#276419\"]], \"sequential\": [[0.0, \"#0d0887\"], [0.1111111111111111, \"#46039f\"], [0.2222222222222222, \"#7201a8\"], [0.3333333333333333, \"#9c179e\"], [0.4444444444444444, \"#bd3786\"], [0.5555555555555556, \"#d8576b\"], [0.6666666666666666, \"#ed7953\"], [0.7777777777777778, \"#fb9f3a\"], [0.8888888888888888, \"#fdca26\"], [1.0, \"#f0f921\"]], \"sequentialminus\": [[0.0, \"#0d0887\"], [0.1111111111111111, \"#46039f\"], [0.2222222222222222, \"#7201a8\"], [0.3333333333333333, \"#9c179e\"], [0.4444444444444444, \"#bd3786\"], [0.5555555555555556, \"#d8576b\"], [0.6666666666666666, \"#ed7953\"], [0.7777777777777778, \"#fb9f3a\"], [0.8888888888888888, \"#fdca26\"], [1.0, \"#f0f921\"]]}, \"colorway\": [\"#636efa\", \"#EF553B\", \"#00cc96\", \"#ab63fa\", \"#FFA15A\", \"#19d3f3\", \"#FF6692\", \"#B6E880\", \"#FF97FF\", \"#FECB52\"], \"font\": {\"color\": \"#2a3f5f\"}, \"geo\": {\"bgcolor\": \"white\", \"lakecolor\": \"white\", \"landcolor\": \"#E5ECF6\", \"showlakes\": true, \"showland\": true, \"subunitcolor\": \"white\"}, \"hoverlabel\": {\"align\": \"left\"}, \"hovermode\": \"closest\", \"mapbox\": {\"style\": \"light\"}, \"paper_bgcolor\": \"white\", \"plot_bgcolor\": \"#E5ECF6\", \"polar\": {\"angularaxis\": {\"gridcolor\": \"white\", \"linecolor\": \"white\", \"ticks\": \"\"}, \"bgcolor\": \"#E5ECF6\", \"radialaxis\": {\"gridcolor\": \"white\", \"linecolor\": \"white\", \"ticks\": \"\"}}, \"scene\": {\"xaxis\": {\"backgroundcolor\": \"#E5ECF6\", \"gridcolor\": \"white\", \"gridwidth\": 2, \"linecolor\": \"white\", \"showbackground\": true, \"ticks\": \"\", \"zerolinecolor\": \"white\"}, \"yaxis\": {\"backgroundcolor\": \"#E5ECF6\", \"gridcolor\": \"white\", \"gridwidth\": 2, \"linecolor\": \"white\", \"showbackground\": true, \"ticks\": \"\", \"zerolinecolor\": \"white\"}, \"zaxis\": {\"backgroundcolor\": \"#E5ECF6\", \"gridcolor\": \"white\", \"gridwidth\": 2, \"linecolor\": \"white\", \"showbackground\": true, \"ticks\": \"\", \"zerolinecolor\": \"white\"}}, \"shapedefaults\": {\"line\": {\"color\": \"#2a3f5f\"}}, \"ternary\": {\"aaxis\": {\"gridcolor\": \"white\", \"linecolor\": \"white\", \"ticks\": \"\"}, \"baxis\": {\"gridcolor\": \"white\", \"linecolor\": \"white\", \"ticks\": \"\"}, \"bgcolor\": \"#E5ECF6\", \"caxis\": {\"gridcolor\": \"white\", \"linecolor\": \"white\", \"ticks\": \"\"}}, \"title\": {\"x\": 0.05}, \"xaxis\": {\"automargin\": true, \"gridcolor\": \"white\", \"linecolor\": \"white\", \"ticks\": \"\", \"title\": {\"standoff\": 15}, \"zerolinecolor\": \"white\", \"zerolinewidth\": 2}, \"yaxis\": {\"automargin\": true, \"gridcolor\": \"white\", \"linecolor\": \"white\", \"ticks\": \"\", \"title\": {\"standoff\": 15}, \"zerolinecolor\": \"white\", \"zerolinewidth\": 2}}}},                        {\"responsive\": true}                    ).then(function(){\n",
       "                            \n",
       "var gd = document.getElementById('20b36e44-5966-4378-9f25-b8ad21cc03c4');\n",
       "var x = new MutationObserver(function (mutations, observer) {{\n",
       "        var display = window.getComputedStyle(gd).display;\n",
       "        if (!display || display === 'none') {{\n",
       "            console.log([gd, 'removed!']);\n",
       "            Plotly.purge(gd);\n",
       "            observer.disconnect();\n",
       "        }}\n",
       "}});\n",
       "\n",
       "// Listen for the removal of the full notebook cells\n",
       "var notebookContainer = gd.closest('#notebook-container');\n",
       "if (notebookContainer) {{\n",
       "    x.observe(notebookContainer, {childList: true});\n",
       "}}\n",
       "\n",
       "// Listen for the clearing of the current output cell\n",
       "var outputEl = gd.closest('.output');\n",
       "if (outputEl) {{\n",
       "    x.observe(outputEl, {childList: true});\n",
       "}}\n",
       "\n",
       "                        })                };                });            </script>        </div>"
      ]
     },
     "metadata": {},
     "output_type": "display_data"
    }
   ],
   "source": [
    "heat = film_genres.groupby(['pays','genreLabel']).agg({'filmoId':['count']})\n",
    "heat.columns = ['count']\n",
    "heat = heat.reset_index()\n",
    "heat.head(50)\n",
    "genres_list = ['ACTION','DOCUMENTAIRE', 'THRILLER','DRAME','GUERRE','ANIMATION','AVENTURE','BIOGRAPHIE','COMÉDIES','CATASTROPHE']\n",
    "heat = heat.sort_values(by='count',ascending=False)\n",
    "heat = heat.query(\"genreLabel in @genres_list\")\n",
    "heat.head(40)\n",
    "heat = heat.query(\"count > 100\")\n",
    "pays_list = ['Canada : Québec','France','États-Unis','Royaume-Uni','Pologne','Italie','Belgique','Tchécoslovaquie','Japon','Yougoslavie']\n",
    "#heat = heat.query(\"pays in @pays_list\")\n",
    "\n",
    "\n",
    "fig = go.Figure(data=go.Heatmap(\n",
    "         z=heat['count'],\n",
    "         x=heat['genreLabel'],\n",
    "         y=heat['pays'],\n",
    "         colorscale='YlGnBu'))\n",
    "fig.show()"
   ]
  },
  {
   "cell_type": "code",
   "execution_count": 55,
   "metadata": {},
   "outputs": [
    {
     "name": "stderr",
     "output_type": "stream",
     "text": [
      "/Library/Frameworks/Python.framework/Versions/3.8/lib/python3.8/site-packages/pandas/core/strings.py:1954: UserWarning:\n",
      "\n",
      "This pattern has match groups. To actually get the groups, use str.extract.\n",
      "\n"
     ]
    },
    {
     "data": {
      "text/html": [
       "<div>\n",
       "<style scoped>\n",
       "    .dataframe tbody tr th:only-of-type {\n",
       "        vertical-align: middle;\n",
       "    }\n",
       "\n",
       "    .dataframe tbody tr th {\n",
       "        vertical-align: top;\n",
       "    }\n",
       "\n",
       "    .dataframe thead th {\n",
       "        text-align: right;\n",
       "    }\n",
       "</style>\n",
       "<table border=\"1\" class=\"dataframe\">\n",
       "  <thead>\n",
       "    <tr style=\"text-align: right;\">\n",
       "      <th></th>\n",
       "      <th>filmoId</th>\n",
       "      <th>titreOriginal</th>\n",
       "      <th>anneeSortie</th>\n",
       "      <th>genre</th>\n",
       "      <th>genreLabel</th>\n",
       "      <th>genres_categorized</th>\n",
       "    </tr>\n",
       "  </thead>\n",
       "  <tbody>\n",
       "    <tr>\n",
       "      <th>0</th>\n",
       "      <td>5</td>\n",
       "      <td>GUILTY BY SUSPICION</td>\n",
       "      <td>1991.0</td>\n",
       "      <td>http://www.wikidata.org/entity/Q2484376</td>\n",
       "      <td>THRILLERS</td>\n",
       "      <td>THRILLER</td>\n",
       "    </tr>\n",
       "    <tr>\n",
       "      <th>1</th>\n",
       "      <td>5</td>\n",
       "      <td>GUILTY BY SUSPICION</td>\n",
       "      <td>1991.0</td>\n",
       "      <td>http://www.wikidata.org/entity/Q2484376</td>\n",
       "      <td>THRILLERS (TV)</td>\n",
       "      <td>THRILLER</td>\n",
       "    </tr>\n",
       "    <tr>\n",
       "      <th>2</th>\n",
       "      <td>5</td>\n",
       "      <td>GUILTY BY SUSPICION</td>\n",
       "      <td>1991.0</td>\n",
       "      <td>http://www.wikidata.org/entity/Q2484376</td>\n",
       "      <td>THRILLERS (VIDÉO)</td>\n",
       "      <td>THRILLER</td>\n",
       "    </tr>\n",
       "    <tr>\n",
       "      <th>3</th>\n",
       "      <td>5</td>\n",
       "      <td>GUILTY BY SUSPICION</td>\n",
       "      <td>1991.0</td>\n",
       "      <td>http://www.wikidata.org/entity/Q2484376</td>\n",
       "      <td>THRILLER</td>\n",
       "      <td>THRILLER</td>\n",
       "    </tr>\n",
       "    <tr>\n",
       "      <th>4</th>\n",
       "      <td>17</td>\n",
       "      <td>URANUS</td>\n",
       "      <td>1990.0</td>\n",
       "      <td>http://www.wikidata.org/entity/Q157443</td>\n",
       "      <td>HUMOUR, ÉMISSIONS D'</td>\n",
       "      <td>COMÉDIE</td>\n",
       "    </tr>\n",
       "    <tr>\n",
       "      <th>...</th>\n",
       "      <td>...</td>\n",
       "      <td>...</td>\n",
       "      <td>...</td>\n",
       "      <td>...</td>\n",
       "      <td>...</td>\n",
       "      <td>...</td>\n",
       "    </tr>\n",
       "    <tr>\n",
       "      <th>372993</th>\n",
       "      <td>110075</td>\n",
       "      <td>THREE PIECES FOR CIRCUITS</td>\n",
       "      <td>1974.0</td>\n",
       "      <td>http://www.wikidata.org/entity/Q790192</td>\n",
       "      <td>EXPÉRIMENTAUX, FILMS</td>\n",
       "      <td>AUTRES</td>\n",
       "    </tr>\n",
       "    <tr>\n",
       "      <th>372994</th>\n",
       "      <td>110075</td>\n",
       "      <td>THREE PIECES FOR CIRCUITS</td>\n",
       "      <td>1974.0</td>\n",
       "      <td>http://www.wikidata.org/entity/Q459290</td>\n",
       "      <td>INDÉPENDANTE, VIDÉO</td>\n",
       "      <td>AUTRES</td>\n",
       "    </tr>\n",
       "    <tr>\n",
       "      <th>372995</th>\n",
       "      <td>110075</td>\n",
       "      <td>THREE PIECES FOR CIRCUITS</td>\n",
       "      <td>1974.0</td>\n",
       "      <td>http://www.wikidata.org/entity/Q790192</td>\n",
       "      <td>EXPÉRIMENTAL</td>\n",
       "      <td>AUTRES</td>\n",
       "    </tr>\n",
       "    <tr>\n",
       "      <th>372996</th>\n",
       "      <td>110075</td>\n",
       "      <td>THREE PIECES FOR CIRCUITS</td>\n",
       "      <td>1974.0</td>\n",
       "      <td>http://www.wikidata.org/entity/Q790192</td>\n",
       "      <td>EXPÉRIMENTAUX, VIDÉOS</td>\n",
       "      <td>AUTRES</td>\n",
       "    </tr>\n",
       "    <tr>\n",
       "      <th>372997</th>\n",
       "      <td>110075</td>\n",
       "      <td>THREE PIECES FOR CIRCUITS</td>\n",
       "      <td>1974.0</td>\n",
       "      <td>http://www.wikidata.org/entity/Q459290</td>\n",
       "      <td>INDÉPENDANTS, FILMS</td>\n",
       "      <td>AUTRES</td>\n",
       "    </tr>\n",
       "  </tbody>\n",
       "</table>\n",
       "<p>372998 rows × 6 columns</p>\n",
       "</div>"
      ],
      "text/plain": [
       "        filmoId              titreOriginal  anneeSortie  \\\n",
       "0             5        GUILTY BY SUSPICION       1991.0   \n",
       "1             5        GUILTY BY SUSPICION       1991.0   \n",
       "2             5        GUILTY BY SUSPICION       1991.0   \n",
       "3             5        GUILTY BY SUSPICION       1991.0   \n",
       "4            17                     URANUS       1990.0   \n",
       "...         ...                        ...          ...   \n",
       "372993   110075  THREE PIECES FOR CIRCUITS       1974.0   \n",
       "372994   110075  THREE PIECES FOR CIRCUITS       1974.0   \n",
       "372995   110075  THREE PIECES FOR CIRCUITS       1974.0   \n",
       "372996   110075  THREE PIECES FOR CIRCUITS       1974.0   \n",
       "372997   110075  THREE PIECES FOR CIRCUITS       1974.0   \n",
       "\n",
       "                                          genre             genreLabel  \\\n",
       "0       http://www.wikidata.org/entity/Q2484376              THRILLERS   \n",
       "1       http://www.wikidata.org/entity/Q2484376         THRILLERS (TV)   \n",
       "2       http://www.wikidata.org/entity/Q2484376      THRILLERS (VIDÉO)   \n",
       "3       http://www.wikidata.org/entity/Q2484376               THRILLER   \n",
       "4        http://www.wikidata.org/entity/Q157443   HUMOUR, ÉMISSIONS D'   \n",
       "...                                         ...                    ...   \n",
       "372993   http://www.wikidata.org/entity/Q790192   EXPÉRIMENTAUX, FILMS   \n",
       "372994   http://www.wikidata.org/entity/Q459290    INDÉPENDANTE, VIDÉO   \n",
       "372995   http://www.wikidata.org/entity/Q790192           EXPÉRIMENTAL   \n",
       "372996   http://www.wikidata.org/entity/Q790192  EXPÉRIMENTAUX, VIDÉOS   \n",
       "372997   http://www.wikidata.org/entity/Q459290    INDÉPENDANTS, FILMS   \n",
       "\n",
       "       genres_categorized  \n",
       "0                THRILLER  \n",
       "1                THRILLER  \n",
       "2                THRILLER  \n",
       "3                THRILLER  \n",
       "4                 COMÉDIE  \n",
       "...                   ...  \n",
       "372993             AUTRES  \n",
       "372994             AUTRES  \n",
       "372995             AUTRES  \n",
       "372996             AUTRES  \n",
       "372997             AUTRES  \n",
       "\n",
       "[372998 rows x 6 columns]"
      ]
     },
     "execution_count": 55,
     "metadata": {},
     "output_type": "execute_result"
    }
   ],
   "source": [
    "genres_categories = [\n",
    "    (genres['genreLabel'].str.contains(\"ACTION|ACTION, ÉMISSIONS D'|ACTION, FILMS D'|ESPIONNAGE, ÉMISSIONS D'|ESPIONNAGE, FILMS D'\", case=False,na=False), 'ACTION'),\n",
    "    (genres['genreLabel'].str.contains('ÉROTIQUES, ÉMISSIONS|ÉROTIQUES, FILMS|ÉROTIQUES, FILMS|ÉROTIQUES, VIDÉOS|ÉROTISME|PORNOGRAPHIE', case=False,na=False), 'SEXUALITE'),\n",
    "    (genres['genreLabel'].str.contains(\"ROMANTIQUES, ÉMISSIONS|ROMANTIQUES, FILMS|ROMANTIQUES, VIDÉOS\", case=False,na=False), 'ROMANTIQUE'),\n",
    "    (genres['genreLabel'].str.contains(\"ANIMATION|ANIMATION (TV)|ANIMATION (VIDÉO)|ANIMATION ET PRISE DE VUES RÉELLES|ANIMATION SANS CAMÉRA|ANIMATION, FILMS D'|ANIMATION, TECHNIQUES MULTIPLES|HOLLYWOOD CARTOONS|OBJETS, ANIMATION D'|DESSINS ANIMÉS|DESSINS ANIMÉS (TV)\", case=False,na=False), 'ANIMATION'),\n",
    "    (genres['genreLabel'].str.contains(\"AVENTURE|AVENTURE, ÉMISSIONS D'|AVENTURE, FILMS D'|CAPE ET D'ÉPÉE|CAPE ET D'ÉPÉE, FILMS DE|PIRATE|PIRATES, FILMS DE|ROAD MOVIE|ROAD MOVIES|ROAD MOVIES (TV)|GUERRE|GUERRE, ÉMISSIONS DE|GUERRE, FILMS DE|GUERRE, VIDÉOS DE\", case=False,na=False), 'AVENTURE'),\n",
    "    (genres['genreLabel'].str.contains(\"WESTERN|WESTERNS|WESTERNS (TV)|WESTERNS (VIDÉO)\", case=False,na=False), 'WESTERN'),\n",
    "    (genres['genreLabel'].str.contains(\"HUMOUR|COMÉDIE|COMÉDIE, ÉMISSIONS DE|COMÉDIES|COMÉDIES (VIDÉO)|HUMOUR, ÉMISSIONS D'\", case=False,na=False), 'COMÉDIE'),\n",
    "    (genres['genreLabel'].str.contains(\"CRIME|CRIME, DRAMATIQUES DE (TV)|CRIME, FILMS DE|GANGSTERS|GANGSTERS, ÉMISSIONS DE|POLICIER|POLICIÈRES, ÉMISSIONS|POLICIERS, FILMS|POLICIERS, VIDÉOS\", case=False,na=False), 'CRIME'),\n",
    "    (genres['genreLabel'].str.contains(\"THRILLER|THRILLERS|THRILLERS (TV)|THRILLERS (VIDÉO)\", case=False,na=False), 'THRILLER'),\n",
    "    (genres['genreLabel'].str.contains(\"ACTUALITÉS|ACTUALITÉS (TV)|ACTUALITÉS, FILMS D'|DOCUMENTAIRE|DOCUMENTAIRE DRAMATISÉ|DOCUMENTAIRES|DOCUMENTAIRES (TV)|DOCUMENTAIRES (VIDÉO)|DOCUMENTAIRES DRAMATISÉS|DOCUMENTAIRES DRAMATISÉS (TV)|SÉRIE DOCUMENTAIRE|SÉRIES DOCUMENTAIRES|SÉRIES DOCUMENTAIRES (TV)|NATURE|NATURE, ÉMISSIONS DE|NATURE, FILMS DE|NATURE, VIDÉOS DE\", case=False,na=False), 'DOCUMENTAIRE'),\n",
    "    (genres['genreLabel'].str.contains(\"DRAMATIQUE|DRAME|CATASTROPHE|CATASTROPHES, FILMS\", case=False,na=False), 'DRAME'),\n",
    "    (genres['genreLabel'].str.contains(\"BIOGRAPHIE|BIOGRAPHIQUES, ÉMISSIONS|BIOGRAPHIQUES, FILMS|BIOGRAPHIQUES, VIDÉOS\", case=False,na=False), 'BIOGRAPHIE'),\n",
    "    (genres['genreLabel'].str.contains(\"HISTORIQUES, FILMS|HISTORIQUES, ÉMISSIONS|HISTORIQUES, VIDÉOS|PÉPLUM\", case=False,na=False), 'HISTORIQUE'),\n",
    "    (genres['genreLabel'].str.contains(\"MUSICALES, ÉMISSIONS|COMÉDIE MUSICALE|DANSE|DANSE, ÉMISSIONS DE|DANSE, FILMS DE|DANSE, VIDÉOS DE|MUSICAUX, FILMS|MUSICAUX, VIDÉOS|OPÉRA\", case=False,na=False), 'MUSICAL'),\n",
    "    (genres['genreLabel'].str.contains(\"FANTASTIQUE|FANTASTIQUES, ÉMISSIONS|FANTASTIQUES, FILMS|FANTASTIQUES, VIDÉOS|VAMPIRE|VAMPIRES, FILMS DE|VAMPIRES, VIDÉOS DE|HORREUR|HORREUR, ÉMISSIONS D'|HORREUR, FILMS D'|HORREUR, VIDÉOS D'|SCIENCE-FICTION|SCIENCE-FICTION, ÉMISSIONS DE|SCIENCE-FICTION, FILMS DE|SCIENCE-FICTION, VIDÉOS DE\", case=False,na=False), 'FICTION SPÉCULATIVE')\n",
    "]\n",
    "\n",
    "genreLabel_criteria, genreLabel_values = zip(*genres_categories)\n",
    "genres['genres_categorized'] = np.select(genreLabel_criteria, genreLabel_values, 'AUTRES')\n",
    "genres.to_csv(r'/Users/maninderbhogal/PycharmProjects/INF8808_vsCinematheque/Src/Assets/Data/_film_genres.csv', index = False, header=True)\n",
    "genres"
   ]
  },
  {
   "cell_type": "code",
   "execution_count": 56,
   "metadata": {},
   "outputs": [
    {
     "data": {
      "application/vnd.plotly.v1+json": {
       "config": {
        "plotlyServerURL": "https://plot.ly"
       },
       "data": [
        {
         "colorscale": [
          [
           0,
           "rgb(255,255,217)"
          ],
          [
           0.125,
           "rgb(237,248,177)"
          ],
          [
           0.25,
           "rgb(199,233,180)"
          ],
          [
           0.375,
           "rgb(127,205,187)"
          ],
          [
           0.5,
           "rgb(65,182,196)"
          ],
          [
           0.625,
           "rgb(29,145,192)"
          ],
          [
           0.75,
           "rgb(34,94,168)"
          ],
          [
           0.875,
           "rgb(37,52,148)"
          ],
          [
           1,
           "rgb(8,29,88)"
          ]
         ],
         "type": "heatmap",
         "x": [
          "AUTRES",
          "DOCUMENTAIRE",
          "DOCUMENTAIRE",
          "ANIMATION",
          "COMÉDIE",
          "FICTION SPÉCULATIVE",
          "ANIMATION",
          "AUTRES",
          "DOCUMENTAIRE",
          "COMÉDIE",
          "DRAME",
          "AUTRES",
          "DRAME",
          "ANIMATION",
          "COMÉDIE",
          "WESTERN",
          "THRILLER",
          "AVENTURE",
          "CRIME",
          "ACTION",
          "ANIMATION",
          "ROMANTIQUE",
          "FICTION SPÉCULATIVE",
          "CRIME",
          "DRAME",
          "BIOGRAPHIE",
          "DOCUMENTAIRE",
          "AVENTURE",
          "HISTORIQUE",
          "FICTION SPÉCULATIVE",
          "ANIMATION",
          "AUTRES",
          "ANIMATION",
          "DRAME",
          "ANIMATION",
          "SEXUALITE",
          "THRILLER",
          "COMÉDIE",
          "MUSICAL",
          "MUSICAL",
          "BIOGRAPHIE",
          "ANIMATION",
          "ANIMATION",
          "DOCUMENTAIRE",
          "FICTION SPÉCULATIVE",
          "FICTION SPÉCULATIVE",
          "FICTION SPÉCULATIVE",
          "BIOGRAPHIE",
          "ANIMATION",
          "DRAME",
          "DRAME",
          "THRILLER",
          "CRIME",
          "ROMANTIQUE",
          "SEXUALITE",
          "MUSICAL",
          "DRAME",
          "ANIMATION",
          "HISTORIQUE",
          "HISTORIQUE",
          "DOCUMENTAIRE",
          "FICTION SPÉCULATIVE",
          "DOCUMENTAIRE",
          "CRIME",
          "THRILLER",
          "COMÉDIE",
          "AVENTURE",
          "AVENTURE",
          "COMÉDIE",
          "DOCUMENTAIRE",
          "AUTRES",
          "ACTION",
          "DRAME",
          "ANIMATION"
         ],
         "y": [
          "Canada : Québec",
          "Canada : Québec",
          "France",
          "États-Unis",
          "États-Unis",
          "États-Unis",
          "Canada : Québec",
          "États-Unis",
          "États-Unis",
          "France",
          "États-Unis",
          "France",
          "France",
          "France",
          "Canada : Québec",
          "États-Unis",
          "États-Unis",
          "États-Unis",
          "États-Unis",
          "États-Unis",
          "Pologne",
          "États-Unis",
          "Royaume-Uni",
          "France",
          "Canada : Québec",
          "Canada : Québec",
          "Royaume-Uni",
          "France",
          "Canada : Québec",
          "France",
          "Tchécoslovaquie",
          "Royaume-Uni",
          "Royaume-Uni",
          "Royaume-Uni",
          "Japon",
          "France",
          "France",
          "Royaume-Uni",
          "Canada : Québec",
          "États-Unis",
          "États-Unis",
          "Yougoslavie",
          "URSS",
          "Italie",
          "Italie",
          "Canada : Québec",
          "Japon",
          "France",
          "Italie",
          "Espagne",
          "Japon",
          "Canada : Québec",
          "Royaume-Uni",
          "France",
          "États-Unis",
          "France",
          "Italie",
          "Belgique",
          "États-Unis",
          "France",
          "Belgique",
          "Espagne",
          "Suisse",
          "Canada : Québec",
          "Royaume-Uni",
          "Italie",
          "Royaume-Uni",
          "Canada : Québec",
          "Espagne",
          "URSS",
          "Japon",
          "France",
          "URSS",
          "Suisse"
         ],
         "z": [
          7022,
          5976,
          2084,
          2031,
          1578,
          1505,
          1442,
          1433,
          1185,
          1108,
          1096,
          1053,
          1028,
          876,
          778,
          713,
          557,
          546,
          542,
          508,
          420,
          285,
          282,
          260,
          219,
          218,
          218,
          212,
          199,
          199,
          194,
          191,
          183,
          177,
          172,
          169,
          169,
          161,
          160,
          153,
          147,
          144,
          131,
          125,
          125,
          121,
          118,
          117,
          116,
          116,
          112,
          111,
          109,
          109,
          108,
          105,
          105,
          99,
          94,
          94,
          92,
          88,
          84,
          83,
          81,
          80,
          75,
          73,
          70,
          63,
          62,
          59,
          58,
          54
         ]
        }
       ],
       "layout": {
        "autosize": true,
        "template": {
         "data": {
          "bar": [
           {
            "error_x": {
             "color": "#2a3f5f"
            },
            "error_y": {
             "color": "#2a3f5f"
            },
            "marker": {
             "line": {
              "color": "#E5ECF6",
              "width": 0.5
             }
            },
            "type": "bar"
           }
          ],
          "barpolar": [
           {
            "marker": {
             "line": {
              "color": "#E5ECF6",
              "width": 0.5
             }
            },
            "type": "barpolar"
           }
          ],
          "carpet": [
           {
            "aaxis": {
             "endlinecolor": "#2a3f5f",
             "gridcolor": "white",
             "linecolor": "white",
             "minorgridcolor": "white",
             "startlinecolor": "#2a3f5f"
            },
            "baxis": {
             "endlinecolor": "#2a3f5f",
             "gridcolor": "white",
             "linecolor": "white",
             "minorgridcolor": "white",
             "startlinecolor": "#2a3f5f"
            },
            "type": "carpet"
           }
          ],
          "choropleth": [
           {
            "colorbar": {
             "outlinewidth": 0,
             "ticks": ""
            },
            "type": "choropleth"
           }
          ],
          "contour": [
           {
            "colorbar": {
             "outlinewidth": 0,
             "ticks": ""
            },
            "colorscale": [
             [
              0,
              "#0d0887"
             ],
             [
              0.1111111111111111,
              "#46039f"
             ],
             [
              0.2222222222222222,
              "#7201a8"
             ],
             [
              0.3333333333333333,
              "#9c179e"
             ],
             [
              0.4444444444444444,
              "#bd3786"
             ],
             [
              0.5555555555555556,
              "#d8576b"
             ],
             [
              0.6666666666666666,
              "#ed7953"
             ],
             [
              0.7777777777777778,
              "#fb9f3a"
             ],
             [
              0.8888888888888888,
              "#fdca26"
             ],
             [
              1,
              "#f0f921"
             ]
            ],
            "type": "contour"
           }
          ],
          "contourcarpet": [
           {
            "colorbar": {
             "outlinewidth": 0,
             "ticks": ""
            },
            "type": "contourcarpet"
           }
          ],
          "heatmap": [
           {
            "colorbar": {
             "outlinewidth": 0,
             "ticks": ""
            },
            "colorscale": [
             [
              0,
              "#0d0887"
             ],
             [
              0.1111111111111111,
              "#46039f"
             ],
             [
              0.2222222222222222,
              "#7201a8"
             ],
             [
              0.3333333333333333,
              "#9c179e"
             ],
             [
              0.4444444444444444,
              "#bd3786"
             ],
             [
              0.5555555555555556,
              "#d8576b"
             ],
             [
              0.6666666666666666,
              "#ed7953"
             ],
             [
              0.7777777777777778,
              "#fb9f3a"
             ],
             [
              0.8888888888888888,
              "#fdca26"
             ],
             [
              1,
              "#f0f921"
             ]
            ],
            "type": "heatmap"
           }
          ],
          "heatmapgl": [
           {
            "colorbar": {
             "outlinewidth": 0,
             "ticks": ""
            },
            "colorscale": [
             [
              0,
              "#0d0887"
             ],
             [
              0.1111111111111111,
              "#46039f"
             ],
             [
              0.2222222222222222,
              "#7201a8"
             ],
             [
              0.3333333333333333,
              "#9c179e"
             ],
             [
              0.4444444444444444,
              "#bd3786"
             ],
             [
              0.5555555555555556,
              "#d8576b"
             ],
             [
              0.6666666666666666,
              "#ed7953"
             ],
             [
              0.7777777777777778,
              "#fb9f3a"
             ],
             [
              0.8888888888888888,
              "#fdca26"
             ],
             [
              1,
              "#f0f921"
             ]
            ],
            "type": "heatmapgl"
           }
          ],
          "histogram": [
           {
            "marker": {
             "colorbar": {
              "outlinewidth": 0,
              "ticks": ""
             }
            },
            "type": "histogram"
           }
          ],
          "histogram2d": [
           {
            "colorbar": {
             "outlinewidth": 0,
             "ticks": ""
            },
            "colorscale": [
             [
              0,
              "#0d0887"
             ],
             [
              0.1111111111111111,
              "#46039f"
             ],
             [
              0.2222222222222222,
              "#7201a8"
             ],
             [
              0.3333333333333333,
              "#9c179e"
             ],
             [
              0.4444444444444444,
              "#bd3786"
             ],
             [
              0.5555555555555556,
              "#d8576b"
             ],
             [
              0.6666666666666666,
              "#ed7953"
             ],
             [
              0.7777777777777778,
              "#fb9f3a"
             ],
             [
              0.8888888888888888,
              "#fdca26"
             ],
             [
              1,
              "#f0f921"
             ]
            ],
            "type": "histogram2d"
           }
          ],
          "histogram2dcontour": [
           {
            "colorbar": {
             "outlinewidth": 0,
             "ticks": ""
            },
            "colorscale": [
             [
              0,
              "#0d0887"
             ],
             [
              0.1111111111111111,
              "#46039f"
             ],
             [
              0.2222222222222222,
              "#7201a8"
             ],
             [
              0.3333333333333333,
              "#9c179e"
             ],
             [
              0.4444444444444444,
              "#bd3786"
             ],
             [
              0.5555555555555556,
              "#d8576b"
             ],
             [
              0.6666666666666666,
              "#ed7953"
             ],
             [
              0.7777777777777778,
              "#fb9f3a"
             ],
             [
              0.8888888888888888,
              "#fdca26"
             ],
             [
              1,
              "#f0f921"
             ]
            ],
            "type": "histogram2dcontour"
           }
          ],
          "mesh3d": [
           {
            "colorbar": {
             "outlinewidth": 0,
             "ticks": ""
            },
            "type": "mesh3d"
           }
          ],
          "parcoords": [
           {
            "line": {
             "colorbar": {
              "outlinewidth": 0,
              "ticks": ""
             }
            },
            "type": "parcoords"
           }
          ],
          "pie": [
           {
            "automargin": true,
            "type": "pie"
           }
          ],
          "scatter": [
           {
            "marker": {
             "colorbar": {
              "outlinewidth": 0,
              "ticks": ""
             }
            },
            "type": "scatter"
           }
          ],
          "scatter3d": [
           {
            "line": {
             "colorbar": {
              "outlinewidth": 0,
              "ticks": ""
             }
            },
            "marker": {
             "colorbar": {
              "outlinewidth": 0,
              "ticks": ""
             }
            },
            "type": "scatter3d"
           }
          ],
          "scattercarpet": [
           {
            "marker": {
             "colorbar": {
              "outlinewidth": 0,
              "ticks": ""
             }
            },
            "type": "scattercarpet"
           }
          ],
          "scattergeo": [
           {
            "marker": {
             "colorbar": {
              "outlinewidth": 0,
              "ticks": ""
             }
            },
            "type": "scattergeo"
           }
          ],
          "scattergl": [
           {
            "marker": {
             "colorbar": {
              "outlinewidth": 0,
              "ticks": ""
             }
            },
            "type": "scattergl"
           }
          ],
          "scattermapbox": [
           {
            "marker": {
             "colorbar": {
              "outlinewidth": 0,
              "ticks": ""
             }
            },
            "type": "scattermapbox"
           }
          ],
          "scatterpolar": [
           {
            "marker": {
             "colorbar": {
              "outlinewidth": 0,
              "ticks": ""
             }
            },
            "type": "scatterpolar"
           }
          ],
          "scatterpolargl": [
           {
            "marker": {
             "colorbar": {
              "outlinewidth": 0,
              "ticks": ""
             }
            },
            "type": "scatterpolargl"
           }
          ],
          "scatterternary": [
           {
            "marker": {
             "colorbar": {
              "outlinewidth": 0,
              "ticks": ""
             }
            },
            "type": "scatterternary"
           }
          ],
          "surface": [
           {
            "colorbar": {
             "outlinewidth": 0,
             "ticks": ""
            },
            "colorscale": [
             [
              0,
              "#0d0887"
             ],
             [
              0.1111111111111111,
              "#46039f"
             ],
             [
              0.2222222222222222,
              "#7201a8"
             ],
             [
              0.3333333333333333,
              "#9c179e"
             ],
             [
              0.4444444444444444,
              "#bd3786"
             ],
             [
              0.5555555555555556,
              "#d8576b"
             ],
             [
              0.6666666666666666,
              "#ed7953"
             ],
             [
              0.7777777777777778,
              "#fb9f3a"
             ],
             [
              0.8888888888888888,
              "#fdca26"
             ],
             [
              1,
              "#f0f921"
             ]
            ],
            "type": "surface"
           }
          ],
          "table": [
           {
            "cells": {
             "fill": {
              "color": "#EBF0F8"
             },
             "line": {
              "color": "white"
             }
            },
            "header": {
             "fill": {
              "color": "#C8D4E3"
             },
             "line": {
              "color": "white"
             }
            },
            "type": "table"
           }
          ]
         },
         "layout": {
          "annotationdefaults": {
           "arrowcolor": "#2a3f5f",
           "arrowhead": 0,
           "arrowwidth": 1
          },
          "autotypenumbers": "strict",
          "coloraxis": {
           "colorbar": {
            "outlinewidth": 0,
            "ticks": ""
           }
          },
          "colorscale": {
           "diverging": [
            [
             0,
             "#8e0152"
            ],
            [
             0.1,
             "#c51b7d"
            ],
            [
             0.2,
             "#de77ae"
            ],
            [
             0.3,
             "#f1b6da"
            ],
            [
             0.4,
             "#fde0ef"
            ],
            [
             0.5,
             "#f7f7f7"
            ],
            [
             0.6,
             "#e6f5d0"
            ],
            [
             0.7,
             "#b8e186"
            ],
            [
             0.8,
             "#7fbc41"
            ],
            [
             0.9,
             "#4d9221"
            ],
            [
             1,
             "#276419"
            ]
           ],
           "sequential": [
            [
             0,
             "#0d0887"
            ],
            [
             0.1111111111111111,
             "#46039f"
            ],
            [
             0.2222222222222222,
             "#7201a8"
            ],
            [
             0.3333333333333333,
             "#9c179e"
            ],
            [
             0.4444444444444444,
             "#bd3786"
            ],
            [
             0.5555555555555556,
             "#d8576b"
            ],
            [
             0.6666666666666666,
             "#ed7953"
            ],
            [
             0.7777777777777778,
             "#fb9f3a"
            ],
            [
             0.8888888888888888,
             "#fdca26"
            ],
            [
             1,
             "#f0f921"
            ]
           ],
           "sequentialminus": [
            [
             0,
             "#0d0887"
            ],
            [
             0.1111111111111111,
             "#46039f"
            ],
            [
             0.2222222222222222,
             "#7201a8"
            ],
            [
             0.3333333333333333,
             "#9c179e"
            ],
            [
             0.4444444444444444,
             "#bd3786"
            ],
            [
             0.5555555555555556,
             "#d8576b"
            ],
            [
             0.6666666666666666,
             "#ed7953"
            ],
            [
             0.7777777777777778,
             "#fb9f3a"
            ],
            [
             0.8888888888888888,
             "#fdca26"
            ],
            [
             1,
             "#f0f921"
            ]
           ]
          },
          "colorway": [
           "#636efa",
           "#EF553B",
           "#00cc96",
           "#ab63fa",
           "#FFA15A",
           "#19d3f3",
           "#FF6692",
           "#B6E880",
           "#FF97FF",
           "#FECB52"
          ],
          "font": {
           "color": "#2a3f5f"
          },
          "geo": {
           "bgcolor": "white",
           "lakecolor": "white",
           "landcolor": "#E5ECF6",
           "showlakes": true,
           "showland": true,
           "subunitcolor": "white"
          },
          "hoverlabel": {
           "align": "left"
          },
          "hovermode": "closest",
          "mapbox": {
           "style": "light"
          },
          "paper_bgcolor": "white",
          "plot_bgcolor": "#E5ECF6",
          "polar": {
           "angularaxis": {
            "gridcolor": "white",
            "linecolor": "white",
            "ticks": ""
           },
           "bgcolor": "#E5ECF6",
           "radialaxis": {
            "gridcolor": "white",
            "linecolor": "white",
            "ticks": ""
           }
          },
          "scene": {
           "xaxis": {
            "backgroundcolor": "#E5ECF6",
            "gridcolor": "white",
            "gridwidth": 2,
            "linecolor": "white",
            "showbackground": true,
            "ticks": "",
            "zerolinecolor": "white"
           },
           "yaxis": {
            "backgroundcolor": "#E5ECF6",
            "gridcolor": "white",
            "gridwidth": 2,
            "linecolor": "white",
            "showbackground": true,
            "ticks": "",
            "zerolinecolor": "white"
           },
           "zaxis": {
            "backgroundcolor": "#E5ECF6",
            "gridcolor": "white",
            "gridwidth": 2,
            "linecolor": "white",
            "showbackground": true,
            "ticks": "",
            "zerolinecolor": "white"
           }
          },
          "shapedefaults": {
           "line": {
            "color": "#2a3f5f"
           }
          },
          "ternary": {
           "aaxis": {
            "gridcolor": "white",
            "linecolor": "white",
            "ticks": ""
           },
           "baxis": {
            "gridcolor": "white",
            "linecolor": "white",
            "ticks": ""
           },
           "bgcolor": "#E5ECF6",
           "caxis": {
            "gridcolor": "white",
            "linecolor": "white",
            "ticks": ""
           }
          },
          "title": {
           "x": 0.05
          },
          "xaxis": {
           "automargin": true,
           "gridcolor": "white",
           "linecolor": "white",
           "ticks": "",
           "title": {
            "standoff": 15
           },
           "zerolinecolor": "white",
           "zerolinewidth": 2
          },
          "yaxis": {
           "automargin": true,
           "gridcolor": "white",
           "linecolor": "white",
           "ticks": "",
           "title": {
            "standoff": 15
           },
           "zerolinecolor": "white",
           "zerolinewidth": 2
          }
         }
        },
        "xaxis": {
         "autorange": true,
         "range": [
          -0.5,
          15.5
         ],
         "type": "category"
        },
        "yaxis": {
         "autorange": true,
         "range": [
          -0.5,
          12.5
         ],
         "type": "category"
        }
       }
      },
      "image/png": "[encoded data removed]",
      "text/html": [
       "<div>                            <div id=\"ed637e2f-10c4-4ada-a175-8250bf6b9bcb\" class=\"plotly-graph-div\" style=\"height:525px; width:100%;\"></div>            <script type=\"text/javascript\">                require([\"plotly\"], function(Plotly) {                    window.PLOTLYENV=window.PLOTLYENV || {};                                    if (document.getElementById(\"ed637e2f-10c4-4ada-a175-8250bf6b9bcb\")) {                    Plotly.newPlot(                        \"ed637e2f-10c4-4ada-a175-8250bf6b9bcb\",                        [{\"colorscale\": [[0.0, \"rgb(255,255,217)\"], [0.125, \"rgb(237,248,177)\"], [0.25, \"rgb(199,233,180)\"], [0.375, \"rgb(127,205,187)\"], [0.5, \"rgb(65,182,196)\"], [0.625, \"rgb(29,145,192)\"], [0.75, \"rgb(34,94,168)\"], [0.875, \"rgb(37,52,148)\"], [1.0, \"rgb(8,29,88)\"]], \"type\": \"heatmap\", \"x\": [\"AUTRES\", \"DOCUMENTAIRE\", \"DOCUMENTAIRE\", \"ANIMATION\", \"COM\\u00c9DIE\", \"FICTION SP\\u00c9CULATIVE\", \"ANIMATION\", \"AUTRES\", \"DOCUMENTAIRE\", \"COM\\u00c9DIE\", \"DRAME\", \"AUTRES\", \"DRAME\", \"ANIMATION\", \"COM\\u00c9DIE\", \"WESTERN\", \"THRILLER\", \"AVENTURE\", \"CRIME\", \"ACTION\", \"ANIMATION\", \"ROMANTIQUE\", \"FICTION SP\\u00c9CULATIVE\", \"CRIME\", \"DRAME\", \"BIOGRAPHIE\", \"DOCUMENTAIRE\", \"AVENTURE\", \"HISTORIQUE\", \"FICTION SP\\u00c9CULATIVE\", \"ANIMATION\", \"AUTRES\", \"ANIMATION\", \"DRAME\", \"ANIMATION\", \"SEXUALITE\", \"THRILLER\", \"COM\\u00c9DIE\", \"MUSICAL\", \"MUSICAL\", \"BIOGRAPHIE\", \"ANIMATION\", \"ANIMATION\", \"DOCUMENTAIRE\", \"FICTION SP\\u00c9CULATIVE\", \"FICTION SP\\u00c9CULATIVE\", \"FICTION SP\\u00c9CULATIVE\", \"BIOGRAPHIE\", \"ANIMATION\", \"DRAME\", \"DRAME\", \"THRILLER\", \"CRIME\", \"ROMANTIQUE\", \"SEXUALITE\", \"MUSICAL\", \"DRAME\", \"ANIMATION\", \"HISTORIQUE\", \"HISTORIQUE\", \"DOCUMENTAIRE\", \"FICTION SP\\u00c9CULATIVE\", \"DOCUMENTAIRE\", \"CRIME\", \"THRILLER\", \"COM\\u00c9DIE\", \"AVENTURE\", \"AVENTURE\", \"COM\\u00c9DIE\", \"DOCUMENTAIRE\", \"AUTRES\", \"ACTION\", \"DRAME\", \"ANIMATION\"], \"y\": [\"Canada : Qu\\u00e9bec\", \"Canada : Qu\\u00e9bec\", \"France\", \"\\u00c9tats-Unis\", \"\\u00c9tats-Unis\", \"\\u00c9tats-Unis\", \"Canada : Qu\\u00e9bec\", \"\\u00c9tats-Unis\", \"\\u00c9tats-Unis\", \"France\", \"\\u00c9tats-Unis\", \"France\", \"France\", \"France\", \"Canada : Qu\\u00e9bec\", \"\\u00c9tats-Unis\", \"\\u00c9tats-Unis\", \"\\u00c9tats-Unis\", \"\\u00c9tats-Unis\", \"\\u00c9tats-Unis\", \"Pologne\", \"\\u00c9tats-Unis\", \"Royaume-Uni\", \"France\", \"Canada : Qu\\u00e9bec\", \"Canada : Qu\\u00e9bec\", \"Royaume-Uni\", \"France\", \"Canada : Qu\\u00e9bec\", \"France\", \"Tch\\u00e9coslovaquie\", \"Royaume-Uni\", \"Royaume-Uni\", \"Royaume-Uni\", \"Japon\", \"France\", \"France\", \"Royaume-Uni\", \"Canada : Qu\\u00e9bec\", \"\\u00c9tats-Unis\", \"\\u00c9tats-Unis\", \"Yougoslavie\", \"URSS\", \"Italie\", \"Italie\", \"Canada : Qu\\u00e9bec\", \"Japon\", \"France\", \"Italie\", \"Espagne\", \"Japon\", \"Canada : Qu\\u00e9bec\", \"Royaume-Uni\", \"France\", \"\\u00c9tats-Unis\", \"France\", \"Italie\", \"Belgique\", \"\\u00c9tats-Unis\", \"France\", \"Belgique\", \"Espagne\", \"Suisse\", \"Canada : Qu\\u00e9bec\", \"Royaume-Uni\", \"Italie\", \"Royaume-Uni\", \"Canada : Qu\\u00e9bec\", \"Espagne\", \"URSS\", \"Japon\", \"France\", \"URSS\", \"Suisse\"], \"z\": [7022, 5976, 2084, 2031, 1578, 1505, 1442, 1433, 1185, 1108, 1096, 1053, 1028, 876, 778, 713, 557, 546, 542, 508, 420, 285, 282, 260, 219, 218, 218, 212, 199, 199, 194, 191, 183, 177, 172, 169, 169, 161, 160, 153, 147, 144, 131, 125, 125, 121, 118, 117, 116, 116, 112, 111, 109, 109, 108, 105, 105, 99, 94, 94, 92, 88, 84, 83, 81, 80, 75, 73, 70, 63, 62, 59, 58, 54]}],                        {\"template\": {\"data\": {\"bar\": [{\"error_x\": {\"color\": \"#2a3f5f\"}, \"error_y\": {\"color\": \"#2a3f5f\"}, \"marker\": {\"line\": {\"color\": \"#E5ECF6\", \"width\": 0.5}}, \"type\": \"bar\"}], \"barpolar\": [{\"marker\": {\"line\": {\"color\": \"#E5ECF6\", \"width\": 0.5}}, \"type\": \"barpolar\"}], \"carpet\": [{\"aaxis\": {\"endlinecolor\": \"#2a3f5f\", \"gridcolor\": \"white\", \"linecolor\": \"white\", \"minorgridcolor\": \"white\", \"startlinecolor\": \"#2a3f5f\"}, \"baxis\": {\"endlinecolor\": \"#2a3f5f\", \"gridcolor\": \"white\", \"linecolor\": \"white\", \"minorgridcolor\": \"white\", \"startlinecolor\": \"#2a3f5f\"}, \"type\": \"carpet\"}], \"choropleth\": [{\"colorbar\": {\"outlinewidth\": 0, \"ticks\": \"\"}, \"type\": \"choropleth\"}], \"contour\": [{\"colorbar\": {\"outlinewidth\": 0, \"ticks\": \"\"}, \"colorscale\": [[0.0, \"#0d0887\"], [0.1111111111111111, \"#46039f\"], [0.2222222222222222, \"#7201a8\"], [0.3333333333333333, \"#9c179e\"], [0.4444444444444444, \"#bd3786\"], [0.5555555555555556, \"#d8576b\"], [0.6666666666666666, \"#ed7953\"], [0.7777777777777778, \"#fb9f3a\"], [0.8888888888888888, \"#fdca26\"], [1.0, \"#f0f921\"]], \"type\": \"contour\"}], \"contourcarpet\": [{\"colorbar\": {\"outlinewidth\": 0, \"ticks\": \"\"}, \"type\": \"contourcarpet\"}], \"heatmap\": [{\"colorbar\": {\"outlinewidth\": 0, \"ticks\": \"\"}, \"colorscale\": [[0.0, \"#0d0887\"], [0.1111111111111111, \"#46039f\"], [0.2222222222222222, \"#7201a8\"], [0.3333333333333333, \"#9c179e\"], [0.4444444444444444, \"#bd3786\"], [0.5555555555555556, \"#d8576b\"], [0.6666666666666666, \"#ed7953\"], [0.7777777777777778, \"#fb9f3a\"], [0.8888888888888888, \"#fdca26\"], [1.0, \"#f0f921\"]], \"type\": \"heatmap\"}], \"heatmapgl\": [{\"colorbar\": {\"outlinewidth\": 0, \"ticks\": \"\"}, \"colorscale\": [[0.0, \"#0d0887\"], [0.1111111111111111, \"#46039f\"], [0.2222222222222222, \"#7201a8\"], [0.3333333333333333, \"#9c179e\"], [0.4444444444444444, \"#bd3786\"], [0.5555555555555556, \"#d8576b\"], [0.6666666666666666, \"#ed7953\"], [0.7777777777777778, \"#fb9f3a\"], [0.8888888888888888, \"#fdca26\"], [1.0, \"#f0f921\"]], \"type\": \"heatmapgl\"}], \"histogram\": [{\"marker\": {\"colorbar\": {\"outlinewidth\": 0, \"ticks\": \"\"}}, \"type\": \"histogram\"}], \"histogram2d\": [{\"colorbar\": {\"outlinewidth\": 0, \"ticks\": \"\"}, \"colorscale\": [[0.0, \"#0d0887\"], [0.1111111111111111, \"#46039f\"], [0.2222222222222222, \"#7201a8\"], [0.3333333333333333, \"#9c179e\"], [0.4444444444444444, \"#bd3786\"], [0.5555555555555556, \"#d8576b\"], [0.6666666666666666, \"#ed7953\"], [0.7777777777777778, \"#fb9f3a\"], [0.8888888888888888, \"#fdca26\"], [1.0, \"#f0f921\"]], \"type\": \"histogram2d\"}], \"histogram2dcontour\": [{\"colorbar\": {\"outlinewidth\": 0, \"ticks\": \"\"}, \"colorscale\": [[0.0, \"#0d0887\"], [0.1111111111111111, \"#46039f\"], [0.2222222222222222, \"#7201a8\"], [0.3333333333333333, \"#9c179e\"], [0.4444444444444444, \"#bd3786\"], [0.5555555555555556, \"#d8576b\"], [0.6666666666666666, \"#ed7953\"], [0.7777777777777778, \"#fb9f3a\"], [0.8888888888888888, \"#fdca26\"], [1.0, \"#f0f921\"]], \"type\": \"histogram2dcontour\"}], \"mesh3d\": [{\"colorbar\": {\"outlinewidth\": 0, \"ticks\": \"\"}, \"type\": \"mesh3d\"}], \"parcoords\": [{\"line\": {\"colorbar\": {\"outlinewidth\": 0, \"ticks\": \"\"}}, \"type\": \"parcoords\"}], \"pie\": [{\"automargin\": true, \"type\": \"pie\"}], \"scatter\": [{\"marker\": {\"colorbar\": {\"outlinewidth\": 0, \"ticks\": \"\"}}, \"type\": \"scatter\"}], \"scatter3d\": [{\"line\": {\"colorbar\": {\"outlinewidth\": 0, \"ticks\": \"\"}}, \"marker\": {\"colorbar\": {\"outlinewidth\": 0, \"ticks\": \"\"}}, \"type\": \"scatter3d\"}], \"scattercarpet\": [{\"marker\": {\"colorbar\": {\"outlinewidth\": 0, \"ticks\": \"\"}}, \"type\": \"scattercarpet\"}], \"scattergeo\": [{\"marker\": {\"colorbar\": {\"outlinewidth\": 0, \"ticks\": \"\"}}, \"type\": \"scattergeo\"}], \"scattergl\": [{\"marker\": {\"colorbar\": {\"outlinewidth\": 0, \"ticks\": \"\"}}, \"type\": \"scattergl\"}], \"scattermapbox\": [{\"marker\": {\"colorbar\": {\"outlinewidth\": 0, \"ticks\": \"\"}}, \"type\": \"scattermapbox\"}], \"scatterpolar\": [{\"marker\": {\"colorbar\": {\"outlinewidth\": 0, \"ticks\": \"\"}}, \"type\": \"scatterpolar\"}], \"scatterpolargl\": [{\"marker\": {\"colorbar\": {\"outlinewidth\": 0, \"ticks\": \"\"}}, \"type\": \"scatterpolargl\"}], \"scatterternary\": [{\"marker\": {\"colorbar\": {\"outlinewidth\": 0, \"ticks\": \"\"}}, \"type\": \"scatterternary\"}], \"surface\": [{\"colorbar\": {\"outlinewidth\": 0, \"ticks\": \"\"}, \"colorscale\": [[0.0, \"#0d0887\"], [0.1111111111111111, \"#46039f\"], [0.2222222222222222, \"#7201a8\"], [0.3333333333333333, \"#9c179e\"], [0.4444444444444444, \"#bd3786\"], [0.5555555555555556, \"#d8576b\"], [0.6666666666666666, \"#ed7953\"], [0.7777777777777778, \"#fb9f3a\"], [0.8888888888888888, \"#fdca26\"], [1.0, \"#f0f921\"]], \"type\": \"surface\"}], \"table\": [{\"cells\": {\"fill\": {\"color\": \"#EBF0F8\"}, \"line\": {\"color\": \"white\"}}, \"header\": {\"fill\": {\"color\": \"#C8D4E3\"}, \"line\": {\"color\": \"white\"}}, \"type\": \"table\"}]}, \"layout\": {\"annotationdefaults\": {\"arrowcolor\": \"#2a3f5f\", \"arrowhead\": 0, \"arrowwidth\": 1}, \"autotypenumbers\": \"strict\", \"coloraxis\": {\"colorbar\": {\"outlinewidth\": 0, \"ticks\": \"\"}}, \"colorscale\": {\"diverging\": [[0, \"#8e0152\"], [0.1, \"#c51b7d\"], [0.2, \"#de77ae\"], [0.3, \"#f1b6da\"], [0.4, \"#fde0ef\"], [0.5, \"#f7f7f7\"], [0.6, \"#e6f5d0\"], [0.7, \"#b8e186\"], [0.8, \"#7fbc41\"], [0.9, \"#4d9221\"], [1, \"#276419\"]], \"sequential\": [[0.0, \"#0d0887\"], [0.1111111111111111, \"#46039f\"], [0.2222222222222222, \"#7201a8\"], [0.3333333333333333, \"#9c179e\"], [0.4444444444444444, \"#bd3786\"], [0.5555555555555556, \"#d8576b\"], [0.6666666666666666, \"#ed7953\"], [0.7777777777777778, \"#fb9f3a\"], [0.8888888888888888, \"#fdca26\"], [1.0, \"#f0f921\"]], \"sequentialminus\": [[0.0, \"#0d0887\"], [0.1111111111111111, \"#46039f\"], [0.2222222222222222, \"#7201a8\"], [0.3333333333333333, \"#9c179e\"], [0.4444444444444444, \"#bd3786\"], [0.5555555555555556, \"#d8576b\"], [0.6666666666666666, \"#ed7953\"], [0.7777777777777778, \"#fb9f3a\"], [0.8888888888888888, \"#fdca26\"], [1.0, \"#f0f921\"]]}, \"colorway\": [\"#636efa\", \"#EF553B\", \"#00cc96\", \"#ab63fa\", \"#FFA15A\", \"#19d3f3\", \"#FF6692\", \"#B6E880\", \"#FF97FF\", \"#FECB52\"], \"font\": {\"color\": \"#2a3f5f\"}, \"geo\": {\"bgcolor\": \"white\", \"lakecolor\": \"white\", \"landcolor\": \"#E5ECF6\", \"showlakes\": true, \"showland\": true, \"subunitcolor\": \"white\"}, \"hoverlabel\": {\"align\": \"left\"}, \"hovermode\": \"closest\", \"mapbox\": {\"style\": \"light\"}, \"paper_bgcolor\": \"white\", \"plot_bgcolor\": \"#E5ECF6\", \"polar\": {\"angularaxis\": {\"gridcolor\": \"white\", \"linecolor\": \"white\", \"ticks\": \"\"}, \"bgcolor\": \"#E5ECF6\", \"radialaxis\": {\"gridcolor\": \"white\", \"linecolor\": \"white\", \"ticks\": \"\"}}, \"scene\": {\"xaxis\": {\"backgroundcolor\": \"#E5ECF6\", \"gridcolor\": \"white\", \"gridwidth\": 2, \"linecolor\": \"white\", \"showbackground\": true, \"ticks\": \"\", \"zerolinecolor\": \"white\"}, \"yaxis\": {\"backgroundcolor\": \"#E5ECF6\", \"gridcolor\": \"white\", \"gridwidth\": 2, \"linecolor\": \"white\", \"showbackground\": true, \"ticks\": \"\", \"zerolinecolor\": \"white\"}, \"zaxis\": {\"backgroundcolor\": \"#E5ECF6\", \"gridcolor\": \"white\", \"gridwidth\": 2, \"linecolor\": \"white\", \"showbackground\": true, \"ticks\": \"\", \"zerolinecolor\": \"white\"}}, \"shapedefaults\": {\"line\": {\"color\": \"#2a3f5f\"}}, \"ternary\": {\"aaxis\": {\"gridcolor\": \"white\", \"linecolor\": \"white\", \"ticks\": \"\"}, \"baxis\": {\"gridcolor\": \"white\", \"linecolor\": \"white\", \"ticks\": \"\"}, \"bgcolor\": \"#E5ECF6\", \"caxis\": {\"gridcolor\": \"white\", \"linecolor\": \"white\", \"ticks\": \"\"}}, \"title\": {\"x\": 0.05}, \"xaxis\": {\"automargin\": true, \"gridcolor\": \"white\", \"linecolor\": \"white\", \"ticks\": \"\", \"title\": {\"standoff\": 15}, \"zerolinecolor\": \"white\", \"zerolinewidth\": 2}, \"yaxis\": {\"automargin\": true, \"gridcolor\": \"white\", \"linecolor\": \"white\", \"ticks\": \"\", \"title\": {\"standoff\": 15}, \"zerolinecolor\": \"white\", \"zerolinewidth\": 2}}}},                        {\"responsive\": true}                    ).then(function(){\n",
       "                            \n",
       "var gd = document.getElementById('ed637e2f-10c4-4ada-a175-8250bf6b9bcb');\n",
       "var x = new MutationObserver(function (mutations, observer) {{\n",
       "        var display = window.getComputedStyle(gd).display;\n",
       "        if (!display || display === 'none') {{\n",
       "            console.log([gd, 'removed!']);\n",
       "            Plotly.purge(gd);\n",
       "            observer.disconnect();\n",
       "        }}\n",
       "}});\n",
       "\n",
       "// Listen for the removal of the full notebook cells\n",
       "var notebookContainer = gd.closest('#notebook-container');\n",
       "if (notebookContainer) {{\n",
       "    x.observe(notebookContainer, {childList: true});\n",
       "}}\n",
       "\n",
       "// Listen for the clearing of the current output cell\n",
       "var outputEl = gd.closest('.output');\n",
       "if (outputEl) {{\n",
       "    x.observe(outputEl, {childList: true});\n",
       "}}\n",
       "\n",
       "                        })                };                });            </script>        </div>"
      ]
     },
     "metadata": {},
     "output_type": "display_data"
    }
   ],
   "source": [
    "film_genres = film_genres.drop_duplicates(subset=['filmoId'])\n",
    "heat = film_genres.groupby(['pays','genres_categorized']).agg({'filmoId':['count']})\n",
    "heat.columns = ['count']\n",
    "heat = heat.reset_index()\n",
    "heat.head(50)\n",
    "#genres_list = ['ACTION','DOCUMENTAIRE', 'THRILLER','DRAME','GUERRE','ANIMATION','AVENTURE','BIOGRAPHIE','COMÉDIES','CATASTROPHE']\n",
    "heat = heat.sort_values(by='count',ascending=False)\n",
    "#heat = heat.query(\"genreLabel in @genres_list\")\n",
    "heat.head(40)\n",
    "heat = heat.query(\"count > 50\")\n",
    "heat.head(50)\n",
    "pays_list = ['Canada : Québec','France','États-Unis','Royaume-Uni','Pologne','Italie','Belgique','Tchécoslovaquie','Japon','Yougoslavie',\"Suisse\",\"Espagne\",\"URSS\"]\n",
    "heat = heat.query(\"pays in @pays_list\")\n",
    "\n",
    "\n",
    "fig = go.Figure(data=go.Heatmap(\n",
    "         z=heat['count'],\n",
    "         x=heat['genres_categorized'],\n",
    "         y=heat['pays'],\n",
    "         colorscale='YlGnBu'))\n",
    "fig.show()"
   ]
  },
  {
   "cell_type": "code",
   "execution_count": null,
   "metadata": {},
   "outputs": [],
   "source": []
  }
 ],
 "metadata": {
  "kernelspec": {
   "display_name": "Python 3",
   "language": "python",
   "name": "python3"
  },
  "language_info": {
   "codemirror_mode": {
    "name": "ipython",
    "version": 3
   },
   "file_extension": ".py",
   "mimetype": "text/x-python",
   "name": "python",
   "nbconvert_exporter": "python",
   "pygments_lexer": "ipython3",
   "version": "3.8.8"
  }
 },
 "nbformat": 4,
 "nbformat_minor": 4
}
